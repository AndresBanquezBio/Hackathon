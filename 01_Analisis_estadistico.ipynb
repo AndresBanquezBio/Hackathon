{
 "cells": [
  {
   "cell_type": "markdown",
   "metadata": {},
   "source": [
    "## Analisís estadistico"
   ]
  },
  {
   "cell_type": "markdown",
   "metadata": {},
   "source": [
    "Importaciones"
   ]
  },
  {
   "cell_type": "code",
   "execution_count": 47,
   "metadata": {},
   "outputs": [],
   "source": [
    "import numpy as np\n",
    "import matplotlib.pyplot as plt\n",
    "import pandas as pd\n",
    "from sklearn import preprocessing as ps\n",
    "import seaborn as sns\n",
    "import joblib"
   ]
  },
  {
   "cell_type": "code",
   "execution_count": 48,
   "metadata": {},
   "outputs": [
    {
     "data": {
      "text/html": [
       "<div>\n",
       "<style scoped>\n",
       "    .dataframe tbody tr th:only-of-type {\n",
       "        vertical-align: middle;\n",
       "    }\n",
       "\n",
       "    .dataframe tbody tr th {\n",
       "        vertical-align: top;\n",
       "    }\n",
       "\n",
       "    .dataframe thead th {\n",
       "        text-align: right;\n",
       "    }\n",
       "</style>\n",
       "<table border=\"1\" class=\"dataframe\">\n",
       "  <thead>\n",
       "    <tr style=\"text-align: right;\">\n",
       "      <th></th>\n",
       "      <th>AntencionPaciente llave</th>\n",
       "      <th>vGenero</th>\n",
       "      <th>EdadEgreso</th>\n",
       "      <th>Año_Salida</th>\n",
       "      <th>MES</th>\n",
       "      <th>Tipo_Afiliacion</th>\n",
       "      <th>Aseguradora</th>\n",
       "      <th>Modalidad_Contrato</th>\n",
       "      <th>Aseguradora2</th>\n",
       "      <th>Hospitalizacion</th>\n",
       "      <th>...</th>\n",
       "      <th>DiasEstanciaClinica</th>\n",
       "      <th>DiasEstanciaClinica_exacto</th>\n",
       "      <th>MODALIDAD</th>\n",
       "      <th>SERVICIO_ADMITE</th>\n",
       "      <th>ID_Medico_registra</th>\n",
       "      <th>NombreTipoDiagnostico</th>\n",
       "      <th>Tipo_egreso</th>\n",
       "      <th>Transfusiones</th>\n",
       "      <th>Antioboticos</th>\n",
       "      <th>UCI_UCE</th>\n",
       "    </tr>\n",
       "  </thead>\n",
       "  <tbody>\n",
       "    <tr>\n",
       "      <th>0</th>\n",
       "      <td>1</td>\n",
       "      <td>0</td>\n",
       "      <td>62</td>\n",
       "      <td>2022</td>\n",
       "      <td>Abril</td>\n",
       "      <td>2</td>\n",
       "      <td>69</td>\n",
       "      <td>1</td>\n",
       "      <td>43</td>\n",
       "      <td>3</td>\n",
       "      <td>...</td>\n",
       "      <td>1</td>\n",
       "      <td>1.048533</td>\n",
       "      <td>2</td>\n",
       "      <td>4</td>\n",
       "      <td>155</td>\n",
       "      <td>1</td>\n",
       "      <td>0</td>\n",
       "      <td>NO</td>\n",
       "      <td>NO</td>\n",
       "      <td>NO</td>\n",
       "    </tr>\n",
       "    <tr>\n",
       "      <th>1</th>\n",
       "      <td>2</td>\n",
       "      <td>1</td>\n",
       "      <td>89</td>\n",
       "      <td>2022</td>\n",
       "      <td>Marzo</td>\n",
       "      <td>2</td>\n",
       "      <td>48</td>\n",
       "      <td>2</td>\n",
       "      <td>32</td>\n",
       "      <td>7</td>\n",
       "      <td>...</td>\n",
       "      <td>4</td>\n",
       "      <td>3.943370</td>\n",
       "      <td>4</td>\n",
       "      <td>7</td>\n",
       "      <td>561</td>\n",
       "      <td>0</td>\n",
       "      <td>0</td>\n",
       "      <td>NO</td>\n",
       "      <td>NO</td>\n",
       "      <td>NO</td>\n",
       "    </tr>\n",
       "    <tr>\n",
       "      <th>2</th>\n",
       "      <td>3</td>\n",
       "      <td>1</td>\n",
       "      <td>90</td>\n",
       "      <td>2023</td>\n",
       "      <td>Septiembre</td>\n",
       "      <td>2</td>\n",
       "      <td>48</td>\n",
       "      <td>2</td>\n",
       "      <td>43</td>\n",
       "      <td>3</td>\n",
       "      <td>...</td>\n",
       "      <td>2</td>\n",
       "      <td>1.794684</td>\n",
       "      <td>4</td>\n",
       "      <td>8</td>\n",
       "      <td>5</td>\n",
       "      <td>0</td>\n",
       "      <td>2</td>\n",
       "      <td>NO</td>\n",
       "      <td>SI</td>\n",
       "      <td>NO</td>\n",
       "    </tr>\n",
       "    <tr>\n",
       "      <th>3</th>\n",
       "      <td>4</td>\n",
       "      <td>1</td>\n",
       "      <td>88</td>\n",
       "      <td>2022</td>\n",
       "      <td>Enero</td>\n",
       "      <td>2</td>\n",
       "      <td>69</td>\n",
       "      <td>1</td>\n",
       "      <td>43</td>\n",
       "      <td>3</td>\n",
       "      <td>...</td>\n",
       "      <td>3</td>\n",
       "      <td>2.564836</td>\n",
       "      <td>4</td>\n",
       "      <td>8</td>\n",
       "      <td>1</td>\n",
       "      <td>0</td>\n",
       "      <td>0</td>\n",
       "      <td>NO</td>\n",
       "      <td>SI</td>\n",
       "      <td>NO</td>\n",
       "    </tr>\n",
       "    <tr>\n",
       "      <th>4</th>\n",
       "      <td>5</td>\n",
       "      <td>0</td>\n",
       "      <td>89</td>\n",
       "      <td>2023</td>\n",
       "      <td>Agosto</td>\n",
       "      <td>3</td>\n",
       "      <td>69</td>\n",
       "      <td>1</td>\n",
       "      <td>43</td>\n",
       "      <td>3</td>\n",
       "      <td>...</td>\n",
       "      <td>5</td>\n",
       "      <td>5.486410</td>\n",
       "      <td>4</td>\n",
       "      <td>8</td>\n",
       "      <td>167</td>\n",
       "      <td>0</td>\n",
       "      <td>0</td>\n",
       "      <td>NO</td>\n",
       "      <td>NO</td>\n",
       "      <td>NO</td>\n",
       "    </tr>\n",
       "    <tr>\n",
       "      <th>...</th>\n",
       "      <td>...</td>\n",
       "      <td>...</td>\n",
       "      <td>...</td>\n",
       "      <td>...</td>\n",
       "      <td>...</td>\n",
       "      <td>...</td>\n",
       "      <td>...</td>\n",
       "      <td>...</td>\n",
       "      <td>...</td>\n",
       "      <td>...</td>\n",
       "      <td>...</td>\n",
       "      <td>...</td>\n",
       "      <td>...</td>\n",
       "      <td>...</td>\n",
       "      <td>...</td>\n",
       "      <td>...</td>\n",
       "      <td>...</td>\n",
       "      <td>...</td>\n",
       "      <td>...</td>\n",
       "      <td>...</td>\n",
       "      <td>...</td>\n",
       "    </tr>\n",
       "    <tr>\n",
       "      <th>43149</th>\n",
       "      <td>43150</td>\n",
       "      <td>0</td>\n",
       "      <td>19</td>\n",
       "      <td>2023</td>\n",
       "      <td>Septiembre</td>\n",
       "      <td>2</td>\n",
       "      <td>48</td>\n",
       "      <td>1</td>\n",
       "      <td>43</td>\n",
       "      <td>3</td>\n",
       "      <td>...</td>\n",
       "      <td>2</td>\n",
       "      <td>2.565230</td>\n",
       "      <td>4</td>\n",
       "      <td>8</td>\n",
       "      <td>171</td>\n",
       "      <td>1</td>\n",
       "      <td>0</td>\n",
       "      <td>NO</td>\n",
       "      <td>NO</td>\n",
       "      <td>NO</td>\n",
       "    </tr>\n",
       "    <tr>\n",
       "      <th>43150</th>\n",
       "      <td>43151</td>\n",
       "      <td>0</td>\n",
       "      <td>31</td>\n",
       "      <td>2023</td>\n",
       "      <td>Septiembre</td>\n",
       "      <td>2</td>\n",
       "      <td>48</td>\n",
       "      <td>1</td>\n",
       "      <td>43</td>\n",
       "      <td>3</td>\n",
       "      <td>...</td>\n",
       "      <td>1</td>\n",
       "      <td>1.837406</td>\n",
       "      <td>4</td>\n",
       "      <td>8</td>\n",
       "      <td>555</td>\n",
       "      <td>1</td>\n",
       "      <td>0</td>\n",
       "      <td>NO</td>\n",
       "      <td>NO</td>\n",
       "      <td>NO</td>\n",
       "    </tr>\n",
       "    <tr>\n",
       "      <th>43151</th>\n",
       "      <td>43152</td>\n",
       "      <td>0</td>\n",
       "      <td>13</td>\n",
       "      <td>2023</td>\n",
       "      <td>Septiembre</td>\n",
       "      <td>2</td>\n",
       "      <td>48</td>\n",
       "      <td>1</td>\n",
       "      <td>43</td>\n",
       "      <td>8</td>\n",
       "      <td>...</td>\n",
       "      <td>1</td>\n",
       "      <td>1.015388</td>\n",
       "      <td>4</td>\n",
       "      <td>10</td>\n",
       "      <td>478</td>\n",
       "      <td>0</td>\n",
       "      <td>0</td>\n",
       "      <td>NO</td>\n",
       "      <td>NO</td>\n",
       "      <td>NO</td>\n",
       "    </tr>\n",
       "    <tr>\n",
       "      <th>43152</th>\n",
       "      <td>43153</td>\n",
       "      <td>1</td>\n",
       "      <td>6</td>\n",
       "      <td>2023</td>\n",
       "      <td>Septiembre</td>\n",
       "      <td>1</td>\n",
       "      <td>26</td>\n",
       "      <td>1</td>\n",
       "      <td>43</td>\n",
       "      <td>3</td>\n",
       "      <td>...</td>\n",
       "      <td>2</td>\n",
       "      <td>1.582988</td>\n",
       "      <td>4</td>\n",
       "      <td>10</td>\n",
       "      <td>242</td>\n",
       "      <td>0</td>\n",
       "      <td>0</td>\n",
       "      <td>NO</td>\n",
       "      <td>SI</td>\n",
       "      <td>NO</td>\n",
       "    </tr>\n",
       "    <tr>\n",
       "      <th>43153</th>\n",
       "      <td>43154</td>\n",
       "      <td>0</td>\n",
       "      <td>6</td>\n",
       "      <td>2023</td>\n",
       "      <td>Septiembre</td>\n",
       "      <td>3</td>\n",
       "      <td>48</td>\n",
       "      <td>1</td>\n",
       "      <td>43</td>\n",
       "      <td>8</td>\n",
       "      <td>...</td>\n",
       "      <td>1</td>\n",
       "      <td>1.223627</td>\n",
       "      <td>2</td>\n",
       "      <td>4</td>\n",
       "      <td>478</td>\n",
       "      <td>1</td>\n",
       "      <td>0</td>\n",
       "      <td>NO</td>\n",
       "      <td>SI</td>\n",
       "      <td>NO</td>\n",
       "    </tr>\n",
       "  </tbody>\n",
       "</table>\n",
       "<p>43154 rows × 73 columns</p>\n",
       "</div>"
      ],
      "text/plain": [
       "       AntencionPaciente llave  vGenero  EdadEgreso  Año_Salida         MES  \\\n",
       "0                            1        0          62        2022       Abril   \n",
       "1                            2        1          89        2022       Marzo   \n",
       "2                            3        1          90        2023  Septiembre   \n",
       "3                            4        1          88        2022       Enero   \n",
       "4                            5        0          89        2023      Agosto   \n",
       "...                        ...      ...         ...         ...         ...   \n",
       "43149                    43150        0          19        2023  Septiembre   \n",
       "43150                    43151        0          31        2023  Septiembre   \n",
       "43151                    43152        0          13        2023  Septiembre   \n",
       "43152                    43153        1           6        2023  Septiembre   \n",
       "43153                    43154        0           6        2023  Septiembre   \n",
       "\n",
       "       Tipo_Afiliacion  Aseguradora  Modalidad_Contrato  Aseguradora2  \\\n",
       "0                    2           69                   1            43   \n",
       "1                    2           48                   2            32   \n",
       "2                    2           48                   2            43   \n",
       "3                    2           69                   1            43   \n",
       "4                    3           69                   1            43   \n",
       "...                ...          ...                 ...           ...   \n",
       "43149                2           48                   1            43   \n",
       "43150                2           48                   1            43   \n",
       "43151                2           48                   1            43   \n",
       "43152                1           26                   1            43   \n",
       "43153                3           48                   1            43   \n",
       "\n",
       "       Hospitalizacion  ... DiasEstanciaClinica DiasEstanciaClinica_exacto  \\\n",
       "0                    3  ...                   1                   1.048533   \n",
       "1                    7  ...                   4                   3.943370   \n",
       "2                    3  ...                   2                   1.794684   \n",
       "3                    3  ...                   3                   2.564836   \n",
       "4                    3  ...                   5                   5.486410   \n",
       "...                ...  ...                 ...                        ...   \n",
       "43149                3  ...                   2                   2.565230   \n",
       "43150                3  ...                   1                   1.837406   \n",
       "43151                8  ...                   1                   1.015388   \n",
       "43152                3  ...                   2                   1.582988   \n",
       "43153                8  ...                   1                   1.223627   \n",
       "\n",
       "      MODALIDAD  SERVICIO_ADMITE  ID_Medico_registra NombreTipoDiagnostico  \\\n",
       "0             2                4                 155                     1   \n",
       "1             4                7                 561                     0   \n",
       "2             4                8                   5                     0   \n",
       "3             4                8                   1                     0   \n",
       "4             4                8                 167                     0   \n",
       "...         ...              ...                 ...                   ...   \n",
       "43149         4                8                 171                     1   \n",
       "43150         4                8                 555                     1   \n",
       "43151         4               10                 478                     0   \n",
       "43152         4               10                 242                     0   \n",
       "43153         2                4                 478                     1   \n",
       "\n",
       "      Tipo_egreso Transfusiones Antioboticos UCI_UCE  \n",
       "0               0            NO           NO      NO  \n",
       "1               0            NO           NO      NO  \n",
       "2               2            NO           SI      NO  \n",
       "3               0            NO           SI      NO  \n",
       "4               0            NO           NO      NO  \n",
       "...           ...           ...          ...     ...  \n",
       "43149           0            NO           NO      NO  \n",
       "43150           0            NO           NO      NO  \n",
       "43151           0            NO           NO      NO  \n",
       "43152           0            NO           SI      NO  \n",
       "43153           0            NO           SI      NO  \n",
       "\n",
       "[43154 rows x 73 columns]"
      ]
     },
     "execution_count": 48,
     "metadata": {},
     "output_type": "execute_result"
    }
   ],
   "source": [
    "Datos = pd.read_excel('Datos_anonimizados_sin_llave.xlsx')\n",
    "Datos"
   ]
  },
  {
   "cell_type": "markdown",
   "metadata": {},
   "source": [
    "## Gráficas iniciales"
   ]
  },
  {
   "cell_type": "markdown",
   "metadata": {},
   "source": [
    "Se eligieron los datos de estancia exactos y enteros para visualizar en caja de bigotes y mirar la distribución de los datos, se encontró que los datos clinica_exacto tenian unos datos por encima de 4000"
   ]
  },
  {
   "cell_type": "code",
   "execution_count": 49,
   "metadata": {},
   "outputs": [
    {
     "data": {
      "text/plain": [
       "{'whiskers': [<matplotlib.lines.Line2D at 0x7f921c555190>,\n",
       "  <matplotlib.lines.Line2D at 0x7f921c556890>],\n",
       " 'caps': [<matplotlib.lines.Line2D at 0x7f921b5016d0>,\n",
       "  <matplotlib.lines.Line2D at 0x7f921b500790>],\n",
       " 'boxes': [<matplotlib.lines.Line2D at 0x7f921c1d4a90>],\n",
       " 'medians': [<matplotlib.lines.Line2D at 0x7f921b503a90>],\n",
       " 'fliers': [<matplotlib.lines.Line2D at 0x7f921b500e50>],\n",
       " 'means': []}"
      ]
     },
     "execution_count": 49,
     "metadata": {},
     "output_type": "execute_result"
    },
    {
     "data": {
      "image/png": "[encoded data removed]",
      "text/plain": [
       "<Figure size 1000x500 with 2 Axes>"
      ]
     },
     "metadata": {},
     "output_type": "display_data"
    }
   ],
   "source": [
    "Datos2 = Datos.loc[:,['DiasEstanciaClinica_exacto', 'DiasEstanciaClinica']]\n",
    "fig,axis = plt.subplots(1, 2, figsize=(10,5))\n",
    "axis[0].boxplot(Datos2['DiasEstanciaClinica_exacto'])\n",
    "axis[1].boxplot(Datos2['DiasEstanciaClinica'])\n"
   ]
  },
  {
   "cell_type": "markdown",
   "metadata": {},
   "source": [
    "Se filtran los datos anteriormente nombrados para su posterior eliminación"
   ]
  },
  {
   "cell_type": "code",
   "execution_count": 50,
   "metadata": {},
   "outputs": [
    {
     "data": {
      "text/html": [
       "<div>\n",
       "<style scoped>\n",
       "    .dataframe tbody tr th:only-of-type {\n",
       "        vertical-align: middle;\n",
       "    }\n",
       "\n",
       "    .dataframe tbody tr th {\n",
       "        vertical-align: top;\n",
       "    }\n",
       "\n",
       "    .dataframe thead th {\n",
       "        text-align: right;\n",
       "    }\n",
       "</style>\n",
       "<table border=\"1\" class=\"dataframe\">\n",
       "  <thead>\n",
       "    <tr style=\"text-align: right;\">\n",
       "      <th></th>\n",
       "      <th>DiasEstanciaClinica_exacto</th>\n",
       "      <th>DiasEstanciaClinica</th>\n",
       "    </tr>\n",
       "  </thead>\n",
       "  <tbody>\n",
       "    <tr>\n",
       "      <th>11314</th>\n",
       "      <td>45068.558090</td>\n",
       "      <td>0</td>\n",
       "    </tr>\n",
       "    <tr>\n",
       "      <th>30453</th>\n",
       "      <td>44785.759144</td>\n",
       "      <td>0</td>\n",
       "    </tr>\n",
       "  </tbody>\n",
       "</table>\n",
       "</div>"
      ],
      "text/plain": [
       "       DiasEstanciaClinica_exacto  DiasEstanciaClinica\n",
       "11314                45068.558090                    0\n",
       "30453                44785.759144                    0"
      ]
     },
     "execution_count": 50,
     "metadata": {},
     "output_type": "execute_result"
    }
   ],
   "source": [
    "Datos2[Datos2['DiasEstanciaClinica_exacto']>4000] "
   ]
  },
  {
   "cell_type": "markdown",
   "metadata": {},
   "source": [
    "Se eliminan"
   ]
  },
  {
   "cell_type": "code",
   "execution_count": 51,
   "metadata": {},
   "outputs": [],
   "source": [
    "Datos2.drop([11314, 30453] , axis=0, inplace=True)"
   ]
  },
  {
   "cell_type": "markdown",
   "metadata": {},
   "source": [
    "Se vuelve a comprobar enla caja de bigotes y se decide finalmente utilizar los datos exactos al ser datos flotantes que entregan una mejor información sobre los dias de estancia de un paciente."
   ]
  },
  {
   "cell_type": "code",
   "execution_count": 52,
   "metadata": {},
   "outputs": [
    {
     "data": {
      "text/plain": [
       "{'whiskers': [<matplotlib.lines.Line2D at 0x7f921b4c3210>,\n",
       "  <matplotlib.lines.Line2D at 0x7f921b4c0d50>],\n",
       " 'caps': [<matplotlib.lines.Line2D at 0x7f921b4c3f90>,\n",
       "  <matplotlib.lines.Line2D at 0x7f921b330810>],\n",
       " 'boxes': [<matplotlib.lines.Line2D at 0x7f921b18a310>],\n",
       " 'medians': [<matplotlib.lines.Line2D at 0x7f921b331990>],\n",
       " 'fliers': [<matplotlib.lines.Line2D at 0x7f921b330dd0>],\n",
       " 'means': []}"
      ]
     },
     "execution_count": 52,
     "metadata": {},
     "output_type": "execute_result"
    },
    {
     "data": {
      "image/png": "[encoded data removed]",
      "text/plain": [
       "<Figure size 1000x500 with 2 Axes>"
      ]
     },
     "metadata": {},
     "output_type": "display_data"
    }
   ],
   "source": [
    "fig,axis = plt.subplots(1, 2, figsize=(10,5))\n",
    "axis[0].boxplot(Datos2['DiasEstanciaClinica_exacto'])\n",
    "axis[1].boxplot(Datos2['DiasEstanciaClinica'])\n"
   ]
  },
  {
   "cell_type": "markdown",
   "metadata": {},
   "source": [
    "## Distribuciones de datos"
   ]
  },
  {
   "cell_type": "code",
   "execution_count": 53,
   "metadata": {},
   "outputs": [
    {
     "data": {
      "text/plain": [
       "array([[<Axes: title={'center': 'DiasEstanciaClinica_exacto'}>,\n",
       "        <Axes: title={'center': 'DiasEstanciaClinica'}>]], dtype=object)"
      ]
     },
     "execution_count": 53,
     "metadata": {},
     "output_type": "execute_result"
    },
    {
     "data": {
      "image/png": "[encoded data removed]",
      "text/plain": [
       "<Figure size 640x480 with 2 Axes>"
      ]
     },
     "metadata": {},
     "output_type": "display_data"
    }
   ],
   "source": [
    "Datos2.hist() #son iguales"
   ]
  },
  {
   "cell_type": "markdown",
   "metadata": {},
   "source": [
    "Se hace una transformada de los datos de manera logaritmica para obtener una distribución normal, se probó con diferentes transformadas, como raíz cuadrada, logaritmo en base 10 y base 2 respctivamente y se terminó eligiendo esta."
   ]
  },
  {
   "cell_type": "code",
   "execution_count": 54,
   "metadata": {},
   "outputs": [
    {
     "data": {
      "text/plain": [
       "<Axes: >"
      ]
     },
     "execution_count": 54,
     "metadata": {},
     "output_type": "execute_result"
    },
    {
     "data": {
      "image/png": "[encoded data removed]",
      "text/plain": [
       "<Figure size 640x480 with 1 Axes>"
      ]
     },
     "metadata": {},
     "output_type": "display_data"
    }
   ],
   "source": [
    "Datos3 = Datos2.iloc[:,0]\n",
    "Datos3 = np.log(Datos3)\n",
    "Datos3.replace([np.inf, -np.inf], 0, inplace=True)\n",
    "Datos3.hist()"
   ]
  },
  {
   "cell_type": "markdown",
   "metadata": {},
   "source": [
    "Se reemplazan los datos \"Sin información\" como datos np.NaN y así poder buscarlos de una manera mas sencilla "
   ]
  },
  {
   "cell_type": "code",
   "execution_count": 55,
   "metadata": {},
   "outputs": [
    {
     "data": {
      "text/plain": [
       "0         NaN\n",
       "1         NaN\n",
       "2        epoc\n",
       "3         NaN\n",
       "4         NaN\n",
       "         ... \n",
       "43149     NaN\n",
       "43150     NaN\n",
       "43151     NaN\n",
       "43152     NaN\n",
       "43153     NaN\n",
       "Name: ClasificacionCronico_DX_MUERTE, Length: 43154, dtype: object"
      ]
     },
     "execution_count": 55,
     "metadata": {},
     "output_type": "execute_result"
    }
   ],
   "source": [
    "DatosConNaN = Datos.replace({'Sin Informacion': np.NaN, 'Sin informacion en base de datos': np.NaN})\n",
    "DatosConNaN['ClasificacionCronico_DX_MUERTE']"
   ]
  },
  {
   "cell_type": "markdown",
   "metadata": {},
   "source": [
    "Se filtra (y elimina) las columnas con mas de 50% de NaN, se consideran no representativas"
   ]
  },
  {
   "cell_type": "code",
   "execution_count": 56,
   "metadata": {},
   "outputs": [
    {
     "data": {
      "text/html": [
       "<div>\n",
       "<style scoped>\n",
       "    .dataframe tbody tr th:only-of-type {\n",
       "        vertical-align: middle;\n",
       "    }\n",
       "\n",
       "    .dataframe tbody tr th {\n",
       "        vertical-align: top;\n",
       "    }\n",
       "\n",
       "    .dataframe thead th {\n",
       "        text-align: right;\n",
       "    }\n",
       "</style>\n",
       "<table border=\"1\" class=\"dataframe\">\n",
       "  <thead>\n",
       "    <tr style=\"text-align: right;\">\n",
       "      <th></th>\n",
       "      <th>Total</th>\n",
       "      <th>Percent</th>\n",
       "    </tr>\n",
       "  </thead>\n",
       "  <tbody>\n",
       "    <tr>\n",
       "      <th>ClasificacionCronico_DX_F3_R3</th>\n",
       "      <td>42246</td>\n",
       "      <td>97.895908</td>\n",
       "    </tr>\n",
       "    <tr>\n",
       "      <th>D_DX_F3_R3</th>\n",
       "      <td>42242</td>\n",
       "      <td>97.886639</td>\n",
       "    </tr>\n",
       "    <tr>\n",
       "      <th>ClasificacionCronico_DX_F3_R2</th>\n",
       "      <td>41847</td>\n",
       "      <td>96.971312</td>\n",
       "    </tr>\n",
       "    <tr>\n",
       "      <th>D_DX_F3_R2</th>\n",
       "      <td>41843</td>\n",
       "      <td>96.962043</td>\n",
       "    </tr>\n",
       "    <tr>\n",
       "      <th>ClasificacionCronico_DX_MUERTE</th>\n",
       "      <td>39757</td>\n",
       "      <td>92.128192</td>\n",
       "    </tr>\n",
       "    <tr>\n",
       "      <th>D_DX_MUERTE</th>\n",
       "      <td>39736</td>\n",
       "      <td>92.079529</td>\n",
       "    </tr>\n",
       "    <tr>\n",
       "      <th>D_Subcapitulo_DX_Muerte</th>\n",
       "      <td>39736</td>\n",
       "      <td>92.079529</td>\n",
       "    </tr>\n",
       "    <tr>\n",
       "      <th>D_capitulo_DX_Muerte</th>\n",
       "      <td>39736</td>\n",
       "      <td>92.079529</td>\n",
       "    </tr>\n",
       "    <tr>\n",
       "      <th>ClasificacionCronico_DX_F3_R1</th>\n",
       "      <td>38267</td>\n",
       "      <td>88.675441</td>\n",
       "    </tr>\n",
       "    <tr>\n",
       "      <th>D_DX_F3_R1</th>\n",
       "      <td>38250</td>\n",
       "      <td>88.636048</td>\n",
       "    </tr>\n",
       "  </tbody>\n",
       "</table>\n",
       "</div>"
      ],
      "text/plain": [
       "                                Total    Percent\n",
       "ClasificacionCronico_DX_F3_R3   42246  97.895908\n",
       "D_DX_F3_R3                      42242  97.886639\n",
       "ClasificacionCronico_DX_F3_R2   41847  96.971312\n",
       "D_DX_F3_R2                      41843  96.962043\n",
       "ClasificacionCronico_DX_MUERTE  39757  92.128192\n",
       "D_DX_MUERTE                     39736  92.079529\n",
       "D_Subcapitulo_DX_Muerte         39736  92.079529\n",
       "D_capitulo_DX_Muerte            39736  92.079529\n",
       "ClasificacionCronico_DX_F3_R1   38267  88.675441\n",
       "D_DX_F3_R1                      38250  88.636048"
      ]
     },
     "execution_count": 56,
     "metadata": {},
     "output_type": "execute_result"
    }
   ],
   "source": [
    "total           = DatosConNaN.isnull().sum().sort_values(ascending=False)\n",
    "percent         = (DatosConNaN.isnull().sum()/DatosConNaN.isnull().count()*100).sort_values(ascending=False)\n",
    "missing  = pd.concat([total,percent],axis=1,keys=[\"Total\",\"Percent\"])\n",
    "missing.head(10)"
   ]
  },
  {
   "cell_type": "code",
   "execution_count": 57,
   "metadata": {},
   "outputs": [],
   "source": [
    "lista = missing[missing[\"Percent\"]>50].index.tolist()\n",
    "DatosConNaN.drop(lista, axis= 1, inplace= True)\n"
   ]
  },
  {
   "cell_type": "markdown",
   "metadata": {},
   "source": [
    "Se visualiza el resto de columnas con NaN"
   ]
  },
  {
   "cell_type": "code",
   "execution_count": 58,
   "metadata": {},
   "outputs": [
    {
     "data": {
      "text/html": [
       "<div>\n",
       "<style scoped>\n",
       "    .dataframe tbody tr th:only-of-type {\n",
       "        vertical-align: middle;\n",
       "    }\n",
       "\n",
       "    .dataframe tbody tr th {\n",
       "        vertical-align: top;\n",
       "    }\n",
       "\n",
       "    .dataframe thead th {\n",
       "        text-align: right;\n",
       "    }\n",
       "</style>\n",
       "<table border=\"1\" class=\"dataframe\">\n",
       "  <thead>\n",
       "    <tr style=\"text-align: right;\">\n",
       "      <th></th>\n",
       "      <th>Total</th>\n",
       "      <th>Percent</th>\n",
       "    </tr>\n",
       "  </thead>\n",
       "  <tbody>\n",
       "    <tr>\n",
       "      <th>ClasificacionCronico_DX_F3</th>\n",
       "      <td>11774</td>\n",
       "      <td>27.283682</td>\n",
       "    </tr>\n",
       "    <tr>\n",
       "      <th>D_DX_F3</th>\n",
       "      <td>11661</td>\n",
       "      <td>27.021829</td>\n",
       "    </tr>\n",
       "    <tr>\n",
       "      <th>ClasificacionCronico_DX_R3</th>\n",
       "      <td>7019</td>\n",
       "      <td>16.265004</td>\n",
       "    </tr>\n",
       "    <tr>\n",
       "      <th>D_DX_R3</th>\n",
       "      <td>6905</td>\n",
       "      <td>16.000834</td>\n",
       "    </tr>\n",
       "    <tr>\n",
       "      <th>ClasificacionCronico_DX_R2</th>\n",
       "      <td>3532</td>\n",
       "      <td>8.184641</td>\n",
       "    </tr>\n",
       "    <tr>\n",
       "      <th>D_DX_R2</th>\n",
       "      <td>3375</td>\n",
       "      <td>7.820828</td>\n",
       "    </tr>\n",
       "    <tr>\n",
       "      <th>ClasificacionCronico_DX_R1</th>\n",
       "      <td>967</td>\n",
       "      <td>2.240812</td>\n",
       "    </tr>\n",
       "    <tr>\n",
       "      <th>D_DX_R1</th>\n",
       "      <td>723</td>\n",
       "      <td>1.675395</td>\n",
       "    </tr>\n",
       "    <tr>\n",
       "      <th>ClasificacionCronico_DX_Medico</th>\n",
       "      <td>225</td>\n",
       "      <td>0.521389</td>\n",
       "    </tr>\n",
       "    <tr>\n",
       "      <th>Tipo_Internacion</th>\n",
       "      <td>215</td>\n",
       "      <td>0.498216</td>\n",
       "    </tr>\n",
       "    <tr>\n",
       "      <th>ClasificacionCronico_DX_Principal</th>\n",
       "      <td>208</td>\n",
       "      <td>0.481995</td>\n",
       "    </tr>\n",
       "    <tr>\n",
       "      <th>D_Capitulo_CIE10</th>\n",
       "      <td>141</td>\n",
       "      <td>0.326737</td>\n",
       "    </tr>\n",
       "    <tr>\n",
       "      <th>RangoCapitulo</th>\n",
       "      <td>141</td>\n",
       "      <td>0.326737</td>\n",
       "    </tr>\n",
       "  </tbody>\n",
       "</table>\n",
       "</div>"
      ],
      "text/plain": [
       "                                   Total    Percent\n",
       "ClasificacionCronico_DX_F3         11774  27.283682\n",
       "D_DX_F3                            11661  27.021829\n",
       "ClasificacionCronico_DX_R3          7019  16.265004\n",
       "D_DX_R3                             6905  16.000834\n",
       "ClasificacionCronico_DX_R2          3532   8.184641\n",
       "D_DX_R2                             3375   7.820828\n",
       "ClasificacionCronico_DX_R1           967   2.240812\n",
       "D_DX_R1                              723   1.675395\n",
       "ClasificacionCronico_DX_Medico       225   0.521389\n",
       "Tipo_Internacion                     215   0.498216\n",
       "ClasificacionCronico_DX_Principal    208   0.481995\n",
       "D_Capitulo_CIE10                     141   0.326737\n",
       "RangoCapitulo                        141   0.326737"
      ]
     },
     "execution_count": 58,
     "metadata": {},
     "output_type": "execute_result"
    }
   ],
   "source": [
    "total           = DatosConNaN.isnull().sum().sort_values(ascending=False)\n",
    "percent         = (DatosConNaN.isnull().sum()/DatosConNaN.isnull().count()*100).sort_values(ascending=False)\n",
    "missing  = pd.concat([total,percent],axis=1,keys=[\"Total\",\"Percent\"])\n",
    "missing.head(13)"
   ]
  },
  {
   "cell_type": "markdown",
   "metadata": {},
   "source": [
    "Se comprueba que sean iguales, ya que, por alguna extraña razón genera una grafica distinta pero se obtuvo que la suma de las diferencias es 0, demostrando que son iguales."
   ]
  },
  {
   "cell_type": "code",
   "execution_count": 59,
   "metadata": {},
   "outputs": [
    {
     "data": {
      "text/plain": [
       "0.0"
      ]
     },
     "execution_count": 59,
     "metadata": {},
     "output_type": "execute_result"
    }
   ],
   "source": [
    "DatosConNaN2 = DatosConNaN.loc[:,'DiasEstanciaClinica_exacto']\n",
    "DatosConNaN2 = np.log(DatosConNaN2)\n",
    "np.sum(Datos3 - DatosConNaN2) #SON IGUALES PERO NO DA LA MISMA GRAFICA"
   ]
  },
  {
   "cell_type": "markdown",
   "metadata": {},
   "source": [
    "Se genera un nuevo DF llamado DatosModificados para que este sea la nueva \"Base\" que se use"
   ]
  },
  {
   "cell_type": "code",
   "execution_count": 60,
   "metadata": {},
   "outputs": [
    {
     "name": "stdout",
     "output_type": "stream",
     "text": [
      "ClasificacionCronico_DX_F3_R3     42246\n",
      "D_DX_F3_R3                        42242\n",
      "ClasificacionCronico_DX_F3_R2     41847\n",
      "D_DX_F3_R2                        41843\n",
      "ClasificacionCronico_DX_MUERTE    39757\n",
      "                                  ...  \n",
      "DX_R2                                 0\n",
      "DX_R3                                 0\n",
      "vGenero                               0\n",
      "DX_F3_R1                              0\n",
      "DiasEstanciaClinica_exactoLog         0\n",
      "Length: 72, dtype: int64\n"
     ]
    }
   ],
   "source": [
    "DatosModificados = Datos.drop(['DiasEstanciaClinica_exacto','DiasEstanciaClinica'], axis = 1)\n",
    "DatosModificados['DiasEstanciaClinica_exactoLog'] = DatosConNaN2\n",
    "DatosModificados.replace({'Sin Informacion': np.NaN, 'Sin informacion en base de datos': np.NaN}, inplace = True)\n",
    "total           = DatosModificados.isnull().sum().sort_values(ascending=False)\n",
    "percent         = (DatosModificados.isnull().sum()/DatosModificados.isnull().count()*100).sort_values(ascending=False)\n",
    "missing  = pd.concat([total,percent],axis=1,keys=[\"Total\",\"Percent\"])\n",
    "lista = missing[missing[\"Percent\"]>50].index.tolist()\n",
    "DatosModificados.drop(lista, axis= 1, inplace= True)\n",
    "print(total)\n"
   ]
  },
  {
   "cell_type": "markdown",
   "metadata": {},
   "source": [
    "Se comprueba que tengan los mismos faltantes que el anterior."
   ]
  },
  {
   "cell_type": "code",
   "execution_count": 61,
   "metadata": {},
   "outputs": [
    {
     "data": {
      "text/plain": [
       "0                                                      NaN\n",
       "1        ENFERMEDAD PULMONAR OBSTRUCTIVA CRONICA CON EX...\n",
       "2                                                   DISNEA\n",
       "3              DELIRIO SUPERPUESTO A UN CUADRO DE DEMENCIA\n",
       "4          FRACTURA DEL MALAR Y DEL HUESO MAXILAR SUPERIOR\n",
       "                               ...                        \n",
       "43149                      EPILEPSIA  TIPO NO ESPECIFICADO\n",
       "43150        OTRAS ENFERMEDADES DE LAS GLANDULAS SALIVALES\n",
       "43151                          EPISODIO DEPRESIVO MODERADO\n",
       "43152                                   CONTUSION DEL CODO\n",
       "43153            OTRAS CONVULSIONES Y LAS NO ESPECIFICADAS\n",
       "Name: D_DX_F3, Length: 43154, dtype: object"
      ]
     },
     "execution_count": 61,
     "metadata": {},
     "output_type": "execute_result"
    }
   ],
   "source": [
    "total           = DatosModificados.isnull().sum().sort_values(ascending=False)\n",
    "percent         = (DatosModificados.isnull().sum()/DatosModificados.isnull().count()*100).sort_values(ascending=False)\n",
    "missing  = pd.concat([total,percent],axis=1,keys=[\"Total\",\"Percent\"])\n",
    "missing.head(13)\n",
    "DatosModificados[\"D_DX_F3\"]"
   ]
  },
  {
   "cell_type": "code",
   "execution_count": 62,
   "metadata": {},
   "outputs": [],
   "source": [
    "cdata=DatosModificados.select_dtypes(exclude=[\"int\",\"float\"]).columns\n"
   ]
  },
  {
   "cell_type": "markdown",
   "metadata": {},
   "source": [
    "# Reemplazo de valores categoricos faltantes"
   ]
  },
  {
   "cell_type": "markdown",
   "metadata": {},
   "source": [
    "Debido a la existencia de los datos faltantes en las columnas categoricas se reemplazan con la moda de estos paras una posterior codificación"
   ]
  },
  {
   "cell_type": "code",
   "execution_count": 63,
   "metadata": {},
   "outputs": [
    {
     "data": {
      "text/plain": [
       "0          -1\n",
       "1        J441\n",
       "2        R060\n",
       "3        F051\n",
       "4        S024\n",
       "         ... \n",
       "43149    G409\n",
       "43150    K118\n",
       "43151    F321\n",
       "43152    S500\n",
       "43153    R568\n",
       "Name: DX_F3, Length: 43154, dtype: object"
      ]
     },
     "execution_count": 63,
     "metadata": {},
     "output_type": "execute_result"
    }
   ],
   "source": [
    "dic = {}\n",
    "for i in cdata:\n",
    "    DatosDropNa = DatosModificados[i].dropna(axis = 0)\n",
    "    dic[i] = DatosDropNa.mode()[0]\n",
    "\n",
    "DatosModificados.fillna(dic, inplace= True)\n",
    "DatosModificados[\"DX_F3\"]\n"
   ]
  },
  {
   "cell_type": "markdown",
   "metadata": {},
   "source": [
    "\n",
    "## Codificación de datos"
   ]
  },
  {
   "cell_type": "markdown",
   "metadata": {},
   "source": [
    "Se codifican los datos para su posterior manejo"
   ]
  },
  {
   "cell_type": "code",
   "execution_count": 64,
   "metadata": {},
   "outputs": [
    {
     "name": "stdout",
     "output_type": "stream",
     "text": [
      "<class 'pandas.core.frame.DataFrame'>\n",
      "RangeIndex: 43154 entries, 0 to 43153\n",
      "Data columns (total 58 columns):\n",
      " #   Column                             Non-Null Count  Dtype  \n",
      "---  ------                             --------------  -----  \n",
      " 0   AntencionPaciente llave            43154 non-null  int64  \n",
      " 1   vGenero                            43154 non-null  int64  \n",
      " 2   EdadEgreso                         43154 non-null  int64  \n",
      " 3   Año_Salida                         43154 non-null  int64  \n",
      " 4   MES                                43154 non-null  int64  \n",
      " 5   Tipo_Afiliacion                    43154 non-null  int64  \n",
      " 6   Aseguradora                        43154 non-null  int64  \n",
      " 7   Modalidad_Contrato                 43154 non-null  int64  \n",
      " 8   Aseguradora2                       43154 non-null  int64  \n",
      " 9   Hospitalizacion                    43154 non-null  int64  \n",
      " 10  bloque                             43154 non-null  int64  \n",
      " 11  piso                               43154 non-null  int64  \n",
      " 12  Tipo_Internacion                   43154 non-null  int64  \n",
      " 13  Ciclo_Vital                        43154 non-null  int64  \n",
      " 14  ESPECIALIDAD_GRD                   43154 non-null  int64  \n",
      " 15  DX_PRINCIPAL                       43154 non-null  int64  \n",
      " 16  D_DX_PPAL                          43154 non-null  int64  \n",
      " 17  D_Capitulo_CIE10                   43154 non-null  int64  \n",
      " 18  RangoCapitulo                      43154 non-null  int64  \n",
      " 19  Categoria                          43154 non-null  int64  \n",
      " 20  D_subcapitulo_CIE10                43154 non-null  int64  \n",
      " 21  DescSubgrupoOncologia              43154 non-null  int64  \n",
      " 22  SubgrupoOncologia                  43154 non-null  int64  \n",
      " 23  ClasificacionCronico_DX_Principal  43154 non-null  int64  \n",
      " 24  DX_MEDICO                          43154 non-null  int64  \n",
      " 25  D_DX_MEDICO                        43154 non-null  int64  \n",
      " 26  ClasificacionCronico_DX_Medico     43154 non-null  int64  \n",
      " 27  DX_R1                              43154 non-null  int64  \n",
      " 28  D_DX_R1                            43154 non-null  int64  \n",
      " 29  ClasificacionCronico_DX_R1         43154 non-null  int64  \n",
      " 30  DX_R2                              43154 non-null  int64  \n",
      " 31  D_DX_R2                            43154 non-null  int64  \n",
      " 32  ClasificacionCronico_DX_R2         43154 non-null  int64  \n",
      " 33  DX_R3                              43154 non-null  int64  \n",
      " 34  D_DX_R3                            43154 non-null  int64  \n",
      " 35  ClasificacionCronico_DX_R3         43154 non-null  int64  \n",
      " 36  DX_F3                              43154 non-null  int64  \n",
      " 37  D_DX_F3                            43154 non-null  int64  \n",
      " 38  ClasificacionCronico_DX_F3         43154 non-null  int64  \n",
      " 39  DX_F3_R1                           43154 non-null  int64  \n",
      " 40  DX_F3_R2                           43154 non-null  int64  \n",
      " 41  DX_F3_R3                           43154 non-null  int64  \n",
      " 42  DX_pre_cx                          43154 non-null  int64  \n",
      " 43  DX_pos_cx                          43154 non-null  int64  \n",
      " 44  DX_MUERTE                          43154 non-null  int64  \n",
      " 45  Subcapitulo_DX_Muerte              43154 non-null  int64  \n",
      " 46  capitulo_DX_Muerte                 43154 non-null  int64  \n",
      " 47  HorasdeAlta                        43154 non-null  int64  \n",
      " 48  DiasEstanciaServicio               43154 non-null  int64  \n",
      " 49  MODALIDAD                          43154 non-null  int64  \n",
      " 50  SERVICIO_ADMITE                    43154 non-null  int64  \n",
      " 51  ID_Medico_registra                 43154 non-null  int64  \n",
      " 52  NombreTipoDiagnostico              43154 non-null  int64  \n",
      " 53  Tipo_egreso                        43154 non-null  int64  \n",
      " 54  Transfusiones                      43154 non-null  int64  \n",
      " 55  Antioboticos                       43154 non-null  int64  \n",
      " 56  UCI_UCE                            43154 non-null  int64  \n",
      " 57  DiasEstanciaClinica_exactoLog      43154 non-null  float64\n",
      "dtypes: float64(1), int64(57)\n",
      "memory usage: 19.1 MB\n"
     ]
    }
   ],
   "source": [
    "cdata=DatosModificados.select_dtypes(exclude=[\"int\",\"float\"]).columns\n",
    "dataEncode=DatosModificados\n",
    "encoder=ps.LabelEncoder()\n",
    "for i in cdata:\n",
    "    dataEncode[i]=encoder.fit_transform(dataEncode[i])\n",
    "    name=\"./encoders/\"+f'{i}_encoder.pkl'\n",
    "    joblib.dump(encoder,name)\n",
    "dataEncode.info()"
   ]
  },
  {
   "cell_type": "code",
   "execution_count": 65,
   "metadata": {},
   "outputs": [
    {
     "data": {
      "text/html": [
       "<div>\n",
       "<style scoped>\n",
       "    .dataframe tbody tr th:only-of-type {\n",
       "        vertical-align: middle;\n",
       "    }\n",
       "\n",
       "    .dataframe tbody tr th {\n",
       "        vertical-align: top;\n",
       "    }\n",
       "\n",
       "    .dataframe thead th {\n",
       "        text-align: right;\n",
       "    }\n",
       "</style>\n",
       "<table border=\"1\" class=\"dataframe\">\n",
       "  <thead>\n",
       "    <tr style=\"text-align: right;\">\n",
       "      <th></th>\n",
       "      <th>DiasEstanciaClinica_exactoLog</th>\n",
       "    </tr>\n",
       "  </thead>\n",
       "  <tbody>\n",
       "    <tr>\n",
       "      <th>DiasEstanciaClinica_exactoLog</th>\n",
       "      <td>1.000000</td>\n",
       "    </tr>\n",
       "    <tr>\n",
       "      <th>DiasEstanciaServicio</th>\n",
       "      <td>0.671309</td>\n",
       "    </tr>\n",
       "    <tr>\n",
       "      <th>Antioboticos</th>\n",
       "      <td>0.357724</td>\n",
       "    </tr>\n",
       "    <tr>\n",
       "      <th>Transfusiones</th>\n",
       "      <td>0.337105</td>\n",
       "    </tr>\n",
       "    <tr>\n",
       "      <th>UCI_UCE</th>\n",
       "      <td>0.334056</td>\n",
       "    </tr>\n",
       "    <tr>\n",
       "      <th>DX_pos_cx</th>\n",
       "      <td>0.161087</td>\n",
       "    </tr>\n",
       "    <tr>\n",
       "      <th>DX_pre_cx</th>\n",
       "      <td>0.158057</td>\n",
       "    </tr>\n",
       "    <tr>\n",
       "      <th>DX_R3</th>\n",
       "      <td>0.137918</td>\n",
       "    </tr>\n",
       "    <tr>\n",
       "      <th>EdadEgreso</th>\n",
       "      <td>0.128416</td>\n",
       "    </tr>\n",
       "    <tr>\n",
       "      <th>NombreTipoDiagnostico</th>\n",
       "      <td>0.119497</td>\n",
       "    </tr>\n",
       "  </tbody>\n",
       "</table>\n",
       "</div>"
      ],
      "text/plain": [
       "                               DiasEstanciaClinica_exactoLog\n",
       "DiasEstanciaClinica_exactoLog                       1.000000\n",
       "DiasEstanciaServicio                                0.671309\n",
       "Antioboticos                                        0.357724\n",
       "Transfusiones                                       0.337105\n",
       "UCI_UCE                                             0.334056\n",
       "DX_pos_cx                                           0.161087\n",
       "DX_pre_cx                                           0.158057\n",
       "DX_R3                                               0.137918\n",
       "EdadEgreso                                          0.128416\n",
       "NombreTipoDiagnostico                               0.119497"
      ]
     },
     "execution_count": 65,
     "metadata": {},
     "output_type": "execute_result"
    }
   ],
   "source": [
    "corr_matrix = dataEncode.corr()\n",
    "target_corr_df = pd.DataFrame(corr_matrix[\"DiasEstanciaClinica_exactoLog\"].sort_values(ascending=False))\n",
    "target_corr_df.head(10)"
   ]
  },
  {
   "cell_type": "code",
   "execution_count": 66,
   "metadata": {},
   "outputs": [
    {
     "data": {
      "text/html": [
       "<div>\n",
       "<style scoped>\n",
       "    .dataframe tbody tr th:only-of-type {\n",
       "        vertical-align: middle;\n",
       "    }\n",
       "\n",
       "    .dataframe tbody tr th {\n",
       "        vertical-align: top;\n",
       "    }\n",
       "\n",
       "    .dataframe thead th {\n",
       "        text-align: right;\n",
       "    }\n",
       "</style>\n",
       "<table border=\"1\" class=\"dataframe\">\n",
       "  <thead>\n",
       "    <tr style=\"text-align: right;\">\n",
       "      <th></th>\n",
       "      <th>DiasEstanciaClinica_exactoLog</th>\n",
       "      <th>DiasEstanciaServicio</th>\n",
       "      <th>Antioboticos</th>\n",
       "      <th>Transfusiones</th>\n",
       "      <th>UCI_UCE</th>\n",
       "      <th>DX_pos_cx</th>\n",
       "      <th>DX_pre_cx</th>\n",
       "      <th>DX_R3</th>\n",
       "      <th>EdadEgreso</th>\n",
       "      <th>NombreTipoDiagnostico</th>\n",
       "    </tr>\n",
       "  </thead>\n",
       "  <tbody>\n",
       "    <tr>\n",
       "      <th>0</th>\n",
       "      <td>0.047392</td>\n",
       "      <td>1</td>\n",
       "      <td>0</td>\n",
       "      <td>0</td>\n",
       "      <td>0</td>\n",
       "      <td>0</td>\n",
       "      <td>0</td>\n",
       "      <td>1721</td>\n",
       "      <td>62</td>\n",
       "      <td>1</td>\n",
       "    </tr>\n",
       "    <tr>\n",
       "      <th>1</th>\n",
       "      <td>1.372036</td>\n",
       "      <td>4</td>\n",
       "      <td>0</td>\n",
       "      <td>0</td>\n",
       "      <td>0</td>\n",
       "      <td>0</td>\n",
       "      <td>0</td>\n",
       "      <td>769</td>\n",
       "      <td>89</td>\n",
       "      <td>0</td>\n",
       "    </tr>\n",
       "    <tr>\n",
       "      <th>2</th>\n",
       "      <td>0.584829</td>\n",
       "      <td>1</td>\n",
       "      <td>1</td>\n",
       "      <td>0</td>\n",
       "      <td>0</td>\n",
       "      <td>0</td>\n",
       "      <td>0</td>\n",
       "      <td>794</td>\n",
       "      <td>90</td>\n",
       "      <td>0</td>\n",
       "    </tr>\n",
       "    <tr>\n",
       "      <th>3</th>\n",
       "      <td>0.941894</td>\n",
       "      <td>1</td>\n",
       "      <td>1</td>\n",
       "      <td>0</td>\n",
       "      <td>0</td>\n",
       "      <td>0</td>\n",
       "      <td>0</td>\n",
       "      <td>769</td>\n",
       "      <td>88</td>\n",
       "      <td>0</td>\n",
       "    </tr>\n",
       "    <tr>\n",
       "      <th>4</th>\n",
       "      <td>1.702274</td>\n",
       "      <td>4</td>\n",
       "      <td>0</td>\n",
       "      <td>0</td>\n",
       "      <td>0</td>\n",
       "      <td>0</td>\n",
       "      <td>0</td>\n",
       "      <td>1858</td>\n",
       "      <td>89</td>\n",
       "      <td>0</td>\n",
       "    </tr>\n",
       "    <tr>\n",
       "      <th>...</th>\n",
       "      <td>...</td>\n",
       "      <td>...</td>\n",
       "      <td>...</td>\n",
       "      <td>...</td>\n",
       "      <td>...</td>\n",
       "      <td>...</td>\n",
       "      <td>...</td>\n",
       "      <td>...</td>\n",
       "      <td>...</td>\n",
       "      <td>...</td>\n",
       "    </tr>\n",
       "    <tr>\n",
       "      <th>43149</th>\n",
       "      <td>0.942048</td>\n",
       "      <td>2</td>\n",
       "      <td>0</td>\n",
       "      <td>0</td>\n",
       "      <td>0</td>\n",
       "      <td>0</td>\n",
       "      <td>0</td>\n",
       "      <td>1784</td>\n",
       "      <td>19</td>\n",
       "      <td>1</td>\n",
       "    </tr>\n",
       "    <tr>\n",
       "      <th>43150</th>\n",
       "      <td>0.608355</td>\n",
       "      <td>1</td>\n",
       "      <td>0</td>\n",
       "      <td>0</td>\n",
       "      <td>0</td>\n",
       "      <td>0</td>\n",
       "      <td>0</td>\n",
       "      <td>496</td>\n",
       "      <td>31</td>\n",
       "      <td>1</td>\n",
       "    </tr>\n",
       "    <tr>\n",
       "      <th>43151</th>\n",
       "      <td>0.015271</td>\n",
       "      <td>1</td>\n",
       "      <td>0</td>\n",
       "      <td>0</td>\n",
       "      <td>0</td>\n",
       "      <td>0</td>\n",
       "      <td>0</td>\n",
       "      <td>1640</td>\n",
       "      <td>13</td>\n",
       "      <td>0</td>\n",
       "    </tr>\n",
       "    <tr>\n",
       "      <th>43152</th>\n",
       "      <td>0.459314</td>\n",
       "      <td>1</td>\n",
       "      <td>1</td>\n",
       "      <td>0</td>\n",
       "      <td>0</td>\n",
       "      <td>1217</td>\n",
       "      <td>1180</td>\n",
       "      <td>0</td>\n",
       "      <td>6</td>\n",
       "      <td>0</td>\n",
       "    </tr>\n",
       "    <tr>\n",
       "      <th>43153</th>\n",
       "      <td>0.201820</td>\n",
       "      <td>1</td>\n",
       "      <td>1</td>\n",
       "      <td>0</td>\n",
       "      <td>0</td>\n",
       "      <td>0</td>\n",
       "      <td>0</td>\n",
       "      <td>1786</td>\n",
       "      <td>6</td>\n",
       "      <td>1</td>\n",
       "    </tr>\n",
       "  </tbody>\n",
       "</table>\n",
       "<p>43154 rows × 10 columns</p>\n",
       "</div>"
      ],
      "text/plain": [
       "       DiasEstanciaClinica_exactoLog  DiasEstanciaServicio  Antioboticos  \\\n",
       "0                           0.047392                     1             0   \n",
       "1                           1.372036                     4             0   \n",
       "2                           0.584829                     1             1   \n",
       "3                           0.941894                     1             1   \n",
       "4                           1.702274                     4             0   \n",
       "...                              ...                   ...           ...   \n",
       "43149                       0.942048                     2             0   \n",
       "43150                       0.608355                     1             0   \n",
       "43151                       0.015271                     1             0   \n",
       "43152                       0.459314                     1             1   \n",
       "43153                       0.201820                     1             1   \n",
       "\n",
       "       Transfusiones  UCI_UCE  DX_pos_cx  DX_pre_cx  DX_R3  EdadEgreso  \\\n",
       "0                  0        0          0          0   1721          62   \n",
       "1                  0        0          0          0    769          89   \n",
       "2                  0        0          0          0    794          90   \n",
       "3                  0        0          0          0    769          88   \n",
       "4                  0        0          0          0   1858          89   \n",
       "...              ...      ...        ...        ...    ...         ...   \n",
       "43149              0        0          0          0   1784          19   \n",
       "43150              0        0          0          0    496          31   \n",
       "43151              0        0          0          0   1640          13   \n",
       "43152              0        0       1217       1180      0           6   \n",
       "43153              0        0          0          0   1786           6   \n",
       "\n",
       "       NombreTipoDiagnostico  \n",
       "0                          1  \n",
       "1                          0  \n",
       "2                          0  \n",
       "3                          0  \n",
       "4                          0  \n",
       "...                      ...  \n",
       "43149                      1  \n",
       "43150                      1  \n",
       "43151                      0  \n",
       "43152                      0  \n",
       "43153                      1  \n",
       "\n",
       "[43154 rows x 10 columns]"
      ]
     },
     "execution_count": 66,
     "metadata": {},
     "output_type": "execute_result"
    }
   ],
   "source": [
    "dataEncode=dataEncode[target_corr_df.index[:10]]\n",
    "dataEncode"
   ]
  },
  {
   "cell_type": "code",
   "execution_count": 67,
   "metadata": {},
   "outputs": [
    {
     "data": {
      "image/png": "[encoded data removed]",
      "text/plain": [
       "<Figure size 1000x1000 with 2 Axes>"
      ]
     },
     "metadata": {},
     "output_type": "display_data"
    }
   ],
   "source": [
    " \n",
    "corr_matrix = dataEncode.corr()\n",
    "target_corr_df = pd.DataFrame(corr_matrix[\"DiasEstanciaClinica_exactoLog\"].sort_values(ascending=False))\n",
    "plt.figure(figsize=(10,10))\n",
    "sns.heatmap(corr_matrix, annot = True, vmin = -1, vmax = 1, cmap = \"YlGnBu\").set_title('Correlation Matrix')\n",
    "plt.show()"
   ]
  },
  {
   "cell_type": "code",
   "execution_count": 68,
   "metadata": {},
   "outputs": [],
   "source": [
    "dataEncode.to_csv(\"dataEncode.csv\",index=False)"
   ]
  }
 ],
 "metadata": {
  "kernelspec": {
   "display_name": "Python 3",
   "language": "python",
   "name": "python3"
  },
  "language_info": {
   "codemirror_mode": {
    "name": "ipython",
    "version": 3
   },
   "file_extension": ".py",
   "mimetype": "text/x-python",
   "name": "python",
   "nbconvert_exporter": "python",
   "pygments_lexer": "ipython3",
   "version": "3.11.4"
  }
 },
 "nbformat": 4,
 "nbformat_minor": 2
}
