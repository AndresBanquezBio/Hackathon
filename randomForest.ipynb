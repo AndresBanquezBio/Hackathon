{
 "cells": [
  {
   "cell_type": "markdown",
   "metadata": {},
   "source": [
    "## Random forest"
   ]
  },
  {
   "cell_type": "code",
   "execution_count": 1,
   "metadata": {},
   "outputs": [],
   "source": [
    "\n",
    "\n",
    "import numpy as np\n",
    "import pandas as pd\n",
    "import matplotlib.pyplot as plt\n",
    "from sklearn.model_selection import learning_curve,train_test_split,cross_validate, ShuffleSplit,GridSearchCV\n",
    "from sklearn.linear_model import LinearRegression\n",
    "from sklearn.tree import DecisionTreeRegressor\n",
    "from sklearn.ensemble import RandomForestRegressor\n",
    "from sklearn.metrics import mean_squared_error,average_precision_score,mean_absolute_error,r2_score,confusion_matrix,classification_report\n",
    "import seaborn as sns\n",
    "from sklearn.preprocessing import StandardScaler,MinMaxScaler\n",
    "from sklearn.svm import LinearSVC\n",
    "import textwrap\n",
    "from sklearn.decomposition import NMF,PCA\n",
    "from itertools import product\n",
    "\n"
   ]
  },
  {
   "cell_type": "code",
   "execution_count": 3,
   "metadata": {},
   "outputs": [],
   "source": [
    "dataset=pd.read_csv(\"dataEncode.csv\")"
   ]
  },
  {
   "cell_type": "markdown",
   "metadata": {},
   "source": [
    "## Metricas"
   ]
  },
  {
   "cell_type": "code",
   "execution_count": 4,
   "metadata": {},
   "outputs": [],
   "source": [
    "x=dataset.drop([\"DiasEstanciaClinica_exactoLog\"],axis=1)\n",
    "y=dataset[\"DiasEstanciaClinica_exactoLog\"].values"
   ]
  },
  {
   "cell_type": "code",
   "execution_count": 6,
   "metadata": {},
   "outputs": [],
   "source": [
    "def train_test_evaluate(model_name, model, X_train, y_train, X_test, y_test):  \n",
    "    \n",
    "    y_pred= model.predict(X_test)\n",
    "    \n",
    "    mae = mean_absolute_error(y_test, y_pred)\n",
    "    mse = mean_squared_error(y_test, y_pred)\n",
    "    rmse = mean_squared_error(y_test, y_pred,squared=False)\n",
    "    r2 = r2_score(y_test, y_pred)\n",
    "    y_test_mean= y_test.mean()\n",
    "    mae_ratio= mae/y_test_mean\n",
    "    rmse_ratio= rmse/y_test_mean\n",
    "    \n",
    "    result_df = pd.DataFrame(\n",
    "        data=[[model_name, mae, mse, rmse, r2, mae_ratio, rmse_ratio]], \n",
    "        columns=[\"Model\", 'MAE', 'MSE', 'RMSE', 'R2 Score', \"MAE Ratio\", \"RMSE Ratio\"])\n",
    "    return result_df"
   ]
  },
  {
   "cell_type": "code",
   "execution_count": 7,
   "metadata": {},
   "outputs": [],
   "source": [
    "def report_cv_score(z):\n",
    "    lr_ts_score = z['test_score']*(-1)\n",
    "    lr_tr_score = z['train_score']*(-1)\n",
    "    lin_rmse_ts = np.sqrt(lr_ts_score)\n",
    "    lin_rmse_tr = np.sqrt(lr_tr_score)\n",
    "    print(\"RMSE Test: \", \"{:.5f}\".format(np.mean(lin_rmse_ts)), \"(±\", \"{:.8f}\".format(np.std(lin_rmse_ts)),\")\")\n",
    "    print(\"RMSE Train: \", \"{:.5f}\".format(np.mean(lin_rmse_tr)), \"(±\", \"{:.8f}\".format(np.std(lin_rmse_tr)),\")\")"
   ]
  },
  {
   "cell_type": "markdown",
   "metadata": {},
   "source": [
    "## Aplicación separación de datos de evaluación"
   ]
  },
  {
   "cell_type": "code",
   "execution_count": 8,
   "metadata": {},
   "outputs": [
    {
     "name": "stdout",
     "output_type": "stream",
     "text": [
      "(43154, 9) (43154,)\n",
      "test size 0.30\n",
      "val size is 0.43 (relative to 0.70) \n",
      "(30207, 9) (12947, 9)\n"
     ]
    }
   ],
   "source": [
    "test_size = 0.3\n",
    "val_size  = test_size/(1-test_size) # Elementos de validación\n",
    "\n",
    "\n",
    "print (x.shape, y.shape)\n",
    "print (\"test size %.2f\"%test_size)\n",
    "print (\"val size is %.2f (relative to %.2f) \"%(val_size, 1-test_size))\n",
    "\n",
    "Xtv, Xts, ytv, yts = train_test_split(x, y, test_size=test_size)\n",
    "scaler=StandardScaler()\n",
    "Xtv=scaler.fit_transform(Xtv)\n",
    "Xts=scaler.fit_transform(Xts)\n",
    "print (Xtv.shape, Xts.shape)"
   ]
  },
  {
   "cell_type": "markdown",
   "metadata": {},
   "source": [
    "## Lineal"
   ]
  },
  {
   "cell_type": "code",
   "execution_count": 9,
   "metadata": {},
   "outputs": [],
   "source": [
    "estimator = RandomForestRegressor(n_estimators = 2,max_depth = 5)"
   ]
  },
  {
   "cell_type": "code",
   "execution_count": 13,
   "metadata": {},
   "outputs": [
    {
     "name": "stdout",
     "output_type": "stream",
     "text": [
      "---------\n",
      "RMSE Test:  0.53215 (± 0.00735859 )\n",
      "RMSE Train:  0.52225 (± 0.00519877 )\n"
     ]
    },
    {
     "data": {
      "text/html": [
       "<div>\n",
       "<style scoped>\n",
       "    .dataframe tbody tr th:only-of-type {\n",
       "        vertical-align: middle;\n",
       "    }\n",
       "\n",
       "    .dataframe tbody tr th {\n",
       "        vertical-align: top;\n",
       "    }\n",
       "\n",
       "    .dataframe thead th {\n",
       "        text-align: right;\n",
       "    }\n",
       "</style>\n",
       "<table border=\"1\" class=\"dataframe\">\n",
       "  <thead>\n",
       "    <tr style=\"text-align: right;\">\n",
       "      <th></th>\n",
       "      <th>Model</th>\n",
       "      <th>MAE</th>\n",
       "      <th>MSE</th>\n",
       "      <th>RMSE</th>\n",
       "      <th>R2 Score</th>\n",
       "      <th>MAE Ratio</th>\n",
       "      <th>RMSE Ratio</th>\n",
       "    </tr>\n",
       "  </thead>\n",
       "  <tbody>\n",
       "    <tr>\n",
       "      <th>0</th>\n",
       "      <td>RandomForestRegressor</td>\n",
       "      <td>0.338068</td>\n",
       "      <td>0.274744</td>\n",
       "      <td>0.524161</td>\n",
       "      <td>0.727349</td>\n",
       "      <td>0.200795</td>\n",
       "      <td>0.311324</td>\n",
       "    </tr>\n",
       "  </tbody>\n",
       "</table>\n",
       "</div>"
      ],
      "text/plain": [
       "                   Model       MAE       MSE      RMSE  R2 Score  MAE Ratio  \\\n",
       "0  RandomForestRegressor  0.338068  0.274744  0.524161  0.727349   0.200795   \n",
       "\n",
       "   RMSE Ratio  \n",
       "0    0.311324  "
      ]
     },
     "execution_count": 13,
     "metadata": {},
     "output_type": "execute_result"
    }
   ],
   "source": [
    "print(\"---------\")\n",
    "z = cross_validate(estimator, Xtv, ytv, return_train_score=True, return_estimator=False,\n",
    "                scoring=\"neg_mean_squared_error\", cv=ShuffleSplit(n_splits=10, test_size=val_size))\n",
    "report_cv_score(z)\n",
    "estimator.fit(Xtv, ytv)\n",
    "result_df= train_test_evaluate(\"RandomForestRegressor\", estimator, Xtv, ytv, Xts, yts)\n",
    "result_df"
   ]
  },
  {
   "cell_type": "code",
   "execution_count": 14,
   "metadata": {},
   "outputs": [
    {
     "data": {
      "text/html": [
       "<style>#sk-container-id-1 {color: black;}#sk-container-id-1 pre{padding: 0;}#sk-container-id-1 div.sk-toggleable {background-color: white;}#sk-container-id-1 label.sk-toggleable__label {cursor: pointer;display: block;width: 100%;margin-bottom: 0;padding: 0.3em;box-sizing: border-box;text-align: center;}#sk-container-id-1 label.sk-toggleable__label-arrow:before {content: \"▸\";float: left;margin-right: 0.25em;color: #696969;}#sk-container-id-1 label.sk-toggleable__label-arrow:hover:before {color: black;}#sk-container-id-1 div.sk-estimator:hover label.sk-toggleable__label-arrow:before {color: black;}#sk-container-id-1 div.sk-toggleable__content {max-height: 0;max-width: 0;overflow: hidden;text-align: left;background-color: #f0f8ff;}#sk-container-id-1 div.sk-toggleable__content pre {margin: 0.2em;color: black;border-radius: 0.25em;background-color: #f0f8ff;}#sk-container-id-1 input.sk-toggleable__control:checked~div.sk-toggleable__content {max-height: 200px;max-width: 100%;overflow: auto;}#sk-container-id-1 input.sk-toggleable__control:checked~label.sk-toggleable__label-arrow:before {content: \"▾\";}#sk-container-id-1 div.sk-estimator input.sk-toggleable__control:checked~label.sk-toggleable__label {background-color: #d4ebff;}#sk-container-id-1 div.sk-label input.sk-toggleable__control:checked~label.sk-toggleable__label {background-color: #d4ebff;}#sk-container-id-1 input.sk-hidden--visually {border: 0;clip: rect(1px 1px 1px 1px);clip: rect(1px, 1px, 1px, 1px);height: 1px;margin: -1px;overflow: hidden;padding: 0;position: absolute;width: 1px;}#sk-container-id-1 div.sk-estimator {font-family: monospace;background-color: #f0f8ff;border: 1px dotted black;border-radius: 0.25em;box-sizing: border-box;margin-bottom: 0.5em;}#sk-container-id-1 div.sk-estimator:hover {background-color: #d4ebff;}#sk-container-id-1 div.sk-parallel-item::after {content: \"\";width: 100%;border-bottom: 1px solid gray;flex-grow: 1;}#sk-container-id-1 div.sk-label:hover label.sk-toggleable__label {background-color: #d4ebff;}#sk-container-id-1 div.sk-serial::before {content: \"\";position: absolute;border-left: 1px solid gray;box-sizing: border-box;top: 0;bottom: 0;left: 50%;z-index: 0;}#sk-container-id-1 div.sk-serial {display: flex;flex-direction: column;align-items: center;background-color: white;padding-right: 0.2em;padding-left: 0.2em;position: relative;}#sk-container-id-1 div.sk-item {position: relative;z-index: 1;}#sk-container-id-1 div.sk-parallel {display: flex;align-items: stretch;justify-content: center;background-color: white;position: relative;}#sk-container-id-1 div.sk-item::before, #sk-container-id-1 div.sk-parallel-item::before {content: \"\";position: absolute;border-left: 1px solid gray;box-sizing: border-box;top: 0;bottom: 0;left: 50%;z-index: -1;}#sk-container-id-1 div.sk-parallel-item {display: flex;flex-direction: column;z-index: 1;position: relative;background-color: white;}#sk-container-id-1 div.sk-parallel-item:first-child::after {align-self: flex-end;width: 50%;}#sk-container-id-1 div.sk-parallel-item:last-child::after {align-self: flex-start;width: 50%;}#sk-container-id-1 div.sk-parallel-item:only-child::after {width: 0;}#sk-container-id-1 div.sk-dashed-wrapped {border: 1px dashed gray;margin: 0 0.4em 0.5em 0.4em;box-sizing: border-box;padding-bottom: 0.4em;background-color: white;}#sk-container-id-1 div.sk-label label {font-family: monospace;font-weight: bold;display: inline-block;line-height: 1.2em;}#sk-container-id-1 div.sk-label-container {text-align: center;}#sk-container-id-1 div.sk-container {/* jupyter's `normalize.less` sets `[hidden] { display: none; }` but bootstrap.min.css set `[hidden] { display: none !important; }` so we also need the `!important` here to be able to override the default hidden behavior on the sphinx rendered scikit-learn.org. See: https://github.com/scikit-learn/scikit-learn/issues/21755 */display: inline-block !important;position: relative;}#sk-container-id-1 div.sk-text-repr-fallback {display: none;}</style><div id=\"sk-container-id-1\" class=\"sk-top-container\"><div class=\"sk-text-repr-fallback\"><pre>RandomForestRegressor(max_depth=5, n_estimators=2)</pre><b>In a Jupyter environment, please rerun this cell to show the HTML representation or trust the notebook. <br />On GitHub, the HTML representation is unable to render, please try loading this page with nbviewer.org.</b></div><div class=\"sk-container\" hidden><div class=\"sk-item\"><div class=\"sk-estimator sk-toggleable\"><input class=\"sk-toggleable__control sk-hidden--visually\" id=\"sk-estimator-id-1\" type=\"checkbox\" checked><label for=\"sk-estimator-id-1\" class=\"sk-toggleable__label sk-toggleable__label-arrow\">RandomForestRegressor</label><div class=\"sk-toggleable__content\"><pre>RandomForestRegressor(max_depth=5, n_estimators=2)</pre></div></div></div></div></div>"
      ],
      "text/plain": [
       "RandomForestRegressor(max_depth=5, n_estimators=2)"
      ]
     },
     "execution_count": 14,
     "metadata": {},
     "output_type": "execute_result"
    }
   ],
   "source": [
    "estimator"
   ]
  },
  {
   "cell_type": "markdown",
   "metadata": {},
   "source": [
    "## Encontrando los mejores parametros"
   ]
  },
  {
   "cell_type": "code",
   "execution_count": 16,
   "metadata": {},
   "outputs": [
    {
     "name": "stdout",
     "output_type": "stream",
     "text": [
      "Fitting 5 folds for each of 30 candidates, totalling 150 fits\n"
     ]
    },
    {
     "name": "stdout",
     "output_type": "stream",
     "text": [
      "[CV] END max_depth=11, min_samples_leaf=1, n_estimators=20, random_state=23; total time=   0.4s\n",
      "[CV] END max_depth=11, min_samples_leaf=1, n_estimators=20, random_state=23; total time=   0.5s\n",
      "[CV] END max_depth=11, min_samples_leaf=1, n_estimators=20, random_state=23; total time=   0.4s\n",
      "[CV] END max_depth=11, min_samples_leaf=1, n_estimators=20, random_state=23; total time=   0.4s\n",
      "[CV] END max_depth=11, min_samples_leaf=1, n_estimators=20, random_state=23; total time=   0.5s\n",
      "[CV] END max_depth=11, min_samples_leaf=2, n_estimators=20, random_state=23; total time=   0.4s\n",
      "[CV] END max_depth=11, min_samples_leaf=1, n_estimators=40, random_state=23; total time=   0.8s\n",
      "[CV] END max_depth=11, min_samples_leaf=2, n_estimators=20, random_state=23; total time=   0.4s\n",
      "[CV] END max_depth=11, min_samples_leaf=2, n_estimators=20, random_state=23; total time=   0.4s\n",
      "[CV] END max_depth=11, min_samples_leaf=2, n_estimators=20, random_state=23; total time=   0.5s\n",
      "[CV] END max_depth=11, min_samples_leaf=2, n_estimators=20, random_state=23; total time=   0.4s\n",
      "[CV] END max_depth=11, min_samples_leaf=1, n_estimators=40, random_state=23; total time=   0.8s\n",
      "[CV] END max_depth=11, min_samples_leaf=1, n_estimators=40, random_state=23; total time=   0.9s\n",
      "[CV] END max_depth=11, min_samples_leaf=1, n_estimators=40, random_state=23; total time=   0.9s\n",
      "[CV] END max_depth=11, min_samples_leaf=1, n_estimators=40, random_state=23; total time=   0.9s\n",
      "[CV] END max_depth=11, min_samples_leaf=1, n_estimators=60, random_state=23; total time=   1.3s\n",
      "[CV] END max_depth=11, min_samples_leaf=2, n_estimators=40, random_state=23; total time=   0.9s\n",
      "[CV] END max_depth=11, min_samples_leaf=1, n_estimators=60, random_state=23; total time=   1.3s\n",
      "[CV] END max_depth=11, min_samples_leaf=1, n_estimators=60, random_state=23; total time=   1.3s\n",
      "[CV] END max_depth=13, min_samples_leaf=1, n_estimators=20, random_state=23; total time=   0.5s\n",
      "[CV] END max_depth=11, min_samples_leaf=1, n_estimators=60, random_state=23; total time=   1.3s\n",
      "[CV] END max_depth=11, min_samples_leaf=1, n_estimators=60, random_state=23; total time=   1.4s\n",
      "[CV] END max_depth=11, min_samples_leaf=2, n_estimators=40, random_state=23; total time=   0.9s\n",
      "[CV] END max_depth=11, min_samples_leaf=2, n_estimators=40, random_state=23; total time=   0.8s\n",
      "[CV] END max_depth=11, min_samples_leaf=2, n_estimators=40, random_state=23; total time=   0.8s\n",
      "[CV] END max_depth=11, min_samples_leaf=2, n_estimators=40, random_state=23; total time=   0.9s\n",
      "[CV] END max_depth=13, min_samples_leaf=1, n_estimators=20, random_state=23; total time=   0.5s\n",
      "[CV] END max_depth=13, min_samples_leaf=1, n_estimators=20, random_state=23; total time=   0.5s\n",
      "[CV] END max_depth=13, min_samples_leaf=1, n_estimators=20, random_state=23; total time=   0.5s\n",
      "[CV] END max_depth=13, min_samples_leaf=1, n_estimators=20, random_state=23; total time=   0.5s\n",
      "[CV] END max_depth=11, min_samples_leaf=2, n_estimators=60, random_state=23; total time=   1.2s\n",
      "[CV] END max_depth=11, min_samples_leaf=2, n_estimators=60, random_state=23; total time=   1.2s\n",
      "[CV] END max_depth=11, min_samples_leaf=2, n_estimators=60, random_state=23; total time=   1.2s\n",
      "[CV] END max_depth=11, min_samples_leaf=2, n_estimators=60, random_state=23; total time=   1.3s\n",
      "[CV] END max_depth=11, min_samples_leaf=2, n_estimators=60, random_state=23; total time=   1.3s\n",
      "[CV] END max_depth=13, min_samples_leaf=2, n_estimators=20, random_state=23; total time=   0.5s\n",
      "[CV] END max_depth=13, min_samples_leaf=1, n_estimators=40, random_state=23; total time=   0.9s\n",
      "[CV] END max_depth=13, min_samples_leaf=1, n_estimators=40, random_state=23; total time=   1.0s\n",
      "[CV] END max_depth=13, min_samples_leaf=1, n_estimators=40, random_state=23; total time=   1.0s\n",
      "[CV] END max_depth=13, min_samples_leaf=1, n_estimators=40, random_state=23; total time=   1.0s\n",
      "[CV] END max_depth=13, min_samples_leaf=2, n_estimators=20, random_state=23; total time=   0.5s\n",
      "[CV] END max_depth=13, min_samples_leaf=2, n_estimators=20, random_state=23; total time=   0.5s\n",
      "[CV] END max_depth=13, min_samples_leaf=2, n_estimators=20, random_state=23; total time=   0.5s\n",
      "[CV] END max_depth=13, min_samples_leaf=1, n_estimators=40, random_state=23; total time=   1.0s\n",
      "[CV] END max_depth=13, min_samples_leaf=2, n_estimators=20, random_state=23; total time=   0.5s\n",
      "[CV] END max_depth=13, min_samples_leaf=1, n_estimators=60, random_state=23; total time=   1.5s\n",
      "[CV] END max_depth=15, min_samples_leaf=1, n_estimators=20, random_state=23; total time=   0.5s\n",
      "[CV] END max_depth=13, min_samples_leaf=2, n_estimators=40, random_state=23; total time=   1.0s\n",
      "[CV] END max_depth=13, min_samples_leaf=2, n_estimators=40, random_state=23; total time=   0.9s\n",
      "[CV] END max_depth=13, min_samples_leaf=1, n_estimators=60, random_state=23; total time=   1.4s\n",
      "[CV] END max_depth=13, min_samples_leaf=1, n_estimators=60, random_state=23; total time=   1.6s\n",
      "[CV] END max_depth=13, min_samples_leaf=1, n_estimators=60, random_state=23; total time=   1.5s\n",
      "[CV] END max_depth=13, min_samples_leaf=2, n_estimators=40, random_state=23; total time=   0.9s\n",
      "[CV] END max_depth=13, min_samples_leaf=1, n_estimators=60, random_state=23; total time=   1.5s\n",
      "[CV] END max_depth=13, min_samples_leaf=2, n_estimators=40, random_state=23; total time=   0.9s\n",
      "[CV] END max_depth=13, min_samples_leaf=2, n_estimators=40, random_state=23; total time=   0.9s\n",
      "[CV] END max_depth=15, min_samples_leaf=1, n_estimators=20, random_state=23; total time=   0.6s\n",
      "[CV] END max_depth=15, min_samples_leaf=1, n_estimators=20, random_state=23; total time=   0.6s\n",
      "[CV] END max_depth=15, min_samples_leaf=1, n_estimators=20, random_state=23; total time=   0.6s\n",
      "[CV] END max_depth=15, min_samples_leaf=1, n_estimators=20, random_state=23; total time=   0.5s\n",
      "[CV] END max_depth=13, min_samples_leaf=2, n_estimators=60, random_state=23; total time=   1.4s\n",
      "[CV] END max_depth=13, min_samples_leaf=2, n_estimators=60, random_state=23; total time=   1.4s\n",
      "[CV] END max_depth=13, min_samples_leaf=2, n_estimators=60, random_state=23; total time=   1.4s\n",
      "[CV] END max_depth=13, min_samples_leaf=2, n_estimators=60, random_state=23; total time=   1.4s\n",
      "[CV] END max_depth=13, min_samples_leaf=2, n_estimators=60, random_state=23; total time=   1.6s\n",
      "[CV] END max_depth=15, min_samples_leaf=2, n_estimators=20, random_state=23; total time=   0.5s\n",
      "[CV] END max_depth=15, min_samples_leaf=1, n_estimators=40, random_state=23; total time=   1.1s\n",
      "[CV] END max_depth=15, min_samples_leaf=2, n_estimators=20, random_state=23; total time=   0.5s\n",
      "[CV] END max_depth=15, min_samples_leaf=1, n_estimators=40, random_state=23; total time=   1.1s\n",
      "[CV] END max_depth=15, min_samples_leaf=2, n_estimators=20, random_state=23; total time=   0.5s\n",
      "[CV] END max_depth=15, min_samples_leaf=2, n_estimators=20, random_state=23; total time=   0.5s\n",
      "[CV] END max_depth=15, min_samples_leaf=2, n_estimators=20, random_state=23; total time=   0.5s\n",
      "[CV] END max_depth=15, min_samples_leaf=1, n_estimators=40, random_state=23; total time=   1.2s\n",
      "[CV] END max_depth=15, min_samples_leaf=1, n_estimators=40, random_state=23; total time=   1.1s\n",
      "[CV] END max_depth=15, min_samples_leaf=1, n_estimators=40, random_state=23; total time=   1.2s\n",
      "[CV] END max_depth=15, min_samples_leaf=1, n_estimators=60, random_state=23; total time=   1.6s\n",
      "[CV] END max_depth=15, min_samples_leaf=1, n_estimators=60, random_state=23; total time=   1.6s\n",
      "[CV] END max_depth=15, min_samples_leaf=2, n_estimators=40, random_state=23; total time=   1.0s\n",
      "[CV] END max_depth=17, min_samples_leaf=1, n_estimators=20, random_state=23; total time=   0.6s\n",
      "[CV] END max_depth=15, min_samples_leaf=1, n_estimators=60, random_state=23; total time=   1.6s\n",
      "[CV] END max_depth=15, min_samples_leaf=2, n_estimators=40, random_state=23; total time=   1.0s\n",
      "[CV] END max_depth=15, min_samples_leaf=2, n_estimators=40, random_state=23; total time=   1.0s\n",
      "[CV] END max_depth=15, min_samples_leaf=1, n_estimators=60, random_state=23; total time=   1.6s\n",
      "[CV] END max_depth=15, min_samples_leaf=2, n_estimators=40, random_state=23; total time=   1.0s\n",
      "[CV] END max_depth=15, min_samples_leaf=2, n_estimators=40, random_state=23; total time=   1.0s\n",
      "[CV] END max_depth=15, min_samples_leaf=1, n_estimators=60, random_state=23; total time=   1.7s\n",
      "[CV] END max_depth=17, min_samples_leaf=1, n_estimators=20, random_state=23; total time=   0.6s\n",
      "[CV] END max_depth=17, min_samples_leaf=1, n_estimators=20, random_state=23; total time=   0.6s\n",
      "[CV] END max_depth=17, min_samples_leaf=1, n_estimators=20, random_state=23; total time=   0.6s\n",
      "[CV] END max_depth=17, min_samples_leaf=1, n_estimators=20, random_state=23; total time=   0.6s\n",
      "[CV] END max_depth=15, min_samples_leaf=2, n_estimators=60, random_state=23; total time=   1.5s\n",
      "[CV] END max_depth=15, min_samples_leaf=2, n_estimators=60, random_state=23; total time=   1.5s\n",
      "[CV] END max_depth=15, min_samples_leaf=2, n_estimators=60, random_state=23; total time=   1.5s\n",
      "[CV] END max_depth=15, min_samples_leaf=2, n_estimators=60, random_state=23; total time=   1.5s\n",
      "[CV] END max_depth=15, min_samples_leaf=2, n_estimators=60, random_state=23; total time=   1.5s\n",
      "[CV] END max_depth=17, min_samples_leaf=2, n_estimators=20, random_state=23; total time=   0.6s\n",
      "[CV] END max_depth=17, min_samples_leaf=2, n_estimators=20, random_state=23; total time=   0.5s\n",
      "[CV] END max_depth=17, min_samples_leaf=2, n_estimators=20, random_state=23; total time=   0.5s\n",
      "[CV] END max_depth=17, min_samples_leaf=1, n_estimators=40, random_state=23; total time=   1.2s\n",
      "[CV] END max_depth=17, min_samples_leaf=2, n_estimators=20, random_state=23; total time=   0.5s[CV] END max_depth=17, min_samples_leaf=1, n_estimators=40, random_state=23; total time=   1.2s\n",
      "\n",
      "[CV] END max_depth=17, min_samples_leaf=2, n_estimators=20, random_state=23; total time=   0.5s\n",
      "[CV] END max_depth=17, min_samples_leaf=1, n_estimators=40, random_state=23; total time=   1.2s\n",
      "[CV] END max_depth=17, min_samples_leaf=1, n_estimators=40, random_state=23; total time=   1.2s\n",
      "[CV] END max_depth=17, min_samples_leaf=1, n_estimators=40, random_state=23; total time=   1.2s\n",
      "[CV] END max_depth=17, min_samples_leaf=2, n_estimators=40, random_state=23; total time=   1.0s\n",
      "[CV] END max_depth=17, min_samples_leaf=1, n_estimators=60, random_state=23; total time=   1.7s\n",
      "[CV] END max_depth=19, min_samples_leaf=1, n_estimators=20, random_state=23; total time=   0.6s\n",
      "[CV] END max_depth=17, min_samples_leaf=1, n_estimators=60, random_state=23; total time=   1.8s\n",
      "[CV] END max_depth=17, min_samples_leaf=1, n_estimators=60, random_state=23; total time=   1.8s\n",
      "[CV] END max_depth=17, min_samples_leaf=1, n_estimators=60, random_state=23; total time=   1.8s\n",
      "[CV] END max_depth=17, min_samples_leaf=1, n_estimators=60, random_state=23; total time=   1.7s\n",
      "[CV] END max_depth=17, min_samples_leaf=2, n_estimators=40, random_state=23; total time=   1.0s\n",
      "[CV] END max_depth=17, min_samples_leaf=2, n_estimators=40, random_state=23; total time=   1.0s\n",
      "[CV] END max_depth=17, min_samples_leaf=2, n_estimators=40, random_state=23; total time=   1.0s\n",
      "[CV] END max_depth=17, min_samples_leaf=2, n_estimators=40, random_state=23; total time=   1.2s\n",
      "[CV] END max_depth=19, min_samples_leaf=1, n_estimators=20, random_state=23; total time=   0.6s\n",
      "[CV] END max_depth=19, min_samples_leaf=1, n_estimators=20, random_state=23; total time=   0.6s\n",
      "[CV] END max_depth=19, min_samples_leaf=1, n_estimators=20, random_state=23; total time=   0.6s\n",
      "[CV] END max_depth=19, min_samples_leaf=1, n_estimators=20, random_state=23; total time=   0.6s\n",
      "[CV] END max_depth=17, min_samples_leaf=2, n_estimators=60, random_state=23; total time=   1.5s\n",
      "[CV] END max_depth=17, min_samples_leaf=2, n_estimators=60, random_state=23; total time=   1.5s\n",
      "[CV] END max_depth=17, min_samples_leaf=2, n_estimators=60, random_state=23; total time=   1.5s\n",
      "[CV] END max_depth=17, min_samples_leaf=2, n_estimators=60, random_state=23; total time=   1.6s\n",
      "[CV] END max_depth=17, min_samples_leaf=2, n_estimators=60, random_state=23; total time=   1.7s\n",
      "[CV] END max_depth=19, min_samples_leaf=2, n_estimators=20, random_state=23; total time=   0.5s\n",
      "[CV] END max_depth=19, min_samples_leaf=1, n_estimators=40, random_state=23; total time=   1.2s\n",
      "[CV] END max_depth=19, min_samples_leaf=2, n_estimators=20, random_state=23; total time=   0.5s\n",
      "[CV] END max_depth=19, min_samples_leaf=2, n_estimators=20, random_state=23; total time=   0.5s\n",
      "[CV] END max_depth=19, min_samples_leaf=2, n_estimators=20, random_state=23; total time=   0.5s\n",
      "[CV] END max_depth=19, min_samples_leaf=1, n_estimators=40, random_state=23; total time=   1.2s\n",
      "[CV] END max_depth=19, min_samples_leaf=1, n_estimators=40, random_state=23; total time=   1.3s\n",
      "[CV] END max_depth=19, min_samples_leaf=2, n_estimators=20, random_state=23; total time=   0.6s\n",
      "[CV] END max_depth=19, min_samples_leaf=1, n_estimators=40, random_state=23; total time=   1.2s\n",
      "[CV] END max_depth=19, min_samples_leaf=1, n_estimators=40, random_state=23; total time=   1.2s\n",
      "[CV] END max_depth=19, min_samples_leaf=2, n_estimators=40, random_state=23; total time=   1.1s\n",
      "[CV] END max_depth=19, min_samples_leaf=1, n_estimators=60, random_state=23; total time=   1.8s\n",
      "[CV] END max_depth=19, min_samples_leaf=1, n_estimators=60, random_state=23; total time=   1.8s\n",
      "[CV] END max_depth=19, min_samples_leaf=2, n_estimators=40, random_state=23; total time=   1.1s\n",
      "[CV] END max_depth=19, min_samples_leaf=1, n_estimators=60, random_state=23; total time=   1.9s\n",
      "[CV] END max_depth=19, min_samples_leaf=1, n_estimators=60, random_state=23; total time=   1.7s\n",
      "[CV] END max_depth=19, min_samples_leaf=2, n_estimators=40, random_state=23; total time=   1.0s\n",
      "[CV] END max_depth=19, min_samples_leaf=1, n_estimators=60, random_state=23; total time=   1.8s\n",
      "[CV] END max_depth=19, min_samples_leaf=2, n_estimators=40, random_state=23; total time=   1.0s\n",
      "[CV] END max_depth=19, min_samples_leaf=2, n_estimators=40, random_state=23; total time=   1.0s\n",
      "[CV] END max_depth=19, min_samples_leaf=2, n_estimators=60, random_state=23; total time=   1.4s\n",
      "[CV] END max_depth=19, min_samples_leaf=2, n_estimators=60, random_state=23; total time=   1.3s\n",
      "[CV] END max_depth=19, min_samples_leaf=2, n_estimators=60, random_state=23; total time=   1.4s\n",
      "[CV] END max_depth=19, min_samples_leaf=2, n_estimators=60, random_state=23; total time=   1.4s\n",
      "[CV] END max_depth=19, min_samples_leaf=2, n_estimators=60, random_state=23; total time=   1.4s\n"
     ]
    },
    {
     "data": {
      "text/html": [
       "<style>#sk-container-id-2 {color: black;}#sk-container-id-2 pre{padding: 0;}#sk-container-id-2 div.sk-toggleable {background-color: white;}#sk-container-id-2 label.sk-toggleable__label {cursor: pointer;display: block;width: 100%;margin-bottom: 0;padding: 0.3em;box-sizing: border-box;text-align: center;}#sk-container-id-2 label.sk-toggleable__label-arrow:before {content: \"▸\";float: left;margin-right: 0.25em;color: #696969;}#sk-container-id-2 label.sk-toggleable__label-arrow:hover:before {color: black;}#sk-container-id-2 div.sk-estimator:hover label.sk-toggleable__label-arrow:before {color: black;}#sk-container-id-2 div.sk-toggleable__content {max-height: 0;max-width: 0;overflow: hidden;text-align: left;background-color: #f0f8ff;}#sk-container-id-2 div.sk-toggleable__content pre {margin: 0.2em;color: black;border-radius: 0.25em;background-color: #f0f8ff;}#sk-container-id-2 input.sk-toggleable__control:checked~div.sk-toggleable__content {max-height: 200px;max-width: 100%;overflow: auto;}#sk-container-id-2 input.sk-toggleable__control:checked~label.sk-toggleable__label-arrow:before {content: \"▾\";}#sk-container-id-2 div.sk-estimator input.sk-toggleable__control:checked~label.sk-toggleable__label {background-color: #d4ebff;}#sk-container-id-2 div.sk-label input.sk-toggleable__control:checked~label.sk-toggleable__label {background-color: #d4ebff;}#sk-container-id-2 input.sk-hidden--visually {border: 0;clip: rect(1px 1px 1px 1px);clip: rect(1px, 1px, 1px, 1px);height: 1px;margin: -1px;overflow: hidden;padding: 0;position: absolute;width: 1px;}#sk-container-id-2 div.sk-estimator {font-family: monospace;background-color: #f0f8ff;border: 1px dotted black;border-radius: 0.25em;box-sizing: border-box;margin-bottom: 0.5em;}#sk-container-id-2 div.sk-estimator:hover {background-color: #d4ebff;}#sk-container-id-2 div.sk-parallel-item::after {content: \"\";width: 100%;border-bottom: 1px solid gray;flex-grow: 1;}#sk-container-id-2 div.sk-label:hover label.sk-toggleable__label {background-color: #d4ebff;}#sk-container-id-2 div.sk-serial::before {content: \"\";position: absolute;border-left: 1px solid gray;box-sizing: border-box;top: 0;bottom: 0;left: 50%;z-index: 0;}#sk-container-id-2 div.sk-serial {display: flex;flex-direction: column;align-items: center;background-color: white;padding-right: 0.2em;padding-left: 0.2em;position: relative;}#sk-container-id-2 div.sk-item {position: relative;z-index: 1;}#sk-container-id-2 div.sk-parallel {display: flex;align-items: stretch;justify-content: center;background-color: white;position: relative;}#sk-container-id-2 div.sk-item::before, #sk-container-id-2 div.sk-parallel-item::before {content: \"\";position: absolute;border-left: 1px solid gray;box-sizing: border-box;top: 0;bottom: 0;left: 50%;z-index: -1;}#sk-container-id-2 div.sk-parallel-item {display: flex;flex-direction: column;z-index: 1;position: relative;background-color: white;}#sk-container-id-2 div.sk-parallel-item:first-child::after {align-self: flex-end;width: 50%;}#sk-container-id-2 div.sk-parallel-item:last-child::after {align-self: flex-start;width: 50%;}#sk-container-id-2 div.sk-parallel-item:only-child::after {width: 0;}#sk-container-id-2 div.sk-dashed-wrapped {border: 1px dashed gray;margin: 0 0.4em 0.5em 0.4em;box-sizing: border-box;padding-bottom: 0.4em;background-color: white;}#sk-container-id-2 div.sk-label label {font-family: monospace;font-weight: bold;display: inline-block;line-height: 1.2em;}#sk-container-id-2 div.sk-label-container {text-align: center;}#sk-container-id-2 div.sk-container {/* jupyter's `normalize.less` sets `[hidden] { display: none; }` but bootstrap.min.css set `[hidden] { display: none !important; }` so we also need the `!important` here to be able to override the default hidden behavior on the sphinx rendered scikit-learn.org. See: https://github.com/scikit-learn/scikit-learn/issues/21755 */display: inline-block !important;position: relative;}#sk-container-id-2 div.sk-text-repr-fallback {display: none;}</style><div id=\"sk-container-id-2\" class=\"sk-top-container\"><div class=\"sk-text-repr-fallback\"><pre>GridSearchCV(cv=ShuffleSplit(n_splits=5, random_state=None, test_size=0.4285714285714286,\n",
       "       train_size=None),\n",
       "             estimator=RandomForestRegressor(max_depth=5, n_estimators=2),\n",
       "             n_jobs=-1,\n",
       "             param_grid={&#x27;max_depth&#x27;: [11, 13, 15, 17, 19],\n",
       "                         &#x27;min_samples_leaf&#x27;: [1, 2],\n",
       "                         &#x27;n_estimators&#x27;: [20, 40, 60], &#x27;random_state&#x27;: [23]},\n",
       "             scoring=&#x27;neg_mean_squared_error&#x27;, verbose=2)</pre><b>In a Jupyter environment, please rerun this cell to show the HTML representation or trust the notebook. <br />On GitHub, the HTML representation is unable to render, please try loading this page with nbviewer.org.</b></div><div class=\"sk-container\" hidden><div class=\"sk-item sk-dashed-wrapped\"><div class=\"sk-label-container\"><div class=\"sk-label sk-toggleable\"><input class=\"sk-toggleable__control sk-hidden--visually\" id=\"sk-estimator-id-2\" type=\"checkbox\" ><label for=\"sk-estimator-id-2\" class=\"sk-toggleable__label sk-toggleable__label-arrow\">GridSearchCV</label><div class=\"sk-toggleable__content\"><pre>GridSearchCV(cv=ShuffleSplit(n_splits=5, random_state=None, test_size=0.4285714285714286,\n",
       "       train_size=None),\n",
       "             estimator=RandomForestRegressor(max_depth=5, n_estimators=2),\n",
       "             n_jobs=-1,\n",
       "             param_grid={&#x27;max_depth&#x27;: [11, 13, 15, 17, 19],\n",
       "                         &#x27;min_samples_leaf&#x27;: [1, 2],\n",
       "                         &#x27;n_estimators&#x27;: [20, 40, 60], &#x27;random_state&#x27;: [23]},\n",
       "             scoring=&#x27;neg_mean_squared_error&#x27;, verbose=2)</pre></div></div></div><div class=\"sk-parallel\"><div class=\"sk-parallel-item\"><div class=\"sk-item\"><div class=\"sk-label-container\"><div class=\"sk-label sk-toggleable\"><input class=\"sk-toggleable__control sk-hidden--visually\" id=\"sk-estimator-id-3\" type=\"checkbox\" ><label for=\"sk-estimator-id-3\" class=\"sk-toggleable__label sk-toggleable__label-arrow\">estimator: RandomForestRegressor</label><div class=\"sk-toggleable__content\"><pre>RandomForestRegressor(max_depth=5, n_estimators=2)</pre></div></div></div><div class=\"sk-serial\"><div class=\"sk-item\"><div class=\"sk-estimator sk-toggleable\"><input class=\"sk-toggleable__control sk-hidden--visually\" id=\"sk-estimator-id-4\" type=\"checkbox\" ><label for=\"sk-estimator-id-4\" class=\"sk-toggleable__label sk-toggleable__label-arrow\">RandomForestRegressor</label><div class=\"sk-toggleable__content\"><pre>RandomForestRegressor(max_depth=5, n_estimators=2)</pre></div></div></div></div></div></div></div></div></div></div>"
      ],
      "text/plain": [
       "GridSearchCV(cv=ShuffleSplit(n_splits=5, random_state=None, test_size=0.4285714285714286,\n",
       "       train_size=None),\n",
       "             estimator=RandomForestRegressor(max_depth=5, n_estimators=2),\n",
       "             n_jobs=-1,\n",
       "             param_grid={'max_depth': [11, 13, 15, 17, 19],\n",
       "                         'min_samples_leaf': [1, 2],\n",
       "                         'n_estimators': [20, 40, 60], 'random_state': [23]},\n",
       "             scoring='neg_mean_squared_error', verbose=2)"
      ]
     },
     "execution_count": 16,
     "metadata": {},
     "output_type": "execute_result"
    }
   ],
   "source": [
    "\n",
    "#Esta celda toma un tiempo considerable en completarse\n",
    "parametros = {\n",
    "    \"n_estimators\": list(range(20, 61, 20)),\n",
    "    \"max_depth\": list(range(11, 20, 2)),\n",
    "    \"min_samples_leaf\": list(range(1, 3)),\n",
    "    \"random_state\": [23]\n",
    "}\n",
    "\n",
    "forest_reg = GridSearchCV(estimator = estimator,\n",
    "                        param_grid = parametros,\n",
    "                        cv = ShuffleSplit(n_splits= 5, test_size=val_size), \n",
    "                        scoring = 'neg_mean_squared_error',\n",
    "                        verbose = 2,\n",
    "                        n_jobs=-1)\n",
    "forest_reg.fit(Xtv, ytv)\n"
   ]
  },
  {
   "cell_type": "markdown",
   "metadata": {},
   "source": [
    "Mejores parametros"
   ]
  },
  {
   "cell_type": "code",
   "execution_count": 17,
   "metadata": {},
   "outputs": [
    {
     "name": "stdout",
     "output_type": "stream",
     "text": [
      "Mejor estimador Random Forest:  RandomForestRegressor(max_depth=11, min_samples_leaf=2, n_estimators=60,\n",
      "                      random_state=23)\n",
      "Mejores parámetros para el estimador Random Forest:  {'max_depth': 11, 'min_samples_leaf': 2, 'n_estimators': 60, 'random_state': 23}\n"
     ]
    }
   ],
   "source": [
    "print(\"Mejor estimador Random Forest: \",forest_reg.best_estimator_)\n",
    "print(\"Mejores parámetros para el estimador Random Forest: \", forest_reg.best_params_)"
   ]
  },
  {
   "cell_type": "markdown",
   "metadata": {},
   "source": [
    "Generación de modelos"
   ]
  },
  {
   "cell_type": "code",
   "execution_count": 18,
   "metadata": {},
   "outputs": [
    {
     "data": {
      "text/html": [
       "<style>#sk-container-id-3 {color: black;}#sk-container-id-3 pre{padding: 0;}#sk-container-id-3 div.sk-toggleable {background-color: white;}#sk-container-id-3 label.sk-toggleable__label {cursor: pointer;display: block;width: 100%;margin-bottom: 0;padding: 0.3em;box-sizing: border-box;text-align: center;}#sk-container-id-3 label.sk-toggleable__label-arrow:before {content: \"▸\";float: left;margin-right: 0.25em;color: #696969;}#sk-container-id-3 label.sk-toggleable__label-arrow:hover:before {color: black;}#sk-container-id-3 div.sk-estimator:hover label.sk-toggleable__label-arrow:before {color: black;}#sk-container-id-3 div.sk-toggleable__content {max-height: 0;max-width: 0;overflow: hidden;text-align: left;background-color: #f0f8ff;}#sk-container-id-3 div.sk-toggleable__content pre {margin: 0.2em;color: black;border-radius: 0.25em;background-color: #f0f8ff;}#sk-container-id-3 input.sk-toggleable__control:checked~div.sk-toggleable__content {max-height: 200px;max-width: 100%;overflow: auto;}#sk-container-id-3 input.sk-toggleable__control:checked~label.sk-toggleable__label-arrow:before {content: \"▾\";}#sk-container-id-3 div.sk-estimator input.sk-toggleable__control:checked~label.sk-toggleable__label {background-color: #d4ebff;}#sk-container-id-3 div.sk-label input.sk-toggleable__control:checked~label.sk-toggleable__label {background-color: #d4ebff;}#sk-container-id-3 input.sk-hidden--visually {border: 0;clip: rect(1px 1px 1px 1px);clip: rect(1px, 1px, 1px, 1px);height: 1px;margin: -1px;overflow: hidden;padding: 0;position: absolute;width: 1px;}#sk-container-id-3 div.sk-estimator {font-family: monospace;background-color: #f0f8ff;border: 1px dotted black;border-radius: 0.25em;box-sizing: border-box;margin-bottom: 0.5em;}#sk-container-id-3 div.sk-estimator:hover {background-color: #d4ebff;}#sk-container-id-3 div.sk-parallel-item::after {content: \"\";width: 100%;border-bottom: 1px solid gray;flex-grow: 1;}#sk-container-id-3 div.sk-label:hover label.sk-toggleable__label {background-color: #d4ebff;}#sk-container-id-3 div.sk-serial::before {content: \"\";position: absolute;border-left: 1px solid gray;box-sizing: border-box;top: 0;bottom: 0;left: 50%;z-index: 0;}#sk-container-id-3 div.sk-serial {display: flex;flex-direction: column;align-items: center;background-color: white;padding-right: 0.2em;padding-left: 0.2em;position: relative;}#sk-container-id-3 div.sk-item {position: relative;z-index: 1;}#sk-container-id-3 div.sk-parallel {display: flex;align-items: stretch;justify-content: center;background-color: white;position: relative;}#sk-container-id-3 div.sk-item::before, #sk-container-id-3 div.sk-parallel-item::before {content: \"\";position: absolute;border-left: 1px solid gray;box-sizing: border-box;top: 0;bottom: 0;left: 50%;z-index: -1;}#sk-container-id-3 div.sk-parallel-item {display: flex;flex-direction: column;z-index: 1;position: relative;background-color: white;}#sk-container-id-3 div.sk-parallel-item:first-child::after {align-self: flex-end;width: 50%;}#sk-container-id-3 div.sk-parallel-item:last-child::after {align-self: flex-start;width: 50%;}#sk-container-id-3 div.sk-parallel-item:only-child::after {width: 0;}#sk-container-id-3 div.sk-dashed-wrapped {border: 1px dashed gray;margin: 0 0.4em 0.5em 0.4em;box-sizing: border-box;padding-bottom: 0.4em;background-color: white;}#sk-container-id-3 div.sk-label label {font-family: monospace;font-weight: bold;display: inline-block;line-height: 1.2em;}#sk-container-id-3 div.sk-label-container {text-align: center;}#sk-container-id-3 div.sk-container {/* jupyter's `normalize.less` sets `[hidden] { display: none; }` but bootstrap.min.css set `[hidden] { display: none !important; }` so we also need the `!important` here to be able to override the default hidden behavior on the sphinx rendered scikit-learn.org. See: https://github.com/scikit-learn/scikit-learn/issues/21755 */display: inline-block !important;position: relative;}#sk-container-id-3 div.sk-text-repr-fallback {display: none;}</style><div id=\"sk-container-id-3\" class=\"sk-top-container\"><div class=\"sk-text-repr-fallback\"><pre>RandomForestRegressor(max_depth=11, min_samples_leaf=2, n_estimators=60,\n",
       "                      random_state=23)</pre><b>In a Jupyter environment, please rerun this cell to show the HTML representation or trust the notebook. <br />On GitHub, the HTML representation is unable to render, please try loading this page with nbviewer.org.</b></div><div class=\"sk-container\" hidden><div class=\"sk-item\"><div class=\"sk-estimator sk-toggleable\"><input class=\"sk-toggleable__control sk-hidden--visually\" id=\"sk-estimator-id-5\" type=\"checkbox\" checked><label for=\"sk-estimator-id-5\" class=\"sk-toggleable__label sk-toggleable__label-arrow\">RandomForestRegressor</label><div class=\"sk-toggleable__content\"><pre>RandomForestRegressor(max_depth=11, min_samples_leaf=2, n_estimators=60,\n",
       "                      random_state=23)</pre></div></div></div></div></div>"
      ],
      "text/plain": [
       "RandomForestRegressor(max_depth=11, min_samples_leaf=2, n_estimators=60,\n",
       "                      random_state=23)"
      ]
     },
     "execution_count": 18,
     "metadata": {},
     "output_type": "execute_result"
    }
   ],
   "source": [
    "Rdm_forest = RandomForestRegressor(n_estimators =forest_reg.best_params_[\"n_estimators\"] \n",
    "                                   ,max_depth = forest_reg.best_params_[\"max_depth\"],\n",
    "                                   min_samples_leaf=forest_reg.best_params_[\"min_samples_leaf\"],\n",
    "                                   random_state=forest_reg.best_params_[\"random_state\"])\n",
    "Rdm_forest.fit(Xtv, ytv)"
   ]
  },
  {
   "cell_type": "markdown",
   "metadata": {},
   "source": [
    "Metricas"
   ]
  },
  {
   "cell_type": "code",
   "execution_count": 19,
   "metadata": {},
   "outputs": [
    {
     "name": "stdout",
     "output_type": "stream",
     "text": [
      "RMSE del Random Forest en entrenamiento:  0.44272\n",
      "RMSE del Random Forest seleccionado:  0.52580\n"
     ]
    }
   ],
   "source": [
    "print('RMSE del Random Forest en entrenamiento: ',\"{:.5f}\".format(mean_squared_error(ytv , Rdm_forest.predict(Xtv),squared=False)))\n",
    "print('RMSE del Random Forest seleccionado: ',\"{:.5f}\".format(mean_squared_error(yts , Rdm_forest.predict(Xts),squared=False)))\n"
   ]
  },
  {
   "cell_type": "code",
   "execution_count": 20,
   "metadata": {},
   "outputs": [],
   "source": [
    "df1=train_test_evaluate(\"Mejor Random Forest\", Rdm_forest, Xtv, ytv, Xts, yts)\n",
    "result_df=pd.concat([result_df,df1],ignore_index=True)"
   ]
  },
  {
   "cell_type": "markdown",
   "metadata": {},
   "source": [
    "## Metodo no supervisado"
   ]
  },
  {
   "cell_type": "markdown",
   "metadata": {},
   "source": [
    "## PCA"
   ]
  },
  {
   "cell_type": "code",
   "execution_count": 40,
   "metadata": {},
   "outputs": [
    {
     "name": "stdout",
     "output_type": "stream",
     "text": [
      "(30207, 1) (12947, 1)\n",
      "RMSE del modelo con  1 elementos:  0.85278\n",
      "------------\n",
      "(30207, 3) (12947, 3)\n",
      "RMSE del modelo con  3 elementos:  0.74986\n",
      "------------\n",
      "(30207, 5) (12947, 5)\n",
      "RMSE del modelo con  5 elementos:  0.57912\n",
      "------------\n",
      "(30207, 7) (12947, 7)\n",
      "RMSE del modelo con  7 elementos:  0.51349\n",
      "------------\n",
      "(30207, 9) (12947, 9)\n",
      "RMSE del modelo con  9 elementos:  0.51088\n",
      "------------\n",
      "Mejor RMSE:  0.51088   ; obtenido con  9  componentes para PCA\n"
     ]
    }
   ],
   "source": [
    "components = [1,3,5,7,9]\n",
    "test_size = 0.3\n",
    "val_size  = test_size/(1-test_size)\n",
    "perf_pca = [] \n",
    "Rdm_forest = RandomForestRegressor(n_estimators =forest_reg.best_params_[\"n_estimators\"] \n",
    "                                   ,max_depth = forest_reg.best_params_[\"max_depth\"],\n",
    "                                   min_samples_leaf=forest_reg.best_params_[\"min_samples_leaf\"]\n",
    "                                   ,random_state=forest_reg.best_params_[\"random_state\"])\n",
    "for i in components:\n",
    "    pca = PCA(n_components = i)\n",
    "    X_t = pca.fit_transform(x)\n",
    "    Xtv, Xts, ytv, yts = train_test_split(X_t, y, test_size=test_size)\n",
    "    print (Xtv.shape, Xts.shape)\n",
    "    Rdm_forest.fit(Xtv, ytv)\n",
    "    perf_pca.append(mean_squared_error(yts , Rdm_forest.predict(Xts),squared=False))\n",
    "    print('RMSE del modelo con ', i ,'elementos: ',\"{:.5f}\".format(mean_squared_error(yts , Rdm_forest.predict(Xts),squared=False)))\n",
    "    print('------------')\n",
    "    \n",
    "print('Mejor RMSE: ',\"{:.5f}\".format(np.min(perf_pca)),'  ; obtenido con ',components[np.argmin(perf_pca)],' componentes para PCA')"
   ]
  },
  {
   "cell_type": "markdown",
   "metadata": {},
   "source": [
    "## PCA+Random"
   ]
  },
  {
   "cell_type": "code",
   "execution_count": 43,
   "metadata": {},
   "outputs": [
    {
     "name": "stdout",
     "output_type": "stream",
     "text": [
      "(30207, 9) (12947, 9)\n"
     ]
    }
   ],
   "source": [
    "\n",
    "#MEJOR PCA\n",
    "pca = PCA(n_components = components[np.argmin(perf_pca)])\n",
    "X_t1 = pca.fit_transform(x)\n",
    "Xtv, Xts, ytv, yts = train_test_split(X_t1, y, test_size=test_size)\n",
    "print (Xtv.shape, Xts.shape)\n"
   ]
  },
  {
   "cell_type": "code",
   "execution_count": 46,
   "metadata": {},
   "outputs": [
    {
     "name": "stdout",
     "output_type": "stream",
     "text": [
      "RMSE Random Forest en entrenamiento:  0.44265\n",
      "RMSE del Random Forest seleccionado:  0.49677\n"
     ]
    }
   ],
   "source": [
    "#Desempeño del modelo Random Forest seleccionado\n",
    "print('RMSE Random Forest en entrenamiento: ',\"{:.5f}\".format(mean_squared_error(ytv , Rdm_forest.predict(Xtv),squared=False)))\n",
    "print('RMSE del Random Forest seleccionado: ',\"{:.5f}\".format(mean_squared_error(yts , Rdm_forest.predict(Xts),squared=False)))"
   ]
  },
  {
   "cell_type": "code",
   "execution_count": 41,
   "metadata": {},
   "outputs": [
    {
     "name": "stdout",
     "output_type": "stream",
     "text": [
      "Fitting 5 folds for each of 30 candidates, totalling 150 fits\n",
      "[CV] END max_depth=11, min_samples_leaf=1, n_estimators=20, random_state=23; total time=   1.4s\n",
      "[CV] END max_depth=11, min_samples_leaf=1, n_estimators=20, random_state=23; total time=   1.5s\n",
      "[CV] END max_depth=11, min_samples_leaf=1, n_estimators=20, random_state=23; total time=   1.5s\n",
      "[CV] END max_depth=11, min_samples_leaf=2, n_estimators=20, random_state=23; total time=   1.4s\n",
      "[CV] END max_depth=11, min_samples_leaf=1, n_estimators=20, random_state=23; total time=   1.6s\n",
      "[CV] END max_depth=11, min_samples_leaf=1, n_estimators=20, random_state=23; total time=   1.6s\n",
      "[CV] END max_depth=11, min_samples_leaf=2, n_estimators=20, random_state=23; total time=   1.4s\n",
      "[CV] END max_depth=11, min_samples_leaf=2, n_estimators=20, random_state=23; total time=   1.5s\n",
      "[CV] END max_depth=11, min_samples_leaf=1, n_estimators=40, random_state=23; total time=   3.0s\n",
      "[CV] END max_depth=11, min_samples_leaf=1, n_estimators=40, random_state=23; total time=   2.9s\n",
      "[CV] END max_depth=11, min_samples_leaf=2, n_estimators=20, random_state=23; total time=   1.4s\n",
      "[CV] END max_depth=11, min_samples_leaf=1, n_estimators=40, random_state=23; total time=   3.0s\n",
      "[CV] END max_depth=11, min_samples_leaf=1, n_estimators=40, random_state=23; total time=   3.0s\n",
      "[CV] END max_depth=11, min_samples_leaf=1, n_estimators=40, random_state=23; total time=   3.0s\n",
      "[CV] END max_depth=11, min_samples_leaf=2, n_estimators=20, random_state=23; total time=   1.5s\n",
      "[CV] END max_depth=11, min_samples_leaf=1, n_estimators=60, random_state=23; total time=   4.4s\n",
      "[CV] END max_depth=11, min_samples_leaf=1, n_estimators=60, random_state=23; total time=   4.4s\n",
      "[CV] END max_depth=11, min_samples_leaf=1, n_estimators=60, random_state=23; total time=   4.5s\n",
      "[CV] END max_depth=11, min_samples_leaf=1, n_estimators=60, random_state=23; total time=   4.5s\n",
      "[CV] END max_depth=11, min_samples_leaf=2, n_estimators=40, random_state=23; total time=   3.0s\n",
      "[CV] END max_depth=11, min_samples_leaf=1, n_estimators=60, random_state=23; total time=   4.6s\n",
      "[CV] END max_depth=11, min_samples_leaf=2, n_estimators=40, random_state=23; total time=   3.1s\n",
      "[CV] END max_depth=13, min_samples_leaf=1, n_estimators=20, random_state=23; total time=   1.7s\n",
      "[CV] END max_depth=11, min_samples_leaf=2, n_estimators=40, random_state=23; total time=   2.9s\n",
      "[CV] END max_depth=11, min_samples_leaf=2, n_estimators=40, random_state=23; total time=   2.9s\n",
      "[CV] END max_depth=11, min_samples_leaf=2, n_estimators=40, random_state=23; total time=   3.0s\n",
      "[CV] END max_depth=13, min_samples_leaf=1, n_estimators=20, random_state=23; total time=   1.6s\n",
      "[CV] END max_depth=13, min_samples_leaf=1, n_estimators=20, random_state=23; total time=   1.7s\n",
      "[CV] END max_depth=13, min_samples_leaf=1, n_estimators=20, random_state=23; total time=   1.7s\n",
      "[CV] END max_depth=13, min_samples_leaf=1, n_estimators=20, random_state=23; total time=   1.7s\n",
      "[CV] END max_depth=11, min_samples_leaf=2, n_estimators=60, random_state=23; total time=   4.2s\n",
      "[CV] END max_depth=11, min_samples_leaf=2, n_estimators=60, random_state=23; total time=   4.3s\n",
      "[CV] END max_depth=11, min_samples_leaf=2, n_estimators=60, random_state=23; total time=   4.3s\n",
      "[CV] END max_depth=11, min_samples_leaf=2, n_estimators=60, random_state=23; total time=   4.4s\n",
      "[CV] END max_depth=11, min_samples_leaf=2, n_estimators=60, random_state=23; total time=   4.5s\n",
      "[CV] END max_depth=13, min_samples_leaf=2, n_estimators=20, random_state=23; total time=   1.6s\n",
      "[CV] END max_depth=13, min_samples_leaf=1, n_estimators=40, random_state=23; total time=   3.3s\n",
      "[CV] END max_depth=13, min_samples_leaf=1, n_estimators=40, random_state=23; total time=   3.4s\n",
      "[CV] END max_depth=13, min_samples_leaf=1, n_estimators=40, random_state=23; total time=   3.4s\n",
      "[CV] END max_depth=13, min_samples_leaf=1, n_estimators=40, random_state=23; total time=   3.4s\n",
      "[CV] END max_depth=13, min_samples_leaf=2, n_estimators=20, random_state=23; total time=   1.6s\n",
      "[CV] END max_depth=13, min_samples_leaf=2, n_estimators=20, random_state=23; total time=   1.6s\n",
      "[CV] END max_depth=13, min_samples_leaf=2, n_estimators=20, random_state=23; total time=   1.7s\n",
      "[CV] END max_depth=13, min_samples_leaf=2, n_estimators=20, random_state=23; total time=   1.6s\n",
      "[CV] END max_depth=13, min_samples_leaf=1, n_estimators=40, random_state=23; total time=   3.6s\n",
      "[CV] END max_depth=13, min_samples_leaf=1, n_estimators=60, random_state=23; total time=   4.9s\n",
      "[CV] END max_depth=13, min_samples_leaf=2, n_estimators=40, random_state=23; total time=   3.3s\n",
      "[CV] END max_depth=13, min_samples_leaf=1, n_estimators=60, random_state=23; total time=   5.1s\n",
      "[CV] END max_depth=15, min_samples_leaf=1, n_estimators=20, random_state=23; total time=   1.8s\n",
      "[CV] END max_depth=13, min_samples_leaf=1, n_estimators=60, random_state=23; total time=   5.0s\n",
      "[CV] END max_depth=13, min_samples_leaf=2, n_estimators=40, random_state=23; total time=   3.3s\n",
      "[CV] END max_depth=13, min_samples_leaf=1, n_estimators=60, random_state=23; total time=   5.1s\n",
      "[CV] END max_depth=13, min_samples_leaf=1, n_estimators=60, random_state=23; total time=   5.0s\n",
      "[CV] END max_depth=13, min_samples_leaf=2, n_estimators=40, random_state=23; total time=   3.4s\n",
      "[CV] END max_depth=13, min_samples_leaf=2, n_estimators=40, random_state=23; total time=   3.3s\n",
      "[CV] END max_depth=13, min_samples_leaf=2, n_estimators=40, random_state=23; total time=   3.5s\n",
      "[CV] END max_depth=15, min_samples_leaf=1, n_estimators=20, random_state=23; total time=   1.8s\n",
      "[CV] END max_depth=15, min_samples_leaf=1, n_estimators=20, random_state=23; total time=   1.8s\n",
      "[CV] END max_depth=15, min_samples_leaf=1, n_estimators=20, random_state=23; total time=   1.8s\n",
      "[CV] END max_depth=15, min_samples_leaf=1, n_estimators=20, random_state=23; total time=   1.9s\n",
      "[CV] END max_depth=13, min_samples_leaf=2, n_estimators=60, random_state=23; total time=   4.9s\n",
      "[CV] END max_depth=13, min_samples_leaf=2, n_estimators=60, random_state=23; total time=   4.9s\n",
      "[CV] END max_depth=13, min_samples_leaf=2, n_estimators=60, random_state=23; total time=   5.1s\n",
      "[CV] END max_depth=13, min_samples_leaf=2, n_estimators=60, random_state=23; total time=   5.0s\n",
      "[CV] END max_depth=13, min_samples_leaf=2, n_estimators=60, random_state=23; total time=   4.9s\n",
      "[CV] END max_depth=15, min_samples_leaf=2, n_estimators=20, random_state=23; total time=   1.8s\n",
      "[CV] END max_depth=15, min_samples_leaf=1, n_estimators=40, random_state=23; total time=   3.6s\n",
      "[CV] END max_depth=15, min_samples_leaf=2, n_estimators=20, random_state=23; total time=   1.7s\n",
      "[CV] END max_depth=15, min_samples_leaf=1, n_estimators=40, random_state=23; total time=   3.7s\n",
      "[CV] END max_depth=15, min_samples_leaf=1, n_estimators=40, random_state=23; total time=   3.7s\n",
      "[CV] END max_depth=15, min_samples_leaf=1, n_estimators=40, random_state=23; total time=   3.7s\n",
      "[CV] END max_depth=15, min_samples_leaf=1, n_estimators=40, random_state=23; total time=   3.8s\n",
      "[CV] END max_depth=15, min_samples_leaf=2, n_estimators=20, random_state=23; total time=   1.8s\n",
      "[CV] END max_depth=15, min_samples_leaf=2, n_estimators=20, random_state=23; total time=   1.7s\n",
      "[CV] END max_depth=15, min_samples_leaf=2, n_estimators=20, random_state=23; total time=   1.9s\n",
      "[CV] END max_depth=15, min_samples_leaf=1, n_estimators=60, random_state=23; total time=   5.7s\n",
      "[CV] END max_depth=15, min_samples_leaf=1, n_estimators=60, random_state=23; total time=   5.6s\n",
      "[CV] END max_depth=15, min_samples_leaf=2, n_estimators=40, random_state=23; total time=   3.5s\n",
      "[CV] END max_depth=17, min_samples_leaf=1, n_estimators=20, random_state=23; total time=   2.1s\n",
      "[CV] END max_depth=15, min_samples_leaf=1, n_estimators=60, random_state=23; total time=   5.6s\n",
      "[CV] END max_depth=15, min_samples_leaf=1, n_estimators=60, random_state=23; total time=   5.6s\n",
      "[CV] END max_depth=15, min_samples_leaf=2, n_estimators=40, random_state=23; total time=   3.6s\n",
      "[CV] END max_depth=15, min_samples_leaf=1, n_estimators=60, random_state=23; total time=   5.6s\n",
      "[CV] END max_depth=15, min_samples_leaf=2, n_estimators=40, random_state=23; total time=   3.7s\n",
      "[CV] END max_depth=15, min_samples_leaf=2, n_estimators=40, random_state=23; total time=   3.7s\n",
      "[CV] END max_depth=15, min_samples_leaf=2, n_estimators=40, random_state=23; total time=   3.6s\n",
      "[CV] END max_depth=17, min_samples_leaf=1, n_estimators=20, random_state=23; total time=   1.9s\n",
      "[CV] END max_depth=17, min_samples_leaf=1, n_estimators=20, random_state=23; total time=   2.1s\n",
      "[CV] END max_depth=17, min_samples_leaf=1, n_estimators=20, random_state=23; total time=   2.0s\n",
      "[CV] END max_depth=17, min_samples_leaf=1, n_estimators=20, random_state=23; total time=   2.1s\n",
      "[CV] END max_depth=15, min_samples_leaf=2, n_estimators=60, random_state=23; total time=   5.4s\n",
      "[CV] END max_depth=15, min_samples_leaf=2, n_estimators=60, random_state=23; total time=   5.5s\n",
      "[CV] END max_depth=15, min_samples_leaf=2, n_estimators=60, random_state=23; total time=   5.5s\n",
      "[CV] END max_depth=15, min_samples_leaf=2, n_estimators=60, random_state=23; total time=   5.4s\n",
      "[CV] END max_depth=15, min_samples_leaf=2, n_estimators=60, random_state=23; total time=   5.5s\n",
      "[CV] END max_depth=17, min_samples_leaf=1, n_estimators=40, random_state=23; total time=   3.9s\n",
      "[CV] END max_depth=17, min_samples_leaf=2, n_estimators=20, random_state=23; total time=   2.0s\n",
      "[CV] END max_depth=17, min_samples_leaf=1, n_estimators=40, random_state=23; total time=   4.0s\n",
      "[CV] END max_depth=17, min_samples_leaf=2, n_estimators=20, random_state=23; total time=   2.0s\n",
      "[CV] END max_depth=17, min_samples_leaf=1, n_estimators=40, random_state=23; total time=   3.9s\n",
      "[CV] END max_depth=17, min_samples_leaf=2, n_estimators=20, random_state=23; total time=   2.0s\n",
      "[CV] END max_depth=17, min_samples_leaf=2, n_estimators=20, random_state=23; total time=   1.9s\n",
      "[CV] END max_depth=17, min_samples_leaf=1, n_estimators=40, random_state=23; total time=   4.0s\n",
      "[CV] END max_depth=17, min_samples_leaf=1, n_estimators=40, random_state=23; total time=   4.1s\n",
      "[CV] END max_depth=17, min_samples_leaf=2, n_estimators=20, random_state=23; total time=   2.0s\n",
      "[CV] END max_depth=17, min_samples_leaf=1, n_estimators=60, random_state=23; total time=   6.1s\n",
      "[CV] END max_depth=17, min_samples_leaf=1, n_estimators=60, random_state=23; total time=   6.2s\n",
      "[CV] END max_depth=17, min_samples_leaf=2, n_estimators=40, random_state=23; total time=   3.8s\n",
      "[CV] END max_depth=17, min_samples_leaf=1, n_estimators=60, random_state=23; total time=   6.1s\n",
      "[CV] END max_depth=19, min_samples_leaf=1, n_estimators=20, random_state=23; total time=   2.1s\n",
      "[CV] END max_depth=17, min_samples_leaf=1, n_estimators=60, random_state=23; total time=   6.3s\n",
      "[CV] END max_depth=17, min_samples_leaf=1, n_estimators=60, random_state=23; total time=   6.1s\n",
      "[CV] END max_depth=17, min_samples_leaf=2, n_estimators=40, random_state=23; total time=   3.9s\n",
      "[CV] END max_depth=17, min_samples_leaf=2, n_estimators=40, random_state=23; total time=   4.1s\n",
      "[CV] END max_depth=17, min_samples_leaf=2, n_estimators=40, random_state=23; total time=   3.9s\n",
      "[CV] END max_depth=17, min_samples_leaf=2, n_estimators=40, random_state=23; total time=   4.1s\n",
      "[CV] END max_depth=19, min_samples_leaf=1, n_estimators=20, random_state=23; total time=   2.2s\n",
      "[CV] END max_depth=19, min_samples_leaf=1, n_estimators=20, random_state=23; total time=   2.5s\n",
      "[CV] END max_depth=19, min_samples_leaf=1, n_estimators=20, random_state=23; total time=   2.2s\n",
      "[CV] END max_depth=19, min_samples_leaf=1, n_estimators=20, random_state=23; total time=   2.2s\n",
      "[CV] END max_depth=17, min_samples_leaf=2, n_estimators=60, random_state=23; total time=   5.8s\n",
      "[CV] END max_depth=17, min_samples_leaf=2, n_estimators=60, random_state=23; total time=   5.9s\n",
      "[CV] END max_depth=17, min_samples_leaf=2, n_estimators=60, random_state=23; total time=   6.0s\n",
      "[CV] END max_depth=17, min_samples_leaf=2, n_estimators=60, random_state=23; total time=   6.1s\n",
      "[CV] END max_depth=17, min_samples_leaf=2, n_estimators=60, random_state=23; total time=   6.2s\n",
      "[CV] END max_depth=19, min_samples_leaf=2, n_estimators=20, random_state=23; total time=   1.9s\n",
      "[CV] END max_depth=19, min_samples_leaf=1, n_estimators=40, random_state=23; total time=   4.3s\n",
      "[CV] END max_depth=19, min_samples_leaf=1, n_estimators=40, random_state=23; total time=   4.4s\n",
      "[CV] END max_depth=19, min_samples_leaf=1, n_estimators=40, random_state=23; total time=   4.5s\n",
      "[CV] END max_depth=19, min_samples_leaf=2, n_estimators=20, random_state=23; total time=   2.0s\n",
      "[CV] END max_depth=19, min_samples_leaf=2, n_estimators=20, random_state=23; total time=   2.1s\n",
      "[CV] END max_depth=19, min_samples_leaf=2, n_estimators=20, random_state=23; total time=   2.0s\n",
      "[CV] END max_depth=19, min_samples_leaf=2, n_estimators=20, random_state=23; total time=   2.1s\n",
      "[CV] END max_depth=19, min_samples_leaf=1, n_estimators=40, random_state=23; total time=   4.4s\n",
      "[CV] END max_depth=19, min_samples_leaf=1, n_estimators=40, random_state=23; total time=   4.5s\n",
      "[CV] END max_depth=19, min_samples_leaf=2, n_estimators=40, random_state=23; total time=   3.8s\n",
      "[CV] END max_depth=19, min_samples_leaf=1, n_estimators=60, random_state=23; total time=   6.4s\n",
      "[CV] END max_depth=19, min_samples_leaf=1, n_estimators=60, random_state=23; total time=   6.4s\n",
      "[CV] END max_depth=19, min_samples_leaf=2, n_estimators=40, random_state=23; total time=   3.8s\n",
      "[CV] END max_depth=19, min_samples_leaf=1, n_estimators=60, random_state=23; total time=   6.1s\n",
      "[CV] END max_depth=19, min_samples_leaf=2, n_estimators=40, random_state=23; total time=   3.9s\n",
      "[CV] END max_depth=19, min_samples_leaf=2, n_estimators=40, random_state=23; total time=   3.6s\n",
      "[CV] END max_depth=19, min_samples_leaf=1, n_estimators=60, random_state=23; total time=   6.5s\n",
      "[CV] END max_depth=19, min_samples_leaf=1, n_estimators=60, random_state=23; total time=   6.4s\n",
      "[CV] END max_depth=19, min_samples_leaf=2, n_estimators=40, random_state=23; total time=   3.6s\n",
      "[CV] END max_depth=19, min_samples_leaf=2, n_estimators=60, random_state=23; total time=   4.8s\n",
      "[CV] END max_depth=19, min_samples_leaf=2, n_estimators=60, random_state=23; total time=   4.8s\n",
      "[CV] END max_depth=19, min_samples_leaf=2, n_estimators=60, random_state=23; total time=   4.8s\n",
      "[CV] END max_depth=19, min_samples_leaf=2, n_estimators=60, random_state=23; total time=   5.1s\n",
      "[CV] END max_depth=19, min_samples_leaf=2, n_estimators=60, random_state=23; total time=   4.9s\n"
     ]
    },
    {
     "data": {
      "text/html": [
       "<style>#sk-container-id-4 {color: black;}#sk-container-id-4 pre{padding: 0;}#sk-container-id-4 div.sk-toggleable {background-color: white;}#sk-container-id-4 label.sk-toggleable__label {cursor: pointer;display: block;width: 100%;margin-bottom: 0;padding: 0.3em;box-sizing: border-box;text-align: center;}#sk-container-id-4 label.sk-toggleable__label-arrow:before {content: \"▸\";float: left;margin-right: 0.25em;color: #696969;}#sk-container-id-4 label.sk-toggleable__label-arrow:hover:before {color: black;}#sk-container-id-4 div.sk-estimator:hover label.sk-toggleable__label-arrow:before {color: black;}#sk-container-id-4 div.sk-toggleable__content {max-height: 0;max-width: 0;overflow: hidden;text-align: left;background-color: #f0f8ff;}#sk-container-id-4 div.sk-toggleable__content pre {margin: 0.2em;color: black;border-radius: 0.25em;background-color: #f0f8ff;}#sk-container-id-4 input.sk-toggleable__control:checked~div.sk-toggleable__content {max-height: 200px;max-width: 100%;overflow: auto;}#sk-container-id-4 input.sk-toggleable__control:checked~label.sk-toggleable__label-arrow:before {content: \"▾\";}#sk-container-id-4 div.sk-estimator input.sk-toggleable__control:checked~label.sk-toggleable__label {background-color: #d4ebff;}#sk-container-id-4 div.sk-label input.sk-toggleable__control:checked~label.sk-toggleable__label {background-color: #d4ebff;}#sk-container-id-4 input.sk-hidden--visually {border: 0;clip: rect(1px 1px 1px 1px);clip: rect(1px, 1px, 1px, 1px);height: 1px;margin: -1px;overflow: hidden;padding: 0;position: absolute;width: 1px;}#sk-container-id-4 div.sk-estimator {font-family: monospace;background-color: #f0f8ff;border: 1px dotted black;border-radius: 0.25em;box-sizing: border-box;margin-bottom: 0.5em;}#sk-container-id-4 div.sk-estimator:hover {background-color: #d4ebff;}#sk-container-id-4 div.sk-parallel-item::after {content: \"\";width: 100%;border-bottom: 1px solid gray;flex-grow: 1;}#sk-container-id-4 div.sk-label:hover label.sk-toggleable__label {background-color: #d4ebff;}#sk-container-id-4 div.sk-serial::before {content: \"\";position: absolute;border-left: 1px solid gray;box-sizing: border-box;top: 0;bottom: 0;left: 50%;z-index: 0;}#sk-container-id-4 div.sk-serial {display: flex;flex-direction: column;align-items: center;background-color: white;padding-right: 0.2em;padding-left: 0.2em;position: relative;}#sk-container-id-4 div.sk-item {position: relative;z-index: 1;}#sk-container-id-4 div.sk-parallel {display: flex;align-items: stretch;justify-content: center;background-color: white;position: relative;}#sk-container-id-4 div.sk-item::before, #sk-container-id-4 div.sk-parallel-item::before {content: \"\";position: absolute;border-left: 1px solid gray;box-sizing: border-box;top: 0;bottom: 0;left: 50%;z-index: -1;}#sk-container-id-4 div.sk-parallel-item {display: flex;flex-direction: column;z-index: 1;position: relative;background-color: white;}#sk-container-id-4 div.sk-parallel-item:first-child::after {align-self: flex-end;width: 50%;}#sk-container-id-4 div.sk-parallel-item:last-child::after {align-self: flex-start;width: 50%;}#sk-container-id-4 div.sk-parallel-item:only-child::after {width: 0;}#sk-container-id-4 div.sk-dashed-wrapped {border: 1px dashed gray;margin: 0 0.4em 0.5em 0.4em;box-sizing: border-box;padding-bottom: 0.4em;background-color: white;}#sk-container-id-4 div.sk-label label {font-family: monospace;font-weight: bold;display: inline-block;line-height: 1.2em;}#sk-container-id-4 div.sk-label-container {text-align: center;}#sk-container-id-4 div.sk-container {/* jupyter's `normalize.less` sets `[hidden] { display: none; }` but bootstrap.min.css set `[hidden] { display: none !important; }` so we also need the `!important` here to be able to override the default hidden behavior on the sphinx rendered scikit-learn.org. See: https://github.com/scikit-learn/scikit-learn/issues/21755 */display: inline-block !important;position: relative;}#sk-container-id-4 div.sk-text-repr-fallback {display: none;}</style><div id=\"sk-container-id-4\" class=\"sk-top-container\"><div class=\"sk-text-repr-fallback\"><pre>GridSearchCV(cv=ShuffleSplit(n_splits=5, random_state=None, test_size=0.4285714285714286,\n",
       "       train_size=None),\n",
       "             estimator=RandomForestRegressor(max_depth=5, n_estimators=2),\n",
       "             n_jobs=-1,\n",
       "             param_grid={&#x27;max_depth&#x27;: [11, 13, 15, 17, 19],\n",
       "                         &#x27;min_samples_leaf&#x27;: [1, 2],\n",
       "                         &#x27;n_estimators&#x27;: [20, 40, 60], &#x27;random_state&#x27;: [23]},\n",
       "             scoring=&#x27;neg_mean_squared_error&#x27;, verbose=2)</pre><b>In a Jupyter environment, please rerun this cell to show the HTML representation or trust the notebook. <br />On GitHub, the HTML representation is unable to render, please try loading this page with nbviewer.org.</b></div><div class=\"sk-container\" hidden><div class=\"sk-item sk-dashed-wrapped\"><div class=\"sk-label-container\"><div class=\"sk-label sk-toggleable\"><input class=\"sk-toggleable__control sk-hidden--visually\" id=\"sk-estimator-id-6\" type=\"checkbox\" ><label for=\"sk-estimator-id-6\" class=\"sk-toggleable__label sk-toggleable__label-arrow\">GridSearchCV</label><div class=\"sk-toggleable__content\"><pre>GridSearchCV(cv=ShuffleSplit(n_splits=5, random_state=None, test_size=0.4285714285714286,\n",
       "       train_size=None),\n",
       "             estimator=RandomForestRegressor(max_depth=5, n_estimators=2),\n",
       "             n_jobs=-1,\n",
       "             param_grid={&#x27;max_depth&#x27;: [11, 13, 15, 17, 19],\n",
       "                         &#x27;min_samples_leaf&#x27;: [1, 2],\n",
       "                         &#x27;n_estimators&#x27;: [20, 40, 60], &#x27;random_state&#x27;: [23]},\n",
       "             scoring=&#x27;neg_mean_squared_error&#x27;, verbose=2)</pre></div></div></div><div class=\"sk-parallel\"><div class=\"sk-parallel-item\"><div class=\"sk-item\"><div class=\"sk-label-container\"><div class=\"sk-label sk-toggleable\"><input class=\"sk-toggleable__control sk-hidden--visually\" id=\"sk-estimator-id-7\" type=\"checkbox\" ><label for=\"sk-estimator-id-7\" class=\"sk-toggleable__label sk-toggleable__label-arrow\">estimator: RandomForestRegressor</label><div class=\"sk-toggleable__content\"><pre>RandomForestRegressor(max_depth=5, n_estimators=2)</pre></div></div></div><div class=\"sk-serial\"><div class=\"sk-item\"><div class=\"sk-estimator sk-toggleable\"><input class=\"sk-toggleable__control sk-hidden--visually\" id=\"sk-estimator-id-8\" type=\"checkbox\" ><label for=\"sk-estimator-id-8\" class=\"sk-toggleable__label sk-toggleable__label-arrow\">RandomForestRegressor</label><div class=\"sk-toggleable__content\"><pre>RandomForestRegressor(max_depth=5, n_estimators=2)</pre></div></div></div></div></div></div></div></div></div></div>"
      ],
      "text/plain": [
       "GridSearchCV(cv=ShuffleSplit(n_splits=5, random_state=None, test_size=0.4285714285714286,\n",
       "       train_size=None),\n",
       "             estimator=RandomForestRegressor(max_depth=5, n_estimators=2),\n",
       "             n_jobs=-1,\n",
       "             param_grid={'max_depth': [11, 13, 15, 17, 19],\n",
       "                         'min_samples_leaf': [1, 2],\n",
       "                         'n_estimators': [20, 40, 60], 'random_state': [23]},\n",
       "             scoring='neg_mean_squared_error', verbose=2)"
      ]
     },
     "execution_count": 41,
     "metadata": {},
     "output_type": "execute_result"
    }
   ],
   "source": [
    "#Nota: Correr esta celda toma un tiempo considerable\n",
    "forest_reg_pca = GridSearchCV(estimator = estimator,\n",
    "                        param_grid = parametros,\n",
    "                        cv = ShuffleSplit(n_splits= 5, test_size=val_size), \n",
    "                        scoring = 'neg_mean_squared_error',\n",
    "                        verbose = 2,\n",
    "                        n_jobs = -1)\n",
    "forest_reg_pca.fit(Xtv, ytv)\n"
   ]
  },
  {
   "cell_type": "code",
   "execution_count": 44,
   "metadata": {},
   "outputs": [
    {
     "name": "stdout",
     "output_type": "stream",
     "text": [
      "Mejor estimador Random Forest:  RandomForestRegressor(max_depth=11, min_samples_leaf=2, n_estimators=60,\n",
      "                      random_state=23)\n",
      "Mejores parámetros para el estimador Random Forest:  {'max_depth': 11, 'min_samples_leaf': 2, 'n_estimators': 60, 'random_state': 23}\n"
     ]
    }
   ],
   "source": [
    "\n",
    "\n",
    "print(\"Mejor estimador Random Forest: \",forest_reg_pca.best_estimator_)\n",
    "print(\"Mejores parámetros para el estimador Random Forest: \", forest_reg_pca.best_params_)\n",
    "\n"
   ]
  },
  {
   "cell_type": "code",
   "execution_count": 45,
   "metadata": {},
   "outputs": [
    {
     "data": {
      "text/html": [
       "<style>#sk-container-id-5 {color: black;}#sk-container-id-5 pre{padding: 0;}#sk-container-id-5 div.sk-toggleable {background-color: white;}#sk-container-id-5 label.sk-toggleable__label {cursor: pointer;display: block;width: 100%;margin-bottom: 0;padding: 0.3em;box-sizing: border-box;text-align: center;}#sk-container-id-5 label.sk-toggleable__label-arrow:before {content: \"▸\";float: left;margin-right: 0.25em;color: #696969;}#sk-container-id-5 label.sk-toggleable__label-arrow:hover:before {color: black;}#sk-container-id-5 div.sk-estimator:hover label.sk-toggleable__label-arrow:before {color: black;}#sk-container-id-5 div.sk-toggleable__content {max-height: 0;max-width: 0;overflow: hidden;text-align: left;background-color: #f0f8ff;}#sk-container-id-5 div.sk-toggleable__content pre {margin: 0.2em;color: black;border-radius: 0.25em;background-color: #f0f8ff;}#sk-container-id-5 input.sk-toggleable__control:checked~div.sk-toggleable__content {max-height: 200px;max-width: 100%;overflow: auto;}#sk-container-id-5 input.sk-toggleable__control:checked~label.sk-toggleable__label-arrow:before {content: \"▾\";}#sk-container-id-5 div.sk-estimator input.sk-toggleable__control:checked~label.sk-toggleable__label {background-color: #d4ebff;}#sk-container-id-5 div.sk-label input.sk-toggleable__control:checked~label.sk-toggleable__label {background-color: #d4ebff;}#sk-container-id-5 input.sk-hidden--visually {border: 0;clip: rect(1px 1px 1px 1px);clip: rect(1px, 1px, 1px, 1px);height: 1px;margin: -1px;overflow: hidden;padding: 0;position: absolute;width: 1px;}#sk-container-id-5 div.sk-estimator {font-family: monospace;background-color: #f0f8ff;border: 1px dotted black;border-radius: 0.25em;box-sizing: border-box;margin-bottom: 0.5em;}#sk-container-id-5 div.sk-estimator:hover {background-color: #d4ebff;}#sk-container-id-5 div.sk-parallel-item::after {content: \"\";width: 100%;border-bottom: 1px solid gray;flex-grow: 1;}#sk-container-id-5 div.sk-label:hover label.sk-toggleable__label {background-color: #d4ebff;}#sk-container-id-5 div.sk-serial::before {content: \"\";position: absolute;border-left: 1px solid gray;box-sizing: border-box;top: 0;bottom: 0;left: 50%;z-index: 0;}#sk-container-id-5 div.sk-serial {display: flex;flex-direction: column;align-items: center;background-color: white;padding-right: 0.2em;padding-left: 0.2em;position: relative;}#sk-container-id-5 div.sk-item {position: relative;z-index: 1;}#sk-container-id-5 div.sk-parallel {display: flex;align-items: stretch;justify-content: center;background-color: white;position: relative;}#sk-container-id-5 div.sk-item::before, #sk-container-id-5 div.sk-parallel-item::before {content: \"\";position: absolute;border-left: 1px solid gray;box-sizing: border-box;top: 0;bottom: 0;left: 50%;z-index: -1;}#sk-container-id-5 div.sk-parallel-item {display: flex;flex-direction: column;z-index: 1;position: relative;background-color: white;}#sk-container-id-5 div.sk-parallel-item:first-child::after {align-self: flex-end;width: 50%;}#sk-container-id-5 div.sk-parallel-item:last-child::after {align-self: flex-start;width: 50%;}#sk-container-id-5 div.sk-parallel-item:only-child::after {width: 0;}#sk-container-id-5 div.sk-dashed-wrapped {border: 1px dashed gray;margin: 0 0.4em 0.5em 0.4em;box-sizing: border-box;padding-bottom: 0.4em;background-color: white;}#sk-container-id-5 div.sk-label label {font-family: monospace;font-weight: bold;display: inline-block;line-height: 1.2em;}#sk-container-id-5 div.sk-label-container {text-align: center;}#sk-container-id-5 div.sk-container {/* jupyter's `normalize.less` sets `[hidden] { display: none; }` but bootstrap.min.css set `[hidden] { display: none !important; }` so we also need the `!important` here to be able to override the default hidden behavior on the sphinx rendered scikit-learn.org. See: https://github.com/scikit-learn/scikit-learn/issues/21755 */display: inline-block !important;position: relative;}#sk-container-id-5 div.sk-text-repr-fallback {display: none;}</style><div id=\"sk-container-id-5\" class=\"sk-top-container\"><div class=\"sk-text-repr-fallback\"><pre>RandomForestRegressor(max_depth=11, min_samples_leaf=2, n_estimators=60,\n",
       "                      random_state=23)</pre><b>In a Jupyter environment, please rerun this cell to show the HTML representation or trust the notebook. <br />On GitHub, the HTML representation is unable to render, please try loading this page with nbviewer.org.</b></div><div class=\"sk-container\" hidden><div class=\"sk-item\"><div class=\"sk-estimator sk-toggleable\"><input class=\"sk-toggleable__control sk-hidden--visually\" id=\"sk-estimator-id-9\" type=\"checkbox\" checked><label for=\"sk-estimator-id-9\" class=\"sk-toggleable__label sk-toggleable__label-arrow\">RandomForestRegressor</label><div class=\"sk-toggleable__content\"><pre>RandomForestRegressor(max_depth=11, min_samples_leaf=2, n_estimators=60,\n",
       "                      random_state=23)</pre></div></div></div></div></div>"
      ],
      "text/plain": [
       "RandomForestRegressor(max_depth=11, min_samples_leaf=2, n_estimators=60,\n",
       "                      random_state=23)"
      ]
     },
     "execution_count": 45,
     "metadata": {},
     "output_type": "execute_result"
    }
   ],
   "source": [
    "\n",
    "\n",
    "#Mejor random forest para el PCA obtenido\n",
    "Rdm_forest = RandomForestRegressor(n_estimators =forest_reg_pca.best_params_[\"n_estimators\"] \n",
    "                                   ,max_depth = forest_reg_pca.best_params_[\"max_depth\"],\n",
    "                                   min_samples_leaf=forest_reg_pca.best_params_[\"min_samples_leaf\"],\n",
    "                                   random_state=forest_reg_pca.best_params_[\"random_state\"])\n",
    "Rdm_forest.fit(Xtv, ytv)\n",
    "\n"
   ]
  },
  {
   "cell_type": "code",
   "execution_count": 47,
   "metadata": {},
   "outputs": [],
   "source": [
    "\n",
    "df1=train_test_evaluate(\"Mejor Random Forest+PCA\", Rdm_forest, Xtv, ytv, Xts, yts)\n",
    "result_df=pd.concat([result_df,df1],ignore_index=True)"
   ]
  },
  {
   "cell_type": "markdown",
   "metadata": {},
   "source": [
    "## NFM"
   ]
  },
  {
   "cell_type": "markdown",
   "metadata": {},
   "source": [
    "Eliminación de valores negativos"
   ]
  },
  {
   "cell_type": "code",
   "execution_count": 49,
   "metadata": {},
   "outputs": [],
   "source": [
    "numeric_columns = x.select_dtypes(include=[np.number])\n",
    "negative_columns = numeric_columns.columns[numeric_columns.lt(0).any()]\n",
    "x2=x.drop(negative_columns,axis=1)"
   ]
  },
  {
   "cell_type": "code",
   "execution_count": 50,
   "metadata": {},
   "outputs": [
    {
     "name": "stderr",
     "output_type": "stream",
     "text": [
      "/home/astolfo/anaconda3/lib/python3.11/site-packages/sklearn/decomposition/_nmf.py:1710: ConvergenceWarning: Maximum number of iterations 1000 reached. Increase it to improve convergence.\n",
      "  warnings.warn(\n"
     ]
    },
    {
     "name": "stdout",
     "output_type": "stream",
     "text": [
      "(30207, 1) (12947, 1)\n",
      "RMSE del modelo con  1 elementos:  0.86606\n",
      "------------\n",
      "(30207, 3) (12947, 3)\n",
      "RMSE del modelo con  3 elementos:  0.71178\n",
      "------------\n",
      "(30207, 5) (12947, 5)\n",
      "RMSE del modelo con  5 elementos:  0.63834\n",
      "------------\n",
      "(30207, 7) (12947, 7)\n",
      "RMSE del modelo con  7 elementos:  0.61595\n",
      "------------\n",
      "(30207, 9) (12947, 9)\n",
      "RMSE del modelo con  9 elementos:  0.61355\n",
      "------------\n",
      "Mejor RMSE:  0.61355   ; obtenido con  9  componentes para NMF\n"
     ]
    }
   ],
   "source": [
    "test_size = 0.3\n",
    "val_size  = test_size/(1-test_size)\n",
    "perf_nmf = [] #desempeños de los modelos\n",
    "Rdm_forest = RandomForestRegressor(n_estimators =forest_reg.best_params_[\"n_estimators\"] \n",
    "                                   ,max_depth = forest_reg.best_params_[\"max_depth\"],\n",
    "                                   min_samples_leaf=forest_reg.best_params_[\"min_samples_leaf\"],\n",
    "                                   random_state=forest_reg.best_params_[\"random_state\"])\n",
    "for i in components:\n",
    "    nmf = NMF(n_components = i,max_iter=1000)\n",
    "    X_t = nmf.fit_transform(x2)\n",
    "    \n",
    "    Xtv, Xts, ytv, yts = train_test_split(X_t, y, test_size=test_size)\n",
    "    print (Xtv.shape, Xts.shape)\n",
    "    \n",
    "    Rdm_forest.fit(Xtv, ytv)\n",
    "    perf_nmf.append(mean_squared_error(yts , Rdm_forest.predict(Xts),squared=False))\n",
    "    print('RMSE del modelo con ', i ,'elementos: ',\"{:.5f}\".format(mean_squared_error(yts , Rdm_forest.predict(Xts),squared=False)))\n",
    "    print('------------')\n",
    "\n",
    "print('Mejor RMSE: ',\"{:.5f}\".format(np.min(perf_nmf)),'  ; obtenido con ',components[np.argmin(perf_nmf)],' componentes para NMF')\n"
   ]
  },
  {
   "cell_type": "code",
   "execution_count": 51,
   "metadata": {},
   "outputs": [
    {
     "name": "stdout",
     "output_type": "stream",
     "text": [
      "(30207, 9) (12947, 9)\n"
     ]
    }
   ],
   "source": [
    "\n",
    "#MEJOR NMF\n",
    "test_size = 0.3\n",
    "val_size  = test_size/(1-test_size)\n",
    "nmf = NMF(n_components = components[np.argmin(perf_nmf)])\n",
    "X_t2 = nmf.fit_transform(x2)\n",
    "Xtv, Xts, ytv, yts = train_test_split(X_t2, y, test_size=test_size)\n",
    "print (Xtv.shape, Xts.shape)\n",
    "\n"
   ]
  },
  {
   "cell_type": "markdown",
   "metadata": {},
   "source": [
    "## NFM + RandomForest"
   ]
  },
  {
   "cell_type": "code",
   "execution_count": 52,
   "metadata": {},
   "outputs": [
    {
     "name": "stdout",
     "output_type": "stream",
     "text": [
      "Fitting 5 folds for each of 30 candidates, totalling 150 fits\n",
      "[CV] END max_depth=11, min_samples_leaf=1, n_estimators=20, random_state=23; total time=   0.7s\n",
      "[CV] END max_depth=11, min_samples_leaf=1, n_estimators=20, random_state=23; total time=   0.7s\n",
      "[CV] END max_depth=11, min_samples_leaf=1, n_estimators=20, random_state=23; total time=   0.7s\n",
      "[CV] END max_depth=11, min_samples_leaf=1, n_estimators=20, random_state=23; total time=   0.7s\n",
      "[CV] END max_depth=11, min_samples_leaf=1, n_estimators=20, random_state=23; total time=   0.7s\n",
      "[CV] END max_depth=11, min_samples_leaf=2, n_estimators=20, random_state=23; total time=   0.7s\n",
      "[CV] END max_depth=11, min_samples_leaf=2, n_estimators=20, random_state=23; total time=   0.7s\n",
      "[CV] END max_depth=11, min_samples_leaf=2, n_estimators=20, random_state=23; total time=   0.6s\n",
      "[CV] END max_depth=11, min_samples_leaf=2, n_estimators=20, random_state=23; total time=   0.7s\n",
      "[CV] END max_depth=11, min_samples_leaf=2, n_estimators=20, random_state=23; total time=   0.7s\n",
      "[CV] END max_depth=11, min_samples_leaf=1, n_estimators=40, random_state=23; total time=   1.4s\n",
      "[CV] END max_depth=11, min_samples_leaf=1, n_estimators=40, random_state=23; total time=   1.4s\n",
      "[CV] END max_depth=11, min_samples_leaf=1, n_estimators=40, random_state=23; total time=   1.3s\n",
      "[CV] END max_depth=11, min_samples_leaf=1, n_estimators=40, random_state=23; total time=   1.4s\n",
      "[CV] END max_depth=11, min_samples_leaf=1, n_estimators=40, random_state=23; total time=   1.4s\n",
      "[CV] END max_depth=11, min_samples_leaf=2, n_estimators=40, random_state=23; total time=   1.3s\n",
      "[CV] END max_depth=11, min_samples_leaf=1, n_estimators=60, random_state=23; total time=   2.0s\n",
      "[CV] END max_depth=11, min_samples_leaf=1, n_estimators=60, random_state=23; total time=   2.0s\n",
      "[CV] END max_depth=11, min_samples_leaf=1, n_estimators=60, random_state=23; total time=   2.0s\n",
      "[CV] END max_depth=13, min_samples_leaf=1, n_estimators=20, random_state=23; total time=   0.7s\n",
      "[CV] END max_depth=11, min_samples_leaf=1, n_estimators=60, random_state=23; total time=   2.1s\n",
      "[CV] END max_depth=11, min_samples_leaf=2, n_estimators=40, random_state=23; total time=   1.3s\n",
      "[CV] END max_depth=11, min_samples_leaf=1, n_estimators=60, random_state=23; total time=   2.2s\n",
      "[CV] END max_depth=11, min_samples_leaf=2, n_estimators=40, random_state=23; total time=   1.3s\n",
      "[CV] END max_depth=11, min_samples_leaf=2, n_estimators=40, random_state=23; total time=   1.3s\n",
      "[CV] END max_depth=11, min_samples_leaf=2, n_estimators=40, random_state=23; total time=   1.4s\n",
      "[CV] END max_depth=13, min_samples_leaf=1, n_estimators=20, random_state=23; total time=   0.8s\n",
      "[CV] END max_depth=13, min_samples_leaf=1, n_estimators=20, random_state=23; total time=   0.8s\n",
      "[CV] END max_depth=13, min_samples_leaf=1, n_estimators=20, random_state=23; total time=   0.8s\n",
      "[CV] END max_depth=13, min_samples_leaf=1, n_estimators=20, random_state=23; total time=   0.9s\n",
      "[CV] END max_depth=11, min_samples_leaf=2, n_estimators=60, random_state=23; total time=   1.9s\n",
      "[CV] END max_depth=11, min_samples_leaf=2, n_estimators=60, random_state=23; total time=   2.0s\n",
      "[CV] END max_depth=11, min_samples_leaf=2, n_estimators=60, random_state=23; total time=   2.0s\n",
      "[CV] END max_depth=11, min_samples_leaf=2, n_estimators=60, random_state=23; total time=   2.1s\n",
      "[CV] END max_depth=11, min_samples_leaf=2, n_estimators=60, random_state=23; total time=   2.1s\n",
      "[CV] END max_depth=13, min_samples_leaf=1, n_estimators=40, random_state=23; total time=   1.5s\n",
      "[CV] END max_depth=13, min_samples_leaf=1, n_estimators=40, random_state=23; total time=   1.5s\n",
      "[CV] END max_depth=13, min_samples_leaf=2, n_estimators=20, random_state=23; total time=   0.8s\n",
      "[CV] END max_depth=13, min_samples_leaf=1, n_estimators=40, random_state=23; total time=   1.6s\n",
      "[CV] END max_depth=13, min_samples_leaf=1, n_estimators=40, random_state=23; total time=   1.6s\n",
      "[CV] END max_depth=13, min_samples_leaf=2, n_estimators=20, random_state=23; total time=   0.8s\n",
      "[CV] END max_depth=13, min_samples_leaf=1, n_estimators=40, random_state=23; total time=   1.5s\n",
      "[CV] END max_depth=13, min_samples_leaf=2, n_estimators=20, random_state=23; total time=   0.8s\n",
      "[CV] END max_depth=13, min_samples_leaf=2, n_estimators=20, random_state=23; total time=   0.7s\n",
      "[CV] END max_depth=13, min_samples_leaf=2, n_estimators=20, random_state=23; total time=   0.8s\n",
      "[CV] END max_depth=13, min_samples_leaf=1, n_estimators=60, random_state=23; total time=   2.2s\n",
      "[CV] END max_depth=13, min_samples_leaf=1, n_estimators=60, random_state=23; total time=   2.4s\n",
      "[CV] END max_depth=15, min_samples_leaf=1, n_estimators=20, random_state=23; total time=   0.8s\n",
      "[CV] END max_depth=13, min_samples_leaf=1, n_estimators=60, random_state=23; total time=   2.3s\n",
      "[CV] END max_depth=13, min_samples_leaf=2, n_estimators=40, random_state=23; total time=   1.6s\n",
      "[CV] END max_depth=13, min_samples_leaf=1, n_estimators=60, random_state=23; total time=   2.3s\n",
      "[CV] END max_depth=13, min_samples_leaf=1, n_estimators=60, random_state=23; total time=   2.3s\n",
      "[CV] END max_depth=13, min_samples_leaf=2, n_estimators=40, random_state=23; total time=   1.6s\n",
      "[CV] END max_depth=13, min_samples_leaf=2, n_estimators=40, random_state=23; total time=   1.5s\n",
      "[CV] END max_depth=13, min_samples_leaf=2, n_estimators=40, random_state=23; total time=   1.5s\n",
      "[CV] END max_depth=13, min_samples_leaf=2, n_estimators=40, random_state=23; total time=   1.6s\n",
      "[CV] END max_depth=15, min_samples_leaf=1, n_estimators=20, random_state=23; total time=   0.8s\n",
      "[CV] END max_depth=15, min_samples_leaf=1, n_estimators=20, random_state=23; total time=   0.8s\n",
      "[CV] END max_depth=15, min_samples_leaf=1, n_estimators=20, random_state=23; total time=   0.9s\n",
      "[CV] END max_depth=15, min_samples_leaf=1, n_estimators=20, random_state=23; total time=   0.8s\n",
      "[CV] END max_depth=13, min_samples_leaf=2, n_estimators=60, random_state=23; total time=   2.3s\n",
      "[CV] END max_depth=13, min_samples_leaf=2, n_estimators=60, random_state=23; total time=   2.2s\n",
      "[CV] END max_depth=13, min_samples_leaf=2, n_estimators=60, random_state=23; total time=   2.3s\n",
      "[CV] END max_depth=13, min_samples_leaf=2, n_estimators=60, random_state=23; total time=   2.3s\n",
      "[CV] END max_depth=13, min_samples_leaf=2, n_estimators=60, random_state=23; total time=   2.5s\n",
      "[CV] END max_depth=15, min_samples_leaf=2, n_estimators=20, random_state=23; total time=   0.8s\n",
      "[CV] END max_depth=15, min_samples_leaf=1, n_estimators=40, random_state=23; total time=   1.6s\n",
      "[CV] END max_depth=15, min_samples_leaf=1, n_estimators=40, random_state=23; total time=   1.7s\n",
      "[CV] END max_depth=15, min_samples_leaf=1, n_estimators=40, random_state=23; total time=   1.7s\n",
      "[CV] END max_depth=15, min_samples_leaf=1, n_estimators=40, random_state=23; total time=   1.7s\n",
      "[CV] END max_depth=15, min_samples_leaf=1, n_estimators=40, random_state=23; total time=   1.8s\n",
      "[CV] END max_depth=15, min_samples_leaf=2, n_estimators=20, random_state=23; total time=   0.8s\n",
      "[CV] END max_depth=15, min_samples_leaf=2, n_estimators=20, random_state=23; total time=   0.8s\n",
      "[CV] END max_depth=15, min_samples_leaf=2, n_estimators=20, random_state=23; total time=   0.8s\n",
      "[CV] END max_depth=15, min_samples_leaf=2, n_estimators=20, random_state=23; total time=   0.8s\n",
      "[CV] END max_depth=15, min_samples_leaf=1, n_estimators=60, random_state=23; total time=   2.5s\n",
      "[CV] END max_depth=15, min_samples_leaf=1, n_estimators=60, random_state=23; total time=   2.5s\n",
      "[CV] END max_depth=17, min_samples_leaf=1, n_estimators=20, random_state=23; total time=   1.0s\n",
      "[CV] END max_depth=15, min_samples_leaf=2, n_estimators=40, random_state=23; total time=   1.6s\n",
      "[CV] END max_depth=15, min_samples_leaf=2, n_estimators=40, random_state=23; total time=   1.5s\n",
      "[CV] END max_depth=15, min_samples_leaf=1, n_estimators=60, random_state=23; total time=   2.4s\n",
      "[CV] END max_depth=15, min_samples_leaf=1, n_estimators=60, random_state=23; total time=   2.6s\n",
      "[CV] END max_depth=15, min_samples_leaf=1, n_estimators=60, random_state=23; total time=   2.6s\n",
      "[CV] END max_depth=15, min_samples_leaf=2, n_estimators=40, random_state=23; total time=   1.7s\n",
      "[CV] END max_depth=15, min_samples_leaf=2, n_estimators=40, random_state=23; total time=   1.6s\n",
      "[CV] END max_depth=17, min_samples_leaf=1, n_estimators=20, random_state=23; total time=   0.9s\n",
      "[CV] END max_depth=15, min_samples_leaf=2, n_estimators=40, random_state=23; total time=   1.8s\n",
      "[CV] END max_depth=17, min_samples_leaf=1, n_estimators=20, random_state=23; total time=   0.9s\n",
      "[CV] END max_depth=17, min_samples_leaf=1, n_estimators=20, random_state=23; total time=   0.9s\n",
      "[CV] END max_depth=17, min_samples_leaf=1, n_estimators=20, random_state=23; total time=   0.9s\n",
      "[CV] END max_depth=15, min_samples_leaf=2, n_estimators=60, random_state=23; total time=   2.4s\n",
      "[CV] END max_depth=15, min_samples_leaf=2, n_estimators=60, random_state=23; total time=   2.4s\n",
      "[CV] END max_depth=15, min_samples_leaf=2, n_estimators=60, random_state=23; total time=   2.5s\n",
      "[CV] END max_depth=15, min_samples_leaf=2, n_estimators=60, random_state=23; total time=   2.5s\n",
      "[CV] END max_depth=15, min_samples_leaf=2, n_estimators=60, random_state=23; total time=   2.6s\n",
      "[CV] END max_depth=17, min_samples_leaf=2, n_estimators=20, random_state=23; total time=   0.9s\n",
      "[CV] END max_depth=17, min_samples_leaf=1, n_estimators=40, random_state=23; total time=   1.7s\n",
      "[CV] END max_depth=17, min_samples_leaf=1, n_estimators=40, random_state=23; total time=   1.8s\n",
      "[CV] END max_depth=17, min_samples_leaf=2, n_estimators=20, random_state=23; total time=   0.9s\n",
      "[CV] END max_depth=17, min_samples_leaf=1, n_estimators=40, random_state=23; total time=   1.8s\n",
      "[CV] END max_depth=17, min_samples_leaf=1, n_estimators=40, random_state=23; total time=   1.9s\n",
      "[CV] END max_depth=17, min_samples_leaf=1, n_estimators=40, random_state=23; total time=   1.9s\n",
      "[CV] END max_depth=17, min_samples_leaf=2, n_estimators=20, random_state=23; total time=   0.9s\n",
      "[CV] END max_depth=17, min_samples_leaf=2, n_estimators=20, random_state=23; total time=   1.0s\n",
      "[CV] END max_depth=17, min_samples_leaf=2, n_estimators=20, random_state=23; total time=   1.0s\n",
      "[CV] END max_depth=17, min_samples_leaf=1, n_estimators=60, random_state=23; total time=   2.9s\n",
      "[CV] END max_depth=17, min_samples_leaf=1, n_estimators=60, random_state=23; total time=   2.7s\n",
      "[CV] END max_depth=19, min_samples_leaf=1, n_estimators=20, random_state=23; total time=   0.9s\n",
      "[CV] END max_depth=17, min_samples_leaf=1, n_estimators=60, random_state=23; total time=   2.8s\n",
      "[CV] END max_depth=17, min_samples_leaf=1, n_estimators=60, random_state=23; total time=   2.9s\n",
      "[CV] END max_depth=17, min_samples_leaf=2, n_estimators=40, random_state=23; total time=   1.7s\n",
      "[CV] END max_depth=17, min_samples_leaf=2, n_estimators=40, random_state=23; total time=   1.6s\n",
      "[CV] END max_depth=17, min_samples_leaf=2, n_estimators=40, random_state=23; total time=   1.6s\n",
      "[CV] END max_depth=17, min_samples_leaf=2, n_estimators=40, random_state=23; total time=   1.9s\n",
      "[CV] END max_depth=17, min_samples_leaf=1, n_estimators=60, random_state=23; total time=   2.7s\n",
      "[CV] END max_depth=17, min_samples_leaf=2, n_estimators=40, random_state=23; total time=   1.8s\n",
      "[CV] END max_depth=19, min_samples_leaf=1, n_estimators=20, random_state=23; total time=   0.9s\n",
      "[CV] END max_depth=19, min_samples_leaf=1, n_estimators=20, random_state=23; total time=   0.9s\n",
      "[CV] END max_depth=19, min_samples_leaf=1, n_estimators=20, random_state=23; total time=   1.0s\n",
      "[CV] END max_depth=19, min_samples_leaf=1, n_estimators=20, random_state=23; total time=   0.9s\n",
      "[CV] END max_depth=17, min_samples_leaf=2, n_estimators=60, random_state=23; total time=   2.5s\n",
      "[CV] END max_depth=17, min_samples_leaf=2, n_estimators=60, random_state=23; total time=   2.6s\n",
      "[CV] END max_depth=17, min_samples_leaf=2, n_estimators=60, random_state=23; total time=   2.6s\n",
      "[CV] END max_depth=17, min_samples_leaf=2, n_estimators=60, random_state=23; total time=   2.7s\n",
      "[CV] END max_depth=17, min_samples_leaf=2, n_estimators=60, random_state=23; total time=   2.7s\n",
      "[CV] END max_depth=19, min_samples_leaf=2, n_estimators=20, random_state=23; total time=   0.9s\n",
      "[CV] END max_depth=19, min_samples_leaf=1, n_estimators=40, random_state=23; total time=   1.9s\n",
      "[CV] END max_depth=19, min_samples_leaf=1, n_estimators=40, random_state=23; total time=   2.0s\n",
      "[CV] END max_depth=19, min_samples_leaf=1, n_estimators=40, random_state=23; total time=   1.9s\n",
      "[CV] END max_depth=19, min_samples_leaf=1, n_estimators=40, random_state=23; total time=   2.0s\n",
      "[CV] END max_depth=19, min_samples_leaf=2, n_estimators=20, random_state=23; total time=   0.9s\n",
      "[CV] END max_depth=19, min_samples_leaf=1, n_estimators=40, random_state=23; total time=   2.0s\n",
      "[CV] END max_depth=19, min_samples_leaf=2, n_estimators=20, random_state=23; total time=   0.9s\n",
      "[CV] END max_depth=19, min_samples_leaf=2, n_estimators=20, random_state=23; total time=   0.9s\n",
      "[CV] END max_depth=19, min_samples_leaf=2, n_estimators=20, random_state=23; total time=   0.9s\n",
      "[CV] END max_depth=19, min_samples_leaf=1, n_estimators=60, random_state=23; total time=   2.8s\n",
      "[CV] END max_depth=19, min_samples_leaf=1, n_estimators=60, random_state=23; total time=   2.9s\n",
      "[CV] END max_depth=19, min_samples_leaf=2, n_estimators=40, random_state=23; total time=   1.7s\n",
      "[CV] END max_depth=19, min_samples_leaf=2, n_estimators=40, random_state=23; total time=   1.7s\n",
      "[CV] END max_depth=19, min_samples_leaf=1, n_estimators=60, random_state=23; total time=   2.8s\n",
      "[CV] END max_depth=19, min_samples_leaf=1, n_estimators=60, random_state=23; total time=   2.8s\n",
      "[CV] END max_depth=19, min_samples_leaf=2, n_estimators=40, random_state=23; total time=   1.7s\n",
      "[CV] END max_depth=19, min_samples_leaf=2, n_estimators=40, random_state=23; total time=   1.7s\n",
      "[CV] END max_depth=19, min_samples_leaf=2, n_estimators=40, random_state=23; total time=   1.7s\n",
      "[CV] END max_depth=19, min_samples_leaf=1, n_estimators=60, random_state=23; total time=   3.0s\n",
      "[CV] END max_depth=19, min_samples_leaf=2, n_estimators=60, random_state=23; total time=   2.2s\n",
      "[CV] END max_depth=19, min_samples_leaf=2, n_estimators=60, random_state=23; total time=   2.3s\n",
      "[CV] END max_depth=19, min_samples_leaf=2, n_estimators=60, random_state=23; total time=   2.1s\n",
      "[CV] END max_depth=19, min_samples_leaf=2, n_estimators=60, random_state=23; total time=   2.3s\n",
      "[CV] END max_depth=19, min_samples_leaf=2, n_estimators=60, random_state=23; total time=   2.2s\n"
     ]
    },
    {
     "data": {
      "text/html": [
       "<style>#sk-container-id-6 {color: black;}#sk-container-id-6 pre{padding: 0;}#sk-container-id-6 div.sk-toggleable {background-color: white;}#sk-container-id-6 label.sk-toggleable__label {cursor: pointer;display: block;width: 100%;margin-bottom: 0;padding: 0.3em;box-sizing: border-box;text-align: center;}#sk-container-id-6 label.sk-toggleable__label-arrow:before {content: \"▸\";float: left;margin-right: 0.25em;color: #696969;}#sk-container-id-6 label.sk-toggleable__label-arrow:hover:before {color: black;}#sk-container-id-6 div.sk-estimator:hover label.sk-toggleable__label-arrow:before {color: black;}#sk-container-id-6 div.sk-toggleable__content {max-height: 0;max-width: 0;overflow: hidden;text-align: left;background-color: #f0f8ff;}#sk-container-id-6 div.sk-toggleable__content pre {margin: 0.2em;color: black;border-radius: 0.25em;background-color: #f0f8ff;}#sk-container-id-6 input.sk-toggleable__control:checked~div.sk-toggleable__content {max-height: 200px;max-width: 100%;overflow: auto;}#sk-container-id-6 input.sk-toggleable__control:checked~label.sk-toggleable__label-arrow:before {content: \"▾\";}#sk-container-id-6 div.sk-estimator input.sk-toggleable__control:checked~label.sk-toggleable__label {background-color: #d4ebff;}#sk-container-id-6 div.sk-label input.sk-toggleable__control:checked~label.sk-toggleable__label {background-color: #d4ebff;}#sk-container-id-6 input.sk-hidden--visually {border: 0;clip: rect(1px 1px 1px 1px);clip: rect(1px, 1px, 1px, 1px);height: 1px;margin: -1px;overflow: hidden;padding: 0;position: absolute;width: 1px;}#sk-container-id-6 div.sk-estimator {font-family: monospace;background-color: #f0f8ff;border: 1px dotted black;border-radius: 0.25em;box-sizing: border-box;margin-bottom: 0.5em;}#sk-container-id-6 div.sk-estimator:hover {background-color: #d4ebff;}#sk-container-id-6 div.sk-parallel-item::after {content: \"\";width: 100%;border-bottom: 1px solid gray;flex-grow: 1;}#sk-container-id-6 div.sk-label:hover label.sk-toggleable__label {background-color: #d4ebff;}#sk-container-id-6 div.sk-serial::before {content: \"\";position: absolute;border-left: 1px solid gray;box-sizing: border-box;top: 0;bottom: 0;left: 50%;z-index: 0;}#sk-container-id-6 div.sk-serial {display: flex;flex-direction: column;align-items: center;background-color: white;padding-right: 0.2em;padding-left: 0.2em;position: relative;}#sk-container-id-6 div.sk-item {position: relative;z-index: 1;}#sk-container-id-6 div.sk-parallel {display: flex;align-items: stretch;justify-content: center;background-color: white;position: relative;}#sk-container-id-6 div.sk-item::before, #sk-container-id-6 div.sk-parallel-item::before {content: \"\";position: absolute;border-left: 1px solid gray;box-sizing: border-box;top: 0;bottom: 0;left: 50%;z-index: -1;}#sk-container-id-6 div.sk-parallel-item {display: flex;flex-direction: column;z-index: 1;position: relative;background-color: white;}#sk-container-id-6 div.sk-parallel-item:first-child::after {align-self: flex-end;width: 50%;}#sk-container-id-6 div.sk-parallel-item:last-child::after {align-self: flex-start;width: 50%;}#sk-container-id-6 div.sk-parallel-item:only-child::after {width: 0;}#sk-container-id-6 div.sk-dashed-wrapped {border: 1px dashed gray;margin: 0 0.4em 0.5em 0.4em;box-sizing: border-box;padding-bottom: 0.4em;background-color: white;}#sk-container-id-6 div.sk-label label {font-family: monospace;font-weight: bold;display: inline-block;line-height: 1.2em;}#sk-container-id-6 div.sk-label-container {text-align: center;}#sk-container-id-6 div.sk-container {/* jupyter's `normalize.less` sets `[hidden] { display: none; }` but bootstrap.min.css set `[hidden] { display: none !important; }` so we also need the `!important` here to be able to override the default hidden behavior on the sphinx rendered scikit-learn.org. See: https://github.com/scikit-learn/scikit-learn/issues/21755 */display: inline-block !important;position: relative;}#sk-container-id-6 div.sk-text-repr-fallback {display: none;}</style><div id=\"sk-container-id-6\" class=\"sk-top-container\"><div class=\"sk-text-repr-fallback\"><pre>GridSearchCV(cv=ShuffleSplit(n_splits=5, random_state=None, test_size=0.4285714285714286,\n",
       "       train_size=None),\n",
       "             estimator=RandomForestRegressor(max_depth=5, n_estimators=2),\n",
       "             n_jobs=-1,\n",
       "             param_grid={&#x27;max_depth&#x27;: [11, 13, 15, 17, 19],\n",
       "                         &#x27;min_samples_leaf&#x27;: [1, 2],\n",
       "                         &#x27;n_estimators&#x27;: [20, 40, 60], &#x27;random_state&#x27;: [23]},\n",
       "             scoring=&#x27;neg_mean_squared_error&#x27;, verbose=2)</pre><b>In a Jupyter environment, please rerun this cell to show the HTML representation or trust the notebook. <br />On GitHub, the HTML representation is unable to render, please try loading this page with nbviewer.org.</b></div><div class=\"sk-container\" hidden><div class=\"sk-item sk-dashed-wrapped\"><div class=\"sk-label-container\"><div class=\"sk-label sk-toggleable\"><input class=\"sk-toggleable__control sk-hidden--visually\" id=\"sk-estimator-id-10\" type=\"checkbox\" ><label for=\"sk-estimator-id-10\" class=\"sk-toggleable__label sk-toggleable__label-arrow\">GridSearchCV</label><div class=\"sk-toggleable__content\"><pre>GridSearchCV(cv=ShuffleSplit(n_splits=5, random_state=None, test_size=0.4285714285714286,\n",
       "       train_size=None),\n",
       "             estimator=RandomForestRegressor(max_depth=5, n_estimators=2),\n",
       "             n_jobs=-1,\n",
       "             param_grid={&#x27;max_depth&#x27;: [11, 13, 15, 17, 19],\n",
       "                         &#x27;min_samples_leaf&#x27;: [1, 2],\n",
       "                         &#x27;n_estimators&#x27;: [20, 40, 60], &#x27;random_state&#x27;: [23]},\n",
       "             scoring=&#x27;neg_mean_squared_error&#x27;, verbose=2)</pre></div></div></div><div class=\"sk-parallel\"><div class=\"sk-parallel-item\"><div class=\"sk-item\"><div class=\"sk-label-container\"><div class=\"sk-label sk-toggleable\"><input class=\"sk-toggleable__control sk-hidden--visually\" id=\"sk-estimator-id-11\" type=\"checkbox\" ><label for=\"sk-estimator-id-11\" class=\"sk-toggleable__label sk-toggleable__label-arrow\">estimator: RandomForestRegressor</label><div class=\"sk-toggleable__content\"><pre>RandomForestRegressor(max_depth=5, n_estimators=2)</pre></div></div></div><div class=\"sk-serial\"><div class=\"sk-item\"><div class=\"sk-estimator sk-toggleable\"><input class=\"sk-toggleable__control sk-hidden--visually\" id=\"sk-estimator-id-12\" type=\"checkbox\" ><label for=\"sk-estimator-id-12\" class=\"sk-toggleable__label sk-toggleable__label-arrow\">RandomForestRegressor</label><div class=\"sk-toggleable__content\"><pre>RandomForestRegressor(max_depth=5, n_estimators=2)</pre></div></div></div></div></div></div></div></div></div></div>"
      ],
      "text/plain": [
       "GridSearchCV(cv=ShuffleSplit(n_splits=5, random_state=None, test_size=0.4285714285714286,\n",
       "       train_size=None),\n",
       "             estimator=RandomForestRegressor(max_depth=5, n_estimators=2),\n",
       "             n_jobs=-1,\n",
       "             param_grid={'max_depth': [11, 13, 15, 17, 19],\n",
       "                         'min_samples_leaf': [1, 2],\n",
       "                         'n_estimators': [20, 40, 60], 'random_state': [23]},\n",
       "             scoring='neg_mean_squared_error', verbose=2)"
      ]
     },
     "execution_count": 52,
     "metadata": {},
     "output_type": "execute_result"
    }
   ],
   "source": [
    "\n",
    "forest_reg_nmf = GridSearchCV(estimator = estimator,\n",
    "                        param_grid = parametros,\n",
    "                        cv = ShuffleSplit(n_splits= 5, test_size=val_size), \n",
    "                        scoring = 'neg_mean_squared_error',\n",
    "                        verbose = 2,\n",
    "                        n_jobs = -1)\n",
    "forest_reg_nmf.fit(Xtv, ytv)"
   ]
  },
  {
   "cell_type": "code",
   "execution_count": 53,
   "metadata": {},
   "outputs": [
    {
     "name": "stdout",
     "output_type": "stream",
     "text": [
      "Mejor estimador Random forest:  RandomForestRegressor(max_depth=15, min_samples_leaf=2, n_estimators=60,\n",
      "                      random_state=23)\n",
      "Mejores parámetros para Random forest:  {'max_depth': 15, 'min_samples_leaf': 2, 'n_estimators': 60, 'random_state': 23}\n"
     ]
    }
   ],
   "source": [
    "\n",
    "print(\"Mejor estimador Random forest: \",forest_reg_nmf.best_estimator_)\n",
    "print(\"Mejores parámetros para Random forest: \", forest_reg_nmf.best_params_)\n"
   ]
  },
  {
   "cell_type": "code",
   "execution_count": 54,
   "metadata": {},
   "outputs": [
    {
     "data": {
      "text/html": [
       "<style>#sk-container-id-7 {color: black;}#sk-container-id-7 pre{padding: 0;}#sk-container-id-7 div.sk-toggleable {background-color: white;}#sk-container-id-7 label.sk-toggleable__label {cursor: pointer;display: block;width: 100%;margin-bottom: 0;padding: 0.3em;box-sizing: border-box;text-align: center;}#sk-container-id-7 label.sk-toggleable__label-arrow:before {content: \"▸\";float: left;margin-right: 0.25em;color: #696969;}#sk-container-id-7 label.sk-toggleable__label-arrow:hover:before {color: black;}#sk-container-id-7 div.sk-estimator:hover label.sk-toggleable__label-arrow:before {color: black;}#sk-container-id-7 div.sk-toggleable__content {max-height: 0;max-width: 0;overflow: hidden;text-align: left;background-color: #f0f8ff;}#sk-container-id-7 div.sk-toggleable__content pre {margin: 0.2em;color: black;border-radius: 0.25em;background-color: #f0f8ff;}#sk-container-id-7 input.sk-toggleable__control:checked~div.sk-toggleable__content {max-height: 200px;max-width: 100%;overflow: auto;}#sk-container-id-7 input.sk-toggleable__control:checked~label.sk-toggleable__label-arrow:before {content: \"▾\";}#sk-container-id-7 div.sk-estimator input.sk-toggleable__control:checked~label.sk-toggleable__label {background-color: #d4ebff;}#sk-container-id-7 div.sk-label input.sk-toggleable__control:checked~label.sk-toggleable__label {background-color: #d4ebff;}#sk-container-id-7 input.sk-hidden--visually {border: 0;clip: rect(1px 1px 1px 1px);clip: rect(1px, 1px, 1px, 1px);height: 1px;margin: -1px;overflow: hidden;padding: 0;position: absolute;width: 1px;}#sk-container-id-7 div.sk-estimator {font-family: monospace;background-color: #f0f8ff;border: 1px dotted black;border-radius: 0.25em;box-sizing: border-box;margin-bottom: 0.5em;}#sk-container-id-7 div.sk-estimator:hover {background-color: #d4ebff;}#sk-container-id-7 div.sk-parallel-item::after {content: \"\";width: 100%;border-bottom: 1px solid gray;flex-grow: 1;}#sk-container-id-7 div.sk-label:hover label.sk-toggleable__label {background-color: #d4ebff;}#sk-container-id-7 div.sk-serial::before {content: \"\";position: absolute;border-left: 1px solid gray;box-sizing: border-box;top: 0;bottom: 0;left: 50%;z-index: 0;}#sk-container-id-7 div.sk-serial {display: flex;flex-direction: column;align-items: center;background-color: white;padding-right: 0.2em;padding-left: 0.2em;position: relative;}#sk-container-id-7 div.sk-item {position: relative;z-index: 1;}#sk-container-id-7 div.sk-parallel {display: flex;align-items: stretch;justify-content: center;background-color: white;position: relative;}#sk-container-id-7 div.sk-item::before, #sk-container-id-7 div.sk-parallel-item::before {content: \"\";position: absolute;border-left: 1px solid gray;box-sizing: border-box;top: 0;bottom: 0;left: 50%;z-index: -1;}#sk-container-id-7 div.sk-parallel-item {display: flex;flex-direction: column;z-index: 1;position: relative;background-color: white;}#sk-container-id-7 div.sk-parallel-item:first-child::after {align-self: flex-end;width: 50%;}#sk-container-id-7 div.sk-parallel-item:last-child::after {align-self: flex-start;width: 50%;}#sk-container-id-7 div.sk-parallel-item:only-child::after {width: 0;}#sk-container-id-7 div.sk-dashed-wrapped {border: 1px dashed gray;margin: 0 0.4em 0.5em 0.4em;box-sizing: border-box;padding-bottom: 0.4em;background-color: white;}#sk-container-id-7 div.sk-label label {font-family: monospace;font-weight: bold;display: inline-block;line-height: 1.2em;}#sk-container-id-7 div.sk-label-container {text-align: center;}#sk-container-id-7 div.sk-container {/* jupyter's `normalize.less` sets `[hidden] { display: none; }` but bootstrap.min.css set `[hidden] { display: none !important; }` so we also need the `!important` here to be able to override the default hidden behavior on the sphinx rendered scikit-learn.org. See: https://github.com/scikit-learn/scikit-learn/issues/21755 */display: inline-block !important;position: relative;}#sk-container-id-7 div.sk-text-repr-fallback {display: none;}</style><div id=\"sk-container-id-7\" class=\"sk-top-container\"><div class=\"sk-text-repr-fallback\"><pre>RandomForestRegressor(max_depth=15, min_samples_leaf=2, n_estimators=60,\n",
       "                      random_state=23)</pre><b>In a Jupyter environment, please rerun this cell to show the HTML representation or trust the notebook. <br />On GitHub, the HTML representation is unable to render, please try loading this page with nbviewer.org.</b></div><div class=\"sk-container\" hidden><div class=\"sk-item\"><div class=\"sk-estimator sk-toggleable\"><input class=\"sk-toggleable__control sk-hidden--visually\" id=\"sk-estimator-id-13\" type=\"checkbox\" checked><label for=\"sk-estimator-id-13\" class=\"sk-toggleable__label sk-toggleable__label-arrow\">RandomForestRegressor</label><div class=\"sk-toggleable__content\"><pre>RandomForestRegressor(max_depth=15, min_samples_leaf=2, n_estimators=60,\n",
       "                      random_state=23)</pre></div></div></div></div></div>"
      ],
      "text/plain": [
       "RandomForestRegressor(max_depth=15, min_samples_leaf=2, n_estimators=60,\n",
       "                      random_state=23)"
      ]
     },
     "execution_count": 54,
     "metadata": {},
     "output_type": "execute_result"
    }
   ],
   "source": [
    "Rdm_forest = RandomForestRegressor(n_estimators =forest_reg_nmf.best_params_[\"n_estimators\"] \n",
    "                                   ,max_depth = forest_reg_nmf.best_params_[\"max_depth\"],\n",
    "                                   min_samples_leaf=forest_reg_nmf.best_params_[\"min_samples_leaf\"],\n",
    "                                   random_state=forest_reg_nmf.best_params_[\"random_state\"])\n",
    "Rdm_forest.fit(Xtv, ytv)\n"
   ]
  },
  {
   "cell_type": "code",
   "execution_count": 55,
   "metadata": {},
   "outputs": [
    {
     "name": "stdout",
     "output_type": "stream",
     "text": [
      "RMSE del Random Forest en entrenamiento:  0.46172\n",
      "RMSE del Random Fores seleccionado:  0.59080\n"
     ]
    }
   ],
   "source": [
    "print('RMSE del Random Forest en entrenamiento: ',\"{:.5f}\".format(mean_squared_error(ytv , Rdm_forest.predict(Xtv),squared=False)))\n",
    "print('RMSE del Random Fores seleccionado: ',\"{:.5f}\".format(mean_squared_error(yts , Rdm_forest.predict(Xts),squared=False)))\n",
    "\n"
   ]
  },
  {
   "cell_type": "code",
   "execution_count": 56,
   "metadata": {},
   "outputs": [],
   "source": [
    "\n",
    "\n",
    "df1=train_test_evaluate(\"Mejor Random Forest+NMF\", Rdm_forest, Xtv, ytv, Xts, yts)\n",
    "result_df=pd.concat([result_df,df1],ignore_index=True)\n",
    "\n"
   ]
  },
  {
   "cell_type": "markdown",
   "metadata": {},
   "source": [
    "# Curva de aprendizaje"
   ]
  },
  {
   "cell_type": "code",
   "execution_count": 25,
   "metadata": {},
   "outputs": [],
   "source": [
    "\n",
    "\n",
    "def lc_plot(estimator,X,y):\n",
    "    train_sizes, train_scores, valid_scores = learning_curve(estimator, X, y, train_sizes= [0.3, 0.5,0.7,0.9], \n",
    "                 scoring ='neg_root_mean_squared_error', cv = ShuffleSplit(n_splits=10, test_size=val_size))\n",
    "    \n",
    "    train_scores = np.abs(train_scores)\n",
    "    valid_scores = np.abs(valid_scores)\n",
    "\n",
    "    train_mean = np.mean(train_scores, axis=1)\n",
    "\n",
    "    valid_mean = np.mean(valid_scores, axis=1)\n",
    "\n",
    "    plt.subplots(1, figsize=(5,5))\n",
    "    plt.plot(train_sizes, train_mean, '--', color=\"r\",  label=\"Training score\")\n",
    "    plt.plot(train_sizes, valid_mean, color=\"g\", label=\"Cross-validation score\")\n",
    "\n",
    "\n",
    "\n",
    "    plt.grid()\n",
    "    plt.title(\"Learning Curve\")\n",
    "    plt.xlabel(\"Training Set Size\"), plt.ylabel(\"RMSE\"), plt.legend(loc=\"best\")\n",
    "    plt.tight_layout()\n",
    "    plt.show()\n",
    "    return plt\n",
    "\n"
   ]
  },
  {
   "cell_type": "code",
   "execution_count": 26,
   "metadata": {},
   "outputs": [
    {
     "name": "stdout",
     "output_type": "stream",
     "text": [
      "(43154, 9) (43154,)\n",
      "test size 0.30\n",
      "val size is 0.43 (relative to 0.70) \n",
      "(30207, 9) (12947, 9)\n"
     ]
    }
   ],
   "source": [
    "\n",
    "test_size = 0.3\n",
    "val_size  = test_size/(1-test_size) # Elementos de validación\n",
    "\n",
    "print (x.shape, y.shape)\n",
    "print (\"test size %.2f\"%test_size)\n",
    "print (\"val size is %.2f (relative to %.2f) \"%(val_size, 1-test_size))\n",
    "\n",
    "#Xtv, ytv son los datos que se usan para entrenar el modelo\n",
    "#Xts, yts son los datos que se usan para probar el modelo (solo se usan para el testeo final de los modelos que se seleccionen)\n",
    "Xtv, Xts, ytv, yts = train_test_split(x, y, test_size=test_size)\n",
    "print (Xtv.shape, Xts.shape)\n",
    "\n"
   ]
  },
  {
   "cell_type": "code",
   "execution_count": 27,
   "metadata": {},
   "outputs": [],
   "source": [
    "Rdm_forest = RandomForestRegressor(n_estimators =forest_reg.best_params_[\"n_estimators\"]\n",
    "                                    ,max_depth = forest_reg.best_params_[\"max_depth\"]\n",
    "                                    ,min_samples_leaf=forest_reg.best_params_[\"min_samples_leaf\"],\n",
    "                                    random_state=forest_reg.best_params_[\"random_state\"])\n"
   ]
  },
  {
   "cell_type": "code",
   "execution_count": 28,
   "metadata": {},
   "outputs": [
    {
     "data": {
      "image/png": "[encoded data removed]",
      "text/plain": [
       "<Figure size 500x500 with 1 Axes>"
      ]
     },
     "metadata": {},
     "output_type": "display_data"
    },
    {
     "data": {
      "text/plain": [
       "<module 'matplotlib.pyplot' from '/home/astolfo/anaconda3/lib/python3.11/site-packages/matplotlib/pyplot.py'>"
      ]
     },
     "execution_count": 28,
     "metadata": {},
     "output_type": "execute_result"
    }
   ],
   "source": [
    "\n",
    "\n",
    "lc_plot(Rdm_forest,Xtv,ytv)\n",
    "\n"
   ]
  },
  {
   "cell_type": "markdown",
   "metadata": {},
   "source": [
    "## Analisis de los modelos"
   ]
  },
  {
   "cell_type": "code",
   "execution_count": 58,
   "metadata": {},
   "outputs": [],
   "source": [
    "result_df_copy=result_df.copy()"
   ]
  },
  {
   "cell_type": "code",
   "execution_count": 59,
   "metadata": {},
   "outputs": [],
   "source": [
    "\n",
    "\n",
    "result_df=result_df.sort_values(\"RMSE Ratio\",ignore_index=True)\n",
    "heat_result=result_df.set_index(\"Model\")\n",
    "heat_result[\"Neg R2 Score\"]=-heat_result[\"R2 Score\"]\n",
    "heat_result=heat_result[['MAE', 'MSE', 'RMSE', 'Neg R2 Score', 'MAE Ratio', 'RMSE Ratio']]\n",
    "scaler=MinMaxScaler((0,100))\n",
    "heat_result_scaled=scaler.fit_transform(heat_result)\n",
    "heat_result=pd.DataFrame(heat_result_scaled,index=heat_result.index,columns=heat_result.columns)\n",
    "\n"
   ]
  },
  {
   "cell_type": "code",
   "execution_count": 60,
   "metadata": {},
   "outputs": [
    {
     "data": {
      "image/png": "[encoded data removed]",
      "text/plain": [
       "<Figure size 800x600 with 2 Axes>"
      ]
     },
     "metadata": {},
     "output_type": "display_data"
    }
   ],
   "source": [
    "\n",
    "\n",
    "plt.figure(figsize= (8, 6))\n",
    "cmap=sns.color_palette(\"coolwarm\",as_cmap=True)\n",
    "ax= sns.heatmap(heat_result, annot=True, fmt=\".3f\", cmap=cmap, linewidths= 1)\n",
    "\n",
    "ax.xaxis.tick_top()\n",
    "ax.set_xticklabels([textwrap.fill(e, 5) for e in heat_result.columns])\n",
    "ax.tick_params(left=False, top=False)\n",
    "\n",
    "plt.title(\"Model Comparison\\nSelected Models\", fontsize= 22, fontweight= \"bold\", pad= 20)\n",
    "plt.figtext(0.45, 0.02, \"Note: Standardized Value\\nThe Smaller The Better\", ha=\"center\", fontsize= 16, bbox={\"facecolor\":\"orange\", \"alpha\":0.5, \"pad\":5})\n",
    "plt.ylabel(\"\")\n",
    "\n",
    "plt.show()\n",
    "\n"
   ]
  },
  {
   "cell_type": "code",
   "execution_count": 61,
   "metadata": {},
   "outputs": [
    {
     "data": {
      "text/html": [
       "<div>\n",
       "<style scoped>\n",
       "    .dataframe tbody tr th:only-of-type {\n",
       "        vertical-align: middle;\n",
       "    }\n",
       "\n",
       "    .dataframe tbody tr th {\n",
       "        vertical-align: top;\n",
       "    }\n",
       "\n",
       "    .dataframe thead th {\n",
       "        text-align: right;\n",
       "    }\n",
       "</style>\n",
       "<table border=\"1\" class=\"dataframe\">\n",
       "  <thead>\n",
       "    <tr style=\"text-align: right;\">\n",
       "      <th></th>\n",
       "      <th>Model</th>\n",
       "      <th>MAE</th>\n",
       "      <th>MSE</th>\n",
       "      <th>RMSE</th>\n",
       "      <th>R2 Score</th>\n",
       "      <th>MAE Ratio</th>\n",
       "      <th>RMSE Ratio</th>\n",
       "    </tr>\n",
       "  </thead>\n",
       "  <tbody>\n",
       "    <tr>\n",
       "      <th>0</th>\n",
       "      <td>Mejor Random Forest+PCA</td>\n",
       "      <td>0.318342</td>\n",
       "      <td>0.246782</td>\n",
       "      <td>0.496771</td>\n",
       "      <td>0.751620</td>\n",
       "      <td>0.189696</td>\n",
       "      <td>0.296020</td>\n",
       "    </tr>\n",
       "    <tr>\n",
       "      <th>1</th>\n",
       "      <td>RandomForestRegressor</td>\n",
       "      <td>0.338068</td>\n",
       "      <td>0.274744</td>\n",
       "      <td>0.524161</td>\n",
       "      <td>0.727349</td>\n",
       "      <td>0.200795</td>\n",
       "      <td>0.311324</td>\n",
       "    </tr>\n",
       "    <tr>\n",
       "      <th>2</th>\n",
       "      <td>Mejor Random Forest</td>\n",
       "      <td>0.339623</td>\n",
       "      <td>0.276460</td>\n",
       "      <td>0.525795</td>\n",
       "      <td>0.725646</td>\n",
       "      <td>0.201719</td>\n",
       "      <td>0.312295</td>\n",
       "    </tr>\n",
       "    <tr>\n",
       "      <th>3</th>\n",
       "      <td>Mejor Random Forest+NMF</td>\n",
       "      <td>0.396134</td>\n",
       "      <td>0.349047</td>\n",
       "      <td>0.590802</td>\n",
       "      <td>0.665103</td>\n",
       "      <td>0.235346</td>\n",
       "      <td>0.350999</td>\n",
       "    </tr>\n",
       "  </tbody>\n",
       "</table>\n",
       "</div>"
      ],
      "text/plain": [
       "                     Model       MAE       MSE      RMSE  R2 Score  MAE Ratio  \\\n",
       "0  Mejor Random Forest+PCA  0.318342  0.246782  0.496771  0.751620   0.189696   \n",
       "1    RandomForestRegressor  0.338068  0.274744  0.524161  0.727349   0.200795   \n",
       "2      Mejor Random Forest  0.339623  0.276460  0.525795  0.725646   0.201719   \n",
       "3  Mejor Random Forest+NMF  0.396134  0.349047  0.590802  0.665103   0.235346   \n",
       "\n",
       "   RMSE Ratio  \n",
       "0    0.296020  \n",
       "1    0.311324  \n",
       "2    0.312295  \n",
       "3    0.350999  "
      ]
     },
     "execution_count": 61,
     "metadata": {},
     "output_type": "execute_result"
    }
   ],
   "source": [
    "result_df"
   ]
  }
 ],
 "metadata": {
  "kernelspec": {
   "display_name": "base",
   "language": "python",
   "name": "python3"
  },
  "language_info": {
   "codemirror_mode": {
    "name": "ipython",
    "version": 3
   },
   "file_extension": ".py",
   "mimetype": "text/x-python",
   "name": "python",
   "nbconvert_exporter": "python",
   "pygments_lexer": "ipython3",
   "version": "3.11.4"
  }
 },
 "nbformat": 4,
 "nbformat_minor": 2
}
