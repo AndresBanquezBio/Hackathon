{
 "cells": [
  {
   "attachments": {},
   "cell_type": "markdown",
   "metadata": {},
   "source": [
    "<a href=\"https://githubtocolab.com/AndresBanquezBio/Hackathon/blob/main/03_Modelos_General.ipynb\" target=\"_parent\"><img src=\"https://colab.research.google.com/assets/colab-badge.svg\" alt=\"Open in Colab\"/></a>"
   ]
  },
  {
   "attachments": {},
   "cell_type": "markdown",
   "metadata": {},
   "source": [
    "## Descarga de datos y su concatenación"
   ]
  },
  {
   "attachments": {},
   "cell_type": "markdown",
   "metadata": {},
   "source": [
    "Elegir el método de su preferencia"
   ]
  },
  {
   "cell_type": "code",
   "execution_count": null,
   "metadata": {},
   "outputs": [],
   "source": [
    "!wget https://raw.githubusercontent.com/AndresBanquezBio/Hackathon/main/dataEncode.csv \n",
    "! unzip dataEncode.zip"
   ]
  },
  {
   "cell_type": "code",
   "execution_count": 1,
   "metadata": {},
   "outputs": [],
   "source": [
    "import numpy as np\n",
    "import pandas as pd\n",
    "import matplotlib.pyplot as plt\n",
    "from sklearn.model_selection import learning_curve,train_test_split,cross_validate, ShuffleSplit,GridSearchCV\n",
    "from sklearn.linear_model import LinearRegression\n",
    "from sklearn.tree import DecisionTreeRegressor\n",
    "from sklearn.ensemble import RandomForestRegressor\n",
    "from sklearn.metrics import mean_squared_error,average_precision_score,mean_absolute_error,r2_score,confusion_matrix,classification_report\n",
    "import seaborn as sns\n",
    "from sklearn.preprocessing import StandardScaler,MinMaxScaler\n",
    "from sklearn.svm import LinearSVC\n",
    "import textwrap\n",
    "from sklearn.decomposition import NMF,PCA\n",
    "from itertools import product\n",
    "import joblib"
   ]
  },
  {
   "cell_type": "code",
   "execution_count": 2,
   "metadata": {},
   "outputs": [],
   "source": [
    "dataset=pd.read_csv(\"dataEncode.csv\")"
   ]
  },
  {
   "cell_type": "code",
   "execution_count": 3,
   "metadata": {},
   "outputs": [
    {
     "data": {
      "text/html": [
       "<div>\n",
       "<style scoped>\n",
       "    .dataframe tbody tr th:only-of-type {\n",
       "        vertical-align: middle;\n",
       "    }\n",
       "\n",
       "    .dataframe tbody tr th {\n",
       "        vertical-align: top;\n",
       "    }\n",
       "\n",
       "    .dataframe thead th {\n",
       "        text-align: right;\n",
       "    }\n",
       "</style>\n",
       "<table border=\"1\" class=\"dataframe\">\n",
       "  <thead>\n",
       "    <tr style=\"text-align: right;\">\n",
       "      <th></th>\n",
       "      <th>DiasEstanciaClinica_exactoLog</th>\n",
       "      <th>DiasEstanciaServicio</th>\n",
       "      <th>Antioboticos</th>\n",
       "      <th>Transfusiones</th>\n",
       "      <th>UCI_UCE</th>\n",
       "      <th>DX_pos_cx</th>\n",
       "      <th>DX_pre_cx</th>\n",
       "      <th>DX_R3</th>\n",
       "      <th>EdadEgreso</th>\n",
       "      <th>NombreTipoDiagnostico</th>\n",
       "    </tr>\n",
       "  </thead>\n",
       "  <tbody>\n",
       "    <tr>\n",
       "      <th>0</th>\n",
       "      <td>0.047392</td>\n",
       "      <td>1</td>\n",
       "      <td>0</td>\n",
       "      <td>0</td>\n",
       "      <td>0</td>\n",
       "      <td>0</td>\n",
       "      <td>0</td>\n",
       "      <td>1721</td>\n",
       "      <td>62</td>\n",
       "      <td>1</td>\n",
       "    </tr>\n",
       "    <tr>\n",
       "      <th>1</th>\n",
       "      <td>1.372036</td>\n",
       "      <td>4</td>\n",
       "      <td>0</td>\n",
       "      <td>0</td>\n",
       "      <td>0</td>\n",
       "      <td>0</td>\n",
       "      <td>0</td>\n",
       "      <td>769</td>\n",
       "      <td>89</td>\n",
       "      <td>0</td>\n",
       "    </tr>\n",
       "    <tr>\n",
       "      <th>2</th>\n",
       "      <td>0.584829</td>\n",
       "      <td>1</td>\n",
       "      <td>1</td>\n",
       "      <td>0</td>\n",
       "      <td>0</td>\n",
       "      <td>0</td>\n",
       "      <td>0</td>\n",
       "      <td>794</td>\n",
       "      <td>90</td>\n",
       "      <td>0</td>\n",
       "    </tr>\n",
       "    <tr>\n",
       "      <th>3</th>\n",
       "      <td>0.941894</td>\n",
       "      <td>1</td>\n",
       "      <td>1</td>\n",
       "      <td>0</td>\n",
       "      <td>0</td>\n",
       "      <td>0</td>\n",
       "      <td>0</td>\n",
       "      <td>769</td>\n",
       "      <td>88</td>\n",
       "      <td>0</td>\n",
       "    </tr>\n",
       "    <tr>\n",
       "      <th>4</th>\n",
       "      <td>1.702274</td>\n",
       "      <td>4</td>\n",
       "      <td>0</td>\n",
       "      <td>0</td>\n",
       "      <td>0</td>\n",
       "      <td>0</td>\n",
       "      <td>0</td>\n",
       "      <td>1858</td>\n",
       "      <td>89</td>\n",
       "      <td>0</td>\n",
       "    </tr>\n",
       "    <tr>\n",
       "      <th>...</th>\n",
       "      <td>...</td>\n",
       "      <td>...</td>\n",
       "      <td>...</td>\n",
       "      <td>...</td>\n",
       "      <td>...</td>\n",
       "      <td>...</td>\n",
       "      <td>...</td>\n",
       "      <td>...</td>\n",
       "      <td>...</td>\n",
       "      <td>...</td>\n",
       "    </tr>\n",
       "    <tr>\n",
       "      <th>43149</th>\n",
       "      <td>0.942048</td>\n",
       "      <td>2</td>\n",
       "      <td>0</td>\n",
       "      <td>0</td>\n",
       "      <td>0</td>\n",
       "      <td>0</td>\n",
       "      <td>0</td>\n",
       "      <td>1784</td>\n",
       "      <td>19</td>\n",
       "      <td>1</td>\n",
       "    </tr>\n",
       "    <tr>\n",
       "      <th>43150</th>\n",
       "      <td>0.608355</td>\n",
       "      <td>1</td>\n",
       "      <td>0</td>\n",
       "      <td>0</td>\n",
       "      <td>0</td>\n",
       "      <td>0</td>\n",
       "      <td>0</td>\n",
       "      <td>496</td>\n",
       "      <td>31</td>\n",
       "      <td>1</td>\n",
       "    </tr>\n",
       "    <tr>\n",
       "      <th>43151</th>\n",
       "      <td>0.015271</td>\n",
       "      <td>1</td>\n",
       "      <td>0</td>\n",
       "      <td>0</td>\n",
       "      <td>0</td>\n",
       "      <td>0</td>\n",
       "      <td>0</td>\n",
       "      <td>1640</td>\n",
       "      <td>13</td>\n",
       "      <td>0</td>\n",
       "    </tr>\n",
       "    <tr>\n",
       "      <th>43152</th>\n",
       "      <td>0.459314</td>\n",
       "      <td>1</td>\n",
       "      <td>1</td>\n",
       "      <td>0</td>\n",
       "      <td>0</td>\n",
       "      <td>1217</td>\n",
       "      <td>1180</td>\n",
       "      <td>0</td>\n",
       "      <td>6</td>\n",
       "      <td>0</td>\n",
       "    </tr>\n",
       "    <tr>\n",
       "      <th>43153</th>\n",
       "      <td>0.201820</td>\n",
       "      <td>1</td>\n",
       "      <td>1</td>\n",
       "      <td>0</td>\n",
       "      <td>0</td>\n",
       "      <td>0</td>\n",
       "      <td>0</td>\n",
       "      <td>1786</td>\n",
       "      <td>6</td>\n",
       "      <td>1</td>\n",
       "    </tr>\n",
       "  </tbody>\n",
       "</table>\n",
       "<p>43154 rows × 10 columns</p>\n",
       "</div>"
      ],
      "text/plain": [
       "       DiasEstanciaClinica_exactoLog  DiasEstanciaServicio  Antioboticos  \\\n",
       "0                           0.047392                     1             0   \n",
       "1                           1.372036                     4             0   \n",
       "2                           0.584829                     1             1   \n",
       "3                           0.941894                     1             1   \n",
       "4                           1.702274                     4             0   \n",
       "...                              ...                   ...           ...   \n",
       "43149                       0.942048                     2             0   \n",
       "43150                       0.608355                     1             0   \n",
       "43151                       0.015271                     1             0   \n",
       "43152                       0.459314                     1             1   \n",
       "43153                       0.201820                     1             1   \n",
       "\n",
       "       Transfusiones  UCI_UCE  DX_pos_cx  DX_pre_cx  DX_R3  EdadEgreso  \\\n",
       "0                  0        0          0          0   1721          62   \n",
       "1                  0        0          0          0    769          89   \n",
       "2                  0        0          0          0    794          90   \n",
       "3                  0        0          0          0    769          88   \n",
       "4                  0        0          0          0   1858          89   \n",
       "...              ...      ...        ...        ...    ...         ...   \n",
       "43149              0        0          0          0   1784          19   \n",
       "43150              0        0          0          0    496          31   \n",
       "43151              0        0          0          0   1640          13   \n",
       "43152              0        0       1217       1180      0           6   \n",
       "43153              0        0          0          0   1786           6   \n",
       "\n",
       "       NombreTipoDiagnostico  \n",
       "0                          1  \n",
       "1                          0  \n",
       "2                          0  \n",
       "3                          0  \n",
       "4                          0  \n",
       "...                      ...  \n",
       "43149                      1  \n",
       "43150                      1  \n",
       "43151                      0  \n",
       "43152                      0  \n",
       "43153                      1  \n",
       "\n",
       "[43154 rows x 10 columns]"
      ]
     },
     "execution_count": 3,
     "metadata": {},
     "output_type": "execute_result"
    }
   ],
   "source": [
    "dataset"
   ]
  },
  {
   "attachments": {},
   "cell_type": "markdown",
   "metadata": {},
   "source": [
    "## 0.1 Ajuste del dataset"
   ]
  },
  {
   "attachments": {},
   "cell_type": "markdown",
   "metadata": {},
   "source": [
    "Debido a la gran cantidad de datos vamos a recortarlos para tener una mejor cantidad para no aumentar el gasto computacional"
   ]
  },
  {
   "cell_type": "code",
   "execution_count": 5,
   "metadata": {},
   "outputs": [
    {
     "data": {
      "image/png": "[encoded data removed]",
      "text/plain": [
       "<Figure size 1800x1800 with 2 Axes>"
      ]
     },
     "metadata": {},
     "output_type": "display_data"
    }
   ],
   "source": [
    "corr_matrix = dataset.corr()\n",
    "plt.figure(figsize=(18,18))\n",
    "sns.heatmap(corr_matrix, annot = True, vmin = -1, vmax = 1, cmap = \"YlGnBu\").set_title('Correlation Matrix')\n",
    "plt.show()"
   ]
  },
  {
   "cell_type": "code",
   "execution_count": 6,
   "metadata": {},
   "outputs": [
    {
     "data": {
      "text/html": [
       "<div>\n",
       "<style scoped>\n",
       "    .dataframe tbody tr th:only-of-type {\n",
       "        vertical-align: middle;\n",
       "    }\n",
       "\n",
       "    .dataframe tbody tr th {\n",
       "        vertical-align: top;\n",
       "    }\n",
       "\n",
       "    .dataframe thead th {\n",
       "        text-align: right;\n",
       "    }\n",
       "</style>\n",
       "<table border=\"1\" class=\"dataframe\">\n",
       "  <thead>\n",
       "    <tr style=\"text-align: right;\">\n",
       "      <th></th>\n",
       "      <th>DiasEstanciaClinica_exactoLog</th>\n",
       "    </tr>\n",
       "  </thead>\n",
       "  <tbody>\n",
       "    <tr>\n",
       "      <th>DiasEstanciaClinica_exactoLog</th>\n",
       "      <td>1.000000</td>\n",
       "    </tr>\n",
       "    <tr>\n",
       "      <th>DiasEstanciaServicio</th>\n",
       "      <td>0.671309</td>\n",
       "    </tr>\n",
       "    <tr>\n",
       "      <th>Antioboticos</th>\n",
       "      <td>0.357724</td>\n",
       "    </tr>\n",
       "    <tr>\n",
       "      <th>Transfusiones</th>\n",
       "      <td>0.337105</td>\n",
       "    </tr>\n",
       "    <tr>\n",
       "      <th>UCI_UCE</th>\n",
       "      <td>0.334056</td>\n",
       "    </tr>\n",
       "    <tr>\n",
       "      <th>DX_pos_cx</th>\n",
       "      <td>0.161087</td>\n",
       "    </tr>\n",
       "    <tr>\n",
       "      <th>DX_pre_cx</th>\n",
       "      <td>0.158057</td>\n",
       "    </tr>\n",
       "    <tr>\n",
       "      <th>DX_R3</th>\n",
       "      <td>0.137918</td>\n",
       "    </tr>\n",
       "    <tr>\n",
       "      <th>EdadEgreso</th>\n",
       "      <td>0.128416</td>\n",
       "    </tr>\n",
       "    <tr>\n",
       "      <th>NombreTipoDiagnostico</th>\n",
       "      <td>0.119497</td>\n",
       "    </tr>\n",
       "  </tbody>\n",
       "</table>\n",
       "</div>"
      ],
      "text/plain": [
       "                               DiasEstanciaClinica_exactoLog\n",
       "DiasEstanciaClinica_exactoLog                       1.000000\n",
       "DiasEstanciaServicio                                0.671309\n",
       "Antioboticos                                        0.357724\n",
       "Transfusiones                                       0.337105\n",
       "UCI_UCE                                             0.334056\n",
       "DX_pos_cx                                           0.161087\n",
       "DX_pre_cx                                           0.158057\n",
       "DX_R3                                               0.137918\n",
       "EdadEgreso                                          0.128416\n",
       "NombreTipoDiagnostico                               0.119497"
      ]
     },
     "execution_count": 6,
     "metadata": {},
     "output_type": "execute_result"
    }
   ],
   "source": [
    "target_corr_df = pd.DataFrame(corr_matrix[\"DiasEstanciaClinica_exactoLog\"].sort_values(ascending=False))\n",
    "target_corr_df "
   ]
  },
  {
   "attachments": {},
   "cell_type": "markdown",
   "metadata": {},
   "source": [
    "## 0.2 Métricas"
   ]
  },
  {
   "attachments": {},
   "cell_type": "markdown",
   "metadata": {},
   "source": [
    "En este caso se usara el RMSE, debido a su validez y uso para problemas de regresión, adicionalmente se construye un data frame con MAE, MSE, R2 y los ratios de MAE y RMSE, para su comparación final"
   ]
  },
  {
   "cell_type": "code",
   "execution_count": 7,
   "metadata": {},
   "outputs": [],
   "source": [
    "x=dataset.drop([\"DiasEstanciaClinica_exactoLog\"],axis=1)\n",
    "y=dataset[\"DiasEstanciaClinica_exactoLog\"].values"
   ]
  },
  {
   "attachments": {},
   "cell_type": "markdown",
   "metadata": {},
   "source": [
    "En los casos anteriores se puede observar que los modelos obtienen mejores resultados dependiendo de la cantidad de datos, pero esto indicaría tener que adicionar muchos datos lo cual resultaría en un costo computacional elevado, para ello entonces se buscara un punto de equilibrio con la sección del código 0.1"
   ]
  },
  {
   "attachments": {},
   "cell_type": "markdown",
   "metadata": {},
   "source": [
    "# 2. Métodos supervisados"
   ]
  },
  {
   "attachments": {},
   "cell_type": "markdown",
   "metadata": {},
   "source": [
    "Métrica"
   ]
  },
  {
   "cell_type": "code",
   "execution_count": 8,
   "metadata": {},
   "outputs": [],
   "source": [
    "def train_test_evaluate(model_name, model, X_train, y_train, X_test, y_test):  \n",
    "    \n",
    "    y_pred= model.predict(X_test)\n",
    "    \n",
    "    mae = mean_absolute_error(y_test, y_pred)\n",
    "    mse = mean_squared_error(y_test, y_pred)\n",
    "    rmse = mean_squared_error(y_test, y_pred,squared=False)\n",
    "    r2 = r2_score(y_test, y_pred)\n",
    "    y_test_mean= y_test.mean()\n",
    "    mae_ratio= mae/y_test_mean\n",
    "    rmse_ratio= rmse/y_test_mean\n",
    "    \n",
    "    result_df = pd.DataFrame(\n",
    "        data=[[model_name, mae, mse, rmse, r2, mae_ratio, rmse_ratio]], \n",
    "        columns=[\"Model\", 'MAE', 'MSE', 'RMSE', 'R2 Score', \"MAE Ratio\", \"RMSE Ratio\"])\n",
    "    return result_df"
   ]
  },
  {
   "cell_type": "code",
   "execution_count": 9,
   "metadata": {},
   "outputs": [],
   "source": [
    "def report_cv_score(z):\n",
    "    lr_ts_score = z['test_score']*(-1)\n",
    "    lr_tr_score = z['train_score']*(-1)\n",
    "    lin_rmse_ts = np.sqrt(lr_ts_score)\n",
    "    lin_rmse_tr = np.sqrt(lr_tr_score)\n",
    "    print(\"RMSE Test: \", \"{:.5f}\".format(np.mean(lin_rmse_ts)), \"(±\", \"{:.8f}\".format(np.std(lin_rmse_ts)),\")\")\n",
    "    print(\"RMSE Train: \", \"{:.5f}\".format(np.mean(lin_rmse_tr)), \"(±\", \"{:.8f}\".format(np.std(lin_rmse_tr)),\")\")"
   ]
  },
  {
   "cell_type": "code",
   "execution_count": 10,
   "metadata": {},
   "outputs": [
    {
     "name": "stdout",
     "output_type": "stream",
     "text": [
      "(43154, 9) (43154,)\n",
      "test size 0.30\n",
      "val size is 0.43 (relative to 0.70) \n",
      "(30207, 9) (12947, 9)\n"
     ]
    }
   ],
   "source": [
    "\n",
    "test_size = 0.3\n",
    "val_size  = test_size/(1-test_size) # Elementos de validación\n",
    "\n",
    "\n",
    "print (x.shape, y.shape)\n",
    "print (\"test size %.2f\"%test_size)\n",
    "print (\"val size is %.2f (relative to %.2f) \"%(val_size, 1-test_size))\n",
    "\n",
    "Xtv, Xts, ytv, yts = train_test_split(x, y, test_size=test_size)\n",
    "scaler=StandardScaler()\n",
    "Xtv=scaler.fit_transform(Xtv)\n",
    "Xts=scaler.fit_transform(Xts)\n",
    "print (Xtv.shape, Xts.shape)"
   ]
  },
  {
   "attachments": {},
   "cell_type": "markdown",
   "metadata": {},
   "source": [
    "### 2.1 Mejor estimador:"
   ]
  },
  {
   "cell_type": "code",
   "execution_count": 11,
   "metadata": {},
   "outputs": [],
   "source": [
    "estimator1 = LinearRegression()\n",
    "estimator2 = DecisionTreeRegressor(max_depth=5)\n",
    "estimator3 = RandomForestRegressor(n_estimators = 2,max_depth = 5)"
   ]
  },
  {
   "cell_type": "code",
   "execution_count": 12,
   "metadata": {},
   "outputs": [
    {
     "name": "stdout",
     "output_type": "stream",
     "text": [
      "---------\n",
      "RMSE Test:  0.65708 (± 0.00452277 )\n",
      "RMSE Train:  0.65618 (± 0.00342181 )\n",
      "---------\n",
      "RMSE Test:  0.52877 (± 0.00781307 )\n",
      "RMSE Train:  0.52387 (± 0.00698314 )\n",
      "---------\n",
      "RMSE Test:  0.52551 (± 0.00613712 )\n",
      "RMSE Train:  0.51923 (± 0.00549224 )\n",
      "Seleccionado:  2\n",
      "\n",
      " Mejor modelo: \n",
      "RandomForestRegressor(max_depth=5, n_estimators=2)\n"
     ]
    }
   ],
   "source": [
    "#Selección de modelos\n",
    "\n",
    "zscores = []\n",
    "estimators = [estimator1, estimator2, estimator3]\n",
    "names=[\"LinearRegression inicial\",\"DecisisionTree inicial\",\"Random Forest inicial\",\"LinearSVR inicial\"]\n",
    "for i in range(len(estimators)):\n",
    "    print(\"---------\")\n",
    "    z = cross_validate(estimators[i], Xtv, ytv, return_train_score=True, return_estimator=False,\n",
    "                       scoring=\"neg_mean_squared_error\", cv=ShuffleSplit(n_splits=10, test_size=val_size))\n",
    "    report_cv_score(z)\n",
    "    zscores.append(np.mean(np.sqrt(z['test_score']*(-1))))\n",
    "    if i==0:\n",
    "        estimators[i].fit(Xtv, ytv)\n",
    "        result_df= train_test_evaluate(names[i], estimators[i], Xtv, ytv, Xts, yts)\n",
    "    else:\n",
    "        estimators[i].fit(Xtv, ytv)\n",
    "        df1=train_test_evaluate(names[i], estimators[i], Xtv, ytv, Xts, yts)\n",
    "        result_df=pd.concat([result_df,df1],ignore_index=True)\n",
    "\n",
    "    \n",
    "best = np.argmin(zscores)\n",
    "print (\"Seleccionado: \", best)\n",
    "best_estimator = estimators[best]\n",
    "print (\"\\n Mejor modelo: \")\n",
    "print (best_estimator)"
   ]
  },
  {
   "cell_type": "code",
   "execution_count": 13,
   "metadata": {},
   "outputs": [
    {
     "data": {
      "text/html": [
       "<div>\n",
       "<style scoped>\n",
       "    .dataframe tbody tr th:only-of-type {\n",
       "        vertical-align: middle;\n",
       "    }\n",
       "\n",
       "    .dataframe tbody tr th {\n",
       "        vertical-align: top;\n",
       "    }\n",
       "\n",
       "    .dataframe thead th {\n",
       "        text-align: right;\n",
       "    }\n",
       "</style>\n",
       "<table border=\"1\" class=\"dataframe\">\n",
       "  <thead>\n",
       "    <tr style=\"text-align: right;\">\n",
       "      <th></th>\n",
       "      <th>Model</th>\n",
       "      <th>MAE</th>\n",
       "      <th>MSE</th>\n",
       "      <th>RMSE</th>\n",
       "      <th>R2 Score</th>\n",
       "      <th>MAE Ratio</th>\n",
       "      <th>RMSE Ratio</th>\n",
       "    </tr>\n",
       "  </thead>\n",
       "  <tbody>\n",
       "    <tr>\n",
       "      <th>0</th>\n",
       "      <td>LinearRegression inicial</td>\n",
       "      <td>0.472025</td>\n",
       "      <td>0.444719</td>\n",
       "      <td>0.666873</td>\n",
       "      <td>0.574134</td>\n",
       "      <td>0.280939</td>\n",
       "      <td>0.396908</td>\n",
       "    </tr>\n",
       "    <tr>\n",
       "      <th>1</th>\n",
       "      <td>DecisisionTree inicial</td>\n",
       "      <td>0.349178</td>\n",
       "      <td>0.304015</td>\n",
       "      <td>0.551376</td>\n",
       "      <td>0.708873</td>\n",
       "      <td>0.207823</td>\n",
       "      <td>0.328167</td>\n",
       "    </tr>\n",
       "    <tr>\n",
       "      <th>2</th>\n",
       "      <td>Random Forest inicial</td>\n",
       "      <td>0.338307</td>\n",
       "      <td>0.292802</td>\n",
       "      <td>0.541112</td>\n",
       "      <td>0.719611</td>\n",
       "      <td>0.201353</td>\n",
       "      <td>0.322058</td>\n",
       "    </tr>\n",
       "  </tbody>\n",
       "</table>\n",
       "</div>"
      ],
      "text/plain": [
       "                      Model       MAE       MSE      RMSE  R2 Score  \\\n",
       "0  LinearRegression inicial  0.472025  0.444719  0.666873  0.574134   \n",
       "1    DecisisionTree inicial  0.349178  0.304015  0.551376  0.708873   \n",
       "2     Random Forest inicial  0.338307  0.292802  0.541112  0.719611   \n",
       "\n",
       "   MAE Ratio  RMSE Ratio  \n",
       "0   0.280939    0.396908  \n",
       "1   0.207823    0.328167  \n",
       "2   0.201353    0.322058  "
      ]
     },
     "execution_count": 13,
     "metadata": {},
     "output_type": "execute_result"
    }
   ],
   "source": [
    "result_df"
   ]
  },
  {
   "cell_type": "code",
   "execution_count": 14,
   "metadata": {},
   "outputs": [
    {
     "data": {
      "text/html": [
       "<style>#sk-container-id-1 {color: black;}#sk-container-id-1 pre{padding: 0;}#sk-container-id-1 div.sk-toggleable {background-color: white;}#sk-container-id-1 label.sk-toggleable__label {cursor: pointer;display: block;width: 100%;margin-bottom: 0;padding: 0.3em;box-sizing: border-box;text-align: center;}#sk-container-id-1 label.sk-toggleable__label-arrow:before {content: \"▸\";float: left;margin-right: 0.25em;color: #696969;}#sk-container-id-1 label.sk-toggleable__label-arrow:hover:before {color: black;}#sk-container-id-1 div.sk-estimator:hover label.sk-toggleable__label-arrow:before {color: black;}#sk-container-id-1 div.sk-toggleable__content {max-height: 0;max-width: 0;overflow: hidden;text-align: left;background-color: #f0f8ff;}#sk-container-id-1 div.sk-toggleable__content pre {margin: 0.2em;color: black;border-radius: 0.25em;background-color: #f0f8ff;}#sk-container-id-1 input.sk-toggleable__control:checked~div.sk-toggleable__content {max-height: 200px;max-width: 100%;overflow: auto;}#sk-container-id-1 input.sk-toggleable__control:checked~label.sk-toggleable__label-arrow:before {content: \"▾\";}#sk-container-id-1 div.sk-estimator input.sk-toggleable__control:checked~label.sk-toggleable__label {background-color: #d4ebff;}#sk-container-id-1 div.sk-label input.sk-toggleable__control:checked~label.sk-toggleable__label {background-color: #d4ebff;}#sk-container-id-1 input.sk-hidden--visually {border: 0;clip: rect(1px 1px 1px 1px);clip: rect(1px, 1px, 1px, 1px);height: 1px;margin: -1px;overflow: hidden;padding: 0;position: absolute;width: 1px;}#sk-container-id-1 div.sk-estimator {font-family: monospace;background-color: #f0f8ff;border: 1px dotted black;border-radius: 0.25em;box-sizing: border-box;margin-bottom: 0.5em;}#sk-container-id-1 div.sk-estimator:hover {background-color: #d4ebff;}#sk-container-id-1 div.sk-parallel-item::after {content: \"\";width: 100%;border-bottom: 1px solid gray;flex-grow: 1;}#sk-container-id-1 div.sk-label:hover label.sk-toggleable__label {background-color: #d4ebff;}#sk-container-id-1 div.sk-serial::before {content: \"\";position: absolute;border-left: 1px solid gray;box-sizing: border-box;top: 0;bottom: 0;left: 50%;z-index: 0;}#sk-container-id-1 div.sk-serial {display: flex;flex-direction: column;align-items: center;background-color: white;padding-right: 0.2em;padding-left: 0.2em;position: relative;}#sk-container-id-1 div.sk-item {position: relative;z-index: 1;}#sk-container-id-1 div.sk-parallel {display: flex;align-items: stretch;justify-content: center;background-color: white;position: relative;}#sk-container-id-1 div.sk-item::before, #sk-container-id-1 div.sk-parallel-item::before {content: \"\";position: absolute;border-left: 1px solid gray;box-sizing: border-box;top: 0;bottom: 0;left: 50%;z-index: -1;}#sk-container-id-1 div.sk-parallel-item {display: flex;flex-direction: column;z-index: 1;position: relative;background-color: white;}#sk-container-id-1 div.sk-parallel-item:first-child::after {align-self: flex-end;width: 50%;}#sk-container-id-1 div.sk-parallel-item:last-child::after {align-self: flex-start;width: 50%;}#sk-container-id-1 div.sk-parallel-item:only-child::after {width: 0;}#sk-container-id-1 div.sk-dashed-wrapped {border: 1px dashed gray;margin: 0 0.4em 0.5em 0.4em;box-sizing: border-box;padding-bottom: 0.4em;background-color: white;}#sk-container-id-1 div.sk-label label {font-family: monospace;font-weight: bold;display: inline-block;line-height: 1.2em;}#sk-container-id-1 div.sk-label-container {text-align: center;}#sk-container-id-1 div.sk-container {/* jupyter's `normalize.less` sets `[hidden] { display: none; }` but bootstrap.min.css set `[hidden] { display: none !important; }` so we also need the `!important` here to be able to override the default hidden behavior on the sphinx rendered scikit-learn.org. See: https://github.com/scikit-learn/scikit-learn/issues/21755 */display: inline-block !important;position: relative;}#sk-container-id-1 div.sk-text-repr-fallback {display: none;}</style><div id=\"sk-container-id-1\" class=\"sk-top-container\"><div class=\"sk-text-repr-fallback\"><pre>RandomForestRegressor(max_depth=5, n_estimators=2)</pre><b>In a Jupyter environment, please rerun this cell to show the HTML representation or trust the notebook. <br />On GitHub, the HTML representation is unable to render, please try loading this page with nbviewer.org.</b></div><div class=\"sk-container\" hidden><div class=\"sk-item\"><div class=\"sk-estimator sk-toggleable\"><input class=\"sk-toggleable__control sk-hidden--visually\" id=\"sk-estimator-id-1\" type=\"checkbox\" checked><label for=\"sk-estimator-id-1\" class=\"sk-toggleable__label sk-toggleable__label-arrow\">RandomForestRegressor</label><div class=\"sk-toggleable__content\"><pre>RandomForestRegressor(max_depth=5, n_estimators=2)</pre></div></div></div></div></div>"
      ],
      "text/plain": [
       "RandomForestRegressor(max_depth=5, n_estimators=2)"
      ]
     },
     "execution_count": 14,
     "metadata": {},
     "output_type": "execute_result"
    }
   ],
   "source": [
    "best_estimator"
   ]
  },
  {
   "attachments": {},
   "cell_type": "markdown",
   "metadata": {},
   "source": [
    "Así seleccionamos como mejor estimador Random Forest y procedemos a seleccionar los mejores hiperparámetros"
   ]
  },
  {
   "attachments": {},
   "cell_type": "markdown",
   "metadata": {},
   "source": [
    "### 2.2 RandomForest"
   ]
  },
  {
   "cell_type": "code",
   "execution_count": 15,
   "metadata": {},
   "outputs": [
    {
     "name": "stdout",
     "output_type": "stream",
     "text": [
      "Fitting 5 folds for each of 30 candidates, totalling 150 fits\n"
     ]
    },
    {
     "name": "stdout",
     "output_type": "stream",
     "text": [
      "[CV] END max_depth=11, min_samples_leaf=1, n_estimators=20, random_state=23; total time=   0.5s\n",
      "[CV] END max_depth=11, min_samples_leaf=1, n_estimators=20, random_state=23; total time=   0.5s\n",
      "[CV] END max_depth=11, min_samples_leaf=1, n_estimators=20, random_state=23; total time=   0.5s\n",
      "[CV] END max_depth=11, min_samples_leaf=1, n_estimators=20, random_state=23; total time=   0.6s\n",
      "[CV] END max_depth=11, min_samples_leaf=1, n_estimators=20, random_state=23; total time=   0.6s\n",
      "[CV] END max_depth=11, min_samples_leaf=2, n_estimators=20, random_state=23; total time=   0.5s\n",
      "[CV] END max_depth=11, min_samples_leaf=2, n_estimators=20, random_state=23; total time=   0.5s\n",
      "[CV] END max_depth=11, min_samples_leaf=2, n_estimators=20, random_state=23; total time=   0.5s\n",
      "[CV] END max_depth=11, min_samples_leaf=2, n_estimators=20, random_state=23; total time=   0.5s\n",
      "[CV] END max_depth=11, min_samples_leaf=1, n_estimators=40, random_state=23; total time=   1.0s\n",
      "[CV] END max_depth=11, min_samples_leaf=1, n_estimators=40, random_state=23; total time=   1.0s\n",
      "[CV] END max_depth=11, min_samples_leaf=1, n_estimators=40, random_state=23; total time=   1.1s\n",
      "[CV] END max_depth=11, min_samples_leaf=1, n_estimators=40, random_state=23; total time=   1.1s\n",
      "[CV] END max_depth=11, min_samples_leaf=1, n_estimators=40, random_state=23; total time=   1.1s\n",
      "[CV] END max_depth=11, min_samples_leaf=2, n_estimators=20, random_state=23; total time=   0.6s\n",
      "[CV] END max_depth=11, min_samples_leaf=1, n_estimators=60, random_state=23; total time=   1.6s\n",
      "[CV] END max_depth=11, min_samples_leaf=1, n_estimators=60, random_state=23; total time=   1.6s\n",
      "[CV] END max_depth=11, min_samples_leaf=1, n_estimators=60, random_state=23; total time=   1.6s\n",
      "[CV] END max_depth=11, min_samples_leaf=2, n_estimators=40, random_state=23; total time=   1.0s\n",
      "[CV] END max_depth=11, min_samples_leaf=2, n_estimators=40, random_state=23; total time=   1.2s\n",
      "[CV] END max_depth=11, min_samples_leaf=1, n_estimators=60, random_state=23; total time=   1.7s\n",
      "[CV] END max_depth=13, min_samples_leaf=1, n_estimators=20, random_state=23; total time=   0.6s\n",
      "[CV] END max_depth=11, min_samples_leaf=1, n_estimators=60, random_state=23; total time=   1.8s\n",
      "[CV] END max_depth=11, min_samples_leaf=2, n_estimators=40, random_state=23; total time=   1.0s\n",
      "[CV] END max_depth=11, min_samples_leaf=2, n_estimators=40, random_state=23; total time=   1.0s\n",
      "[CV] END max_depth=11, min_samples_leaf=2, n_estimators=40, random_state=23; total time=   1.1s\n",
      "[CV] END max_depth=13, min_samples_leaf=1, n_estimators=20, random_state=23; total time=   0.6s\n",
      "[CV] END max_depth=13, min_samples_leaf=1, n_estimators=20, random_state=23; total time=   0.6s\n",
      "[CV] END max_depth=13, min_samples_leaf=1, n_estimators=20, random_state=23; total time=   0.7s\n",
      "[CV] END max_depth=13, min_samples_leaf=1, n_estimators=20, random_state=23; total time=   0.7s\n",
      "[CV] END max_depth=11, min_samples_leaf=2, n_estimators=60, random_state=23; total time=   1.5s\n",
      "[CV] END max_depth=11, min_samples_leaf=2, n_estimators=60, random_state=23; total time=   1.5s\n",
      "[CV] END max_depth=11, min_samples_leaf=2, n_estimators=60, random_state=23; total time=   1.6s\n",
      "[CV] END max_depth=11, min_samples_leaf=2, n_estimators=60, random_state=23; total time=   1.6s\n",
      "[CV] END max_depth=11, min_samples_leaf=2, n_estimators=60, random_state=23; total time=   1.6s\n",
      "[CV] END max_depth=13, min_samples_leaf=1, n_estimators=40, random_state=23; total time=   1.2s\n",
      "[CV] END max_depth=13, min_samples_leaf=2, n_estimators=20, random_state=23; total time=   0.6s\n",
      "[CV] END max_depth=13, min_samples_leaf=1, n_estimators=40, random_state=23; total time=   1.2s\n",
      "[CV] END max_depth=13, min_samples_leaf=1, n_estimators=40, random_state=23; total time=   1.2s\n",
      "[CV] END max_depth=13, min_samples_leaf=2, n_estimators=20, random_state=23; total time=   0.6s\n",
      "[CV] END max_depth=13, min_samples_leaf=1, n_estimators=40, random_state=23; total time=   1.3s\n",
      "[CV] END max_depth=13, min_samples_leaf=2, n_estimators=20, random_state=23; total time=   0.6s\n",
      "[CV] END max_depth=13, min_samples_leaf=1, n_estimators=40, random_state=23; total time=   1.3s\n",
      "[CV] END max_depth=13, min_samples_leaf=2, n_estimators=20, random_state=23; total time=   0.6s\n",
      "[CV] END max_depth=13, min_samples_leaf=2, n_estimators=20, random_state=23; total time=   0.6s\n",
      "[CV] END max_depth=13, min_samples_leaf=1, n_estimators=60, random_state=23; total time=   1.8s\n",
      "[CV] END max_depth=13, min_samples_leaf=1, n_estimators=60, random_state=23; total time=   1.9s\n",
      "[CV] END max_depth=13, min_samples_leaf=2, n_estimators=40, random_state=23; total time=   1.2s\n",
      "[CV] END max_depth=15, min_samples_leaf=1, n_estimators=20, random_state=23; total time=   0.7s\n",
      "[CV] END max_depth=13, min_samples_leaf=2, n_estimators=40, random_state=23; total time=   1.2s\n",
      "[CV] END max_depth=13, min_samples_leaf=2, n_estimators=40, random_state=23; total time=   1.1s\n",
      "[CV] END max_depth=13, min_samples_leaf=2, n_estimators=40, random_state=23; total time=   1.2s\n",
      "[CV] END max_depth=13, min_samples_leaf=2, n_estimators=40, random_state=23; total time=   1.2s\n",
      "[CV] END max_depth=13, min_samples_leaf=1, n_estimators=60, random_state=23; total time=   1.9s\n",
      "[CV] END max_depth=13, min_samples_leaf=1, n_estimators=60, random_state=23; total time=   1.9s\n",
      "[CV] END max_depth=13, min_samples_leaf=1, n_estimators=60, random_state=23; total time=   1.9s\n",
      "[CV] END max_depth=15, min_samples_leaf=1, n_estimators=20, random_state=23; total time=   0.7s\n",
      "[CV] END max_depth=15, min_samples_leaf=1, n_estimators=20, random_state=23; total time=   0.7s\n",
      "[CV] END max_depth=15, min_samples_leaf=1, n_estimators=20, random_state=23; total time=   0.7s\n",
      "[CV] END max_depth=15, min_samples_leaf=1, n_estimators=20, random_state=23; total time=   0.7s\n",
      "[CV] END max_depth=13, min_samples_leaf=2, n_estimators=60, random_state=23; total time=   1.7s\n",
      "[CV] END max_depth=13, min_samples_leaf=2, n_estimators=60, random_state=23; total time=   1.7s\n",
      "[CV] END max_depth=13, min_samples_leaf=2, n_estimators=60, random_state=23; total time=   1.8s\n",
      "[CV] END max_depth=13, min_samples_leaf=2, n_estimators=60, random_state=23; total time=   1.8s\n",
      "[CV] END max_depth=13, min_samples_leaf=2, n_estimators=60, random_state=23; total time=   1.9s\n",
      "[CV] END max_depth=15, min_samples_leaf=1, n_estimators=40, random_state=23; total time=   1.3s\n",
      "[CV] END max_depth=15, min_samples_leaf=1, n_estimators=40, random_state=23; total time=   1.3s\n",
      "[CV] END max_depth=15, min_samples_leaf=1, n_estimators=40, random_state=23; total time=   1.3s\n",
      "[CV] END max_depth=15, min_samples_leaf=2, n_estimators=20, random_state=23; total time=   0.7s\n",
      "[CV] END max_depth=15, min_samples_leaf=2, n_estimators=20, random_state=23; total time=   0.6s\n",
      "[CV] END max_depth=15, min_samples_leaf=2, n_estimators=20, random_state=23; total time=   0.6s\n",
      "[CV] END max_depth=15, min_samples_leaf=1, n_estimators=40, random_state=23; total time=   1.4s\n",
      "[CV] END max_depth=15, min_samples_leaf=1, n_estimators=40, random_state=23; total time=   1.4s\n",
      "[CV] END max_depth=15, min_samples_leaf=2, n_estimators=20, random_state=23; total time=   0.7s\n",
      "[CV] END max_depth=15, min_samples_leaf=2, n_estimators=20, random_state=23; total time=   0.8s\n",
      "[CV] END max_depth=15, min_samples_leaf=1, n_estimators=60, random_state=23; total time=   2.0s\n",
      "[CV] END max_depth=15, min_samples_leaf=1, n_estimators=60, random_state=23; total time=   2.0s\n",
      "[CV] END max_depth=15, min_samples_leaf=2, n_estimators=40, random_state=23; total time=   1.2s\n",
      "[CV] END max_depth=15, min_samples_leaf=1, n_estimators=60, random_state=23; total time=   2.0s\n",
      "[CV] END max_depth=17, min_samples_leaf=1, n_estimators=20, random_state=23; total time=   0.7s\n",
      "[CV] END max_depth=15, min_samples_leaf=1, n_estimators=60, random_state=23; total time=   2.0s\n",
      "[CV] END max_depth=15, min_samples_leaf=1, n_estimators=60, random_state=23; total time=   2.0s\n",
      "[CV] END max_depth=15, min_samples_leaf=2, n_estimators=40, random_state=23; total time=   1.2s\n",
      "[CV] END max_depth=15, min_samples_leaf=2, n_estimators=40, random_state=23; total time=   1.2s\n",
      "[CV] END max_depth=15, min_samples_leaf=2, n_estimators=40, random_state=23; total time=   1.2s\n",
      "[CV] END max_depth=15, min_samples_leaf=2, n_estimators=40, random_state=23; total time=   1.3s\n",
      "[CV] END max_depth=17, min_samples_leaf=1, n_estimators=20, random_state=23; total time=   0.7s\n",
      "[CV] END max_depth=17, min_samples_leaf=1, n_estimators=20, random_state=23; total time=   0.7s\n",
      "[CV] END max_depth=17, min_samples_leaf=1, n_estimators=20, random_state=23; total time=   0.7s\n",
      "[CV] END max_depth=17, min_samples_leaf=1, n_estimators=20, random_state=23; total time=   0.7s\n",
      "[CV] END max_depth=15, min_samples_leaf=2, n_estimators=60, random_state=23; total time=   1.8s\n",
      "[CV] END max_depth=15, min_samples_leaf=2, n_estimators=60, random_state=23; total time=   1.9s\n",
      "[CV] END max_depth=15, min_samples_leaf=2, n_estimators=60, random_state=23; total time=   1.9s\n",
      "[CV] END max_depth=15, min_samples_leaf=2, n_estimators=60, random_state=23; total time=   2.0s\n",
      "[CV] END max_depth=15, min_samples_leaf=2, n_estimators=60, random_state=23; total time=   2.0s\n",
      "[CV] END max_depth=17, min_samples_leaf=2, n_estimators=20, random_state=23; total time=   0.7s\n",
      "[CV] END max_depth=17, min_samples_leaf=1, n_estimators=40, random_state=23; total time=   1.5s\n",
      "[CV] END max_depth=17, min_samples_leaf=2, n_estimators=20, random_state=23; total time=   0.7s\n",
      "[CV] END max_depth=17, min_samples_leaf=2, n_estimators=20, random_state=23; total time=   0.6s\n",
      "[CV] END max_depth=17, min_samples_leaf=1, n_estimators=40, random_state=23; total time=   1.5s\n",
      "[CV] END max_depth=17, min_samples_leaf=2, n_estimators=20, random_state=23; total time=   0.7s\n",
      "[CV] END max_depth=17, min_samples_leaf=1, n_estimators=40, random_state=23; total time=   1.5s\n",
      "[CV] END max_depth=17, min_samples_leaf=1, n_estimators=40, random_state=23; total time=   1.5s\n",
      "[CV] END max_depth=17, min_samples_leaf=1, n_estimators=40, random_state=23; total time=   1.5s\n",
      "[CV] END max_depth=17, min_samples_leaf=2, n_estimators=20, random_state=23; total time=   0.7s\n",
      "[CV] END max_depth=17, min_samples_leaf=1, n_estimators=60, random_state=23; total time=   2.2s\n",
      "[CV] END max_depth=17, min_samples_leaf=2, n_estimators=40, random_state=23; total time=   1.3s\n",
      "[CV] END max_depth=19, min_samples_leaf=1, n_estimators=20, random_state=23; total time=   0.8s\n",
      "[CV] END max_depth=17, min_samples_leaf=1, n_estimators=60, random_state=23; total time=   2.2s\n",
      "[CV] END max_depth=17, min_samples_leaf=2, n_estimators=40, random_state=23; total time=   1.4s\n",
      "[CV] END max_depth=17, min_samples_leaf=1, n_estimators=60, random_state=23; total time=   2.2s\n",
      "[CV] END max_depth=17, min_samples_leaf=1, n_estimators=60, random_state=23; total time=   2.4s\n",
      "[CV] END max_depth=17, min_samples_leaf=2, n_estimators=40, random_state=23; total time=   1.3s\n",
      "[CV] END max_depth=17, min_samples_leaf=2, n_estimators=40, random_state=23; total time=   1.3s\n",
      "[CV] END max_depth=17, min_samples_leaf=2, n_estimators=40, random_state=23; total time=   1.3s\n",
      "[CV] END max_depth=17, min_samples_leaf=1, n_estimators=60, random_state=23; total time=   2.2s\n",
      "[CV] END max_depth=19, min_samples_leaf=1, n_estimators=20, random_state=23; total time=   0.8s\n",
      "[CV] END max_depth=19, min_samples_leaf=1, n_estimators=20, random_state=23; total time=   0.8s\n",
      "[CV] END max_depth=19, min_samples_leaf=1, n_estimators=20, random_state=23; total time=   0.8s\n",
      "[CV] END max_depth=19, min_samples_leaf=1, n_estimators=20, random_state=23; total time=   0.8s\n",
      "[CV] END max_depth=17, min_samples_leaf=2, n_estimators=60, random_state=23; total time=   2.0s\n",
      "[CV] END max_depth=17, min_samples_leaf=2, n_estimators=60, random_state=23; total time=   2.0s\n",
      "[CV] END max_depth=17, min_samples_leaf=2, n_estimators=60, random_state=23; total time=   2.0s\n",
      "[CV] END max_depth=17, min_samples_leaf=2, n_estimators=60, random_state=23; total time=   2.1s\n",
      "[CV] END max_depth=17, min_samples_leaf=2, n_estimators=60, random_state=23; total time=   2.0s\n",
      "[CV] END max_depth=19, min_samples_leaf=2, n_estimators=20, random_state=23; total time=   0.7s\n",
      "[CV] END max_depth=19, min_samples_leaf=1, n_estimators=40, random_state=23; total time=   1.6s\n",
      "[CV] END max_depth=19, min_samples_leaf=1, n_estimators=40, random_state=23; total time=   1.6s\n",
      "[CV] END max_depth=19, min_samples_leaf=2, n_estimators=20, random_state=23; total time=   0.7s\n",
      "[CV] END max_depth=19, min_samples_leaf=2, n_estimators=20, random_state=23; total time=   0.7s\n",
      "[CV] END max_depth=19, min_samples_leaf=1, n_estimators=40, random_state=23; total time=   1.7s\n",
      "[CV] END max_depth=19, min_samples_leaf=1, n_estimators=40, random_state=23; total time=   1.6s\n",
      "[CV] END max_depth=19, min_samples_leaf=2, n_estimators=20, random_state=23; total time=   0.7s\n",
      "[CV] END max_depth=19, min_samples_leaf=2, n_estimators=20, random_state=23; total time=   0.7s\n",
      "[CV] END max_depth=19, min_samples_leaf=1, n_estimators=40, random_state=23; total time=   1.7s\n",
      "[CV] END max_depth=19, min_samples_leaf=2, n_estimators=40, random_state=23; total time=   1.4s\n",
      "[CV] END max_depth=19, min_samples_leaf=1, n_estimators=60, random_state=23; total time=   2.4s\n",
      "[CV] END max_depth=19, min_samples_leaf=1, n_estimators=60, random_state=23; total time=   2.5s\n",
      "[CV] END max_depth=19, min_samples_leaf=1, n_estimators=60, random_state=23; total time=   2.3s\n",
      "[CV] END max_depth=19, min_samples_leaf=1, n_estimators=60, random_state=23; total time=   2.3s\n",
      "[CV] END max_depth=19, min_samples_leaf=2, n_estimators=40, random_state=23; total time=   1.3s\n",
      "[CV] END max_depth=19, min_samples_leaf=2, n_estimators=40, random_state=23; total time=   1.4s\n",
      "[CV] END max_depth=19, min_samples_leaf=2, n_estimators=40, random_state=23; total time=   1.3s\n",
      "[CV] END max_depth=19, min_samples_leaf=2, n_estimators=40, random_state=23; total time=   1.3s\n",
      "[CV] END max_depth=19, min_samples_leaf=1, n_estimators=60, random_state=23; total time=   2.4s\n",
      "[CV] END max_depth=19, min_samples_leaf=2, n_estimators=60, random_state=23; total time=   1.8s\n",
      "[CV] END max_depth=19, min_samples_leaf=2, n_estimators=60, random_state=23; total time=   1.9s\n",
      "[CV] END max_depth=19, min_samples_leaf=2, n_estimators=60, random_state=23; total time=   1.8s\n",
      "[CV] END max_depth=19, min_samples_leaf=2, n_estimators=60, random_state=23; total time=   1.9s\n",
      "[CV] END max_depth=19, min_samples_leaf=2, n_estimators=60, random_state=23; total time=   1.9s\n"
     ]
    },
    {
     "data": {
      "text/html": [
       "<style>#sk-container-id-2 {color: black;}#sk-container-id-2 pre{padding: 0;}#sk-container-id-2 div.sk-toggleable {background-color: white;}#sk-container-id-2 label.sk-toggleable__label {cursor: pointer;display: block;width: 100%;margin-bottom: 0;padding: 0.3em;box-sizing: border-box;text-align: center;}#sk-container-id-2 label.sk-toggleable__label-arrow:before {content: \"▸\";float: left;margin-right: 0.25em;color: #696969;}#sk-container-id-2 label.sk-toggleable__label-arrow:hover:before {color: black;}#sk-container-id-2 div.sk-estimator:hover label.sk-toggleable__label-arrow:before {color: black;}#sk-container-id-2 div.sk-toggleable__content {max-height: 0;max-width: 0;overflow: hidden;text-align: left;background-color: #f0f8ff;}#sk-container-id-2 div.sk-toggleable__content pre {margin: 0.2em;color: black;border-radius: 0.25em;background-color: #f0f8ff;}#sk-container-id-2 input.sk-toggleable__control:checked~div.sk-toggleable__content {max-height: 200px;max-width: 100%;overflow: auto;}#sk-container-id-2 input.sk-toggleable__control:checked~label.sk-toggleable__label-arrow:before {content: \"▾\";}#sk-container-id-2 div.sk-estimator input.sk-toggleable__control:checked~label.sk-toggleable__label {background-color: #d4ebff;}#sk-container-id-2 div.sk-label input.sk-toggleable__control:checked~label.sk-toggleable__label {background-color: #d4ebff;}#sk-container-id-2 input.sk-hidden--visually {border: 0;clip: rect(1px 1px 1px 1px);clip: rect(1px, 1px, 1px, 1px);height: 1px;margin: -1px;overflow: hidden;padding: 0;position: absolute;width: 1px;}#sk-container-id-2 div.sk-estimator {font-family: monospace;background-color: #f0f8ff;border: 1px dotted black;border-radius: 0.25em;box-sizing: border-box;margin-bottom: 0.5em;}#sk-container-id-2 div.sk-estimator:hover {background-color: #d4ebff;}#sk-container-id-2 div.sk-parallel-item::after {content: \"\";width: 100%;border-bottom: 1px solid gray;flex-grow: 1;}#sk-container-id-2 div.sk-label:hover label.sk-toggleable__label {background-color: #d4ebff;}#sk-container-id-2 div.sk-serial::before {content: \"\";position: absolute;border-left: 1px solid gray;box-sizing: border-box;top: 0;bottom: 0;left: 50%;z-index: 0;}#sk-container-id-2 div.sk-serial {display: flex;flex-direction: column;align-items: center;background-color: white;padding-right: 0.2em;padding-left: 0.2em;position: relative;}#sk-container-id-2 div.sk-item {position: relative;z-index: 1;}#sk-container-id-2 div.sk-parallel {display: flex;align-items: stretch;justify-content: center;background-color: white;position: relative;}#sk-container-id-2 div.sk-item::before, #sk-container-id-2 div.sk-parallel-item::before {content: \"\";position: absolute;border-left: 1px solid gray;box-sizing: border-box;top: 0;bottom: 0;left: 50%;z-index: -1;}#sk-container-id-2 div.sk-parallel-item {display: flex;flex-direction: column;z-index: 1;position: relative;background-color: white;}#sk-container-id-2 div.sk-parallel-item:first-child::after {align-self: flex-end;width: 50%;}#sk-container-id-2 div.sk-parallel-item:last-child::after {align-self: flex-start;width: 50%;}#sk-container-id-2 div.sk-parallel-item:only-child::after {width: 0;}#sk-container-id-2 div.sk-dashed-wrapped {border: 1px dashed gray;margin: 0 0.4em 0.5em 0.4em;box-sizing: border-box;padding-bottom: 0.4em;background-color: white;}#sk-container-id-2 div.sk-label label {font-family: monospace;font-weight: bold;display: inline-block;line-height: 1.2em;}#sk-container-id-2 div.sk-label-container {text-align: center;}#sk-container-id-2 div.sk-container {/* jupyter's `normalize.less` sets `[hidden] { display: none; }` but bootstrap.min.css set `[hidden] { display: none !important; }` so we also need the `!important` here to be able to override the default hidden behavior on the sphinx rendered scikit-learn.org. See: https://github.com/scikit-learn/scikit-learn/issues/21755 */display: inline-block !important;position: relative;}#sk-container-id-2 div.sk-text-repr-fallback {display: none;}</style><div id=\"sk-container-id-2\" class=\"sk-top-container\"><div class=\"sk-text-repr-fallback\"><pre>GridSearchCV(cv=ShuffleSplit(n_splits=5, random_state=None, test_size=0.4285714285714286,\n",
       "       train_size=None),\n",
       "             estimator=RandomForestRegressor(max_depth=5, n_estimators=2),\n",
       "             n_jobs=-1,\n",
       "             param_grid={&#x27;max_depth&#x27;: [11, 13, 15, 17, 19],\n",
       "                         &#x27;min_samples_leaf&#x27;: [1, 2],\n",
       "                         &#x27;n_estimators&#x27;: [20, 40, 60], &#x27;random_state&#x27;: [23]},\n",
       "             scoring=&#x27;neg_mean_squared_error&#x27;, verbose=2)</pre><b>In a Jupyter environment, please rerun this cell to show the HTML representation or trust the notebook. <br />On GitHub, the HTML representation is unable to render, please try loading this page with nbviewer.org.</b></div><div class=\"sk-container\" hidden><div class=\"sk-item sk-dashed-wrapped\"><div class=\"sk-label-container\"><div class=\"sk-label sk-toggleable\"><input class=\"sk-toggleable__control sk-hidden--visually\" id=\"sk-estimator-id-2\" type=\"checkbox\" ><label for=\"sk-estimator-id-2\" class=\"sk-toggleable__label sk-toggleable__label-arrow\">GridSearchCV</label><div class=\"sk-toggleable__content\"><pre>GridSearchCV(cv=ShuffleSplit(n_splits=5, random_state=None, test_size=0.4285714285714286,\n",
       "       train_size=None),\n",
       "             estimator=RandomForestRegressor(max_depth=5, n_estimators=2),\n",
       "             n_jobs=-1,\n",
       "             param_grid={&#x27;max_depth&#x27;: [11, 13, 15, 17, 19],\n",
       "                         &#x27;min_samples_leaf&#x27;: [1, 2],\n",
       "                         &#x27;n_estimators&#x27;: [20, 40, 60], &#x27;random_state&#x27;: [23]},\n",
       "             scoring=&#x27;neg_mean_squared_error&#x27;, verbose=2)</pre></div></div></div><div class=\"sk-parallel\"><div class=\"sk-parallel-item\"><div class=\"sk-item\"><div class=\"sk-label-container\"><div class=\"sk-label sk-toggleable\"><input class=\"sk-toggleable__control sk-hidden--visually\" id=\"sk-estimator-id-3\" type=\"checkbox\" ><label for=\"sk-estimator-id-3\" class=\"sk-toggleable__label sk-toggleable__label-arrow\">estimator: RandomForestRegressor</label><div class=\"sk-toggleable__content\"><pre>RandomForestRegressor(max_depth=5, n_estimators=2)</pre></div></div></div><div class=\"sk-serial\"><div class=\"sk-item\"><div class=\"sk-estimator sk-toggleable\"><input class=\"sk-toggleable__control sk-hidden--visually\" id=\"sk-estimator-id-4\" type=\"checkbox\" ><label for=\"sk-estimator-id-4\" class=\"sk-toggleable__label sk-toggleable__label-arrow\">RandomForestRegressor</label><div class=\"sk-toggleable__content\"><pre>RandomForestRegressor(max_depth=5, n_estimators=2)</pre></div></div></div></div></div></div></div></div></div></div>"
      ],
      "text/plain": [
       "GridSearchCV(cv=ShuffleSplit(n_splits=5, random_state=None, test_size=0.4285714285714286,\n",
       "       train_size=None),\n",
       "             estimator=RandomForestRegressor(max_depth=5, n_estimators=2),\n",
       "             n_jobs=-1,\n",
       "             param_grid={'max_depth': [11, 13, 15, 17, 19],\n",
       "                         'min_samples_leaf': [1, 2],\n",
       "                         'n_estimators': [20, 40, 60], 'random_state': [23]},\n",
       "             scoring='neg_mean_squared_error', verbose=2)"
      ]
     },
     "execution_count": 15,
     "metadata": {},
     "output_type": "execute_result"
    }
   ],
   "source": [
    "#Esta celda toma un tiempo considerable en completarse\n",
    "parametros = {\n",
    "    \"n_estimators\": list(range(20, 61, 20)),\n",
    "    \"max_depth\": list(range(11, 20, 2)),\n",
    "    \"min_samples_leaf\": list(range(1, 3)),\n",
    "    \"random_state\": [23]\n",
    "}\n",
    "\n",
    "forest_reg = GridSearchCV(estimator = estimator3,\n",
    "                        param_grid = parametros,\n",
    "                        cv = ShuffleSplit(n_splits= 5, test_size=val_size), \n",
    "                        scoring = 'neg_mean_squared_error',\n",
    "                        verbose = 2,\n",
    "                        n_jobs=-1)\n",
    "forest_reg.fit(Xtv, ytv)"
   ]
  },
  {
   "cell_type": "code",
   "execution_count": 16,
   "metadata": {},
   "outputs": [
    {
     "name": "stdout",
     "output_type": "stream",
     "text": [
      "Mejor estimador Random Forest:  RandomForestRegressor(max_depth=11, min_samples_leaf=2, n_estimators=60,\n",
      "                      random_state=23)\n",
      "Mejores parámetros para el estimador Random Forest:  {'max_depth': 11, 'min_samples_leaf': 2, 'n_estimators': 60, 'random_state': 23}\n"
     ]
    }
   ],
   "source": [
    "print(\"Mejor estimador Random Forest: \",forest_reg.best_estimator_)\n",
    "print(\"Mejores parámetros para el estimador Random Forest: \", forest_reg.best_params_)"
   ]
  },
  {
   "cell_type": "code",
   "execution_count": 17,
   "metadata": {},
   "outputs": [
    {
     "data": {
      "text/html": [
       "<style>#sk-container-id-3 {color: black;}#sk-container-id-3 pre{padding: 0;}#sk-container-id-3 div.sk-toggleable {background-color: white;}#sk-container-id-3 label.sk-toggleable__label {cursor: pointer;display: block;width: 100%;margin-bottom: 0;padding: 0.3em;box-sizing: border-box;text-align: center;}#sk-container-id-3 label.sk-toggleable__label-arrow:before {content: \"▸\";float: left;margin-right: 0.25em;color: #696969;}#sk-container-id-3 label.sk-toggleable__label-arrow:hover:before {color: black;}#sk-container-id-3 div.sk-estimator:hover label.sk-toggleable__label-arrow:before {color: black;}#sk-container-id-3 div.sk-toggleable__content {max-height: 0;max-width: 0;overflow: hidden;text-align: left;background-color: #f0f8ff;}#sk-container-id-3 div.sk-toggleable__content pre {margin: 0.2em;color: black;border-radius: 0.25em;background-color: #f0f8ff;}#sk-container-id-3 input.sk-toggleable__control:checked~div.sk-toggleable__content {max-height: 200px;max-width: 100%;overflow: auto;}#sk-container-id-3 input.sk-toggleable__control:checked~label.sk-toggleable__label-arrow:before {content: \"▾\";}#sk-container-id-3 div.sk-estimator input.sk-toggleable__control:checked~label.sk-toggleable__label {background-color: #d4ebff;}#sk-container-id-3 div.sk-label input.sk-toggleable__control:checked~label.sk-toggleable__label {background-color: #d4ebff;}#sk-container-id-3 input.sk-hidden--visually {border: 0;clip: rect(1px 1px 1px 1px);clip: rect(1px, 1px, 1px, 1px);height: 1px;margin: -1px;overflow: hidden;padding: 0;position: absolute;width: 1px;}#sk-container-id-3 div.sk-estimator {font-family: monospace;background-color: #f0f8ff;border: 1px dotted black;border-radius: 0.25em;box-sizing: border-box;margin-bottom: 0.5em;}#sk-container-id-3 div.sk-estimator:hover {background-color: #d4ebff;}#sk-container-id-3 div.sk-parallel-item::after {content: \"\";width: 100%;border-bottom: 1px solid gray;flex-grow: 1;}#sk-container-id-3 div.sk-label:hover label.sk-toggleable__label {background-color: #d4ebff;}#sk-container-id-3 div.sk-serial::before {content: \"\";position: absolute;border-left: 1px solid gray;box-sizing: border-box;top: 0;bottom: 0;left: 50%;z-index: 0;}#sk-container-id-3 div.sk-serial {display: flex;flex-direction: column;align-items: center;background-color: white;padding-right: 0.2em;padding-left: 0.2em;position: relative;}#sk-container-id-3 div.sk-item {position: relative;z-index: 1;}#sk-container-id-3 div.sk-parallel {display: flex;align-items: stretch;justify-content: center;background-color: white;position: relative;}#sk-container-id-3 div.sk-item::before, #sk-container-id-3 div.sk-parallel-item::before {content: \"\";position: absolute;border-left: 1px solid gray;box-sizing: border-box;top: 0;bottom: 0;left: 50%;z-index: -1;}#sk-container-id-3 div.sk-parallel-item {display: flex;flex-direction: column;z-index: 1;position: relative;background-color: white;}#sk-container-id-3 div.sk-parallel-item:first-child::after {align-self: flex-end;width: 50%;}#sk-container-id-3 div.sk-parallel-item:last-child::after {align-self: flex-start;width: 50%;}#sk-container-id-3 div.sk-parallel-item:only-child::after {width: 0;}#sk-container-id-3 div.sk-dashed-wrapped {border: 1px dashed gray;margin: 0 0.4em 0.5em 0.4em;box-sizing: border-box;padding-bottom: 0.4em;background-color: white;}#sk-container-id-3 div.sk-label label {font-family: monospace;font-weight: bold;display: inline-block;line-height: 1.2em;}#sk-container-id-3 div.sk-label-container {text-align: center;}#sk-container-id-3 div.sk-container {/* jupyter's `normalize.less` sets `[hidden] { display: none; }` but bootstrap.min.css set `[hidden] { display: none !important; }` so we also need the `!important` here to be able to override the default hidden behavior on the sphinx rendered scikit-learn.org. See: https://github.com/scikit-learn/scikit-learn/issues/21755 */display: inline-block !important;position: relative;}#sk-container-id-3 div.sk-text-repr-fallback {display: none;}</style><div id=\"sk-container-id-3\" class=\"sk-top-container\"><div class=\"sk-text-repr-fallback\"><pre>RandomForestRegressor(max_depth=11, min_samples_leaf=2, n_estimators=60,\n",
       "                      random_state=23)</pre><b>In a Jupyter environment, please rerun this cell to show the HTML representation or trust the notebook. <br />On GitHub, the HTML representation is unable to render, please try loading this page with nbviewer.org.</b></div><div class=\"sk-container\" hidden><div class=\"sk-item\"><div class=\"sk-estimator sk-toggleable\"><input class=\"sk-toggleable__control sk-hidden--visually\" id=\"sk-estimator-id-5\" type=\"checkbox\" checked><label for=\"sk-estimator-id-5\" class=\"sk-toggleable__label sk-toggleable__label-arrow\">RandomForestRegressor</label><div class=\"sk-toggleable__content\"><pre>RandomForestRegressor(max_depth=11, min_samples_leaf=2, n_estimators=60,\n",
       "                      random_state=23)</pre></div></div></div></div></div>"
      ],
      "text/plain": [
       "RandomForestRegressor(max_depth=11, min_samples_leaf=2, n_estimators=60,\n",
       "                      random_state=23)"
      ]
     },
     "execution_count": 17,
     "metadata": {},
     "output_type": "execute_result"
    }
   ],
   "source": [
    "Rdm_forest = RandomForestRegressor(n_estimators =forest_reg.best_params_[\"n_estimators\"] \n",
    "                                   ,max_depth = forest_reg.best_params_[\"max_depth\"],\n",
    "                                   min_samples_leaf=forest_reg.best_params_[\"min_samples_leaf\"],\n",
    "                                   random_state=forest_reg.best_params_[\"random_state\"])\n",
    "Rdm_forest.fit(Xtv, ytv)"
   ]
  },
  {
   "cell_type": "code",
   "execution_count": 18,
   "metadata": {},
   "outputs": [
    {
     "name": "stdout",
     "output_type": "stream",
     "text": [
      "RMSE del Random Forest en entrenamiento:  0.42233\n",
      "RMSE del Random Forest seleccionado:  0.51872\n"
     ]
    }
   ],
   "source": [
    "print('RMSE del Random Forest en entrenamiento: ',\"{:.5f}\".format(mean_squared_error(ytv , Rdm_forest.predict(Xtv),squared=False)))\n",
    "print('RMSE del Random Forest seleccionado: ',\"{:.5f}\".format(mean_squared_error(yts , Rdm_forest.predict(Xts),squared=False)))"
   ]
  },
  {
   "cell_type": "code",
   "execution_count": 19,
   "metadata": {},
   "outputs": [],
   "source": [
    "df1=train_test_evaluate(\"Mejor Random Forest\", Rdm_forest, Xtv, ytv, Xts, yts)\n",
    "result_df=pd.concat([result_df,df1],ignore_index=True)"
   ]
  },
  {
   "attachments": {},
   "cell_type": "markdown",
   "metadata": {},
   "source": [
    "### 2.3 Adición de modelos"
   ]
  },
  {
   "attachments": {},
   "cell_type": "markdown",
   "metadata": {},
   "source": [
    "En este caso se sabe que el mejor modelo en este caso es random forest, pero para hacer una comparación justa se mejoran los hiperpárametros de los otros estimadores para tener un mejor criterio"
   ]
  },
  {
   "cell_type": "code",
   "execution_count": 20,
   "metadata": {},
   "outputs": [
    {
     "name": "stdout",
     "output_type": "stream",
     "text": [
      "Fitting 5 folds for each of 9 candidates, totalling 45 fits\n",
      "Mejores parámetros para Desission tree:  {'max_depth': 8}\n"
     ]
    }
   ],
   "source": [
    "parametros_destree = {'max_depth': [2,5,8,12,15,20,30,40,50]}\n",
    "\n",
    "\n",
    "decission_tree = GridSearchCV(estimator = estimator2,\n",
    "                        param_grid = parametros_destree,\n",
    "                        cv = ShuffleSplit(n_splits= 5, test_size=val_size), \n",
    "                        scoring = 'neg_mean_squared_error',\n",
    "                        verbose = 1,\n",
    "                        n_jobs = -1)\n",
    "decission_tree.fit(Xtv,ytv)\n",
    "print(\"Mejores parámetros para Desission tree: \", decission_tree.best_params_)\n",
    "Des_tree = DecisionTreeRegressor(max_depth=decission_tree.best_params_[\"max_depth\"])\n",
    "Des_tree.fit(Xtv, ytv)\n",
    "df1=train_test_evaluate(\"Mejor Decision Tree\", Des_tree, Xtv, ytv, Xts, yts)\n",
    "result_df=pd.concat([result_df,df1],ignore_index=True)\n",
    "\n"
   ]
  },
  {
   "attachments": {},
   "cell_type": "markdown",
   "metadata": {},
   "source": [
    "## 3 Metodos no supervisados"
   ]
  },
  {
   "attachments": {},
   "cell_type": "markdown",
   "metadata": {},
   "source": [
    "### 3.1 PCA"
   ]
  },
  {
   "cell_type": "code",
   "execution_count": 76,
   "metadata": {},
   "outputs": [
    {
     "name": "stdout",
     "output_type": "stream",
     "text": [
      "(30207, 1) (12947, 1)\n",
      "RMSE del modelo con  1 elementos:  0.90291\n",
      "------------\n",
      "(30207, 3) (12947, 3)\n",
      "RMSE del modelo con  3 elementos:  0.79614\n",
      "------------\n",
      "(30207, 5) (12947, 5)\n",
      "RMSE del modelo con  5 elementos:  0.58751\n",
      "------------\n",
      "(30207, 7) (12947, 7)\n",
      "RMSE del modelo con  7 elementos:  0.51794\n",
      "------------\n",
      "(30207, 9) (12947, 9)\n",
      "RMSE del modelo con  9 elementos:  0.50330\n",
      "------------\n",
      "Mejor RMSE:  0.50330   ; obtenido con  9  componentes para PCA\n"
     ]
    }
   ],
   "source": [
    "\n",
    "components = [1,3,5,7,9]\n",
    "test_size = 0.3\n",
    "val_size  = test_size/(1-test_size)\n",
    "perf_pca = [] \n",
    "Rdm_forest = RandomForestRegressor(n_estimators =forest_reg.best_params_[\"n_estimators\"] \n",
    "                                   ,max_depth = forest_reg.best_params_[\"max_depth\"],\n",
    "                                   min_samples_leaf=forest_reg.best_params_[\"min_samples_leaf\"]\n",
    "                                   ,random_state=forest_reg.best_params_[\"random_state\"])\n",
    "for i in components:\n",
    "    pca = PCA(n_components = i)\n",
    "    X_t = pca.fit_transform(x)\n",
    "    Xtv, Xts, ytv, yts = train_test_split(X_t, y, test_size=test_size)\n",
    "    print (Xtv.shape, Xts.shape)\n",
    "    Rdm_forest.fit(Xtv, ytv)\n",
    "    perf_pca.append(mean_squared_error(yts , Rdm_forest.predict(Xts),squared=False))\n",
    "    print('RMSE del modelo con ', i ,'elementos: ',\"{:.5f}\".format(mean_squared_error(yts , Rdm_forest.predict(Xts),squared=False)))\n",
    "    print('------------')\n",
    "    \n",
    "print('Mejor RMSE: ',\"{:.5f}\".format(np.min(perf_pca)),'  ; obtenido con ',components[np.argmin(perf_pca)],' componentes para PCA')\n",
    "    "
   ]
  },
  {
   "attachments": {},
   "cell_type": "markdown",
   "metadata": {},
   "source": [
    "### 3.1.1 PCA+RandomForest"
   ]
  },
  {
   "cell_type": "code",
   "execution_count": 92,
   "metadata": {},
   "outputs": [
    {
     "name": "stdout",
     "output_type": "stream",
     "text": [
      "(30207, 9) (12947, 9)\n"
     ]
    }
   ],
   "source": [
    "#MEJOR PCA\n",
    "pca_random_f = PCA(n_components = components[np.argmin(perf_pca)])\n",
    "X_t1 = pca_random_f.fit_transform(x)\n",
    "Xtv, Xts, ytv, yts = train_test_split(X_t1, y, test_size=test_size)\n",
    "print (Xtv.shape, Xts.shape)"
   ]
  },
  {
   "cell_type": "code",
   "execution_count": 66,
   "metadata": {},
   "outputs": [
    {
     "name": "stdout",
     "output_type": "stream",
     "text": [
      "Fitting 5 folds for each of 30 candidates, totalling 150 fits\n",
      "[CV] END max_depth=11, min_samples_leaf=1, n_estimators=20, random_state=23; total time=   1.9s\n",
      "[CV] END max_depth=11, min_samples_leaf=1, n_estimators=20, random_state=23; total time=   1.9s\n",
      "[CV] END max_depth=11, min_samples_leaf=1, n_estimators=20, random_state=23; total time=   2.0s\n",
      "[CV] END max_depth=11, min_samples_leaf=1, n_estimators=20, random_state=23; total time=   2.0s\n",
      "[CV] END max_depth=11, min_samples_leaf=1, n_estimators=20, random_state=23; total time=   2.2s\n",
      "[CV] END max_depth=11, min_samples_leaf=2, n_estimators=20, random_state=23; total time=   1.9s\n",
      "[CV] END max_depth=11, min_samples_leaf=1, n_estimators=40, random_state=23; total time=   3.7s\n",
      "[CV] END max_depth=11, min_samples_leaf=1, n_estimators=40, random_state=23; total time=   3.7s\n",
      "[CV] END max_depth=11, min_samples_leaf=2, n_estimators=20, random_state=23; total time=   1.9s\n",
      "[CV] END max_depth=11, min_samples_leaf=2, n_estimators=20, random_state=23; total time=   1.8s\n",
      "[CV] END max_depth=11, min_samples_leaf=2, n_estimators=20, random_state=23; total time=   1.8s\n",
      "[CV] END max_depth=11, min_samples_leaf=2, n_estimators=20, random_state=23; total time=   1.9s\n",
      "[CV] END max_depth=11, min_samples_leaf=1, n_estimators=40, random_state=23; total time=   3.9s\n",
      "[CV] END max_depth=11, min_samples_leaf=1, n_estimators=40, random_state=23; total time=   3.9s\n",
      "[CV] END max_depth=11, min_samples_leaf=1, n_estimators=40, random_state=23; total time=   4.0s\n",
      "[CV] END max_depth=11, min_samples_leaf=1, n_estimators=60, random_state=23; total time=   5.6s\n",
      "[CV] END max_depth=11, min_samples_leaf=1, n_estimators=60, random_state=23; total time=   5.6s\n",
      "[CV] END max_depth=11, min_samples_leaf=2, n_estimators=40, random_state=23; total time=   3.7s\n",
      "[CV] END max_depth=11, min_samples_leaf=1, n_estimators=60, random_state=23; total time=   5.8s\n",
      "[CV] END max_depth=11, min_samples_leaf=1, n_estimators=60, random_state=23; total time=   5.8s\n",
      "[CV] END max_depth=11, min_samples_leaf=2, n_estimators=40, random_state=23; total time=   3.7s\n",
      "[CV] END max_depth=11, min_samples_leaf=1, n_estimators=60, random_state=23; total time=   5.9s\n",
      "[CV] END max_depth=13, min_samples_leaf=1, n_estimators=20, random_state=23; total time=   2.2s\n",
      "[CV] END max_depth=11, min_samples_leaf=2, n_estimators=40, random_state=23; total time=   3.6s\n",
      "[CV] END max_depth=11, min_samples_leaf=2, n_estimators=40, random_state=23; total time=   3.7s\n",
      "[CV] END max_depth=11, min_samples_leaf=2, n_estimators=40, random_state=23; total time=   3.8s\n",
      "[CV] END max_depth=13, min_samples_leaf=1, n_estimators=20, random_state=23; total time=   2.1s\n",
      "[CV] END max_depth=13, min_samples_leaf=1, n_estimators=20, random_state=23; total time=   2.1s\n",
      "[CV] END max_depth=13, min_samples_leaf=1, n_estimators=20, random_state=23; total time=   2.2s\n",
      "[CV] END max_depth=13, min_samples_leaf=1, n_estimators=20, random_state=23; total time=   2.2s\n",
      "[CV] END max_depth=11, min_samples_leaf=2, n_estimators=60, random_state=23; total time=   5.5s\n",
      "[CV] END max_depth=11, min_samples_leaf=2, n_estimators=60, random_state=23; total time=   5.5s\n",
      "[CV] END max_depth=11, min_samples_leaf=2, n_estimators=60, random_state=23; total time=   5.7s\n",
      "[CV] END max_depth=11, min_samples_leaf=2, n_estimators=60, random_state=23; total time=   5.8s\n",
      "[CV] END max_depth=11, min_samples_leaf=2, n_estimators=60, random_state=23; total time=   5.8s\n",
      "[CV] END max_depth=13, min_samples_leaf=1, n_estimators=40, random_state=23; total time=   4.2s\n",
      "[CV] END max_depth=13, min_samples_leaf=1, n_estimators=40, random_state=23; total time=   4.2s\n",
      "[CV] END max_depth=13, min_samples_leaf=1, n_estimators=40, random_state=23; total time=   4.2s\n",
      "[CV] END max_depth=13, min_samples_leaf=2, n_estimators=20, random_state=23; total time=   2.2s\n",
      "[CV] END max_depth=13, min_samples_leaf=1, n_estimators=40, random_state=23; total time=   4.3s\n",
      "[CV] END max_depth=13, min_samples_leaf=2, n_estimators=20, random_state=23; total time=   2.1s\n",
      "[CV] END max_depth=13, min_samples_leaf=2, n_estimators=20, random_state=23; total time=   2.2s\n",
      "[CV] END max_depth=13, min_samples_leaf=2, n_estimators=20, random_state=23; total time=   2.1s\n",
      "[CV] END max_depth=13, min_samples_leaf=1, n_estimators=40, random_state=23; total time=   4.4s\n",
      "[CV] END max_depth=13, min_samples_leaf=2, n_estimators=20, random_state=23; total time=   2.2s\n",
      "[CV] END max_depth=13, min_samples_leaf=1, n_estimators=60, random_state=23; total time=   6.4s\n",
      "[CV] END max_depth=13, min_samples_leaf=2, n_estimators=40, random_state=23; total time=   4.3s\n",
      "[CV] END max_depth=13, min_samples_leaf=1, n_estimators=60, random_state=23; total time=   6.7s\n",
      "[CV] END max_depth=15, min_samples_leaf=1, n_estimators=20, random_state=23; total time=   2.5s\n",
      "[CV] END max_depth=13, min_samples_leaf=1, n_estimators=60, random_state=23; total time=   6.3s\n",
      "[CV] END max_depth=13, min_samples_leaf=2, n_estimators=40, random_state=23; total time=   4.3s\n",
      "[CV] END max_depth=13, min_samples_leaf=1, n_estimators=60, random_state=23; total time=   6.5s\n",
      "[CV] END max_depth=13, min_samples_leaf=2, n_estimators=40, random_state=23; total time=   4.2s\n",
      "[CV] END max_depth=13, min_samples_leaf=2, n_estimators=40, random_state=23; total time=   4.4s\n",
      "[CV] END max_depth=13, min_samples_leaf=2, n_estimators=40, random_state=23; total time=   4.2s\n",
      "[CV] END max_depth=13, min_samples_leaf=1, n_estimators=60, random_state=23; total time=   6.9s\n",
      "[CV] END max_depth=15, min_samples_leaf=1, n_estimators=20, random_state=23; total time=   2.4s\n",
      "[CV] END max_depth=15, min_samples_leaf=1, n_estimators=20, random_state=23; total time=   2.4s\n",
      "[CV] END max_depth=15, min_samples_leaf=1, n_estimators=20, random_state=23; total time=   2.4s\n",
      "[CV] END max_depth=15, min_samples_leaf=1, n_estimators=20, random_state=23; total time=   2.5s\n",
      "[CV] END max_depth=13, min_samples_leaf=2, n_estimators=60, random_state=23; total time=   6.4s\n",
      "[CV] END max_depth=13, min_samples_leaf=2, n_estimators=60, random_state=23; total time=   6.2s\n",
      "[CV] END max_depth=13, min_samples_leaf=2, n_estimators=60, random_state=23; total time=   6.2s\n",
      "[CV] END max_depth=13, min_samples_leaf=2, n_estimators=60, random_state=23; total time=   6.5s\n",
      "[CV] END max_depth=13, min_samples_leaf=2, n_estimators=60, random_state=23; total time=   6.7s\n",
      "[CV] END max_depth=15, min_samples_leaf=1, n_estimators=40, random_state=23; total time=   4.7s\n",
      "[CV] END max_depth=15, min_samples_leaf=2, n_estimators=20, random_state=23; total time=   2.3s\n",
      "[CV] END max_depth=15, min_samples_leaf=1, n_estimators=40, random_state=23; total time=   4.7s\n",
      "[CV] END max_depth=15, min_samples_leaf=1, n_estimators=40, random_state=23; total time=   4.8s\n",
      "[CV] END max_depth=15, min_samples_leaf=2, n_estimators=20, random_state=23; total time=   2.3s\n",
      "[CV] END max_depth=15, min_samples_leaf=1, n_estimators=40, random_state=23; total time=   4.9s\n",
      "[CV] END max_depth=15, min_samples_leaf=1, n_estimators=40, random_state=23; total time=   5.0s\n",
      "[CV] END max_depth=15, min_samples_leaf=2, n_estimators=20, random_state=23; total time=   2.2s\n",
      "[CV] END max_depth=15, min_samples_leaf=2, n_estimators=20, random_state=23; total time=   2.2s\n",
      "[CV] END max_depth=15, min_samples_leaf=2, n_estimators=20, random_state=23; total time=   2.4s\n",
      "[CV] END max_depth=15, min_samples_leaf=1, n_estimators=60, random_state=23; total time=   7.6s\n",
      "[CV] END max_depth=15, min_samples_leaf=1, n_estimators=60, random_state=23; total time=   7.2s\n",
      "[CV] END max_depth=15, min_samples_leaf=2, n_estimators=40, random_state=23; total time=   4.8s\n",
      "[CV] END max_depth=17, min_samples_leaf=1, n_estimators=20, random_state=23; total time=   2.5s\n",
      "[CV] END max_depth=15, min_samples_leaf=1, n_estimators=60, random_state=23; total time=   7.0s\n",
      "[CV] END max_depth=15, min_samples_leaf=1, n_estimators=60, random_state=23; total time=   7.1s\n",
      "[CV] END max_depth=15, min_samples_leaf=2, n_estimators=40, random_state=23; total time=   4.6s\n",
      "[CV] END max_depth=15, min_samples_leaf=2, n_estimators=40, random_state=23; total time=   4.5s\n",
      "[CV] END max_depth=15, min_samples_leaf=1, n_estimators=60, random_state=23; total time=   7.3s\n",
      "[CV] END max_depth=15, min_samples_leaf=2, n_estimators=40, random_state=23; total time=   4.7s\n",
      "[CV] END max_depth=15, min_samples_leaf=2, n_estimators=40, random_state=23; total time=   4.6s\n",
      "[CV] END max_depth=17, min_samples_leaf=1, n_estimators=20, random_state=23; total time=   2.6s\n",
      "[CV] END max_depth=17, min_samples_leaf=1, n_estimators=20, random_state=23; total time=   2.7s\n",
      "[CV] END max_depth=17, min_samples_leaf=1, n_estimators=20, random_state=23; total time=   2.5s\n",
      "[CV] END max_depth=17, min_samples_leaf=1, n_estimators=20, random_state=23; total time=   2.5s\n",
      "[CV] END max_depth=15, min_samples_leaf=2, n_estimators=60, random_state=23; total time=   6.8s\n",
      "[CV] END max_depth=15, min_samples_leaf=2, n_estimators=60, random_state=23; total time=   6.9s\n",
      "[CV] END max_depth=15, min_samples_leaf=2, n_estimators=60, random_state=23; total time=   7.2s\n",
      "[CV] END max_depth=15, min_samples_leaf=2, n_estimators=60, random_state=23; total time=   6.8s\n",
      "[CV] END max_depth=15, min_samples_leaf=2, n_estimators=60, random_state=23; total time=   6.8s\n",
      "[CV] END max_depth=17, min_samples_leaf=2, n_estimators=20, random_state=23; total time=   2.5s\n",
      "[CV] END max_depth=17, min_samples_leaf=2, n_estimators=20, random_state=23; total time=   2.4s\n",
      "[CV] END max_depth=17, min_samples_leaf=2, n_estimators=20, random_state=23; total time=   2.5s\n",
      "[CV] END max_depth=17, min_samples_leaf=1, n_estimators=40, random_state=23; total time=   5.3s\n",
      "[CV] END max_depth=17, min_samples_leaf=1, n_estimators=40, random_state=23; total time=   5.3s\n",
      "[CV] END max_depth=17, min_samples_leaf=1, n_estimators=40, random_state=23; total time=   5.3s\n",
      "[CV] END max_depth=17, min_samples_leaf=1, n_estimators=40, random_state=23; total time=   5.3s\n",
      "[CV] END max_depth=17, min_samples_leaf=2, n_estimators=20, random_state=23; total time=   2.6s\n",
      "[CV] END max_depth=17, min_samples_leaf=1, n_estimators=40, random_state=23; total time=   5.5s\n",
      "[CV] END max_depth=17, min_samples_leaf=2, n_estimators=20, random_state=23; total time=   2.4s\n",
      "[CV] END max_depth=17, min_samples_leaf=1, n_estimators=60, random_state=23; total time=   7.6s\n",
      "[CV] END max_depth=17, min_samples_leaf=1, n_estimators=60, random_state=23; total time=   7.8s\n",
      "[CV] END max_depth=19, min_samples_leaf=1, n_estimators=20, random_state=23; total time=   2.7s\n",
      "[CV] END max_depth=17, min_samples_leaf=2, n_estimators=40, random_state=23; total time=   4.9s\n",
      "[CV] END max_depth=17, min_samples_leaf=1, n_estimators=60, random_state=23; total time=   8.0s\n",
      "[CV] END max_depth=17, min_samples_leaf=1, n_estimators=60, random_state=23; total time=   8.2s\n",
      "[CV] END max_depth=17, min_samples_leaf=2, n_estimators=40, random_state=23; total time=   4.9s\n",
      "[CV] END max_depth=17, min_samples_leaf=1, n_estimators=60, random_state=23; total time=   7.6s\n",
      "[CV] END max_depth=17, min_samples_leaf=2, n_estimators=40, random_state=23; total time=   4.8s\n",
      "[CV] END max_depth=17, min_samples_leaf=2, n_estimators=40, random_state=23; total time=   4.9s\n",
      "[CV] END max_depth=17, min_samples_leaf=2, n_estimators=40, random_state=23; total time=   5.0s\n",
      "[CV] END max_depth=19, min_samples_leaf=1, n_estimators=20, random_state=23; total time=   2.8s\n",
      "[CV] END max_depth=19, min_samples_leaf=1, n_estimators=20, random_state=23; total time=   2.8s\n",
      "[CV] END max_depth=19, min_samples_leaf=1, n_estimators=20, random_state=23; total time=   2.6s\n",
      "[CV] END max_depth=19, min_samples_leaf=1, n_estimators=20, random_state=23; total time=   2.8s\n",
      "[CV] END max_depth=17, min_samples_leaf=2, n_estimators=60, random_state=23; total time=   7.3s\n",
      "[CV] END max_depth=17, min_samples_leaf=2, n_estimators=60, random_state=23; total time=   7.4s\n",
      "[CV] END max_depth=17, min_samples_leaf=2, n_estimators=60, random_state=23; total time=   7.6s\n",
      "[CV] END max_depth=17, min_samples_leaf=2, n_estimators=60, random_state=23; total time=   7.4s\n",
      "[CV] END max_depth=17, min_samples_leaf=2, n_estimators=60, random_state=23; total time=   7.6s\n",
      "[CV] END max_depth=19, min_samples_leaf=2, n_estimators=20, random_state=23; total time=   2.6s\n",
      "[CV] END max_depth=19, min_samples_leaf=1, n_estimators=40, random_state=23; total time=   5.6s\n",
      "[CV] END max_depth=19, min_samples_leaf=1, n_estimators=40, random_state=23; total time=   5.7s\n",
      "[CV] END max_depth=19, min_samples_leaf=1, n_estimators=40, random_state=23; total time=   5.5s\n",
      "[CV] END max_depth=19, min_samples_leaf=1, n_estimators=40, random_state=23; total time=   5.8s\n",
      "[CV] END max_depth=19, min_samples_leaf=1, n_estimators=40, random_state=23; total time=   5.7s\n",
      "[CV] END max_depth=19, min_samples_leaf=2, n_estimators=20, random_state=23; total time=   2.6s\n",
      "[CV] END max_depth=19, min_samples_leaf=2, n_estimators=20, random_state=23; total time=   2.6s\n",
      "[CV] END max_depth=19, min_samples_leaf=2, n_estimators=20, random_state=23; total time=   2.6s\n",
      "[CV] END max_depth=19, min_samples_leaf=2, n_estimators=20, random_state=23; total time=   2.9s\n",
      "[CV] END max_depth=19, min_samples_leaf=2, n_estimators=40, random_state=23; total time=   5.3s\n",
      "[CV] END max_depth=19, min_samples_leaf=1, n_estimators=60, random_state=23; total time=   8.3s\n",
      "[CV] END max_depth=19, min_samples_leaf=1, n_estimators=60, random_state=23; total time=   8.5s\n",
      "[CV] END max_depth=19, min_samples_leaf=2, n_estimators=40, random_state=23; total time=   5.2s\n",
      "[CV] END max_depth=19, min_samples_leaf=1, n_estimators=60, random_state=23; total time=   8.5s\n",
      "[CV] END max_depth=19, min_samples_leaf=1, n_estimators=60, random_state=23; total time=   8.3s\n",
      "[CV] END max_depth=19, min_samples_leaf=1, n_estimators=60, random_state=23; total time=   8.1s\n",
      "[CV] END max_depth=19, min_samples_leaf=2, n_estimators=40, random_state=23; total time=   4.8s\n",
      "[CV] END max_depth=19, min_samples_leaf=2, n_estimators=40, random_state=23; total time=   4.7s\n",
      "[CV] END max_depth=19, min_samples_leaf=2, n_estimators=40, random_state=23; total time=   4.8s\n",
      "[CV] END max_depth=19, min_samples_leaf=2, n_estimators=60, random_state=23; total time=   6.6s\n",
      "[CV] END max_depth=19, min_samples_leaf=2, n_estimators=60, random_state=23; total time=   6.7s\n",
      "[CV] END max_depth=19, min_samples_leaf=2, n_estimators=60, random_state=23; total time=   6.4s\n",
      "[CV] END max_depth=19, min_samples_leaf=2, n_estimators=60, random_state=23; total time=   6.6s\n",
      "[CV] END max_depth=19, min_samples_leaf=2, n_estimators=60, random_state=23; total time=   6.6s\n"
     ]
    },
    {
     "data": {
      "text/html": [
       "<style>#sk-container-id-11 {color: black;}#sk-container-id-11 pre{padding: 0;}#sk-container-id-11 div.sk-toggleable {background-color: white;}#sk-container-id-11 label.sk-toggleable__label {cursor: pointer;display: block;width: 100%;margin-bottom: 0;padding: 0.3em;box-sizing: border-box;text-align: center;}#sk-container-id-11 label.sk-toggleable__label-arrow:before {content: \"▸\";float: left;margin-right: 0.25em;color: #696969;}#sk-container-id-11 label.sk-toggleable__label-arrow:hover:before {color: black;}#sk-container-id-11 div.sk-estimator:hover label.sk-toggleable__label-arrow:before {color: black;}#sk-container-id-11 div.sk-toggleable__content {max-height: 0;max-width: 0;overflow: hidden;text-align: left;background-color: #f0f8ff;}#sk-container-id-11 div.sk-toggleable__content pre {margin: 0.2em;color: black;border-radius: 0.25em;background-color: #f0f8ff;}#sk-container-id-11 input.sk-toggleable__control:checked~div.sk-toggleable__content {max-height: 200px;max-width: 100%;overflow: auto;}#sk-container-id-11 input.sk-toggleable__control:checked~label.sk-toggleable__label-arrow:before {content: \"▾\";}#sk-container-id-11 div.sk-estimator input.sk-toggleable__control:checked~label.sk-toggleable__label {background-color: #d4ebff;}#sk-container-id-11 div.sk-label input.sk-toggleable__control:checked~label.sk-toggleable__label {background-color: #d4ebff;}#sk-container-id-11 input.sk-hidden--visually {border: 0;clip: rect(1px 1px 1px 1px);clip: rect(1px, 1px, 1px, 1px);height: 1px;margin: -1px;overflow: hidden;padding: 0;position: absolute;width: 1px;}#sk-container-id-11 div.sk-estimator {font-family: monospace;background-color: #f0f8ff;border: 1px dotted black;border-radius: 0.25em;box-sizing: border-box;margin-bottom: 0.5em;}#sk-container-id-11 div.sk-estimator:hover {background-color: #d4ebff;}#sk-container-id-11 div.sk-parallel-item::after {content: \"\";width: 100%;border-bottom: 1px solid gray;flex-grow: 1;}#sk-container-id-11 div.sk-label:hover label.sk-toggleable__label {background-color: #d4ebff;}#sk-container-id-11 div.sk-serial::before {content: \"\";position: absolute;border-left: 1px solid gray;box-sizing: border-box;top: 0;bottom: 0;left: 50%;z-index: 0;}#sk-container-id-11 div.sk-serial {display: flex;flex-direction: column;align-items: center;background-color: white;padding-right: 0.2em;padding-left: 0.2em;position: relative;}#sk-container-id-11 div.sk-item {position: relative;z-index: 1;}#sk-container-id-11 div.sk-parallel {display: flex;align-items: stretch;justify-content: center;background-color: white;position: relative;}#sk-container-id-11 div.sk-item::before, #sk-container-id-11 div.sk-parallel-item::before {content: \"\";position: absolute;border-left: 1px solid gray;box-sizing: border-box;top: 0;bottom: 0;left: 50%;z-index: -1;}#sk-container-id-11 div.sk-parallel-item {display: flex;flex-direction: column;z-index: 1;position: relative;background-color: white;}#sk-container-id-11 div.sk-parallel-item:first-child::after {align-self: flex-end;width: 50%;}#sk-container-id-11 div.sk-parallel-item:last-child::after {align-self: flex-start;width: 50%;}#sk-container-id-11 div.sk-parallel-item:only-child::after {width: 0;}#sk-container-id-11 div.sk-dashed-wrapped {border: 1px dashed gray;margin: 0 0.4em 0.5em 0.4em;box-sizing: border-box;padding-bottom: 0.4em;background-color: white;}#sk-container-id-11 div.sk-label label {font-family: monospace;font-weight: bold;display: inline-block;line-height: 1.2em;}#sk-container-id-11 div.sk-label-container {text-align: center;}#sk-container-id-11 div.sk-container {/* jupyter's `normalize.less` sets `[hidden] { display: none; }` but bootstrap.min.css set `[hidden] { display: none !important; }` so we also need the `!important` here to be able to override the default hidden behavior on the sphinx rendered scikit-learn.org. See: https://github.com/scikit-learn/scikit-learn/issues/21755 */display: inline-block !important;position: relative;}#sk-container-id-11 div.sk-text-repr-fallback {display: none;}</style><div id=\"sk-container-id-11\" class=\"sk-top-container\"><div class=\"sk-text-repr-fallback\"><pre>GridSearchCV(cv=ShuffleSplit(n_splits=5, random_state=None, test_size=0.4285714285714286,\n",
       "       train_size=None),\n",
       "             estimator=RandomForestRegressor(max_depth=5, n_estimators=2),\n",
       "             n_jobs=-1,\n",
       "             param_grid={&#x27;max_depth&#x27;: [11, 13, 15, 17, 19],\n",
       "                         &#x27;min_samples_leaf&#x27;: [1, 2],\n",
       "                         &#x27;n_estimators&#x27;: [20, 40, 60], &#x27;random_state&#x27;: [23]},\n",
       "             scoring=&#x27;neg_mean_squared_error&#x27;, verbose=2)</pre><b>In a Jupyter environment, please rerun this cell to show the HTML representation or trust the notebook. <br />On GitHub, the HTML representation is unable to render, please try loading this page with nbviewer.org.</b></div><div class=\"sk-container\" hidden><div class=\"sk-item sk-dashed-wrapped\"><div class=\"sk-label-container\"><div class=\"sk-label sk-toggleable\"><input class=\"sk-toggleable__control sk-hidden--visually\" id=\"sk-estimator-id-17\" type=\"checkbox\" ><label for=\"sk-estimator-id-17\" class=\"sk-toggleable__label sk-toggleable__label-arrow\">GridSearchCV</label><div class=\"sk-toggleable__content\"><pre>GridSearchCV(cv=ShuffleSplit(n_splits=5, random_state=None, test_size=0.4285714285714286,\n",
       "       train_size=None),\n",
       "             estimator=RandomForestRegressor(max_depth=5, n_estimators=2),\n",
       "             n_jobs=-1,\n",
       "             param_grid={&#x27;max_depth&#x27;: [11, 13, 15, 17, 19],\n",
       "                         &#x27;min_samples_leaf&#x27;: [1, 2],\n",
       "                         &#x27;n_estimators&#x27;: [20, 40, 60], &#x27;random_state&#x27;: [23]},\n",
       "             scoring=&#x27;neg_mean_squared_error&#x27;, verbose=2)</pre></div></div></div><div class=\"sk-parallel\"><div class=\"sk-parallel-item\"><div class=\"sk-item\"><div class=\"sk-label-container\"><div class=\"sk-label sk-toggleable\"><input class=\"sk-toggleable__control sk-hidden--visually\" id=\"sk-estimator-id-18\" type=\"checkbox\" ><label for=\"sk-estimator-id-18\" class=\"sk-toggleable__label sk-toggleable__label-arrow\">estimator: RandomForestRegressor</label><div class=\"sk-toggleable__content\"><pre>RandomForestRegressor(max_depth=5, n_estimators=2)</pre></div></div></div><div class=\"sk-serial\"><div class=\"sk-item\"><div class=\"sk-estimator sk-toggleable\"><input class=\"sk-toggleable__control sk-hidden--visually\" id=\"sk-estimator-id-19\" type=\"checkbox\" ><label for=\"sk-estimator-id-19\" class=\"sk-toggleable__label sk-toggleable__label-arrow\">RandomForestRegressor</label><div class=\"sk-toggleable__content\"><pre>RandomForestRegressor(max_depth=5, n_estimators=2)</pre></div></div></div></div></div></div></div></div></div></div>"
      ],
      "text/plain": [
       "GridSearchCV(cv=ShuffleSplit(n_splits=5, random_state=None, test_size=0.4285714285714286,\n",
       "       train_size=None),\n",
       "             estimator=RandomForestRegressor(max_depth=5, n_estimators=2),\n",
       "             n_jobs=-1,\n",
       "             param_grid={'max_depth': [11, 13, 15, 17, 19],\n",
       "                         'min_samples_leaf': [1, 2],\n",
       "                         'n_estimators': [20, 40, 60], 'random_state': [23]},\n",
       "             scoring='neg_mean_squared_error', verbose=2)"
      ]
     },
     "execution_count": 66,
     "metadata": {},
     "output_type": "execute_result"
    }
   ],
   "source": [
    "#Nota: Correr esta celda toma un tiempo considerable\n",
    "forest_reg_pca = GridSearchCV(estimator = estimator3,\n",
    "                        param_grid = parametros,\n",
    "                        cv = ShuffleSplit(n_splits= 5, test_size=val_size), \n",
    "                        scoring = 'neg_mean_squared_error',\n",
    "                        verbose = 2,\n",
    "                        n_jobs = -1)\n",
    "forest_reg_pca.fit(Xtv, ytv)"
   ]
  },
  {
   "cell_type": "code",
   "execution_count": 67,
   "metadata": {},
   "outputs": [
    {
     "name": "stdout",
     "output_type": "stream",
     "text": [
      "Mejor estimador Random Forest:  RandomForestRegressor(max_depth=11, n_estimators=60, random_state=23)\n",
      "Mejores parámetros para el estimador Random Forest:  {'max_depth': 11, 'min_samples_leaf': 1, 'n_estimators': 60, 'random_state': 23}\n"
     ]
    }
   ],
   "source": [
    "print(\"Mejor estimador Random Forest: \",forest_reg_pca.best_estimator_)\n",
    "print(\"Mejores parámetros para el estimador Random Forest: \", forest_reg_pca.best_params_)"
   ]
  },
  {
   "cell_type": "code",
   "execution_count": 68,
   "metadata": {},
   "outputs": [
    {
     "data": {
      "text/html": [
       "<style>#sk-container-id-12 {color: black;}#sk-container-id-12 pre{padding: 0;}#sk-container-id-12 div.sk-toggleable {background-color: white;}#sk-container-id-12 label.sk-toggleable__label {cursor: pointer;display: block;width: 100%;margin-bottom: 0;padding: 0.3em;box-sizing: border-box;text-align: center;}#sk-container-id-12 label.sk-toggleable__label-arrow:before {content: \"▸\";float: left;margin-right: 0.25em;color: #696969;}#sk-container-id-12 label.sk-toggleable__label-arrow:hover:before {color: black;}#sk-container-id-12 div.sk-estimator:hover label.sk-toggleable__label-arrow:before {color: black;}#sk-container-id-12 div.sk-toggleable__content {max-height: 0;max-width: 0;overflow: hidden;text-align: left;background-color: #f0f8ff;}#sk-container-id-12 div.sk-toggleable__content pre {margin: 0.2em;color: black;border-radius: 0.25em;background-color: #f0f8ff;}#sk-container-id-12 input.sk-toggleable__control:checked~div.sk-toggleable__content {max-height: 200px;max-width: 100%;overflow: auto;}#sk-container-id-12 input.sk-toggleable__control:checked~label.sk-toggleable__label-arrow:before {content: \"▾\";}#sk-container-id-12 div.sk-estimator input.sk-toggleable__control:checked~label.sk-toggleable__label {background-color: #d4ebff;}#sk-container-id-12 div.sk-label input.sk-toggleable__control:checked~label.sk-toggleable__label {background-color: #d4ebff;}#sk-container-id-12 input.sk-hidden--visually {border: 0;clip: rect(1px 1px 1px 1px);clip: rect(1px, 1px, 1px, 1px);height: 1px;margin: -1px;overflow: hidden;padding: 0;position: absolute;width: 1px;}#sk-container-id-12 div.sk-estimator {font-family: monospace;background-color: #f0f8ff;border: 1px dotted black;border-radius: 0.25em;box-sizing: border-box;margin-bottom: 0.5em;}#sk-container-id-12 div.sk-estimator:hover {background-color: #d4ebff;}#sk-container-id-12 div.sk-parallel-item::after {content: \"\";width: 100%;border-bottom: 1px solid gray;flex-grow: 1;}#sk-container-id-12 div.sk-label:hover label.sk-toggleable__label {background-color: #d4ebff;}#sk-container-id-12 div.sk-serial::before {content: \"\";position: absolute;border-left: 1px solid gray;box-sizing: border-box;top: 0;bottom: 0;left: 50%;z-index: 0;}#sk-container-id-12 div.sk-serial {display: flex;flex-direction: column;align-items: center;background-color: white;padding-right: 0.2em;padding-left: 0.2em;position: relative;}#sk-container-id-12 div.sk-item {position: relative;z-index: 1;}#sk-container-id-12 div.sk-parallel {display: flex;align-items: stretch;justify-content: center;background-color: white;position: relative;}#sk-container-id-12 div.sk-item::before, #sk-container-id-12 div.sk-parallel-item::before {content: \"\";position: absolute;border-left: 1px solid gray;box-sizing: border-box;top: 0;bottom: 0;left: 50%;z-index: -1;}#sk-container-id-12 div.sk-parallel-item {display: flex;flex-direction: column;z-index: 1;position: relative;background-color: white;}#sk-container-id-12 div.sk-parallel-item:first-child::after {align-self: flex-end;width: 50%;}#sk-container-id-12 div.sk-parallel-item:last-child::after {align-self: flex-start;width: 50%;}#sk-container-id-12 div.sk-parallel-item:only-child::after {width: 0;}#sk-container-id-12 div.sk-dashed-wrapped {border: 1px dashed gray;margin: 0 0.4em 0.5em 0.4em;box-sizing: border-box;padding-bottom: 0.4em;background-color: white;}#sk-container-id-12 div.sk-label label {font-family: monospace;font-weight: bold;display: inline-block;line-height: 1.2em;}#sk-container-id-12 div.sk-label-container {text-align: center;}#sk-container-id-12 div.sk-container {/* jupyter's `normalize.less` sets `[hidden] { display: none; }` but bootstrap.min.css set `[hidden] { display: none !important; }` so we also need the `!important` here to be able to override the default hidden behavior on the sphinx rendered scikit-learn.org. See: https://github.com/scikit-learn/scikit-learn/issues/21755 */display: inline-block !important;position: relative;}#sk-container-id-12 div.sk-text-repr-fallback {display: none;}</style><div id=\"sk-container-id-12\" class=\"sk-top-container\"><div class=\"sk-text-repr-fallback\"><pre>RandomForestRegressor(max_depth=11, n_estimators=60, random_state=23)</pre><b>In a Jupyter environment, please rerun this cell to show the HTML representation or trust the notebook. <br />On GitHub, the HTML representation is unable to render, please try loading this page with nbviewer.org.</b></div><div class=\"sk-container\" hidden><div class=\"sk-item\"><div class=\"sk-estimator sk-toggleable\"><input class=\"sk-toggleable__control sk-hidden--visually\" id=\"sk-estimator-id-20\" type=\"checkbox\" checked><label for=\"sk-estimator-id-20\" class=\"sk-toggleable__label sk-toggleable__label-arrow\">RandomForestRegressor</label><div class=\"sk-toggleable__content\"><pre>RandomForestRegressor(max_depth=11, n_estimators=60, random_state=23)</pre></div></div></div></div></div>"
      ],
      "text/plain": [
       "RandomForestRegressor(max_depth=11, n_estimators=60, random_state=23)"
      ]
     },
     "execution_count": 68,
     "metadata": {},
     "output_type": "execute_result"
    }
   ],
   "source": [
    "#Mejor random forest para el PCA obtenido\n",
    "Rdm_forest_pca = RandomForestRegressor(n_estimators =forest_reg_pca.best_params_[\"n_estimators\"] \n",
    "                                   ,max_depth = forest_reg_pca.best_params_[\"max_depth\"],\n",
    "                                   min_samples_leaf=forest_reg_pca.best_params_[\"min_samples_leaf\"],\n",
    "                                   random_state=forest_reg_pca.best_params_[\"random_state\"])\n",
    "Rdm_forest_pca.fit(Xtv, ytv)"
   ]
  },
  {
   "cell_type": "code",
   "execution_count": 69,
   "metadata": {},
   "outputs": [
    {
     "name": "stdout",
     "output_type": "stream",
     "text": [
      "RMSE Random Forest en entrenamiento:  0.40576\n",
      "RMSE del Random Forest seleccionado:  0.51393\n"
     ]
    }
   ],
   "source": [
    "#Desempeño del modelo Random Forest seleccionado\n",
    "print('RMSE Random Forest en entrenamiento: ',\"{:.5f}\".format(mean_squared_error(ytv , Rdm_forest_pca.predict(Xtv),squared=False)))\n",
    "print('RMSE del Random Forest seleccionado: ',\"{:.5f}\".format(mean_squared_error(yts , Rdm_forest_pca.predict(Xts),squared=False)))"
   ]
  },
  {
   "cell_type": "code",
   "execution_count": 70,
   "metadata": {},
   "outputs": [],
   "source": [
    "df1=train_test_evaluate(\"Mejor Random Forest+PCA\", Rdm_forest_pca, Xtv, ytv, Xts, yts)\n",
    "result_df=pd.concat([result_df,df1],ignore_index=True)"
   ]
  },
  {
   "attachments": {},
   "cell_type": "markdown",
   "metadata": {},
   "source": [
    "### 3.1.2 PCA+Decision Tree"
   ]
  },
  {
   "cell_type": "code",
   "execution_count": 28,
   "metadata": {},
   "outputs": [
    {
     "name": "stdout",
     "output_type": "stream",
     "text": [
      "(30207, 1) (12947, 1)\n",
      "(30207, 3) (12947, 3)\n",
      "(30207, 5) (12947, 5)\n",
      "(30207, 7) (12947, 7)\n",
      "(30207, 9) (12947, 9)\n",
      "Mejor RMSE:  0.52707   ; obtenido con  9  componentes para PCA\n",
      "(30207, 9) (12947, 9)\n",
      "Fitting 5 folds for each of 9 candidates, totalling 45 fits\n",
      "[CV] END ........................................max_depth=2; total time=   0.0s\n",
      "[CV] END ........................................max_depth=2; total time=   0.0s\n",
      "[CV] END ........................................max_depth=2; total time=   0.0s\n",
      "[CV] END ........................................max_depth=2; total time=   0.0s\n",
      "[CV] END ........................................max_depth=2; total time=   0.0s\n",
      "[CV] END ........................................max_depth=5; total time=   0.1s\n",
      "[CV] END ........................................max_depth=5; total time=   0.1s\n",
      "[CV] END ........................................max_depth=5; total time=   0.1s\n",
      "[CV] END ........................................max_depth=5; total time=   0.1s\n",
      "[CV] END ........................................max_depth=8; total time=   0.1s\n",
      "[CV] END ........................................max_depth=5; total time=   0.2s\n",
      "[CV] END ........................................max_depth=8; total time=   0.1s\n",
      "[CV] END ........................................max_depth=8; total time=   0.2s\n",
      "[CV] END ........................................max_depth=8; total time=   0.2s\n",
      "[CV] END ........................................max_depth=8; total time=   0.2s\n",
      "[CV] END .......................................max_depth=12; total time=   0.2s\n",
      "[CV] END .......................................max_depth=12; total time=   0.2s\n",
      "[CV] END .......................................max_depth=12; total time=   0.2s\n",
      "[CV] END .......................................max_depth=12; total time=   0.2s\n",
      "[CV] END .......................................max_depth=12; total time=   0.2s\n",
      "[CV] END .......................................max_depth=15; total time=   0.2s\n",
      "[CV] END .......................................max_depth=15; total time=   0.2s\n",
      "[CV] END .......................................max_depth=15; total time=   0.2s\n",
      "[CV] END .......................................max_depth=15; total time=   0.2s\n",
      "[CV] END .......................................max_depth=15; total time=   0.2s\n",
      "[CV] END .......................................max_depth=20; total time=   0.2s\n",
      "[CV] END .......................................max_depth=20; total time=   0.2s\n",
      "[CV] END .......................................max_depth=20; total time=   0.2s\n",
      "[CV] END .......................................max_depth=20; total time=   0.2s\n",
      "[CV] END .......................................max_depth=20; total time=   0.3s\n",
      "[CV] END .......................................max_depth=30; total time=   0.2s\n",
      "[CV] END .......................................max_depth=30; total time=   0.2s\n",
      "[CV] END .......................................max_depth=30; total time=   0.3s\n",
      "[CV] END .......................................max_depth=30; total time=   0.2s\n",
      "[CV] END .......................................max_depth=30; total time=   0.2s\n",
      "[CV] END .......................................max_depth=40; total time=   0.2s\n",
      "[CV] END .......................................max_depth=40; total time=   0.2s\n",
      "[CV] END .......................................max_depth=40; total time=   0.2s\n",
      "[CV] END .......................................max_depth=40; total time=   0.2s\n",
      "[CV] END .......................................max_depth=50; total time=   0.2s\n",
      "[CV] END .......................................max_depth=40; total time=   0.2s\n",
      "[CV] END .......................................max_depth=50; total time=   0.2s\n",
      "[CV] END .......................................max_depth=50; total time=   0.2s\n",
      "[CV] END .......................................max_depth=50; total time=   0.2s\n",
      "[CV] END .......................................max_depth=50; total time=   0.2s\n"
     ]
    }
   ],
   "source": [
    "perf_pca_des = [] \n",
    "Des_tree = DecisionTreeRegressor(max_depth=decission_tree.best_params_[\"max_depth\"])\n",
    "for i in components:\n",
    "    pca = PCA(n_components = i)\n",
    "    X_t = pca.fit_transform(x)\n",
    "    Xtv, Xts, ytv, yts = train_test_split(X_t, y, test_size=test_size)\n",
    "    print (Xtv.shape, Xts.shape)\n",
    "    Des_tree.fit(Xtv, ytv)\n",
    "    perf_pca_des.append(mean_squared_error(yts , Des_tree.predict(Xts),squared=False))\n",
    "print('Mejor RMSE: ',\"{:.5f}\".format(np.min(perf_pca_des)),\n",
    "        '  ; obtenido con ',components[np.argmin(perf_pca_des)],' componentes para PCA')\n",
    "pca = PCA(n_components = components[np.argmin(perf_pca_des)])\n",
    "X_t1 = pca.fit_transform(x)\n",
    "Xtv, Xts, ytv, yts = train_test_split(X_t1, y, test_size=test_size)\n",
    "print (Xtv.shape, Xts.shape)\n",
    "decission_tree_pca = GridSearchCV(estimator = estimator2,\n",
    "                        param_grid = parametros_destree,\n",
    "                        cv = ShuffleSplit(n_splits= 5, test_size=val_size), \n",
    "                        scoring = 'neg_mean_squared_error',\n",
    "                        verbose = 2,\n",
    "                        n_jobs = -1)\n",
    "decission_tree_pca.fit(Xtv, ytv)\n",
    "Des_tree = DecisionTreeRegressor(max_depth=decission_tree_pca.best_params_[\"max_depth\"])\n",
    "Des_tree.fit(Xtv,ytv)\n",
    "df1=train_test_evaluate(\"Mejor Decision Tree+PCA\", Des_tree, Xtv, ytv, Xts, yts)\n",
    "result_df=pd.concat([result_df,df1],ignore_index=True)\n"
   ]
  },
  {
   "attachments": {},
   "cell_type": "markdown",
   "metadata": {},
   "source": [
    "### 3.2 NMF"
   ]
  },
  {
   "attachments": {},
   "cell_type": "markdown",
   "metadata": {},
   "source": [
    "Primeramente eliminamos las columnas con valores negativos"
   ]
  },
  {
   "cell_type": "code",
   "execution_count": 29,
   "metadata": {},
   "outputs": [],
   "source": [
    "numeric_columns = x.select_dtypes(include=[np.number])\n",
    "negative_columns = numeric_columns.columns[numeric_columns.lt(0).any()]\n",
    "x2=x.drop(negative_columns,axis=1)"
   ]
  },
  {
   "cell_type": "code",
   "execution_count": 30,
   "metadata": {},
   "outputs": [
    {
     "name": "stdout",
     "output_type": "stream",
     "text": [
      "(30207, 1) (12947, 1)\n",
      "RMSE del modelo con  1 elementos:  0.94948\n",
      "------------\n",
      "(30207, 3) (12947, 3)\n",
      "RMSE del modelo con  3 elementos:  0.82054\n",
      "------------\n",
      "(30207, 5) (12947, 5)\n",
      "RMSE del modelo con  5 elementos:  0.73086\n",
      "------------\n",
      "(30207, 7) (12947, 7)\n",
      "RMSE del modelo con  7 elementos:  0.81837\n",
      "------------\n",
      "(30207, 9) (12947, 9)\n",
      "RMSE del modelo con  9 elementos:  0.72448\n",
      "------------\n",
      "Mejor RMSE:  0.72448   ; obtenido con  9  componentes para NMF\n"
     ]
    }
   ],
   "source": [
    "\n",
    "test_size = 0.3\n",
    "val_size  = test_size/(1-test_size)\n",
    "perf_nmf = [] #desempeños de los modelos\n",
    "Rdm_forest = RandomForestRegressor(n_estimators =forest_reg.best_params_[\"n_estimators\"] \n",
    "                                   ,max_depth = forest_reg.best_params_[\"max_depth\"],\n",
    "                                   min_samples_leaf=forest_reg.best_params_[\"min_samples_leaf\"],\n",
    "                                   random_state=forest_reg.best_params_[\"random_state\"])\n",
    "for i in components:\n",
    "    nmf = NMF(n_components = i,max_iter=1000)\n",
    "    X_t = nmf.fit_transform(x2)\n",
    "    \n",
    "    Xtv, Xts, ytv, yts = train_test_split(X_t, y, test_size=test_size)\n",
    "    print (Xtv.shape, Xts.shape)\n",
    "    \n",
    "    Rdm_forest.fit(Xtv, ytv)\n",
    "    perf_nmf.append(mean_squared_error(yts , Rdm_forest.predict(Xts),squared=False))\n",
    "    print('RMSE del modelo con ', i ,'elementos: ',\"{:.5f}\".format(mean_squared_error(yts , Rdm_forest.predict(Xts),squared=False)))\n",
    "    print('------------')\n",
    "\n",
    "print('Mejor RMSE: ',\"{:.5f}\".format(np.min(perf_nmf)),'  ; obtenido con ',components[np.argmin(perf_nmf)],' componentes para NMF')"
   ]
  },
  {
   "cell_type": "code",
   "execution_count": 31,
   "metadata": {},
   "outputs": [
    {
     "name": "stdout",
     "output_type": "stream",
     "text": [
      "(30207, 9) (12947, 9)\n"
     ]
    }
   ],
   "source": [
    "#MEJOR NMF\n",
    "test_size = 0.3\n",
    "val_size  = test_size/(1-test_size)\n",
    "nmf = NMF(n_components = components[np.argmin(perf_nmf)])\n",
    "X_t2 = nmf.fit_transform(x2)\n",
    "Xtv, Xts, ytv, yts = train_test_split(X_t2, y, test_size=test_size)\n",
    "print (Xtv.shape, Xts.shape)"
   ]
  },
  {
   "attachments": {},
   "cell_type": "markdown",
   "metadata": {},
   "source": [
    "### 3.2.1 NMF+RandomForest"
   ]
  },
  {
   "cell_type": "code",
   "execution_count": 32,
   "metadata": {},
   "outputs": [
    {
     "name": "stdout",
     "output_type": "stream",
     "text": [
      "Fitting 5 folds for each of 30 candidates, totalling 150 fits\n",
      "[CV] END max_depth=11, min_samples_leaf=1, n_estimators=20, random_state=23; total time=   0.8s\n",
      "[CV] END max_depth=11, min_samples_leaf=1, n_estimators=20, random_state=23; total time=   0.9s\n",
      "[CV] END max_depth=11, min_samples_leaf=1, n_estimators=20, random_state=23; total time=   0.9s\n",
      "[CV] END max_depth=11, min_samples_leaf=1, n_estimators=20, random_state=23; total time=   0.9s\n",
      "[CV] END max_depth=11, min_samples_leaf=1, n_estimators=20, random_state=23; total time=   0.9s\n",
      "[CV] END max_depth=11, min_samples_leaf=2, n_estimators=20, random_state=23; total time=   0.9s\n",
      "[CV] END max_depth=11, min_samples_leaf=1, n_estimators=40, random_state=23; total time=   1.7s\n",
      "[CV] END max_depth=11, min_samples_leaf=2, n_estimators=20, random_state=23; total time=   0.9s\n",
      "[CV] END max_depth=11, min_samples_leaf=2, n_estimators=20, random_state=23; total time=   0.9s\n",
      "[CV] END max_depth=11, min_samples_leaf=2, n_estimators=20, random_state=23; total time=   0.8s\n",
      "[CV] END max_depth=11, min_samples_leaf=2, n_estimators=20, random_state=23; total time=   0.9s\n",
      "[CV] END max_depth=11, min_samples_leaf=1, n_estimators=40, random_state=23; total time=   1.8s\n",
      "[CV] END max_depth=11, min_samples_leaf=1, n_estimators=40, random_state=23; total time=   1.8s\n",
      "[CV] END max_depth=11, min_samples_leaf=1, n_estimators=40, random_state=23; total time=   1.9s\n",
      "[CV] END max_depth=11, min_samples_leaf=1, n_estimators=40, random_state=23; total time=   1.9s\n",
      "[CV] END max_depth=11, min_samples_leaf=2, n_estimators=40, random_state=23; total time=   1.7s\n",
      "[CV] END max_depth=11, min_samples_leaf=1, n_estimators=60, random_state=23; total time=   2.6s\n",
      "[CV] END max_depth=11, min_samples_leaf=1, n_estimators=60, random_state=23; total time=   2.6s\n",
      "[CV] END max_depth=11, min_samples_leaf=1, n_estimators=60, random_state=23; total time=   2.6s\n",
      "[CV] END max_depth=11, min_samples_leaf=1, n_estimators=60, random_state=23; total time=   2.6s\n",
      "[CV] END max_depth=11, min_samples_leaf=1, n_estimators=60, random_state=23; total time=   2.6s\n",
      "[CV] END max_depth=11, min_samples_leaf=2, n_estimators=40, random_state=23; total time=   1.8s\n",
      "[CV] END max_depth=13, min_samples_leaf=1, n_estimators=20, random_state=23; total time=   1.0s\n",
      "[CV] END max_depth=11, min_samples_leaf=2, n_estimators=40, random_state=23; total time=   1.7s\n",
      "[CV] END max_depth=11, min_samples_leaf=2, n_estimators=40, random_state=23; total time=   1.7s\n",
      "[CV] END max_depth=11, min_samples_leaf=2, n_estimators=40, random_state=23; total time=   1.8s\n",
      "[CV] END max_depth=13, min_samples_leaf=1, n_estimators=20, random_state=23; total time=   1.0s\n",
      "[CV] END max_depth=13, min_samples_leaf=1, n_estimators=20, random_state=23; total time=   1.0s\n",
      "[CV] END max_depth=13, min_samples_leaf=1, n_estimators=20, random_state=23; total time=   1.0s\n",
      "[CV] END max_depth=13, min_samples_leaf=1, n_estimators=20, random_state=23; total time=   1.0s\n",
      "[CV] END max_depth=11, min_samples_leaf=2, n_estimators=60, random_state=23; total time=   2.6s\n",
      "[CV] END max_depth=11, min_samples_leaf=2, n_estimators=60, random_state=23; total time=   2.6s\n",
      "[CV] END max_depth=11, min_samples_leaf=2, n_estimators=60, random_state=23; total time=   2.7s\n",
      "[CV] END max_depth=11, min_samples_leaf=2, n_estimators=60, random_state=23; total time=   2.6s\n",
      "[CV] END max_depth=11, min_samples_leaf=2, n_estimators=60, random_state=23; total time=   2.8s\n",
      "[CV] END max_depth=13, min_samples_leaf=1, n_estimators=40, random_state=23; total time=   1.9s\n",
      "[CV] END max_depth=13, min_samples_leaf=1, n_estimators=40, random_state=23; total time=   2.0s\n",
      "[CV] END max_depth=13, min_samples_leaf=2, n_estimators=20, random_state=23; total time=   1.0s\n",
      "[CV] END max_depth=13, min_samples_leaf=1, n_estimators=40, random_state=23; total time=   2.0s\n",
      "[CV] END max_depth=13, min_samples_leaf=1, n_estimators=40, random_state=23; total time=   2.0s\n",
      "[CV] END max_depth=13, min_samples_leaf=2, n_estimators=20, random_state=23; total time=   1.0s\n",
      "[CV] END max_depth=13, min_samples_leaf=1, n_estimators=40, random_state=23; total time=   2.0s\n",
      "[CV] END max_depth=13, min_samples_leaf=2, n_estimators=20, random_state=23; total time=   1.0s\n",
      "[CV] END max_depth=13, min_samples_leaf=2, n_estimators=20, random_state=23; total time=   1.0s\n",
      "[CV] END max_depth=13, min_samples_leaf=2, n_estimators=20, random_state=23; total time=   1.0s\n",
      "[CV] END max_depth=13, min_samples_leaf=1, n_estimators=60, random_state=23; total time=   3.0s\n",
      "[CV] END max_depth=13, min_samples_leaf=1, n_estimators=60, random_state=23; total time=   3.0s\n",
      "[CV] END max_depth=13, min_samples_leaf=1, n_estimators=60, random_state=23; total time=   2.9s\n",
      "[CV] END max_depth=13, min_samples_leaf=2, n_estimators=40, random_state=23; total time=   1.9s\n",
      "[CV] END max_depth=15, min_samples_leaf=1, n_estimators=20, random_state=23; total time=   1.2s\n",
      "[CV] END max_depth=13, min_samples_leaf=2, n_estimators=40, random_state=23; total time=   1.9s\n",
      "[CV] END max_depth=13, min_samples_leaf=2, n_estimators=40, random_state=23; total time=   2.1s\n",
      "[CV] END max_depth=13, min_samples_leaf=2, n_estimators=40, random_state=23; total time=   2.0s\n",
      "[CV] END max_depth=13, min_samples_leaf=1, n_estimators=60, random_state=23; total time=   3.1s\n",
      "[CV] END max_depth=13, min_samples_leaf=1, n_estimators=60, random_state=23; total time=   3.1s\n",
      "[CV] END max_depth=13, min_samples_leaf=2, n_estimators=40, random_state=23; total time=   2.0s\n",
      "[CV] END max_depth=15, min_samples_leaf=1, n_estimators=20, random_state=23; total time=   1.1s\n",
      "[CV] END max_depth=15, min_samples_leaf=1, n_estimators=20, random_state=23; total time=   1.2s\n",
      "[CV] END max_depth=15, min_samples_leaf=1, n_estimators=20, random_state=23; total time=   1.1s\n",
      "[CV] END max_depth=15, min_samples_leaf=1, n_estimators=20, random_state=23; total time=   1.2s\n",
      "[CV] END max_depth=13, min_samples_leaf=2, n_estimators=60, random_state=23; total time=   3.0s\n",
      "[CV] END max_depth=13, min_samples_leaf=2, n_estimators=60, random_state=23; total time=   3.0s\n",
      "[CV] END max_depth=13, min_samples_leaf=2, n_estimators=60, random_state=23; total time=   2.9s\n",
      "[CV] END max_depth=13, min_samples_leaf=2, n_estimators=60, random_state=23; total time=   3.0s\n",
      "[CV] END max_depth=13, min_samples_leaf=2, n_estimators=60, random_state=23; total time=   2.9s\n",
      "[CV] END max_depth=15, min_samples_leaf=1, n_estimators=40, random_state=23; total time=   2.2s\n",
      "[CV] END max_depth=15, min_samples_leaf=1, n_estimators=40, random_state=23; total time=   2.2s\n",
      "[CV] END max_depth=15, min_samples_leaf=2, n_estimators=20, random_state=23; total time=   1.1s\n",
      "[CV] END max_depth=15, min_samples_leaf=1, n_estimators=40, random_state=23; total time=   2.2s\n",
      "[CV] END max_depth=15, min_samples_leaf=2, n_estimators=20, random_state=23; total time=   1.1s\n",
      "[CV] END max_depth=15, min_samples_leaf=1, n_estimators=40, random_state=23; total time=   2.4s\n",
      "[CV] END max_depth=15, min_samples_leaf=1, n_estimators=40, random_state=23; total time=   2.4s\n",
      "[CV] END max_depth=15, min_samples_leaf=2, n_estimators=20, random_state=23; total time=   1.1s\n",
      "[CV] END max_depth=15, min_samples_leaf=2, n_estimators=20, random_state=23; total time=   1.1s\n",
      "[CV] END max_depth=15, min_samples_leaf=2, n_estimators=20, random_state=23; total time=   1.1s\n",
      "[CV] END max_depth=15, min_samples_leaf=1, n_estimators=60, random_state=23; total time=   3.5s\n",
      "[CV] END max_depth=15, min_samples_leaf=2, n_estimators=40, random_state=23; total time=   2.2s\n",
      "[CV] END max_depth=17, min_samples_leaf=1, n_estimators=20, random_state=23; total time=   1.2s\n",
      "[CV] END max_depth=15, min_samples_leaf=1, n_estimators=60, random_state=23; total time=   3.9s\n",
      "[CV] END max_depth=15, min_samples_leaf=2, n_estimators=40, random_state=23; total time=   2.2s\n",
      "[CV] END max_depth=15, min_samples_leaf=1, n_estimators=60, random_state=23; total time=   3.4s\n",
      "[CV] END max_depth=15, min_samples_leaf=2, n_estimators=40, random_state=23; total time=   2.3s\n",
      "[CV] END max_depth=15, min_samples_leaf=1, n_estimators=60, random_state=23; total time=   3.4s\n",
      "[CV] END max_depth=15, min_samples_leaf=1, n_estimators=60, random_state=23; total time=   3.3s\n",
      "[CV] END max_depth=15, min_samples_leaf=2, n_estimators=40, random_state=23; total time=   2.3s\n",
      "[CV] END max_depth=15, min_samples_leaf=2, n_estimators=40, random_state=23; total time=   2.3s\n",
      "[CV] END max_depth=17, min_samples_leaf=1, n_estimators=20, random_state=23; total time=   1.2s\n",
      "[CV] END max_depth=17, min_samples_leaf=1, n_estimators=20, random_state=23; total time=   1.2s\n",
      "[CV] END max_depth=17, min_samples_leaf=1, n_estimators=20, random_state=23; total time=   1.3s\n",
      "[CV] END max_depth=17, min_samples_leaf=1, n_estimators=20, random_state=23; total time=   1.3s\n",
      "[CV] END max_depth=15, min_samples_leaf=2, n_estimators=60, random_state=23; total time=   3.3s\n",
      "[CV] END max_depth=15, min_samples_leaf=2, n_estimators=60, random_state=23; total time=   3.3s\n",
      "[CV] END max_depth=15, min_samples_leaf=2, n_estimators=60, random_state=23; total time=   3.5s\n",
      "[CV] END max_depth=15, min_samples_leaf=2, n_estimators=60, random_state=23; total time=   3.3s\n",
      "[CV] END max_depth=15, min_samples_leaf=2, n_estimators=60, random_state=23; total time=   3.3s\n",
      "[CV] END max_depth=17, min_samples_leaf=2, n_estimators=20, random_state=23; total time=   1.2s\n",
      "[CV] END max_depth=17, min_samples_leaf=1, n_estimators=40, random_state=23; total time=   2.4s\n",
      "[CV] END max_depth=17, min_samples_leaf=2, n_estimators=20, random_state=23; total time=   1.2s\n",
      "[CV] END max_depth=17, min_samples_leaf=2, n_estimators=20, random_state=23; total time=   1.2s\n",
      "[CV] END max_depth=17, min_samples_leaf=1, n_estimators=40, random_state=23; total time=   2.5s\n",
      "[CV] END max_depth=17, min_samples_leaf=1, n_estimators=40, random_state=23; total time=   2.6s\n",
      "[CV] END max_depth=17, min_samples_leaf=1, n_estimators=40, random_state=23; total time=   2.6s\n",
      "[CV] END max_depth=17, min_samples_leaf=1, n_estimators=40, random_state=23; total time=   2.6s\n",
      "[CV] END max_depth=17, min_samples_leaf=2, n_estimators=20, random_state=23; total time=   1.3s\n",
      "[CV] END max_depth=17, min_samples_leaf=2, n_estimators=20, random_state=23; total time=   1.2s\n",
      "[CV] END max_depth=17, min_samples_leaf=1, n_estimators=60, random_state=23; total time=   3.6s\n",
      "[CV] END max_depth=17, min_samples_leaf=1, n_estimators=60, random_state=23; total time=   3.8s\n",
      "[CV] END max_depth=17, min_samples_leaf=2, n_estimators=40, random_state=23; total time=   2.4s\n",
      "[CV] END max_depth=19, min_samples_leaf=1, n_estimators=20, random_state=23; total time=   1.3s\n",
      "[CV] END max_depth=17, min_samples_leaf=1, n_estimators=60, random_state=23; total time=   3.7s\n",
      "[CV] END max_depth=17, min_samples_leaf=1, n_estimators=60, random_state=23; total time=   3.6s\n",
      "[CV] END max_depth=17, min_samples_leaf=2, n_estimators=40, random_state=23; total time=   2.5s\n",
      "[CV] END max_depth=17, min_samples_leaf=1, n_estimators=60, random_state=23; total time=   3.7s\n",
      "[CV] END max_depth=17, min_samples_leaf=2, n_estimators=40, random_state=23; total time=   2.4s\n",
      "[CV] END max_depth=17, min_samples_leaf=2, n_estimators=40, random_state=23; total time=   2.4s\n",
      "[CV] END max_depth=19, min_samples_leaf=1, n_estimators=20, random_state=23; total time=   1.3s\n",
      "[CV] END max_depth=17, min_samples_leaf=2, n_estimators=40, random_state=23; total time=   2.6s\n",
      "[CV] END max_depth=19, min_samples_leaf=1, n_estimators=20, random_state=23; total time=   1.3s\n",
      "[CV] END max_depth=19, min_samples_leaf=1, n_estimators=20, random_state=23; total time=   1.3s\n",
      "[CV] END max_depth=19, min_samples_leaf=1, n_estimators=20, random_state=23; total time=   1.3s\n",
      "[CV] END max_depth=17, min_samples_leaf=2, n_estimators=60, random_state=23; total time=   3.4s\n",
      "[CV] END max_depth=17, min_samples_leaf=2, n_estimators=60, random_state=23; total time=   3.6s\n",
      "[CV] END max_depth=17, min_samples_leaf=2, n_estimators=60, random_state=23; total time=   3.5s\n",
      "[CV] END max_depth=17, min_samples_leaf=2, n_estimators=60, random_state=23; total time=   3.6s\n",
      "[CV] END max_depth=17, min_samples_leaf=2, n_estimators=60, random_state=23; total time=   3.5s\n",
      "[CV] END max_depth=19, min_samples_leaf=2, n_estimators=20, random_state=23; total time=   1.2s\n",
      "[CV] END max_depth=19, min_samples_leaf=1, n_estimators=40, random_state=23; total time=   2.6s\n",
      "[CV] END max_depth=19, min_samples_leaf=1, n_estimators=40, random_state=23; total time=   2.7s\n",
      "[CV] END max_depth=19, min_samples_leaf=1, n_estimators=40, random_state=23; total time=   2.6s\n",
      "[CV] END max_depth=19, min_samples_leaf=2, n_estimators=20, random_state=23; total time=   1.2s\n",
      "[CV] END max_depth=19, min_samples_leaf=1, n_estimators=40, random_state=23; total time=   2.6s\n",
      "[CV] END max_depth=19, min_samples_leaf=2, n_estimators=20, random_state=23; total time=   1.3s\n",
      "[CV] END max_depth=19, min_samples_leaf=2, n_estimators=20, random_state=23; total time=   1.4s\n",
      "[CV] END max_depth=19, min_samples_leaf=1, n_estimators=40, random_state=23; total time=   2.7s\n",
      "[CV] END max_depth=19, min_samples_leaf=2, n_estimators=20, random_state=23; total time=   1.3s\n",
      "[CV] END max_depth=19, min_samples_leaf=2, n_estimators=40, random_state=23; total time=   2.5s\n",
      "[CV] END max_depth=19, min_samples_leaf=1, n_estimators=60, random_state=23; total time=   4.1s\n",
      "[CV] END max_depth=19, min_samples_leaf=1, n_estimators=60, random_state=23; total time=   4.1s\n",
      "[CV] END max_depth=19, min_samples_leaf=1, n_estimators=60, random_state=23; total time=   4.1s\n",
      "[CV] END max_depth=19, min_samples_leaf=2, n_estimators=40, random_state=23; total time=   2.6s\n",
      "[CV] END max_depth=19, min_samples_leaf=1, n_estimators=60, random_state=23; total time=   4.0s\n",
      "[CV] END max_depth=19, min_samples_leaf=1, n_estimators=60, random_state=23; total time=   4.0s\n",
      "[CV] END max_depth=19, min_samples_leaf=2, n_estimators=40, random_state=23; total time=   2.4s\n",
      "[CV] END max_depth=19, min_samples_leaf=2, n_estimators=40, random_state=23; total time=   2.5s\n",
      "[CV] END max_depth=19, min_samples_leaf=2, n_estimators=40, random_state=23; total time=   2.3s\n",
      "[CV] END max_depth=19, min_samples_leaf=2, n_estimators=60, random_state=23; total time=   3.3s\n",
      "[CV] END max_depth=19, min_samples_leaf=2, n_estimators=60, random_state=23; total time=   3.3s\n",
      "[CV] END max_depth=19, min_samples_leaf=2, n_estimators=60, random_state=23; total time=   3.1s\n",
      "[CV] END max_depth=19, min_samples_leaf=2, n_estimators=60, random_state=23; total time=   3.2s\n",
      "[CV] END max_depth=19, min_samples_leaf=2, n_estimators=60, random_state=23; total time=   3.2s\n"
     ]
    },
    {
     "data": {
      "text/html": [
       "<style>#sk-container-id-6 {color: black;}#sk-container-id-6 pre{padding: 0;}#sk-container-id-6 div.sk-toggleable {background-color: white;}#sk-container-id-6 label.sk-toggleable__label {cursor: pointer;display: block;width: 100%;margin-bottom: 0;padding: 0.3em;box-sizing: border-box;text-align: center;}#sk-container-id-6 label.sk-toggleable__label-arrow:before {content: \"▸\";float: left;margin-right: 0.25em;color: #696969;}#sk-container-id-6 label.sk-toggleable__label-arrow:hover:before {color: black;}#sk-container-id-6 div.sk-estimator:hover label.sk-toggleable__label-arrow:before {color: black;}#sk-container-id-6 div.sk-toggleable__content {max-height: 0;max-width: 0;overflow: hidden;text-align: left;background-color: #f0f8ff;}#sk-container-id-6 div.sk-toggleable__content pre {margin: 0.2em;color: black;border-radius: 0.25em;background-color: #f0f8ff;}#sk-container-id-6 input.sk-toggleable__control:checked~div.sk-toggleable__content {max-height: 200px;max-width: 100%;overflow: auto;}#sk-container-id-6 input.sk-toggleable__control:checked~label.sk-toggleable__label-arrow:before {content: \"▾\";}#sk-container-id-6 div.sk-estimator input.sk-toggleable__control:checked~label.sk-toggleable__label {background-color: #d4ebff;}#sk-container-id-6 div.sk-label input.sk-toggleable__control:checked~label.sk-toggleable__label {background-color: #d4ebff;}#sk-container-id-6 input.sk-hidden--visually {border: 0;clip: rect(1px 1px 1px 1px);clip: rect(1px, 1px, 1px, 1px);height: 1px;margin: -1px;overflow: hidden;padding: 0;position: absolute;width: 1px;}#sk-container-id-6 div.sk-estimator {font-family: monospace;background-color: #f0f8ff;border: 1px dotted black;border-radius: 0.25em;box-sizing: border-box;margin-bottom: 0.5em;}#sk-container-id-6 div.sk-estimator:hover {background-color: #d4ebff;}#sk-container-id-6 div.sk-parallel-item::after {content: \"\";width: 100%;border-bottom: 1px solid gray;flex-grow: 1;}#sk-container-id-6 div.sk-label:hover label.sk-toggleable__label {background-color: #d4ebff;}#sk-container-id-6 div.sk-serial::before {content: \"\";position: absolute;border-left: 1px solid gray;box-sizing: border-box;top: 0;bottom: 0;left: 50%;z-index: 0;}#sk-container-id-6 div.sk-serial {display: flex;flex-direction: column;align-items: center;background-color: white;padding-right: 0.2em;padding-left: 0.2em;position: relative;}#sk-container-id-6 div.sk-item {position: relative;z-index: 1;}#sk-container-id-6 div.sk-parallel {display: flex;align-items: stretch;justify-content: center;background-color: white;position: relative;}#sk-container-id-6 div.sk-item::before, #sk-container-id-6 div.sk-parallel-item::before {content: \"\";position: absolute;border-left: 1px solid gray;box-sizing: border-box;top: 0;bottom: 0;left: 50%;z-index: -1;}#sk-container-id-6 div.sk-parallel-item {display: flex;flex-direction: column;z-index: 1;position: relative;background-color: white;}#sk-container-id-6 div.sk-parallel-item:first-child::after {align-self: flex-end;width: 50%;}#sk-container-id-6 div.sk-parallel-item:last-child::after {align-self: flex-start;width: 50%;}#sk-container-id-6 div.sk-parallel-item:only-child::after {width: 0;}#sk-container-id-6 div.sk-dashed-wrapped {border: 1px dashed gray;margin: 0 0.4em 0.5em 0.4em;box-sizing: border-box;padding-bottom: 0.4em;background-color: white;}#sk-container-id-6 div.sk-label label {font-family: monospace;font-weight: bold;display: inline-block;line-height: 1.2em;}#sk-container-id-6 div.sk-label-container {text-align: center;}#sk-container-id-6 div.sk-container {/* jupyter's `normalize.less` sets `[hidden] { display: none; }` but bootstrap.min.css set `[hidden] { display: none !important; }` so we also need the `!important` here to be able to override the default hidden behavior on the sphinx rendered scikit-learn.org. See: https://github.com/scikit-learn/scikit-learn/issues/21755 */display: inline-block !important;position: relative;}#sk-container-id-6 div.sk-text-repr-fallback {display: none;}</style><div id=\"sk-container-id-6\" class=\"sk-top-container\"><div class=\"sk-text-repr-fallback\"><pre>GridSearchCV(cv=ShuffleSplit(n_splits=5, random_state=None, test_size=0.4285714285714286,\n",
       "       train_size=None),\n",
       "             estimator=RandomForestRegressor(max_depth=5, n_estimators=2),\n",
       "             n_jobs=-1,\n",
       "             param_grid={&#x27;max_depth&#x27;: [11, 13, 15, 17, 19],\n",
       "                         &#x27;min_samples_leaf&#x27;: [1, 2],\n",
       "                         &#x27;n_estimators&#x27;: [20, 40, 60], &#x27;random_state&#x27;: [23]},\n",
       "             scoring=&#x27;neg_mean_squared_error&#x27;, verbose=2)</pre><b>In a Jupyter environment, please rerun this cell to show the HTML representation or trust the notebook. <br />On GitHub, the HTML representation is unable to render, please try loading this page with nbviewer.org.</b></div><div class=\"sk-container\" hidden><div class=\"sk-item sk-dashed-wrapped\"><div class=\"sk-label-container\"><div class=\"sk-label sk-toggleable\"><input class=\"sk-toggleable__control sk-hidden--visually\" id=\"sk-estimator-id-10\" type=\"checkbox\" ><label for=\"sk-estimator-id-10\" class=\"sk-toggleable__label sk-toggleable__label-arrow\">GridSearchCV</label><div class=\"sk-toggleable__content\"><pre>GridSearchCV(cv=ShuffleSplit(n_splits=5, random_state=None, test_size=0.4285714285714286,\n",
       "       train_size=None),\n",
       "             estimator=RandomForestRegressor(max_depth=5, n_estimators=2),\n",
       "             n_jobs=-1,\n",
       "             param_grid={&#x27;max_depth&#x27;: [11, 13, 15, 17, 19],\n",
       "                         &#x27;min_samples_leaf&#x27;: [1, 2],\n",
       "                         &#x27;n_estimators&#x27;: [20, 40, 60], &#x27;random_state&#x27;: [23]},\n",
       "             scoring=&#x27;neg_mean_squared_error&#x27;, verbose=2)</pre></div></div></div><div class=\"sk-parallel\"><div class=\"sk-parallel-item\"><div class=\"sk-item\"><div class=\"sk-label-container\"><div class=\"sk-label sk-toggleable\"><input class=\"sk-toggleable__control sk-hidden--visually\" id=\"sk-estimator-id-11\" type=\"checkbox\" ><label for=\"sk-estimator-id-11\" class=\"sk-toggleable__label sk-toggleable__label-arrow\">estimator: RandomForestRegressor</label><div class=\"sk-toggleable__content\"><pre>RandomForestRegressor(max_depth=5, n_estimators=2)</pre></div></div></div><div class=\"sk-serial\"><div class=\"sk-item\"><div class=\"sk-estimator sk-toggleable\"><input class=\"sk-toggleable__control sk-hidden--visually\" id=\"sk-estimator-id-12\" type=\"checkbox\" ><label for=\"sk-estimator-id-12\" class=\"sk-toggleable__label sk-toggleable__label-arrow\">RandomForestRegressor</label><div class=\"sk-toggleable__content\"><pre>RandomForestRegressor(max_depth=5, n_estimators=2)</pre></div></div></div></div></div></div></div></div></div></div>"
      ],
      "text/plain": [
       "GridSearchCV(cv=ShuffleSplit(n_splits=5, random_state=None, test_size=0.4285714285714286,\n",
       "       train_size=None),\n",
       "             estimator=RandomForestRegressor(max_depth=5, n_estimators=2),\n",
       "             n_jobs=-1,\n",
       "             param_grid={'max_depth': [11, 13, 15, 17, 19],\n",
       "                         'min_samples_leaf': [1, 2],\n",
       "                         'n_estimators': [20, 40, 60], 'random_state': [23]},\n",
       "             scoring='neg_mean_squared_error', verbose=2)"
      ]
     },
     "execution_count": 32,
     "metadata": {},
     "output_type": "execute_result"
    }
   ],
   "source": [
    "forest_reg_nmf = GridSearchCV(estimator = estimator3,\n",
    "                        param_grid = parametros,\n",
    "                        cv = ShuffleSplit(n_splits= 5, test_size=val_size), \n",
    "                        scoring = 'neg_mean_squared_error',\n",
    "                        verbose = 2,\n",
    "                        n_jobs = -1)\n",
    "forest_reg_nmf.fit(Xtv, ytv)"
   ]
  },
  {
   "cell_type": "code",
   "execution_count": 33,
   "metadata": {},
   "outputs": [
    {
     "name": "stdout",
     "output_type": "stream",
     "text": [
      "Mejor estimador Random forest:  RandomForestRegressor(max_depth=19, min_samples_leaf=2, n_estimators=60,\n",
      "                      random_state=23)\n",
      "Mejores parámetros para Random forest:  {'max_depth': 19, 'min_samples_leaf': 2, 'n_estimators': 60, 'random_state': 23}\n"
     ]
    }
   ],
   "source": [
    "print(\"Mejor estimador Random forest: \",forest_reg_nmf.best_estimator_)\n",
    "print(\"Mejores parámetros para Random forest: \", forest_reg_nmf.best_params_)"
   ]
  },
  {
   "cell_type": "code",
   "execution_count": 34,
   "metadata": {},
   "outputs": [
    {
     "data": {
      "text/html": [
       "<style>#sk-container-id-7 {color: black;}#sk-container-id-7 pre{padding: 0;}#sk-container-id-7 div.sk-toggleable {background-color: white;}#sk-container-id-7 label.sk-toggleable__label {cursor: pointer;display: block;width: 100%;margin-bottom: 0;padding: 0.3em;box-sizing: border-box;text-align: center;}#sk-container-id-7 label.sk-toggleable__label-arrow:before {content: \"▸\";float: left;margin-right: 0.25em;color: #696969;}#sk-container-id-7 label.sk-toggleable__label-arrow:hover:before {color: black;}#sk-container-id-7 div.sk-estimator:hover label.sk-toggleable__label-arrow:before {color: black;}#sk-container-id-7 div.sk-toggleable__content {max-height: 0;max-width: 0;overflow: hidden;text-align: left;background-color: #f0f8ff;}#sk-container-id-7 div.sk-toggleable__content pre {margin: 0.2em;color: black;border-radius: 0.25em;background-color: #f0f8ff;}#sk-container-id-7 input.sk-toggleable__control:checked~div.sk-toggleable__content {max-height: 200px;max-width: 100%;overflow: auto;}#sk-container-id-7 input.sk-toggleable__control:checked~label.sk-toggleable__label-arrow:before {content: \"▾\";}#sk-container-id-7 div.sk-estimator input.sk-toggleable__control:checked~label.sk-toggleable__label {background-color: #d4ebff;}#sk-container-id-7 div.sk-label input.sk-toggleable__control:checked~label.sk-toggleable__label {background-color: #d4ebff;}#sk-container-id-7 input.sk-hidden--visually {border: 0;clip: rect(1px 1px 1px 1px);clip: rect(1px, 1px, 1px, 1px);height: 1px;margin: -1px;overflow: hidden;padding: 0;position: absolute;width: 1px;}#sk-container-id-7 div.sk-estimator {font-family: monospace;background-color: #f0f8ff;border: 1px dotted black;border-radius: 0.25em;box-sizing: border-box;margin-bottom: 0.5em;}#sk-container-id-7 div.sk-estimator:hover {background-color: #d4ebff;}#sk-container-id-7 div.sk-parallel-item::after {content: \"\";width: 100%;border-bottom: 1px solid gray;flex-grow: 1;}#sk-container-id-7 div.sk-label:hover label.sk-toggleable__label {background-color: #d4ebff;}#sk-container-id-7 div.sk-serial::before {content: \"\";position: absolute;border-left: 1px solid gray;box-sizing: border-box;top: 0;bottom: 0;left: 50%;z-index: 0;}#sk-container-id-7 div.sk-serial {display: flex;flex-direction: column;align-items: center;background-color: white;padding-right: 0.2em;padding-left: 0.2em;position: relative;}#sk-container-id-7 div.sk-item {position: relative;z-index: 1;}#sk-container-id-7 div.sk-parallel {display: flex;align-items: stretch;justify-content: center;background-color: white;position: relative;}#sk-container-id-7 div.sk-item::before, #sk-container-id-7 div.sk-parallel-item::before {content: \"\";position: absolute;border-left: 1px solid gray;box-sizing: border-box;top: 0;bottom: 0;left: 50%;z-index: -1;}#sk-container-id-7 div.sk-parallel-item {display: flex;flex-direction: column;z-index: 1;position: relative;background-color: white;}#sk-container-id-7 div.sk-parallel-item:first-child::after {align-self: flex-end;width: 50%;}#sk-container-id-7 div.sk-parallel-item:last-child::after {align-self: flex-start;width: 50%;}#sk-container-id-7 div.sk-parallel-item:only-child::after {width: 0;}#sk-container-id-7 div.sk-dashed-wrapped {border: 1px dashed gray;margin: 0 0.4em 0.5em 0.4em;box-sizing: border-box;padding-bottom: 0.4em;background-color: white;}#sk-container-id-7 div.sk-label label {font-family: monospace;font-weight: bold;display: inline-block;line-height: 1.2em;}#sk-container-id-7 div.sk-label-container {text-align: center;}#sk-container-id-7 div.sk-container {/* jupyter's `normalize.less` sets `[hidden] { display: none; }` but bootstrap.min.css set `[hidden] { display: none !important; }` so we also need the `!important` here to be able to override the default hidden behavior on the sphinx rendered scikit-learn.org. See: https://github.com/scikit-learn/scikit-learn/issues/21755 */display: inline-block !important;position: relative;}#sk-container-id-7 div.sk-text-repr-fallback {display: none;}</style><div id=\"sk-container-id-7\" class=\"sk-top-container\"><div class=\"sk-text-repr-fallback\"><pre>RandomForestRegressor(max_depth=19, min_samples_leaf=2, n_estimators=60,\n",
       "                      random_state=23)</pre><b>In a Jupyter environment, please rerun this cell to show the HTML representation or trust the notebook. <br />On GitHub, the HTML representation is unable to render, please try loading this page with nbviewer.org.</b></div><div class=\"sk-container\" hidden><div class=\"sk-item\"><div class=\"sk-estimator sk-toggleable\"><input class=\"sk-toggleable__control sk-hidden--visually\" id=\"sk-estimator-id-13\" type=\"checkbox\" checked><label for=\"sk-estimator-id-13\" class=\"sk-toggleable__label sk-toggleable__label-arrow\">RandomForestRegressor</label><div class=\"sk-toggleable__content\"><pre>RandomForestRegressor(max_depth=19, min_samples_leaf=2, n_estimators=60,\n",
       "                      random_state=23)</pre></div></div></div></div></div>"
      ],
      "text/plain": [
       "RandomForestRegressor(max_depth=19, min_samples_leaf=2, n_estimators=60,\n",
       "                      random_state=23)"
      ]
     },
     "execution_count": 34,
     "metadata": {},
     "output_type": "execute_result"
    }
   ],
   "source": [
    "#Mejor Decision Tree para el NMF obtenido\n",
    "Rdm_forest = RandomForestRegressor(n_estimators =forest_reg_nmf.best_params_[\"n_estimators\"] \n",
    "                                   ,max_depth = forest_reg_nmf.best_params_[\"max_depth\"],\n",
    "                                   min_samples_leaf=forest_reg_nmf.best_params_[\"min_samples_leaf\"],\n",
    "                                   random_state=forest_reg_nmf.best_params_[\"random_state\"])\n",
    "Rdm_forest.fit(Xtv, ytv)"
   ]
  },
  {
   "cell_type": "code",
   "execution_count": 35,
   "metadata": {},
   "outputs": [
    {
     "name": "stdout",
     "output_type": "stream",
     "text": [
      "RMSE del Random Forest en entrenamiento:  0.47812\n",
      "RMSE del Random Fores seleccionado:  0.69281\n"
     ]
    }
   ],
   "source": [
    "print('RMSE del Random Forest en entrenamiento: ',\"{:.5f}\".format(mean_squared_error(ytv , Rdm_forest.predict(Xtv),squared=False)))\n",
    "print('RMSE del Random Fores seleccionado: ',\"{:.5f}\".format(mean_squared_error(yts , Rdm_forest.predict(Xts),squared=False)))"
   ]
  },
  {
   "cell_type": "code",
   "execution_count": 36,
   "metadata": {},
   "outputs": [],
   "source": [
    "df1=train_test_evaluate(\"Mejor Random Forest+NMF\", Rdm_forest, Xtv, ytv, Xts, yts)\n",
    "result_df=pd.concat([result_df,df1],ignore_index=True)"
   ]
  },
  {
   "attachments": {},
   "cell_type": "markdown",
   "metadata": {},
   "source": [
    "### 3.2.2 NFM+Decision Tree"
   ]
  },
  {
   "cell_type": "code",
   "execution_count": 37,
   "metadata": {},
   "outputs": [
    {
     "name": "stdout",
     "output_type": "stream",
     "text": [
      "(30207, 1) (12947, 1)\n",
      "(30207, 3) (12947, 3)\n",
      "(30207, 5) (12947, 5)\n",
      "(30207, 7) (12947, 7)\n",
      "(30207, 9) (12947, 9)\n",
      "(30207, 9) (12947, 9)\n",
      "Fitting 5 folds for each of 9 candidates, totalling 45 fits\n",
      "[CV] END ........................................max_depth=2; total time=   0.0s\n",
      "[CV] END ........................................max_depth=2; total time=   0.0s\n",
      "[CV] END ........................................max_depth=2; total time=   0.0s\n",
      "[CV] END ........................................max_depth=2; total time=   0.0s\n",
      "[CV] END ........................................max_depth=2; total time=   0.0s\n",
      "[CV] END ........................................max_depth=5; total time=   0.0s\n",
      "[CV] END ........................................max_depth=5; total time=   0.0s\n",
      "[CV] END ........................................max_depth=5; total time=   0.0s\n",
      "[CV] END ........................................max_depth=5; total time=   0.0s[CV] END ........................................max_depth=5; total time=   0.0s\n",
      "\n",
      "[CV] END ........................................max_depth=8; total time=   0.1s\n",
      "[CV] END ........................................max_depth=8; total time=   0.1s\n",
      "[CV] END ........................................max_depth=8; total time=   0.1s\n",
      "[CV] END .......................................max_depth=12; total time=   0.1s\n",
      "[CV] END ........................................max_depth=8; total time=   0.1s[CV] END ........................................max_depth=8; total time=   0.1s\n",
      "\n",
      "[CV] END .......................................max_depth=12; total time=   0.1s\n",
      "[CV] END .......................................max_depth=12; total time=   0.1s\n",
      "[CV] END .......................................max_depth=12; total time=   0.1s\n",
      "[CV] END .......................................max_depth=15; total time=   0.1s\n",
      "[CV] END .......................................max_depth=12; total time=   0.1s\n",
      "[CV] END .......................................max_depth=15; total time=   0.1s\n",
      "[CV] END .......................................max_depth=15; total time=   0.1s\n",
      "[CV] END .......................................max_depth=15; total time=   0.2s\n",
      "[CV] END .......................................max_depth=20; total time=   0.1s\n",
      "[CV] END .......................................max_depth=15; total time=   0.2s\n",
      "[CV] END .......................................max_depth=20; total time=   0.1s\n",
      "[CV] END .......................................max_depth=20; total time=   0.1s\n",
      "[CV] END .......................................max_depth=20; total time=   0.1s\n",
      "[CV] END .......................................max_depth=20; total time=   0.2s\n",
      "[CV] END .......................................max_depth=30; total time=   0.1s\n",
      "[CV] END .......................................max_depth=30; total time=   0.2s\n",
      "[CV] END .......................................max_depth=30; total time=   0.1s\n",
      "[CV] END .......................................max_depth=30; total time=   0.1s\n",
      "[CV] END .......................................max_depth=30; total time=   0.1s\n",
      "[CV] END .......................................max_depth=40; total time=   0.1s\n",
      "[CV] END .......................................max_depth=40; total time=   0.1s\n",
      "[CV] END .......................................max_depth=40; total time=   0.1s\n",
      "[CV] END .......................................max_depth=40; total time=   0.1s\n",
      "[CV] END .......................................max_depth=50; total time=   0.1s\n",
      "[CV] END .......................................max_depth=50; total time=   0.1s\n",
      "[CV] END .......................................max_depth=50; total time=   0.1s\n",
      "[CV] END .......................................max_depth=50; total time=   0.1s\n",
      "[CV] END .......................................max_depth=40; total time=   0.1s\n",
      "[CV] END .......................................max_depth=50; total time=   0.1s\n"
     ]
    }
   ],
   "source": [
    "perf_nmf_des = [] \n",
    "Des_tree = DecisionTreeRegressor(max_depth=decission_tree.best_params_[\"max_depth\"])\n",
    "for i in components:\n",
    "    nmf = NMF(n_components = i,max_iter=500)\n",
    "    X_t = nmf.fit_transform(x2)\n",
    "    \n",
    "    Xtv, Xts, ytv, yts = train_test_split(X_t, y, test_size=test_size)\n",
    "    print (Xtv.shape, Xts.shape)\n",
    "    \n",
    "    Des_tree.fit(Xtv, ytv)\n",
    "    perf_nmf_des.append(mean_squared_error(yts , Des_tree.predict(Xts),squared=False))\n",
    "nmf = NMF(n_components = components[np.argmin(perf_nmf_des)])\n",
    "X_t2 = nmf.fit_transform(x2)\n",
    "Xtv, Xts, ytv, yts = train_test_split(X_t2, y, test_size=test_size)\n",
    "print (Xtv.shape, Xts.shape)\n",
    "decission_tree_nmf = GridSearchCV(estimator = estimator2,\n",
    "                        param_grid = parametros_destree,\n",
    "                        cv = ShuffleSplit(n_splits= 5, test_size=val_size), \n",
    "                        scoring = 'neg_mean_squared_error',\n",
    "                        verbose = 2,\n",
    "                        n_jobs = -1)\n",
    "decission_tree_nmf.fit(Xtv, ytv)\n",
    "Des_tree = DecisionTreeRegressor(max_depth=decission_tree_nmf.best_params_[\"max_depth\"])\n",
    "Des_tree.fit(Xtv,ytv)\n",
    "df1=train_test_evaluate(\"Mejor Decision Tree+NFM\", Des_tree, Xtv, ytv, Xts, yts)\n",
    "result_df=pd.concat([result_df,df1],ignore_index=True)"
   ]
  },
  {
   "cell_type": "code",
   "execution_count": 38,
   "metadata": {},
   "outputs": [],
   "source": [
    "result_df.to_csv(\"Results.csv\",index=False)"
   ]
  },
  {
   "cell_type": "code",
   "execution_count": 39,
   "metadata": {},
   "outputs": [
    {
     "data": {
      "text/html": [
       "<div>\n",
       "<style scoped>\n",
       "    .dataframe tbody tr th:only-of-type {\n",
       "        vertical-align: middle;\n",
       "    }\n",
       "\n",
       "    .dataframe tbody tr th {\n",
       "        vertical-align: top;\n",
       "    }\n",
       "\n",
       "    .dataframe thead th {\n",
       "        text-align: right;\n",
       "    }\n",
       "</style>\n",
       "<table border=\"1\" class=\"dataframe\">\n",
       "  <thead>\n",
       "    <tr style=\"text-align: right;\">\n",
       "      <th></th>\n",
       "      <th>Model</th>\n",
       "      <th>MAE</th>\n",
       "      <th>MSE</th>\n",
       "      <th>RMSE</th>\n",
       "      <th>R2 Score</th>\n",
       "      <th>MAE Ratio</th>\n",
       "      <th>RMSE Ratio</th>\n",
       "    </tr>\n",
       "  </thead>\n",
       "  <tbody>\n",
       "    <tr>\n",
       "      <th>0</th>\n",
       "      <td>LinearRegression inicial</td>\n",
       "      <td>0.472025</td>\n",
       "      <td>0.444719</td>\n",
       "      <td>0.666873</td>\n",
       "      <td>0.574134</td>\n",
       "      <td>0.280939</td>\n",
       "      <td>0.396908</td>\n",
       "    </tr>\n",
       "    <tr>\n",
       "      <th>1</th>\n",
       "      <td>DecisisionTree inicial</td>\n",
       "      <td>0.349178</td>\n",
       "      <td>0.304015</td>\n",
       "      <td>0.551376</td>\n",
       "      <td>0.708873</td>\n",
       "      <td>0.207823</td>\n",
       "      <td>0.328167</td>\n",
       "    </tr>\n",
       "    <tr>\n",
       "      <th>2</th>\n",
       "      <td>Random Forest inicial</td>\n",
       "      <td>0.338307</td>\n",
       "      <td>0.292802</td>\n",
       "      <td>0.541112</td>\n",
       "      <td>0.719611</td>\n",
       "      <td>0.201353</td>\n",
       "      <td>0.322058</td>\n",
       "    </tr>\n",
       "    <tr>\n",
       "      <th>3</th>\n",
       "      <td>Mejor Random Forest</td>\n",
       "      <td>0.328539</td>\n",
       "      <td>0.269074</td>\n",
       "      <td>0.518723</td>\n",
       "      <td>0.742333</td>\n",
       "      <td>0.195539</td>\n",
       "      <td>0.308733</td>\n",
       "    </tr>\n",
       "    <tr>\n",
       "      <th>4</th>\n",
       "      <td>Mejor Decision Tree</td>\n",
       "      <td>0.362186</td>\n",
       "      <td>0.317346</td>\n",
       "      <td>0.563335</td>\n",
       "      <td>0.696107</td>\n",
       "      <td>0.215565</td>\n",
       "      <td>0.335285</td>\n",
       "    </tr>\n",
       "    <tr>\n",
       "      <th>5</th>\n",
       "      <td>Mejor Random Forest+PCA</td>\n",
       "      <td>0.322500</td>\n",
       "      <td>0.256812</td>\n",
       "      <td>0.506766</td>\n",
       "      <td>0.750286</td>\n",
       "      <td>0.192327</td>\n",
       "      <td>0.302216</td>\n",
       "    </tr>\n",
       "    <tr>\n",
       "      <th>6</th>\n",
       "      <td>Mejor Decision Tree+PCA</td>\n",
       "      <td>0.345075</td>\n",
       "      <td>0.282678</td>\n",
       "      <td>0.531675</td>\n",
       "      <td>0.721140</td>\n",
       "      <td>0.203861</td>\n",
       "      <td>0.314098</td>\n",
       "    </tr>\n",
       "    <tr>\n",
       "      <th>7</th>\n",
       "      <td>Mejor Random Forest+NMF</td>\n",
       "      <td>0.483604</td>\n",
       "      <td>0.479981</td>\n",
       "      <td>0.692807</td>\n",
       "      <td>0.537035</td>\n",
       "      <td>0.286199</td>\n",
       "      <td>0.410005</td>\n",
       "    </tr>\n",
       "    <tr>\n",
       "      <th>8</th>\n",
       "      <td>Mejor Decision Tree+NFM</td>\n",
       "      <td>0.568347</td>\n",
       "      <td>0.594232</td>\n",
       "      <td>0.770865</td>\n",
       "      <td>0.428277</td>\n",
       "      <td>0.338478</td>\n",
       "      <td>0.459087</td>\n",
       "    </tr>\n",
       "  </tbody>\n",
       "</table>\n",
       "</div>"
      ],
      "text/plain": [
       "                      Model       MAE       MSE      RMSE  R2 Score  \\\n",
       "0  LinearRegression inicial  0.472025  0.444719  0.666873  0.574134   \n",
       "1    DecisisionTree inicial  0.349178  0.304015  0.551376  0.708873   \n",
       "2     Random Forest inicial  0.338307  0.292802  0.541112  0.719611   \n",
       "3       Mejor Random Forest  0.328539  0.269074  0.518723  0.742333   \n",
       "4       Mejor Decision Tree  0.362186  0.317346  0.563335  0.696107   \n",
       "5   Mejor Random Forest+PCA  0.322500  0.256812  0.506766  0.750286   \n",
       "6   Mejor Decision Tree+PCA  0.345075  0.282678  0.531675  0.721140   \n",
       "7   Mejor Random Forest+NMF  0.483604  0.479981  0.692807  0.537035   \n",
       "8   Mejor Decision Tree+NFM  0.568347  0.594232  0.770865  0.428277   \n",
       "\n",
       "   MAE Ratio  RMSE Ratio  \n",
       "0   0.280939    0.396908  \n",
       "1   0.207823    0.328167  \n",
       "2   0.201353    0.322058  \n",
       "3   0.195539    0.308733  \n",
       "4   0.215565    0.335285  \n",
       "5   0.192327    0.302216  \n",
       "6   0.203861    0.314098  \n",
       "7   0.286199    0.410005  \n",
       "8   0.338478    0.459087  "
      ]
     },
     "execution_count": 39,
     "metadata": {},
     "output_type": "execute_result"
    }
   ],
   "source": [
    "result_df"
   ]
  },
  {
   "attachments": {},
   "cell_type": "markdown",
   "metadata": {},
   "source": [
    "# 4. Curvas de aprendizaje"
   ]
  },
  {
   "attachments": {},
   "cell_type": "markdown",
   "metadata": {},
   "source": [
    "Para conocer el valor de datos necesarios para entrenar un buen modelo, o ver como responden los diferentes algoritmos a la cantidad de datos de este problema, se realizaran curvas para observar su comportamiento y así evaluar si se necesita agregar más datos"
   ]
  },
  {
   "attachments": {},
   "cell_type": "markdown",
   "metadata": {},
   "source": [
    "## 4.1 Método supervisado"
   ]
  },
  {
   "cell_type": "code",
   "execution_count": 40,
   "metadata": {},
   "outputs": [],
   "source": [
    "def lc_plot(estimator,X,y):\n",
    "    train_sizes, train_scores, valid_scores = learning_curve(estimator, X, y, train_sizes= [0.3, 0.5,0.7,0.9], \n",
    "                 scoring ='neg_root_mean_squared_error', cv = ShuffleSplit(n_splits=10, test_size=val_size))\n",
    "    \n",
    "    train_scores = np.abs(train_scores)\n",
    "    valid_scores = np.abs(valid_scores)\n",
    "\n",
    "    train_mean = np.mean(train_scores, axis=1)\n",
    "\n",
    "    valid_mean = np.mean(valid_scores, axis=1)\n",
    "\n",
    "    plt.subplots(1, figsize=(5,5))\n",
    "    plt.plot(train_sizes, train_mean, '--', color=\"r\",  label=\"Training score\")\n",
    "    plt.plot(train_sizes, valid_mean, color=\"g\", label=\"Cross-validation score\")\n",
    "\n",
    "\n",
    "\n",
    "    plt.grid()\n",
    "    plt.title(\"Learning Curve\")\n",
    "    plt.xlabel(\"Training Set Size\"), plt.ylabel(\"RMSE\"), plt.legend(loc=\"best\")\n",
    "    plt.tight_layout()\n",
    "    plt.show()\n",
    "    return plt"
   ]
  },
  {
   "attachments": {},
   "cell_type": "markdown",
   "metadata": {},
   "source": [
    "En este caso lo hacemos con Random Forest debido a que fue el modelo con mejor desempeño, general"
   ]
  },
  {
   "cell_type": "code",
   "execution_count": 41,
   "metadata": {},
   "outputs": [
    {
     "name": "stdout",
     "output_type": "stream",
     "text": [
      "(43154, 9) (43154,)\n",
      "test size 0.30\n",
      "val size is 0.43 (relative to 0.70) \n",
      "(30207, 9) (12947, 9)\n"
     ]
    }
   ],
   "source": [
    "test_size = 0.3\n",
    "val_size  = test_size/(1-test_size) # Elementos de validación\n",
    "\n",
    "print (x.shape, y.shape)\n",
    "print (\"test size %.2f\"%test_size)\n",
    "print (\"val size is %.2f (relative to %.2f) \"%(val_size, 1-test_size))\n",
    "\n",
    "#Xtv, ytv son los datos que se usan para entrenar el modelo\n",
    "#Xts, yts son los datos que se usan para probar el modelo (solo se usan para el testeo final de los modelos que se seleccionen)\n",
    "Xtv, Xts, ytv, yts = train_test_split(x, y, test_size=test_size)\n",
    "print (Xtv.shape, Xts.shape)"
   ]
  },
  {
   "cell_type": "code",
   "execution_count": 42,
   "metadata": {},
   "outputs": [],
   "source": [
    "Rdm_forest = RandomForestRegressor(n_estimators =forest_reg.best_params_[\"n_estimators\"]\n",
    "                                    ,max_depth = forest_reg.best_params_[\"max_depth\"]\n",
    "                                    ,min_samples_leaf=forest_reg.best_params_[\"min_samples_leaf\"],\n",
    "                                    random_state=forest_reg.best_params_[\"random_state\"])"
   ]
  },
  {
   "attachments": {},
   "cell_type": "markdown",
   "metadata": {},
   "source": [
    "### 4.1.1 Random Forest"
   ]
  },
  {
   "cell_type": "code",
   "execution_count": 43,
   "metadata": {},
   "outputs": [
    {
     "data": {
      "image/png": "[encoded data removed]",
      "text/plain": [
       "<Figure size 500x500 with 1 Axes>"
      ]
     },
     "metadata": {},
     "output_type": "display_data"
    },
    {
     "data": {
      "text/plain": [
       "<module 'matplotlib.pyplot' from '/home/astolfo/anaconda3/lib/python3.11/site-packages/matplotlib/pyplot.py'>"
      ]
     },
     "execution_count": 43,
     "metadata": {},
     "output_type": "execute_result"
    }
   ],
   "source": [
    "lc_plot(Rdm_forest,Xtv,ytv)"
   ]
  },
  {
   "attachments": {},
   "cell_type": "markdown",
   "metadata": {},
   "source": [
    "## 4.2 Métodos no supervisados"
   ]
  },
  {
   "attachments": {},
   "cell_type": "markdown",
   "metadata": {},
   "source": [
    "### 4.2.1 Random Forest y PCA"
   ]
  },
  {
   "cell_type": "code",
   "execution_count": 44,
   "metadata": {},
   "outputs": [],
   "source": [
    "pca = PCA(n_components = components[np.argmin(perf_pca)])\n",
    "X_t1 = pca.fit_transform(x)\n",
    "test_size = 0.3\n",
    "val_size  = test_size/(1-test_size)\n",
    "Xtv, Xts, ytv, yts = train_test_split(X_t1, y, test_size=test_size)\n",
    "Rdm_forest = RandomForestRegressor(n_estimators =forest_reg_pca.best_params_[\"n_estimators\"] \n",
    "                                   ,max_depth = forest_reg_pca.best_params_[\"max_depth\"]\n",
    "                                   ,min_samples_leaf=forest_reg_pca.best_params_[\"min_samples_leaf\"],\n",
    "                                   random_state=forest_reg_pca.best_params_[\"random_state\"])"
   ]
  },
  {
   "cell_type": "code",
   "execution_count": 45,
   "metadata": {},
   "outputs": [
    {
     "data": {
      "image/png": "[encoded data removed]",
      "text/plain": [
       "<Figure size 500x500 with 1 Axes>"
      ]
     },
     "metadata": {},
     "output_type": "display_data"
    },
    {
     "data": {
      "text/plain": [
       "<module 'matplotlib.pyplot' from '/home/astolfo/anaconda3/lib/python3.11/site-packages/matplotlib/pyplot.py'>"
      ]
     },
     "execution_count": 45,
     "metadata": {},
     "output_type": "execute_result"
    }
   ],
   "source": [
    "lc_plot(Rdm_forest,Xtv,ytv)"
   ]
  },
  {
   "attachments": {},
   "cell_type": "markdown",
   "metadata": {},
   "source": [
    "### 4.2.2 NMF y Random Forest"
   ]
  },
  {
   "cell_type": "code",
   "execution_count": 46,
   "metadata": {},
   "outputs": [],
   "source": [
    "nmf = NMF(n_components = components[np.argmin(perf_nmf)])\n",
    "X_t2 = nmf.fit_transform(x2)\n",
    "test_size = 0.3\n",
    "val_size  = test_size/(1-test_size)\n",
    "Xtv, Xts, ytv, yts = train_test_split(X_t2, y, test_size=test_size)\n",
    "Rdm_forest = RandomForestRegressor(n_estimators =forest_reg_nmf.best_params_[\"n_estimators\"] \n",
    "                                   ,max_depth = forest_reg_nmf.best_params_[\"max_depth\"]\n",
    "                                   ,min_samples_leaf=forest_reg_nmf.best_params_[\"min_samples_leaf\"],\n",
    "                                   random_state=forest_reg_nmf.best_params_[\"random_state\"])"
   ]
  },
  {
   "cell_type": "code",
   "execution_count": 47,
   "metadata": {},
   "outputs": [
    {
     "data": {
      "image/png": "[encoded data removed]",
      "text/plain": [
       "<Figure size 500x500 with 1 Axes>"
      ]
     },
     "metadata": {},
     "output_type": "display_data"
    },
    {
     "data": {
      "text/plain": [
       "<module 'matplotlib.pyplot' from '/home/astolfo/anaconda3/lib/python3.11/site-packages/matplotlib/pyplot.py'>"
      ]
     },
     "execution_count": 47,
     "metadata": {},
     "output_type": "execute_result"
    }
   ],
   "source": [
    "lc_plot(Rdm_forest,Xtv,ytv)"
   ]
  },
  {
   "attachments": {},
   "cell_type": "markdown",
   "metadata": {},
   "source": [
    "# 5 Análisis de resultados"
   ]
  },
  {
   "attachments": {},
   "cell_type": "markdown",
   "metadata": {},
   "source": [
    "## 5.1 Modelo con mejor desenseño general "
   ]
  },
  {
   "cell_type": "code",
   "execution_count": 48,
   "metadata": {},
   "outputs": [],
   "source": [
    "result_df_copy=result_df.copy()"
   ]
  },
  {
   "cell_type": "code",
   "execution_count": 49,
   "metadata": {},
   "outputs": [],
   "source": [
    "result_df=result_df.sort_values(\"RMSE Ratio\",ignore_index=True)\n",
    "heat_result=result_df.set_index(\"Model\")\n",
    "heat_result[\"Neg R2 Score\"]=-heat_result[\"R2 Score\"]\n",
    "heat_result=heat_result[['MAE', 'MSE', 'RMSE', 'Neg R2 Score', 'MAE Ratio', 'RMSE Ratio']]\n",
    "scaler=MinMaxScaler((0,100))\n",
    "heat_result_scaled=scaler.fit_transform(heat_result)\n",
    "heat_result=pd.DataFrame(heat_result_scaled,index=heat_result.index,columns=heat_result.columns)"
   ]
  },
  {
   "cell_type": "code",
   "execution_count": 50,
   "metadata": {},
   "outputs": [
    {
     "data": {
      "image/png": "[encoded data removed]",
      "text/plain": [
       "<Figure size 800x600 with 2 Axes>"
      ]
     },
     "metadata": {},
     "output_type": "display_data"
    }
   ],
   "source": [
    "plt.figure(figsize= (8, 6))\n",
    "cmap=sns.color_palette(\"coolwarm\",as_cmap=True)\n",
    "ax= sns.heatmap(heat_result, annot=True, fmt=\".3f\", cmap=cmap, linewidths= 1)\n",
    "\n",
    "ax.xaxis.tick_top()\n",
    "ax.set_xticklabels([textwrap.fill(e, 5) for e in heat_result.columns])\n",
    "ax.tick_params(left=False, top=False)\n",
    "\n",
    "plt.title(\"Model Comparison\\nSelected Models\", fontsize= 22, fontweight= \"bold\", pad= 20)\n",
    "plt.figtext(0.45, 0.02, \"Note: Standardized Value\\nThe Smaller The Better\", ha=\"center\", fontsize= 16, bbox={\"facecolor\":\"orange\", \"alpha\":0.5, \"pad\":5})\n",
    "plt.ylabel(\"\")\n",
    "\n",
    "plt.show()"
   ]
  },
  {
   "cell_type": "code",
   "execution_count": 51,
   "metadata": {},
   "outputs": [
    {
     "data": {
      "text/html": [
       "<div>\n",
       "<style scoped>\n",
       "    .dataframe tbody tr th:only-of-type {\n",
       "        vertical-align: middle;\n",
       "    }\n",
       "\n",
       "    .dataframe tbody tr th {\n",
       "        vertical-align: top;\n",
       "    }\n",
       "\n",
       "    .dataframe thead th {\n",
       "        text-align: right;\n",
       "    }\n",
       "</style>\n",
       "<table border=\"1\" class=\"dataframe\">\n",
       "  <thead>\n",
       "    <tr style=\"text-align: right;\">\n",
       "      <th></th>\n",
       "      <th>Model</th>\n",
       "      <th>MAE</th>\n",
       "      <th>MSE</th>\n",
       "      <th>RMSE</th>\n",
       "      <th>R2 Score</th>\n",
       "      <th>MAE Ratio</th>\n",
       "      <th>RMSE Ratio</th>\n",
       "    </tr>\n",
       "  </thead>\n",
       "  <tbody>\n",
       "    <tr>\n",
       "      <th>0</th>\n",
       "      <td>Mejor Random Forest+PCA</td>\n",
       "      <td>0.322500</td>\n",
       "      <td>0.256812</td>\n",
       "      <td>0.506766</td>\n",
       "      <td>0.750286</td>\n",
       "      <td>0.192327</td>\n",
       "      <td>0.302216</td>\n",
       "    </tr>\n",
       "    <tr>\n",
       "      <th>1</th>\n",
       "      <td>Mejor Random Forest</td>\n",
       "      <td>0.328539</td>\n",
       "      <td>0.269074</td>\n",
       "      <td>0.518723</td>\n",
       "      <td>0.742333</td>\n",
       "      <td>0.195539</td>\n",
       "      <td>0.308733</td>\n",
       "    </tr>\n",
       "    <tr>\n",
       "      <th>2</th>\n",
       "      <td>Mejor Decision Tree+PCA</td>\n",
       "      <td>0.345075</td>\n",
       "      <td>0.282678</td>\n",
       "      <td>0.531675</td>\n",
       "      <td>0.721140</td>\n",
       "      <td>0.203861</td>\n",
       "      <td>0.314098</td>\n",
       "    </tr>\n",
       "    <tr>\n",
       "      <th>3</th>\n",
       "      <td>Random Forest inicial</td>\n",
       "      <td>0.338307</td>\n",
       "      <td>0.292802</td>\n",
       "      <td>0.541112</td>\n",
       "      <td>0.719611</td>\n",
       "      <td>0.201353</td>\n",
       "      <td>0.322058</td>\n",
       "    </tr>\n",
       "    <tr>\n",
       "      <th>4</th>\n",
       "      <td>DecisisionTree inicial</td>\n",
       "      <td>0.349178</td>\n",
       "      <td>0.304015</td>\n",
       "      <td>0.551376</td>\n",
       "      <td>0.708873</td>\n",
       "      <td>0.207823</td>\n",
       "      <td>0.328167</td>\n",
       "    </tr>\n",
       "    <tr>\n",
       "      <th>5</th>\n",
       "      <td>Mejor Decision Tree</td>\n",
       "      <td>0.362186</td>\n",
       "      <td>0.317346</td>\n",
       "      <td>0.563335</td>\n",
       "      <td>0.696107</td>\n",
       "      <td>0.215565</td>\n",
       "      <td>0.335285</td>\n",
       "    </tr>\n",
       "    <tr>\n",
       "      <th>6</th>\n",
       "      <td>LinearRegression inicial</td>\n",
       "      <td>0.472025</td>\n",
       "      <td>0.444719</td>\n",
       "      <td>0.666873</td>\n",
       "      <td>0.574134</td>\n",
       "      <td>0.280939</td>\n",
       "      <td>0.396908</td>\n",
       "    </tr>\n",
       "    <tr>\n",
       "      <th>7</th>\n",
       "      <td>Mejor Random Forest+NMF</td>\n",
       "      <td>0.483604</td>\n",
       "      <td>0.479981</td>\n",
       "      <td>0.692807</td>\n",
       "      <td>0.537035</td>\n",
       "      <td>0.286199</td>\n",
       "      <td>0.410005</td>\n",
       "    </tr>\n",
       "    <tr>\n",
       "      <th>8</th>\n",
       "      <td>Mejor Decision Tree+NFM</td>\n",
       "      <td>0.568347</td>\n",
       "      <td>0.594232</td>\n",
       "      <td>0.770865</td>\n",
       "      <td>0.428277</td>\n",
       "      <td>0.338478</td>\n",
       "      <td>0.459087</td>\n",
       "    </tr>\n",
       "  </tbody>\n",
       "</table>\n",
       "</div>"
      ],
      "text/plain": [
       "                      Model       MAE       MSE      RMSE  R2 Score  \\\n",
       "0   Mejor Random Forest+PCA  0.322500  0.256812  0.506766  0.750286   \n",
       "1       Mejor Random Forest  0.328539  0.269074  0.518723  0.742333   \n",
       "2   Mejor Decision Tree+PCA  0.345075  0.282678  0.531675  0.721140   \n",
       "3     Random Forest inicial  0.338307  0.292802  0.541112  0.719611   \n",
       "4    DecisisionTree inicial  0.349178  0.304015  0.551376  0.708873   \n",
       "5       Mejor Decision Tree  0.362186  0.317346  0.563335  0.696107   \n",
       "6  LinearRegression inicial  0.472025  0.444719  0.666873  0.574134   \n",
       "7   Mejor Random Forest+NMF  0.483604  0.479981  0.692807  0.537035   \n",
       "8   Mejor Decision Tree+NFM  0.568347  0.594232  0.770865  0.428277   \n",
       "\n",
       "   MAE Ratio  RMSE Ratio  \n",
       "0   0.192327    0.302216  \n",
       "1   0.195539    0.308733  \n",
       "2   0.203861    0.314098  \n",
       "3   0.201353    0.322058  \n",
       "4   0.207823    0.328167  \n",
       "5   0.215565    0.335285  \n",
       "6   0.280939    0.396908  \n",
       "7   0.286199    0.410005  \n",
       "8   0.338478    0.459087  "
      ]
     },
     "execution_count": 51,
     "metadata": {},
     "output_type": "execute_result"
    }
   ],
   "source": [
    "result_df"
   ]
  },
  {
   "cell_type": "markdown",
   "metadata": {},
   "source": [
    "## 5.1.1 Exportar el modelo"
   ]
  },
  {
   "cell_type": "code",
   "execution_count": 71,
   "metadata": {},
   "outputs": [
    {
     "data": {
      "text/html": [
       "<style>#sk-container-id-13 {color: black;}#sk-container-id-13 pre{padding: 0;}#sk-container-id-13 div.sk-toggleable {background-color: white;}#sk-container-id-13 label.sk-toggleable__label {cursor: pointer;display: block;width: 100%;margin-bottom: 0;padding: 0.3em;box-sizing: border-box;text-align: center;}#sk-container-id-13 label.sk-toggleable__label-arrow:before {content: \"▸\";float: left;margin-right: 0.25em;color: #696969;}#sk-container-id-13 label.sk-toggleable__label-arrow:hover:before {color: black;}#sk-container-id-13 div.sk-estimator:hover label.sk-toggleable__label-arrow:before {color: black;}#sk-container-id-13 div.sk-toggleable__content {max-height: 0;max-width: 0;overflow: hidden;text-align: left;background-color: #f0f8ff;}#sk-container-id-13 div.sk-toggleable__content pre {margin: 0.2em;color: black;border-radius: 0.25em;background-color: #f0f8ff;}#sk-container-id-13 input.sk-toggleable__control:checked~div.sk-toggleable__content {max-height: 200px;max-width: 100%;overflow: auto;}#sk-container-id-13 input.sk-toggleable__control:checked~label.sk-toggleable__label-arrow:before {content: \"▾\";}#sk-container-id-13 div.sk-estimator input.sk-toggleable__control:checked~label.sk-toggleable__label {background-color: #d4ebff;}#sk-container-id-13 div.sk-label input.sk-toggleable__control:checked~label.sk-toggleable__label {background-color: #d4ebff;}#sk-container-id-13 input.sk-hidden--visually {border: 0;clip: rect(1px 1px 1px 1px);clip: rect(1px, 1px, 1px, 1px);height: 1px;margin: -1px;overflow: hidden;padding: 0;position: absolute;width: 1px;}#sk-container-id-13 div.sk-estimator {font-family: monospace;background-color: #f0f8ff;border: 1px dotted black;border-radius: 0.25em;box-sizing: border-box;margin-bottom: 0.5em;}#sk-container-id-13 div.sk-estimator:hover {background-color: #d4ebff;}#sk-container-id-13 div.sk-parallel-item::after {content: \"\";width: 100%;border-bottom: 1px solid gray;flex-grow: 1;}#sk-container-id-13 div.sk-label:hover label.sk-toggleable__label {background-color: #d4ebff;}#sk-container-id-13 div.sk-serial::before {content: \"\";position: absolute;border-left: 1px solid gray;box-sizing: border-box;top: 0;bottom: 0;left: 50%;z-index: 0;}#sk-container-id-13 div.sk-serial {display: flex;flex-direction: column;align-items: center;background-color: white;padding-right: 0.2em;padding-left: 0.2em;position: relative;}#sk-container-id-13 div.sk-item {position: relative;z-index: 1;}#sk-container-id-13 div.sk-parallel {display: flex;align-items: stretch;justify-content: center;background-color: white;position: relative;}#sk-container-id-13 div.sk-item::before, #sk-container-id-13 div.sk-parallel-item::before {content: \"\";position: absolute;border-left: 1px solid gray;box-sizing: border-box;top: 0;bottom: 0;left: 50%;z-index: -1;}#sk-container-id-13 div.sk-parallel-item {display: flex;flex-direction: column;z-index: 1;position: relative;background-color: white;}#sk-container-id-13 div.sk-parallel-item:first-child::after {align-self: flex-end;width: 50%;}#sk-container-id-13 div.sk-parallel-item:last-child::after {align-self: flex-start;width: 50%;}#sk-container-id-13 div.sk-parallel-item:only-child::after {width: 0;}#sk-container-id-13 div.sk-dashed-wrapped {border: 1px dashed gray;margin: 0 0.4em 0.5em 0.4em;box-sizing: border-box;padding-bottom: 0.4em;background-color: white;}#sk-container-id-13 div.sk-label label {font-family: monospace;font-weight: bold;display: inline-block;line-height: 1.2em;}#sk-container-id-13 div.sk-label-container {text-align: center;}#sk-container-id-13 div.sk-container {/* jupyter's `normalize.less` sets `[hidden] { display: none; }` but bootstrap.min.css set `[hidden] { display: none !important; }` so we also need the `!important` here to be able to override the default hidden behavior on the sphinx rendered scikit-learn.org. See: https://github.com/scikit-learn/scikit-learn/issues/21755 */display: inline-block !important;position: relative;}#sk-container-id-13 div.sk-text-repr-fallback {display: none;}</style><div id=\"sk-container-id-13\" class=\"sk-top-container\"><div class=\"sk-text-repr-fallback\"><pre>RandomForestRegressor(max_depth=11, n_estimators=60, random_state=23)</pre><b>In a Jupyter environment, please rerun this cell to show the HTML representation or trust the notebook. <br />On GitHub, the HTML representation is unable to render, please try loading this page with nbviewer.org.</b></div><div class=\"sk-container\" hidden><div class=\"sk-item\"><div class=\"sk-estimator sk-toggleable\"><input class=\"sk-toggleable__control sk-hidden--visually\" id=\"sk-estimator-id-21\" type=\"checkbox\" checked><label for=\"sk-estimator-id-21\" class=\"sk-toggleable__label sk-toggleable__label-arrow\">RandomForestRegressor</label><div class=\"sk-toggleable__content\"><pre>RandomForestRegressor(max_depth=11, n_estimators=60, random_state=23)</pre></div></div></div></div></div>"
      ],
      "text/plain": [
       "RandomForestRegressor(max_depth=11, n_estimators=60, random_state=23)"
      ]
     },
     "execution_count": 71,
     "metadata": {},
     "output_type": "execute_result"
    }
   ],
   "source": [
    "Rdm_forest_pca"
   ]
  },
  {
   "cell_type": "code",
   "execution_count": 78,
   "metadata": {},
   "outputs": [
    {
     "data": {
      "text/html": [
       "<style>#sk-container-id-15 {color: black;}#sk-container-id-15 pre{padding: 0;}#sk-container-id-15 div.sk-toggleable {background-color: white;}#sk-container-id-15 label.sk-toggleable__label {cursor: pointer;display: block;width: 100%;margin-bottom: 0;padding: 0.3em;box-sizing: border-box;text-align: center;}#sk-container-id-15 label.sk-toggleable__label-arrow:before {content: \"▸\";float: left;margin-right: 0.25em;color: #696969;}#sk-container-id-15 label.sk-toggleable__label-arrow:hover:before {color: black;}#sk-container-id-15 div.sk-estimator:hover label.sk-toggleable__label-arrow:before {color: black;}#sk-container-id-15 div.sk-toggleable__content {max-height: 0;max-width: 0;overflow: hidden;text-align: left;background-color: #f0f8ff;}#sk-container-id-15 div.sk-toggleable__content pre {margin: 0.2em;color: black;border-radius: 0.25em;background-color: #f0f8ff;}#sk-container-id-15 input.sk-toggleable__control:checked~div.sk-toggleable__content {max-height: 200px;max-width: 100%;overflow: auto;}#sk-container-id-15 input.sk-toggleable__control:checked~label.sk-toggleable__label-arrow:before {content: \"▾\";}#sk-container-id-15 div.sk-estimator input.sk-toggleable__control:checked~label.sk-toggleable__label {background-color: #d4ebff;}#sk-container-id-15 div.sk-label input.sk-toggleable__control:checked~label.sk-toggleable__label {background-color: #d4ebff;}#sk-container-id-15 input.sk-hidden--visually {border: 0;clip: rect(1px 1px 1px 1px);clip: rect(1px, 1px, 1px, 1px);height: 1px;margin: -1px;overflow: hidden;padding: 0;position: absolute;width: 1px;}#sk-container-id-15 div.sk-estimator {font-family: monospace;background-color: #f0f8ff;border: 1px dotted black;border-radius: 0.25em;box-sizing: border-box;margin-bottom: 0.5em;}#sk-container-id-15 div.sk-estimator:hover {background-color: #d4ebff;}#sk-container-id-15 div.sk-parallel-item::after {content: \"\";width: 100%;border-bottom: 1px solid gray;flex-grow: 1;}#sk-container-id-15 div.sk-label:hover label.sk-toggleable__label {background-color: #d4ebff;}#sk-container-id-15 div.sk-serial::before {content: \"\";position: absolute;border-left: 1px solid gray;box-sizing: border-box;top: 0;bottom: 0;left: 50%;z-index: 0;}#sk-container-id-15 div.sk-serial {display: flex;flex-direction: column;align-items: center;background-color: white;padding-right: 0.2em;padding-left: 0.2em;position: relative;}#sk-container-id-15 div.sk-item {position: relative;z-index: 1;}#sk-container-id-15 div.sk-parallel {display: flex;align-items: stretch;justify-content: center;background-color: white;position: relative;}#sk-container-id-15 div.sk-item::before, #sk-container-id-15 div.sk-parallel-item::before {content: \"\";position: absolute;border-left: 1px solid gray;box-sizing: border-box;top: 0;bottom: 0;left: 50%;z-index: -1;}#sk-container-id-15 div.sk-parallel-item {display: flex;flex-direction: column;z-index: 1;position: relative;background-color: white;}#sk-container-id-15 div.sk-parallel-item:first-child::after {align-self: flex-end;width: 50%;}#sk-container-id-15 div.sk-parallel-item:last-child::after {align-self: flex-start;width: 50%;}#sk-container-id-15 div.sk-parallel-item:only-child::after {width: 0;}#sk-container-id-15 div.sk-dashed-wrapped {border: 1px dashed gray;margin: 0 0.4em 0.5em 0.4em;box-sizing: border-box;padding-bottom: 0.4em;background-color: white;}#sk-container-id-15 div.sk-label label {font-family: monospace;font-weight: bold;display: inline-block;line-height: 1.2em;}#sk-container-id-15 div.sk-label-container {text-align: center;}#sk-container-id-15 div.sk-container {/* jupyter's `normalize.less` sets `[hidden] { display: none; }` but bootstrap.min.css set `[hidden] { display: none !important; }` so we also need the `!important` here to be able to override the default hidden behavior on the sphinx rendered scikit-learn.org. See: https://github.com/scikit-learn/scikit-learn/issues/21755 */display: inline-block !important;position: relative;}#sk-container-id-15 div.sk-text-repr-fallback {display: none;}</style><div id=\"sk-container-id-15\" class=\"sk-top-container\"><div class=\"sk-text-repr-fallback\"><pre>PCA(n_components=9)</pre><b>In a Jupyter environment, please rerun this cell to show the HTML representation or trust the notebook. <br />On GitHub, the HTML representation is unable to render, please try loading this page with nbviewer.org.</b></div><div class=\"sk-container\" hidden><div class=\"sk-item\"><div class=\"sk-estimator sk-toggleable\"><input class=\"sk-toggleable__control sk-hidden--visually\" id=\"sk-estimator-id-23\" type=\"checkbox\" checked><label for=\"sk-estimator-id-23\" class=\"sk-toggleable__label sk-toggleable__label-arrow\">PCA</label><div class=\"sk-toggleable__content\"><pre>PCA(n_components=9)</pre></div></div></div></div></div>"
      ],
      "text/plain": [
       "PCA(n_components=9)"
      ]
     },
     "execution_count": 78,
     "metadata": {},
     "output_type": "execute_result"
    }
   ],
   "source": [
    "pca_random_f"
   ]
  },
  {
   "cell_type": "code",
   "execution_count": 87,
   "metadata": {},
   "outputs": [
    {
     "data": {
      "text/plain": [
       "['pca_model.pkl']"
      ]
     },
     "execution_count": 87,
     "metadata": {},
     "output_type": "execute_result"
    }
   ],
   "source": [
    "joblib.dump(Rdm_forest_pca, 'random_forest_model.pkl')\n",
    "joblib.dump(pca_random_f,\"pca_model.pkl\")"
   ]
  },
  {
   "cell_type": "code",
   "execution_count": 86,
   "metadata": {},
   "outputs": [],
   "source": [
    "load_randomForest=joblib.load(\"random_forest_model.pkl\")\n",
    "load_pca=joblib.load(\"pca_model.pkl\")"
   ]
  },
  {
   "cell_type": "code",
   "execution_count": 101,
   "metadata": {},
   "outputs": [
    {
     "data": {
      "text/html": [
       "<style>#sk-container-id-19 {color: black;}#sk-container-id-19 pre{padding: 0;}#sk-container-id-19 div.sk-toggleable {background-color: white;}#sk-container-id-19 label.sk-toggleable__label {cursor: pointer;display: block;width: 100%;margin-bottom: 0;padding: 0.3em;box-sizing: border-box;text-align: center;}#sk-container-id-19 label.sk-toggleable__label-arrow:before {content: \"▸\";float: left;margin-right: 0.25em;color: #696969;}#sk-container-id-19 label.sk-toggleable__label-arrow:hover:before {color: black;}#sk-container-id-19 div.sk-estimator:hover label.sk-toggleable__label-arrow:before {color: black;}#sk-container-id-19 div.sk-toggleable__content {max-height: 0;max-width: 0;overflow: hidden;text-align: left;background-color: #f0f8ff;}#sk-container-id-19 div.sk-toggleable__content pre {margin: 0.2em;color: black;border-radius: 0.25em;background-color: #f0f8ff;}#sk-container-id-19 input.sk-toggleable__control:checked~div.sk-toggleable__content {max-height: 200px;max-width: 100%;overflow: auto;}#sk-container-id-19 input.sk-toggleable__control:checked~label.sk-toggleable__label-arrow:before {content: \"▾\";}#sk-container-id-19 div.sk-estimator input.sk-toggleable__control:checked~label.sk-toggleable__label {background-color: #d4ebff;}#sk-container-id-19 div.sk-label input.sk-toggleable__control:checked~label.sk-toggleable__label {background-color: #d4ebff;}#sk-container-id-19 input.sk-hidden--visually {border: 0;clip: rect(1px 1px 1px 1px);clip: rect(1px, 1px, 1px, 1px);height: 1px;margin: -1px;overflow: hidden;padding: 0;position: absolute;width: 1px;}#sk-container-id-19 div.sk-estimator {font-family: monospace;background-color: #f0f8ff;border: 1px dotted black;border-radius: 0.25em;box-sizing: border-box;margin-bottom: 0.5em;}#sk-container-id-19 div.sk-estimator:hover {background-color: #d4ebff;}#sk-container-id-19 div.sk-parallel-item::after {content: \"\";width: 100%;border-bottom: 1px solid gray;flex-grow: 1;}#sk-container-id-19 div.sk-label:hover label.sk-toggleable__label {background-color: #d4ebff;}#sk-container-id-19 div.sk-serial::before {content: \"\";position: absolute;border-left: 1px solid gray;box-sizing: border-box;top: 0;bottom: 0;left: 50%;z-index: 0;}#sk-container-id-19 div.sk-serial {display: flex;flex-direction: column;align-items: center;background-color: white;padding-right: 0.2em;padding-left: 0.2em;position: relative;}#sk-container-id-19 div.sk-item {position: relative;z-index: 1;}#sk-container-id-19 div.sk-parallel {display: flex;align-items: stretch;justify-content: center;background-color: white;position: relative;}#sk-container-id-19 div.sk-item::before, #sk-container-id-19 div.sk-parallel-item::before {content: \"\";position: absolute;border-left: 1px solid gray;box-sizing: border-box;top: 0;bottom: 0;left: 50%;z-index: -1;}#sk-container-id-19 div.sk-parallel-item {display: flex;flex-direction: column;z-index: 1;position: relative;background-color: white;}#sk-container-id-19 div.sk-parallel-item:first-child::after {align-self: flex-end;width: 50%;}#sk-container-id-19 div.sk-parallel-item:last-child::after {align-self: flex-start;width: 50%;}#sk-container-id-19 div.sk-parallel-item:only-child::after {width: 0;}#sk-container-id-19 div.sk-dashed-wrapped {border: 1px dashed gray;margin: 0 0.4em 0.5em 0.4em;box-sizing: border-box;padding-bottom: 0.4em;background-color: white;}#sk-container-id-19 div.sk-label label {font-family: monospace;font-weight: bold;display: inline-block;line-height: 1.2em;}#sk-container-id-19 div.sk-label-container {text-align: center;}#sk-container-id-19 div.sk-container {/* jupyter's `normalize.less` sets `[hidden] { display: none; }` but bootstrap.min.css set `[hidden] { display: none !important; }` so we also need the `!important` here to be able to override the default hidden behavior on the sphinx rendered scikit-learn.org. See: https://github.com/scikit-learn/scikit-learn/issues/21755 */display: inline-block !important;position: relative;}#sk-container-id-19 div.sk-text-repr-fallback {display: none;}</style><div id=\"sk-container-id-19\" class=\"sk-top-container\"><div class=\"sk-text-repr-fallback\"><pre>RandomForestRegressor(max_depth=11, n_estimators=60, random_state=23)</pre><b>In a Jupyter environment, please rerun this cell to show the HTML representation or trust the notebook. <br />On GitHub, the HTML representation is unable to render, please try loading this page with nbviewer.org.</b></div><div class=\"sk-container\" hidden><div class=\"sk-item\"><div class=\"sk-estimator sk-toggleable\"><input class=\"sk-toggleable__control sk-hidden--visually\" id=\"sk-estimator-id-27\" type=\"checkbox\" checked><label for=\"sk-estimator-id-27\" class=\"sk-toggleable__label sk-toggleable__label-arrow\">RandomForestRegressor</label><div class=\"sk-toggleable__content\"><pre>RandomForestRegressor(max_depth=11, n_estimators=60, random_state=23)</pre></div></div></div></div></div>"
      ],
      "text/plain": [
       "RandomForestRegressor(max_depth=11, n_estimators=60, random_state=23)"
      ]
     },
     "execution_count": 101,
     "metadata": {},
     "output_type": "execute_result"
    }
   ],
   "source": [
    "load_randomForest"
   ]
  },
  {
   "cell_type": "code",
   "execution_count": 88,
   "metadata": {},
   "outputs": [
    {
     "data": {
      "text/html": [
       "<style>#sk-container-id-17 {color: black;}#sk-container-id-17 pre{padding: 0;}#sk-container-id-17 div.sk-toggleable {background-color: white;}#sk-container-id-17 label.sk-toggleable__label {cursor: pointer;display: block;width: 100%;margin-bottom: 0;padding: 0.3em;box-sizing: border-box;text-align: center;}#sk-container-id-17 label.sk-toggleable__label-arrow:before {content: \"▸\";float: left;margin-right: 0.25em;color: #696969;}#sk-container-id-17 label.sk-toggleable__label-arrow:hover:before {color: black;}#sk-container-id-17 div.sk-estimator:hover label.sk-toggleable__label-arrow:before {color: black;}#sk-container-id-17 div.sk-toggleable__content {max-height: 0;max-width: 0;overflow: hidden;text-align: left;background-color: #f0f8ff;}#sk-container-id-17 div.sk-toggleable__content pre {margin: 0.2em;color: black;border-radius: 0.25em;background-color: #f0f8ff;}#sk-container-id-17 input.sk-toggleable__control:checked~div.sk-toggleable__content {max-height: 200px;max-width: 100%;overflow: auto;}#sk-container-id-17 input.sk-toggleable__control:checked~label.sk-toggleable__label-arrow:before {content: \"▾\";}#sk-container-id-17 div.sk-estimator input.sk-toggleable__control:checked~label.sk-toggleable__label {background-color: #d4ebff;}#sk-container-id-17 div.sk-label input.sk-toggleable__control:checked~label.sk-toggleable__label {background-color: #d4ebff;}#sk-container-id-17 input.sk-hidden--visually {border: 0;clip: rect(1px 1px 1px 1px);clip: rect(1px, 1px, 1px, 1px);height: 1px;margin: -1px;overflow: hidden;padding: 0;position: absolute;width: 1px;}#sk-container-id-17 div.sk-estimator {font-family: monospace;background-color: #f0f8ff;border: 1px dotted black;border-radius: 0.25em;box-sizing: border-box;margin-bottom: 0.5em;}#sk-container-id-17 div.sk-estimator:hover {background-color: #d4ebff;}#sk-container-id-17 div.sk-parallel-item::after {content: \"\";width: 100%;border-bottom: 1px solid gray;flex-grow: 1;}#sk-container-id-17 div.sk-label:hover label.sk-toggleable__label {background-color: #d4ebff;}#sk-container-id-17 div.sk-serial::before {content: \"\";position: absolute;border-left: 1px solid gray;box-sizing: border-box;top: 0;bottom: 0;left: 50%;z-index: 0;}#sk-container-id-17 div.sk-serial {display: flex;flex-direction: column;align-items: center;background-color: white;padding-right: 0.2em;padding-left: 0.2em;position: relative;}#sk-container-id-17 div.sk-item {position: relative;z-index: 1;}#sk-container-id-17 div.sk-parallel {display: flex;align-items: stretch;justify-content: center;background-color: white;position: relative;}#sk-container-id-17 div.sk-item::before, #sk-container-id-17 div.sk-parallel-item::before {content: \"\";position: absolute;border-left: 1px solid gray;box-sizing: border-box;top: 0;bottom: 0;left: 50%;z-index: -1;}#sk-container-id-17 div.sk-parallel-item {display: flex;flex-direction: column;z-index: 1;position: relative;background-color: white;}#sk-container-id-17 div.sk-parallel-item:first-child::after {align-self: flex-end;width: 50%;}#sk-container-id-17 div.sk-parallel-item:last-child::after {align-self: flex-start;width: 50%;}#sk-container-id-17 div.sk-parallel-item:only-child::after {width: 0;}#sk-container-id-17 div.sk-dashed-wrapped {border: 1px dashed gray;margin: 0 0.4em 0.5em 0.4em;box-sizing: border-box;padding-bottom: 0.4em;background-color: white;}#sk-container-id-17 div.sk-label label {font-family: monospace;font-weight: bold;display: inline-block;line-height: 1.2em;}#sk-container-id-17 div.sk-label-container {text-align: center;}#sk-container-id-17 div.sk-container {/* jupyter's `normalize.less` sets `[hidden] { display: none; }` but bootstrap.min.css set `[hidden] { display: none !important; }` so we also need the `!important` here to be able to override the default hidden behavior on the sphinx rendered scikit-learn.org. See: https://github.com/scikit-learn/scikit-learn/issues/21755 */display: inline-block !important;position: relative;}#sk-container-id-17 div.sk-text-repr-fallback {display: none;}</style><div id=\"sk-container-id-17\" class=\"sk-top-container\"><div class=\"sk-text-repr-fallback\"><pre>PCA(n_components=9)</pre><b>In a Jupyter environment, please rerun this cell to show the HTML representation or trust the notebook. <br />On GitHub, the HTML representation is unable to render, please try loading this page with nbviewer.org.</b></div><div class=\"sk-container\" hidden><div class=\"sk-item\"><div class=\"sk-estimator sk-toggleable\"><input class=\"sk-toggleable__control sk-hidden--visually\" id=\"sk-estimator-id-25\" type=\"checkbox\" checked><label for=\"sk-estimator-id-25\" class=\"sk-toggleable__label sk-toggleable__label-arrow\">PCA</label><div class=\"sk-toggleable__content\"><pre>PCA(n_components=9)</pre></div></div></div></div></div>"
      ],
      "text/plain": [
       "PCA(n_components=9)"
      ]
     },
     "execution_count": 88,
     "metadata": {},
     "output_type": "execute_result"
    }
   ],
   "source": [
    "load_pca"
   ]
  },
  {
   "cell_type": "code",
   "execution_count": 104,
   "metadata": {},
   "outputs": [
    {
     "data": {
      "text/plain": [
       "array([[1.000e+00, 0.000e+00, 0.000e+00, 0.000e+00, 0.000e+00, 0.000e+00,\n",
       "        1.721e+03, 6.200e+01, 1.000e+00]])"
      ]
     },
     "execution_count": 104,
     "metadata": {},
     "output_type": "execute_result"
    }
   ],
   "source": [
    "\n",
    "np.array(dataset.iloc[0].drop(\"DiasEstanciaClinica_exactoLog\")).reshape(1,-1)"
   ]
  },
  {
   "cell_type": "code",
   "execution_count": 109,
   "metadata": {},
   "outputs": [
    {
     "name": "stderr",
     "output_type": "stream",
     "text": [
      "/home/astolfo/anaconda3/lib/python3.11/site-packages/sklearn/base.py:464: UserWarning: X does not have valid feature names, but PCA was fitted with feature names\n",
      "  warnings.warn(\n"
     ]
    }
   ],
   "source": [
    "pca_data=load_pca.transform(\n",
    "\n",
    "np.array(dataset.iloc[4].drop(\"DiasEstanciaClinica_exactoLog\")).reshape(1,-1)\n",
    "\n",
    ")\n"
   ]
  },
  {
   "cell_type": "code",
   "execution_count": 110,
   "metadata": {},
   "outputs": [
    {
     "data": {
      "text/plain": [
       "array([1.57264891])"
      ]
     },
     "execution_count": 110,
     "metadata": {},
     "output_type": "execute_result"
    }
   ],
   "source": [
    "load_randomForest.predict(\n",
    "pca_data\n",
    ")"
   ]
  },
  {
   "cell_type": "code",
   "execution_count": 111,
   "metadata": {},
   "outputs": [
    {
     "data": {
      "text/plain": [
       "1.7022740536855905"
      ]
     },
     "execution_count": 111,
     "metadata": {},
     "output_type": "execute_result"
    }
   ],
   "source": [
    "dataset.iloc[4][\"DiasEstanciaClinica_exactoLog\"]\n"
   ]
  },
  {
   "attachments": {},
   "cell_type": "markdown",
   "metadata": {},
   "source": [
    "## 5.2 Tablas de los mejores hiperparametros para cada situación"
   ]
  },
  {
   "attachments": {},
   "cell_type": "markdown",
   "metadata": {},
   "source": [
    "### 5.2.1 Random Forest"
   ]
  },
  {
   "cell_type": "code",
   "execution_count": 56,
   "metadata": {},
   "outputs": [
    {
     "data": {
      "text/html": [
       "<div>\n",
       "<style scoped>\n",
       "    .dataframe tbody tr th:only-of-type {\n",
       "        vertical-align: middle;\n",
       "    }\n",
       "\n",
       "    .dataframe tbody tr th {\n",
       "        vertical-align: top;\n",
       "    }\n",
       "\n",
       "    .dataframe thead th {\n",
       "        text-align: right;\n",
       "    }\n",
       "</style>\n",
       "<table border=\"1\" class=\"dataframe\">\n",
       "  <thead>\n",
       "    <tr style=\"text-align: right;\">\n",
       "      <th></th>\n",
       "      <th>max_depth</th>\n",
       "      <th>min_samples_leaf</th>\n",
       "      <th>n_estimators</th>\n",
       "      <th>random_state</th>\n",
       "    </tr>\n",
       "  </thead>\n",
       "  <tbody>\n",
       "    <tr>\n",
       "      <th>Best Random Forest</th>\n",
       "      <td>11</td>\n",
       "      <td>2</td>\n",
       "      <td>60</td>\n",
       "      <td>23</td>\n",
       "    </tr>\n",
       "    <tr>\n",
       "      <th>Best Random Forest+PCA</th>\n",
       "      <td>11</td>\n",
       "      <td>1</td>\n",
       "      <td>60</td>\n",
       "      <td>23</td>\n",
       "    </tr>\n",
       "    <tr>\n",
       "      <th>Best Random Forest+NMF</th>\n",
       "      <td>19</td>\n",
       "      <td>2</td>\n",
       "      <td>60</td>\n",
       "      <td>23</td>\n",
       "    </tr>\n",
       "  </tbody>\n",
       "</table>\n",
       "</div>"
      ],
      "text/plain": [
       "                        max_depth  min_samples_leaf  n_estimators  \\\n",
       "Best Random Forest             11                 2            60   \n",
       "Best Random Forest+PCA         11                 1            60   \n",
       "Best Random Forest+NMF         19                 2            60   \n",
       "\n",
       "                        random_state  \n",
       "Best Random Forest                23  \n",
       "Best Random Forest+PCA            23  \n",
       "Best Random Forest+NMF            23  "
      ]
     },
     "execution_count": 56,
     "metadata": {},
     "output_type": "execute_result"
    }
   ],
   "source": [
    "index_name=[\"Best Random Forest\",\"Best Random Forest+PCA\",\"Best Random Forest+NMF\"]\n",
    "dicts=[forest_reg.best_params_,forest_reg_pca.best_params_,forest_reg_nmf.best_params_]\n",
    "best_hiper_random=pd.DataFrame(dicts,index=index_name)\n",
    "best_hiper_random"
   ]
  },
  {
   "attachments": {},
   "cell_type": "markdown",
   "metadata": {},
   "source": [
    "### 5.2.2 Decision Tree"
   ]
  },
  {
   "cell_type": "code",
   "execution_count": 57,
   "metadata": {},
   "outputs": [
    {
     "data": {
      "text/html": [
       "<div>\n",
       "<style scoped>\n",
       "    .dataframe tbody tr th:only-of-type {\n",
       "        vertical-align: middle;\n",
       "    }\n",
       "\n",
       "    .dataframe tbody tr th {\n",
       "        vertical-align: top;\n",
       "    }\n",
       "\n",
       "    .dataframe thead th {\n",
       "        text-align: right;\n",
       "    }\n",
       "</style>\n",
       "<table border=\"1\" class=\"dataframe\">\n",
       "  <thead>\n",
       "    <tr style=\"text-align: right;\">\n",
       "      <th></th>\n",
       "      <th>max_depth</th>\n",
       "    </tr>\n",
       "  </thead>\n",
       "  <tbody>\n",
       "    <tr>\n",
       "      <th>Best Decision Tree</th>\n",
       "      <td>8</td>\n",
       "    </tr>\n",
       "    <tr>\n",
       "      <th>Best Decision Tree+PCA</th>\n",
       "      <td>8</td>\n",
       "    </tr>\n",
       "    <tr>\n",
       "      <th>Best Decision Tree+NMF</th>\n",
       "      <td>8</td>\n",
       "    </tr>\n",
       "  </tbody>\n",
       "</table>\n",
       "</div>"
      ],
      "text/plain": [
       "                        max_depth\n",
       "Best Decision Tree              8\n",
       "Best Decision Tree+PCA          8\n",
       "Best Decision Tree+NMF          8"
      ]
     },
     "execution_count": 57,
     "metadata": {},
     "output_type": "execute_result"
    }
   ],
   "source": [
    "index_name=[\"Best Decision Tree\",\"Best Decision Tree+PCA\",\"Best Decision Tree+NMF\"]\n",
    "dicts=[decission_tree.best_params_,decission_tree_pca.best_params_,decission_tree_nmf.best_params_]\n",
    "best_hiper_random=pd.DataFrame(dicts,index=index_name)\n",
    "best_hiper_random"
   ]
  }
 ],
 "metadata": {
  "kernelspec": {
   "display_name": "base",
   "language": "python",
   "name": "python3"
  },
  "language_info": {
   "codemirror_mode": {
    "name": "ipython",
    "version": 3
   },
   "file_extension": ".py",
   "mimetype": "text/x-python",
   "name": "python",
   "nbconvert_exporter": "python",
   "pygments_lexer": "ipython3",
   "version": "3.11.4"
  },
  "orig_nbformat": 4
 },
 "nbformat": 4,
 "nbformat_minor": 2
}
