{
 "cells": [
  {
   "cell_type": "code",
   "execution_count": 99,
   "metadata": {},
   "outputs": [
    {
     "name": "stdout",
     "output_type": "stream",
     "text": [
      "{'DX_R3': '-1', 'DX_pre_cx': '-1', 'DX_pos_cx': '-1', 'Transfusiones': 'NO', 'Antioboticos': 'NO', 'UCI_UCE': 'NO'}\n"
     ]
    }
   ],
   "source": [
    "replaces = {'MES': 'Marzo', 'bloque': 'Bloque 1', 'piso': 'Piso 3', 'Tipo_Internacion': 'General adultos', 'DX_PRINCIPAL': 'N390', 'D_DX_PPAL': 'TRAUMATISMOS, ENVENENAMIENTO Y ALGUNAS OTRAS CONSECUENCIAS DE CAUSAS EXTERNAS', 'D_Capitulo_CIE10': 'S00-T98', 'RangoCapitulo': 'N39', 'Categoria': 'OTROS TRASTORNOS DEL SISTEMA URINARIO', 'D_subcapitulo_CIE10': 'Sin información', 'DescSubgrupoOncologia': 'Sin información', 'SubgrupoOncologia': 'INFECCION DE VIAS URINARIAS  SITIO NO ESPECIFICADO', 'ClasificacionCronico_DX_Principal': 'No crónica', 'DX_MEDICO': 'Z515', 'D_DX_MEDICO': 'ATENCION PALIATIVA', 'ClasificacionCronico_DX_Medico': 'No crónica', 'DX_R1': 'I10X', 'D_DX_R1': 'HIPERTENSION ESENCIAL (PRIMARIA)', 'ClasificacionCronico_DX_R1': 'No crónica', 'DX_R2': 'I10X', 'D_DX_R2': 'HIPERTENSION ESENCIAL (PRIMARIA)', 'ClasificacionCronico_DX_R2': 'No crónica', 'DX_R3': '-1', 'D_DX_R3': 'HIPERTENSION ESENCIAL (PRIMARIA)', 'ClasificacionCronico_DX_R3': 'No crónica', 'DX_F3': '-1', 'D_DX_F3': 'OTROS DOLORES ABDOMINALES Y LOS NO ESPECIFICADOS', 'ClasificacionCronico_DX_F3': 'No crónica', 'DX_F3_R1': '-1', 'DX_F3_R2': '-1', 'DX_F3_R3': '-1', 'DX_pre_cx': '-1', 'DX_pos_cx': '-1', 'DX_MUERTE': '-1', 'Subcapitulo_DX_Muerte': '-1', 'capitulo_DX_Muerte': '-1', 'Transfusiones': 'NO', 'Antioboticos': 'NO', 'UCI_UCE': 'NO'}\n",
    "keys = ['DiasEstanciaServicio',\n",
    "       'Antioboticos', 'Transfusiones', 'UCI_UCE', 'DX_pos_cx',\n",
    "       'DX_pre_cx', 'DX_R3', 'EdadEgreso', 'NombreTipoDiagnostico']\n",
    "test_keys = [i for i in replaces.keys() if i in keys]\n",
    "test_values = [j for i,j in enumerate(replaces.values()) if list(replaces.keys())[i] in keys]\n",
    "res = {}\n",
    "for key in test_keys:\n",
    "    for value in test_values:\n",
    "        res[key] = value\n",
    "        test_values.remove(value)\n",
    "        break\n",
    "\n",
    "print(res)"
   ]
  },
  {
   "cell_type": "code",
   "execution_count": 131,
   "metadata": {},
   "outputs": [
    {
     "name": "stderr",
     "output_type": "stream",
     "text": [
      "c:\\Users\\ADMH2\\AppData\\Local\\Programs\\Python\\Python311\\Lib\\site-packages\\sklearn\\base.py:348: InconsistentVersionWarning: Trying to unpickle estimator DecisionTreeRegressor from version 1.3.0 when using version 1.3.2. This might lead to breaking code or invalid results. Use at your own risk. For more info please refer to:\n",
      "https://scikit-learn.org/stable/model_persistence.html#security-maintainability-limitations\n",
      "  warnings.warn(\n",
      "c:\\Users\\ADMH2\\AppData\\Local\\Programs\\Python\\Python311\\Lib\\site-packages\\sklearn\\base.py:348: InconsistentVersionWarning: Trying to unpickle estimator RandomForestRegressor from version 1.3.0 when using version 1.3.2. This might lead to breaking code or invalid results. Use at your own risk. For more info please refer to:\n",
      "https://scikit-learn.org/stable/model_persistence.html#security-maintainability-limitations\n",
      "  warnings.warn(\n",
      "c:\\Users\\ADMH2\\AppData\\Local\\Programs\\Python\\Python311\\Lib\\site-packages\\sklearn\\base.py:348: InconsistentVersionWarning: Trying to unpickle estimator PCA from version 1.3.0 when using version 1.3.2. This might lead to breaking code or invalid results. Use at your own risk. For more info please refer to:\n",
      "https://scikit-learn.org/stable/model_persistence.html#security-maintainability-limitations\n",
      "  warnings.warn(\n",
      "c:\\Users\\ADMH2\\AppData\\Local\\Programs\\Python\\Python311\\Lib\\site-packages\\sklearn\\base.py:348: InconsistentVersionWarning: Trying to unpickle estimator LabelEncoder from version 1.3.0 when using version 1.3.2. This might lead to breaking code or invalid results. Use at your own risk. For more info please refer to:\n",
      "https://scikit-learn.org/stable/model_persistence.html#security-maintainability-limitations\n",
      "  warnings.warn(\n"
     ]
    },
    {
     "name": "stdout",
     "output_type": "stream",
     "text": [
      "Running on local URL:  http://127.0.0.1:7911\n",
      "\n",
      "To create a public link, set `share=True` in `launch()`.\n"
     ]
    },
    {
     "data": {
      "text/html": [
       "<div><iframe src=\"http://127.0.0.1:7911/\" width=\"100%\" height=\"500\" allow=\"autoplay; camera; microphone; clipboard-read; clipboard-write;\" frameborder=\"0\" allowfullscreen></iframe></div>"
      ],
      "text/plain": [
       "<IPython.core.display.HTML object>"
      ]
     },
     "metadata": {},
     "output_type": "display_data"
    },
    {
     "data": {
      "text/plain": []
     },
     "execution_count": 131,
     "metadata": {},
     "output_type": "execute_result"
    },
    {
     "name": "stderr",
     "output_type": "stream",
     "text": [
      "c:\\Users\\ADMH2\\AppData\\Local\\Programs\\Python\\Python311\\Lib\\site-packages\\sklearn\\base.py:465: UserWarning: X does not have valid feature names, but PCA was fitted with feature names\n",
      "  warnings.warn(\n",
      "c:\\Users\\ADMH2\\AppData\\Local\\Programs\\Python\\Python311\\Lib\\site-packages\\sklearn\\base.py:465: UserWarning: X does not have valid feature names, but PCA was fitted with feature names\n",
      "  warnings.warn(\n",
      "c:\\Users\\ADMH2\\AppData\\Local\\Programs\\Python\\Python311\\Lib\\site-packages\\sklearn\\base.py:465: UserWarning: X does not have valid feature names, but PCA was fitted with feature names\n",
      "  warnings.warn(\n",
      "c:\\Users\\ADMH2\\AppData\\Local\\Programs\\Python\\Python311\\Lib\\site-packages\\sklearn\\base.py:465: UserWarning: X does not have valid feature names, but PCA was fitted with feature names\n",
      "  warnings.warn(\n"
     ]
    }
   ],
   "source": [
    "import gradio as gr\n",
    "import joblib\n",
    "import pandas as pd\n",
    "import numpy as np\n",
    "from sklearn import preprocessing as ps\n",
    "\n",
    "keys = ['DiasEstanciaServicio',\n",
    "       'Antioboticos', 'Transfusiones', 'UCI_UCE', 'DX_pos_cx',\n",
    "       'DX_pre_cx', 'DX_R3', 'EdadEgreso', 'NombreTipoDiagnostico']\n",
    "\n",
    "load_randomForest=joblib.load(\"random_forest_model.pkl\")\n",
    "load_pca=joblib.load(\"pca_model.pkl\")\n",
    "antiencoder = joblib.load(\"Antioboticos_encoder.pkl\")\n",
    "try:\n",
    "    antiencoder = joblib.load(\"Antioboticos_encoder.pkl\")\n",
    "except Exception as err:\n",
    "    print(err)\n",
    "trabsebcider = joblib.load(\"./encoders/Transfusiones_encoder.pkl\")\n",
    "uciuce = joblib.load(\"./encoders/UCI_UCE_encoder.pkl\")\n",
    "pre = joblib.load('./encoders/DX_pre_cx_encoder.pkl')\n",
    "pos = joblib.load('./encoders/DX_pos_cx_encoder.pkl')\n",
    "r3 = joblib.load('./encoders/DX_R3_encoder.pkl')\n",
    "\n",
    "def calcular_prediccion(DiasEstanciaServicio,Antioboticos,Transfusiones,UCI_UCE,DX_pos_cx,DX_pre_cx,DX_R3, EdadEgreso, NombreTipoDiagnostico):\n",
    "    data = [DiasEstanciaServicio,antiencoder.transform([Antioboticos]),trabsebcider.transform([Transfusiones]),\n",
    "            uciuce.transform([UCI_UCE]),pre.transform([DX_pos_cx]),pre.transform([DX_pre_cx]),\n",
    "            r3.transform([DX_R3]), EdadEgreso, NombreTipoDiagnostico]\n",
    "    data = pd.DataFrame([data], columns = keys)\n",
    "    \n",
    "    pca_data=load_pca.transform(\n",
    "        np.array(data\n",
    "        )\n",
    "    )\n",
    "    return np.exp(load_randomForest.predict(pca_data))\n",
    "\n",
    "DiasEstanciaServicio = gr.Number(label=\"DiasEstanciaServicio\")\n",
    "Antioboticos = gr.Dropdown([\"SI\", \"NO\"], label=\"Antioboticos\")\n",
    "Transfusiones = gr.Dropdown([\"SI\", \"NO\"], label=\"Transfusiones\")\n",
    "UCI_UCE = gr.Dropdown([\"SI\", \"NO\"], label=\"UCI_UCE\")\n",
    "DX_pos_cx = gr.Textbox(label=\"DX_pos_cx\")\n",
    "DX_pre_cx = gr.Textbox(label=\"DX_pre_cx\")\n",
    "DX_R3 = gr.Textbox(label=\"DX_R3\")\n",
    "EdadEngreso= gr.Number(label=\"EdadEngreso\")\n",
    "prediccion = gr.Textbox(label=\"Dias de estancia en el Hospital\")\n",
    "NombreTipoDiagnostico=gr.Dropdown([0, 1], label=\"NombreTipoDiagnostico\")\n",
    "\n",
    "demo = gr.Interface(\n",
    "    fn=calcular_prediccion,\n",
    "    inputs=[DiasEstanciaServicio,Antioboticos,Transfusiones,UCI_UCE,DX_pos_cx,DX_pre_cx,DX_R3,EdadEngreso,NombreTipoDiagnostico],\n",
    "    outputs=[prediccion]\n",
    ")\n",
    "\n",
    "demo.launch()"
   ]
  },
  {
   "cell_type": "code",
   "execution_count": 129,
   "metadata": {},
   "outputs": [
    {
     "data": {
      "text/plain": [
       "array([1721])"
      ]
     },
     "execution_count": 129,
     "metadata": {},
     "output_type": "execute_result"
    }
   ],
   "source": [
    "keys = [\"DiasEstanciaServicio\", \"Antioboticos\", \"Transfusiones\", \"UCI_UCE\", \"DX_pos_cx\", \"DX_pre_cx\", \"DX_R3\", \"EdadEgreso\", \"NombreTipoDiagnostico\"]\n",
    "\n",
    "# Crear un DataFrame de Pandas a partir de una lista de listas\n",
    "data = [1,1,1,1,1,1,1,1,1]\n",
    "df = pd.DataFrame([data], columns=keys)\n",
    "antiencoder.transform([\"NO\"])\n",
    "antiencoder.transform([\"NO\"])\n",
    "trabsebcider.transform([\"NO\"])\n",
    "uciuce.transform([\"SI\"])\n",
    "pre.transform([\"-1\"])\n",
    "pre.transform([\"-1\"])\n",
    "r3.transform([\"R11X\"])"
   ]
  },
  {
   "cell_type": "code",
   "execution_count": 78,
   "metadata": {},
   "outputs": [
    {
     "name": "stderr",
     "output_type": "stream",
     "text": [
      "c:\\Users\\ADMH2\\AppData\\Local\\Programs\\Python\\Python311\\Lib\\site-packages\\sklearn\\base.py:465: UserWarning: X does not have valid feature names, but PCA was fitted with feature names\n",
      "  warnings.warn(\n"
     ]
    },
    {
     "data": {
      "text/plain": [
       "array([11.83036407])"
      ]
     },
     "execution_count": 78,
     "metadata": {},
     "output_type": "execute_result"
    }
   ],
   "source": [
    "pca_data=load_pca.transform(\n",
    "\n",
    "np.array([1,1,1,1,1,1,1,1,1]).reshape(1,-1)\n",
    "\n",
    ")\n",
    "pca_data\n",
    "\n",
    "np.exp(load_randomForest.predict(pca_data))"
   ]
  }
 ],
 "metadata": {
  "kernelspec": {
   "display_name": "base",
   "language": "python",
   "name": "python3"
  },
  "language_info": {
   "codemirror_mode": {
    "name": "ipython",
    "version": 3
   },
   "file_extension": ".py",
   "mimetype": "text/x-python",
   "name": "python",
   "nbconvert_exporter": "python",
   "pygments_lexer": "ipython3",
   "version": "3.11.5"
  }
 },
 "nbformat": 4,
 "nbformat_minor": 2
}
