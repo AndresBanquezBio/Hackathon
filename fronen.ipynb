{
 "cells": [
  {
   "cell_type": "code",
   "execution_count": null,
   "metadata": {},
   "outputs": [],
   "source": [
    "replaces = {'MES': 'Marzo', 'bloque': 'Bloque 1', 'piso': 'Piso 3', 'Tipo_Internacion': 'General adultos', 'DX_PRINCIPAL': 'N390', 'D_DX_PPAL': 'TRAUMATISMOS, ENVENENAMIENTO Y ALGUNAS OTRAS CONSECUENCIAS DE CAUSAS EXTERNAS', 'D_Capitulo_CIE10': 'S00-T98', 'RangoCapitulo': 'N39', 'Categoria': 'OTROS TRASTORNOS DEL SISTEMA URINARIO', 'D_subcapitulo_CIE10': 'Sin información', 'DescSubgrupoOncologia': 'Sin información', 'SubgrupoOncologia': 'INFECCION DE VIAS URINARIAS  SITIO NO ESPECIFICADO', 'ClasificacionCronico_DX_Principal': 'No crónica', 'DX_MEDICO': 'Z515', 'D_DX_MEDICO': 'ATENCION PALIATIVA', 'ClasificacionCronico_DX_Medico': 'No crónica', 'DX_R1': 'I10X', 'D_DX_R1': 'HIPERTENSION ESENCIAL (PRIMARIA)', 'ClasificacionCronico_DX_R1': 'No crónica', 'DX_R2': 'I10X', 'D_DX_R2': 'HIPERTENSION ESENCIAL (PRIMARIA)', 'ClasificacionCronico_DX_R2': 'No crónica', 'DX_R3': '-1', 'D_DX_R3': 'HIPERTENSION ESENCIAL (PRIMARIA)', 'ClasificacionCronico_DX_R3': 'No crónica', 'DX_F3': '-1', 'D_DX_F3': 'OTROS DOLORES ABDOMINALES Y LOS NO ESPECIFICADOS', 'ClasificacionCronico_DX_F3': 'No crónica', 'DX_F3_R1': '-1', 'DX_F3_R2': '-1', 'DX_F3_R3': '-1', 'DX_pre_cx': '-1', 'DX_pos_cx': '-1', 'DX_MUERTE': '-1', 'Subcapitulo_DX_Muerte': '-1', 'capitulo_DX_Muerte': '-1', 'Transfusiones': 'NO', 'Antioboticos': 'NO', 'UCI_UCE': 'NO'}\n",
    "keys = ['DiasEstanciaServicio', 'Antioboticos', 'Transfusiones', 'UCI_UCE', 'ClasificacionCronico_DX_pre_cx', 'DX_pos_cx', 'ClasificacionCronico_DX_pos_cx', 'DX_pre_cx', 'DX_R3']\n",
    "test_keys = [i for i in replaces.keys() if i in keys]\n",
    "test_values = [i for i,j in enumerate(replaces.values()) if list(replaces.keys())[i] in keys]\n",
    "res = {}\n",
    "for key in test_keys:\n",
    "    for value in test_values:\n",
    "        res[key] = value\n",
    "        test_values.remove(value)\n",
    "        break\n",
    "\n",
    "print(res)"
   ]
  },
  {
   "cell_type": "code",
   "execution_count": 1,
   "metadata": {},
   "outputs": [
    {
     "name": "stderr",
     "output_type": "stream",
     "text": [
      "C:\\Users\\acoun\\AppData\\Local\\Packages\\PythonSoftwareFoundation.Python.3.11_qbz5n2kfra8p0\\LocalCache\\local-packages\\Python311\\site-packages\\tqdm\\auto.py:21: TqdmWarning: IProgress not found. Please update jupyter and ipywidgets. See https://ipywidgets.readthedocs.io/en/stable/user_install.html\n",
      "  from .autonotebook import tqdm as notebook_tqdm\n"
     ]
    },
    {
     "name": "stdout",
     "output_type": "stream",
     "text": [
      "Running on local URL:  http://127.0.0.1:7860\n",
      "\n",
      "To create a public link, set `share=True` in `launch()`.\n"
     ]
    },
    {
     "data": {
      "text/html": [
       "<div><iframe src=\"http://127.0.0.1:7860/\" width=\"100%\" height=\"500\" allow=\"autoplay; camera; microphone; clipboard-read; clipboard-write;\" frameborder=\"0\" allowfullscreen></iframe></div>"
      ],
      "text/plain": [
       "<IPython.core.display.HTML object>"
      ]
     },
     "metadata": {},
     "output_type": "display_data"
    },
    {
     "data": {
      "text/plain": []
     },
     "execution_count": 1,
     "metadata": {},
     "output_type": "execute_result"
    }
   ],
   "source": [
    "import gradio as gr\n",
    "import joblib\n",
    "import pandas as pd\n",
    "import numpy as np\n",
    "from sklearn import preprocessing as ps\n",
    "\n",
    "keys = ['DiasEstanciaServicio', 'Antioboticos', 'Transfusiones', 'UCI_UCE', 'ClasificacionCronico_DX_pre_cx', 'DX_pos_cx', 'ClasificacionCronico_DX_pos_cx', 'DX_pre_cx', 'DX_R3']\n",
    "\n",
    "load_randomForest=joblib.load(\"random_forest_model.pkl\")\n",
    "\n",
    "def greet(DiasEstanciaServicio, Antioboticos, Transfusiones, UCI_UCE, ClasificacionCronico_DX_pre_cx, DX_pos_cx, ClasificacionCronico_DX_pos_cx, DX_pre_cx, DX_R3):\n",
    "    data = pd.DataFrame([DiasEstanciaServicio, Antioboticos, Transfusiones, UCI_UCE, ClasificacionCronico_DX_pre_cx, DX_pos_cx, ClasificacionCronico_DX_pos_cx, DX_pre_cx, DX_R3], columns = keys)\n",
    "    data.replace({'Sin Informacion': np.NaN, 'Sin informacion en base de datos': np.NaN}, inplace=True)\n",
    "    data.fillna(res, inplace= True)\n",
    "    cdata=data.select_dtypes(exclude=[\"int\",\"float\"]).columns\n",
    "    dataEncode=data\n",
    "    encoder=ps.LabelEncoder()\n",
    "    for i in cdata:\n",
    "        dataEncode[i]=encoder.fit_transform(dataEncode[i])\n",
    "    dataEncode.info()\n",
    "    load_randomForest()\n",
    "\n",
    "demo = gr.Interface(\n",
    "    fn=greet,\n",
    "    inputs=[\"text\", \"checkbox\", gr.Slider(0, 100)],\n",
    "    outputs=[\"text\", \"number\"],\n",
    ")\n",
    "demo.launch()"
   ]
  }
 ],
 "metadata": {
  "kernelspec": {
   "display_name": "Python 3",
   "language": "python",
   "name": "python3"
  },
  "language_info": {
   "codemirror_mode": {
    "name": "ipython",
    "version": 3
   },
   "file_extension": ".py",
   "mimetype": "text/x-python",
   "name": "python",
   "nbconvert_exporter": "python",
   "pygments_lexer": "ipython3",
   "version": "3.11.6"
  }
 },
 "nbformat": 4,
 "nbformat_minor": 2
}
